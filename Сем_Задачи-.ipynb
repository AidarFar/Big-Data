{
  "nbformat": 4,
  "nbformat_minor": 0,
  "metadata": {
    "colab": {
      "provenance": []
    },
    "kernelspec": {
      "name": "python3",
      "display_name": "Python 3"
    },
    "language_info": {
      "name": "python"
    }
  },
  "cells": [
    {
      "cell_type": "code",
      "execution_count": 2,
      "metadata": {
        "colab": {
          "base_uri": "https://localhost:8080/"
        },
        "id": "xx0o7UGqIWwa",
        "outputId": "8417aedc-c5fe-4ef3-dd96-b724a9a61197"
      },
      "outputs": [
        {
          "output_type": "stream",
          "name": "stdout",
          "text": [
            "Mounted at /content/drive\n"
          ]
        }
      ],
      "source": [
        "import sqlite3\n",
        "import pandas as pd\n",
        "from google.colab import drive\n",
        "drive.mount('/content/drive')"
      ]
    },
    {
      "cell_type": "code",
      "source": [
        "con = sqlite3.connect('/content/drive/MyDrive/datasets/Chinook_Sqlite.sqlite')\n",
        "cur = con.cursor()\n",
        "try:\n",
        "    cur.execute(\"\"\"\n",
        "    SELECT name\n",
        "    FROM Artist;\n",
        "                \"\"\")\n",
        "    fa = cur.fetchall()\n",
        "    columns = [i[0] for i in cur.description]\n",
        "    data = pd.DataFrame(fa, columns=columns)\n",
        "    display(data)\n",
        "except sqlite3.DatabaseError as error:\n",
        "    print(\"Ошибка:\", error)\n",
        "finally:\n",
        "    cur.close()\n",
        "    con.close()\n"
      ],
      "metadata": {
        "colab": {
          "base_uri": "https://localhost:8080/",
          "height": 419
        },
        "id": "SGvF5SOCIYrZ",
        "outputId": "9b530d40-36da-4267-9507-35880e0d1f7d"
      },
      "execution_count": 2,
      "outputs": [
        {
          "output_type": "display_data",
          "data": {
            "text/plain": [
              "                                                  Name\n",
              "0                                                AC/DC\n",
              "1                                               Accept\n",
              "2                                            Aerosmith\n",
              "3                                    Alanis Morissette\n",
              "4                                      Alice In Chains\n",
              "..                                                 ...\n",
              "270   Mela Tenenbaum, Pro Musica Prague & Richard Kapp\n",
              "271                             Emerson String Quartet\n",
              "272  C. Monteverdi, Nigel Rogers - Chiaroscuro; Lon...\n",
              "273                                      Nash Ensemble\n",
              "274                              Philip Glass Ensemble\n",
              "\n",
              "[275 rows x 1 columns]"
            ],
            "text/html": [
              "\n",
              "  <div id=\"df-24dfdf05-c2c7-49d9-821a-643ef434794b\">\n",
              "    <div class=\"colab-df-container\">\n",
              "      <div>\n",
              "<style scoped>\n",
              "    .dataframe tbody tr th:only-of-type {\n",
              "        vertical-align: middle;\n",
              "    }\n",
              "\n",
              "    .dataframe tbody tr th {\n",
              "        vertical-align: top;\n",
              "    }\n",
              "\n",
              "    .dataframe thead th {\n",
              "        text-align: right;\n",
              "    }\n",
              "</style>\n",
              "<table border=\"1\" class=\"dataframe\">\n",
              "  <thead>\n",
              "    <tr style=\"text-align: right;\">\n",
              "      <th></th>\n",
              "      <th>Name</th>\n",
              "    </tr>\n",
              "  </thead>\n",
              "  <tbody>\n",
              "    <tr>\n",
              "      <th>0</th>\n",
              "      <td>AC/DC</td>\n",
              "    </tr>\n",
              "    <tr>\n",
              "      <th>1</th>\n",
              "      <td>Accept</td>\n",
              "    </tr>\n",
              "    <tr>\n",
              "      <th>2</th>\n",
              "      <td>Aerosmith</td>\n",
              "    </tr>\n",
              "    <tr>\n",
              "      <th>3</th>\n",
              "      <td>Alanis Morissette</td>\n",
              "    </tr>\n",
              "    <tr>\n",
              "      <th>4</th>\n",
              "      <td>Alice In Chains</td>\n",
              "    </tr>\n",
              "    <tr>\n",
              "      <th>...</th>\n",
              "      <td>...</td>\n",
              "    </tr>\n",
              "    <tr>\n",
              "      <th>270</th>\n",
              "      <td>Mela Tenenbaum, Pro Musica Prague &amp; Richard Kapp</td>\n",
              "    </tr>\n",
              "    <tr>\n",
              "      <th>271</th>\n",
              "      <td>Emerson String Quartet</td>\n",
              "    </tr>\n",
              "    <tr>\n",
              "      <th>272</th>\n",
              "      <td>C. Monteverdi, Nigel Rogers - Chiaroscuro; Lon...</td>\n",
              "    </tr>\n",
              "    <tr>\n",
              "      <th>273</th>\n",
              "      <td>Nash Ensemble</td>\n",
              "    </tr>\n",
              "    <tr>\n",
              "      <th>274</th>\n",
              "      <td>Philip Glass Ensemble</td>\n",
              "    </tr>\n",
              "  </tbody>\n",
              "</table>\n",
              "<p>275 rows × 1 columns</p>\n",
              "</div>\n",
              "      <button class=\"colab-df-convert\" onclick=\"convertToInteractive('df-24dfdf05-c2c7-49d9-821a-643ef434794b')\"\n",
              "              title=\"Convert this dataframe to an interactive table.\"\n",
              "              style=\"display:none;\">\n",
              "        \n",
              "  <svg xmlns=\"http://www.w3.org/2000/svg\" height=\"24px\"viewBox=\"0 0 24 24\"\n",
              "       width=\"24px\">\n",
              "    <path d=\"M0 0h24v24H0V0z\" fill=\"none\"/>\n",
              "    <path d=\"M18.56 5.44l.94 2.06.94-2.06 2.06-.94-2.06-.94-.94-2.06-.94 2.06-2.06.94zm-11 1L8.5 8.5l.94-2.06 2.06-.94-2.06-.94L8.5 2.5l-.94 2.06-2.06.94zm10 10l.94 2.06.94-2.06 2.06-.94-2.06-.94-.94-2.06-.94 2.06-2.06.94z\"/><path d=\"M17.41 7.96l-1.37-1.37c-.4-.4-.92-.59-1.43-.59-.52 0-1.04.2-1.43.59L10.3 9.45l-7.72 7.72c-.78.78-.78 2.05 0 2.83L4 21.41c.39.39.9.59 1.41.59.51 0 1.02-.2 1.41-.59l7.78-7.78 2.81-2.81c.8-.78.8-2.07 0-2.86zM5.41 20L4 18.59l7.72-7.72 1.47 1.35L5.41 20z\"/>\n",
              "  </svg>\n",
              "      </button>\n",
              "      \n",
              "  <style>\n",
              "    .colab-df-container {\n",
              "      display:flex;\n",
              "      flex-wrap:wrap;\n",
              "      gap: 12px;\n",
              "    }\n",
              "\n",
              "    .colab-df-convert {\n",
              "      background-color: #E8F0FE;\n",
              "      border: none;\n",
              "      border-radius: 50%;\n",
              "      cursor: pointer;\n",
              "      display: none;\n",
              "      fill: #1967D2;\n",
              "      height: 32px;\n",
              "      padding: 0 0 0 0;\n",
              "      width: 32px;\n",
              "    }\n",
              "\n",
              "    .colab-df-convert:hover {\n",
              "      background-color: #E2EBFA;\n",
              "      box-shadow: 0px 1px 2px rgba(60, 64, 67, 0.3), 0px 1px 3px 1px rgba(60, 64, 67, 0.15);\n",
              "      fill: #174EA6;\n",
              "    }\n",
              "\n",
              "    [theme=dark] .colab-df-convert {\n",
              "      background-color: #3B4455;\n",
              "      fill: #D2E3FC;\n",
              "    }\n",
              "\n",
              "    [theme=dark] .colab-df-convert:hover {\n",
              "      background-color: #434B5C;\n",
              "      box-shadow: 0px 1px 3px 1px rgba(0, 0, 0, 0.15);\n",
              "      filter: drop-shadow(0px 1px 2px rgba(0, 0, 0, 0.3));\n",
              "      fill: #FFFFFF;\n",
              "    }\n",
              "  </style>\n",
              "\n",
              "      <script>\n",
              "        const buttonEl =\n",
              "          document.querySelector('#df-24dfdf05-c2c7-49d9-821a-643ef434794b button.colab-df-convert');\n",
              "        buttonEl.style.display =\n",
              "          google.colab.kernel.accessAllowed ? 'block' : 'none';\n",
              "\n",
              "        async function convertToInteractive(key) {\n",
              "          const element = document.querySelector('#df-24dfdf05-c2c7-49d9-821a-643ef434794b');\n",
              "          const dataTable =\n",
              "            await google.colab.kernel.invokeFunction('convertToInteractive',\n",
              "                                                     [key], {});\n",
              "          if (!dataTable) return;\n",
              "\n",
              "          const docLinkHtml = 'Like what you see? Visit the ' +\n",
              "            '<a target=\"_blank\" href=https://colab.research.google.com/notebooks/data_table.ipynb>data table notebook</a>'\n",
              "            + ' to learn more about interactive tables.';\n",
              "          element.innerHTML = '';\n",
              "          dataTable['output_type'] = 'display_data';\n",
              "          await google.colab.output.renderOutput(dataTable, element);\n",
              "          const docLink = document.createElement('div');\n",
              "          docLink.innerHTML = docLinkHtml;\n",
              "          element.appendChild(docLink);\n",
              "        }\n",
              "      </script>\n",
              "    </div>\n",
              "  </div>\n",
              "  "
            ]
          },
          "metadata": {}
        }
      ]
    },
    {
      "cell_type": "code",
      "source": [
        "with open(\"/content/drive/MyDrive/datasets/AnnaKarenina_.txt\", \"r\",  encoding=\"windows-1251\") as file:\n",
        "    text = file.read(500)\n",
        "    print(text)"
      ],
      "metadata": {
        "colab": {
          "base_uri": "https://localhost:8080/"
        },
        "id": "XRI8SylWI3eT",
        "outputId": "5cfb095b-a7fe-4048-ca3d-4e47ca2e52fa"
      },
      "execution_count": 10,
      "outputs": [
        {
          "output_type": "stream",
          "name": "stdout",
          "text": [
            "Лев Николаевич Толстой\n",
            "\n",
            "АННА КАРЕНИНА\n",
            "\n",
            "Мне отмщение, и аз воздам\n",
            "\n",
            "\n",
            "\n",
            "\n",
            "ЧАСТЬ ПЕРВАЯ\n",
            "\n",
            "\n",
            "I\n",
            "\n",
            "Все счастливые семьи похожи друг на друга, каждая несчастливая семья несчастлива по-своему.\n",
            "\n",
            "Все смешалось в доме Облонских. Жена узнала, что муж был в связи с бывшею в их доме француженкою-гувернанткой, и объявила мужу, что не может жить с ним в одном доме. Положение это продолжалось уже третий день и мучительно чувствовалось и самими супругами, и всеми членами семьи, и домочадцами. Все члены семьи и домочадц\n"
          ]
        }
      ]
    },
    {
      "cell_type": "markdown",
      "source": [
        "Датасет: -\n",
        "\n",
        " Создайте матрицу 3x3 со значениями от 0 до 8"
      ],
      "metadata": {
        "id": "gA4PRMNbQUYF"
      }
    },
    {
      "cell_type": "code",
      "source": [
        "import numpy as np\n",
        "M = np.arange(9).reshape(3, 3)\n",
        "print(M)"
      ],
      "metadata": {
        "colab": {
          "base_uri": "https://localhost:8080/"
        },
        "id": "xpd6gpdXI9DO",
        "outputId": "799e8f5f-8ace-4cbe-9dbe-d6601c5e5dff"
      },
      "execution_count": 9,
      "outputs": [
        {
          "output_type": "stream",
          "name": "stdout",
          "text": [
            "[[0 1 2]\n",
            " [3 4 5]\n",
            " [6 7 8]]\n"
          ]
        }
      ]
    },
    {
      "cell_type": "markdown",
      "source": [
        "Датасет: -\n",
        " Необходимо найти все целые числа от 1 до 400 000, для которых sin от этого числа будет иметь не менее 9 одинаковых цифр (например, sin(139198)=0.30763333543133703; sin(139198)=0.30763333543133703 т.е. имеет 9 троек). Ответ представляет собой список пар (целое число, значение синуса для него), для которых значение синуса удовлетворяет условию. Решение этой задачи распараллелить, используя multiprocessing Pool. Сравнить продолжительность последовательного и параллельного решения задачи."
      ],
      "metadata": {
        "id": "eIwtOgkDTp9g"
      }
    },
    {
      "cell_type": "code",
      "source": [
        "import math\n",
        "from multiprocessing import Pool\n",
        "\n",
        "def check_sin(num):\n",
        "    sin_num = math.sin(num)\n",
        "    sin_str = str(sin_num)\n",
        "    for i in range(10):\n",
        "        if str(i)*9 in sin_str:\n",
        "            return (num, sin_num)\n",
        "    return None"
      ],
      "metadata": {
        "id": "7wcQf0OWRgmc"
      },
      "execution_count": 11,
      "outputs": []
    },
    {
      "cell_type": "code",
      "source": [
        "nums = range(1, 400001)"
      ],
      "metadata": {
        "id": "BadrLqjDUJQk"
      },
      "execution_count": 12,
      "outputs": []
    },
    {
      "cell_type": "code",
      "source": [
        "%%time\n",
        "# Последовательное решение\n",
        "res_seq = []\n",
        "for num in nums:\n",
        "    res = check_sin(num)\n",
        "    if res:\n",
        "        res_seq.append(res)\n",
        "print(\"Последовательное решение:\", res_seq)"
      ],
      "metadata": {
        "colab": {
          "base_uri": "https://localhost:8080/"
        },
        "id": "xM20wvxgUMsC",
        "outputId": "cd50a0b8-305c-4d90-b558-38ffc3257595"
      },
      "execution_count": 13,
      "outputs": [
        {
          "output_type": "stream",
          "name": "stdout",
          "text": [
            "Последовательное решение: [(51819, 0.999999999696513), (52174, -0.9999999999848337), (52529, 0.9999999993644724), (155812, 0.9999999990422608), (156167, -0.9999999999072229), (156522, 0.9999999998635031), (260160, -0.9999999994636807), (260515, 0.9999999999966023), (260870, -0.9999999996208419), (364508, 0.99999999976377), (364863, -0.999999999964651), (365218, 0.99999999925685)]\n",
            "CPU times: user 1.93 s, sys: 0 ns, total: 1.93 s\n",
            "Wall time: 1.97 s\n"
          ]
        }
      ]
    },
    {
      "cell_type": "code",
      "source": [
        "%%time\n",
        "# Параллельное решение\n",
        "with Pool(processes=4) as pool:\n",
        "    res_par = pool.map(check_sin, nums)\n",
        "    res_par = [res for res in res_par if res]\n",
        "print(\"Параллельное решение:\", res_par)"
      ],
      "metadata": {
        "colab": {
          "base_uri": "https://localhost:8080/"
        },
        "id": "a-fUuWAOUQAF",
        "outputId": "fbd4e74b-19a8-46ca-de59-af844b5ce6e0"
      },
      "execution_count": 14,
      "outputs": [
        {
          "output_type": "stream",
          "name": "stdout",
          "text": [
            "Параллельное решение: [(51819, 0.999999999696513), (52174, -0.9999999999848337), (52529, 0.9999999993644724), (155812, 0.9999999990422608), (156167, -0.9999999999072229), (156522, 0.9999999998635031), (260160, -0.9999999994636807), (260515, 0.9999999999966023), (260870, -0.9999999996208419), (364508, 0.99999999976377), (364863, -0.999999999964651), (365218, 0.99999999925685)]\n",
            "CPU times: user 155 ms, sys: 25.4 ms, total: 180 ms\n",
            "Wall time: 1.43 s\n"
          ]
        }
      ]
    },
    {
      "cell_type": "markdown",
      "source": [
        "Датасет: addres-book-q.xml\n",
        " По данным из файла addres-book-q.xml сформировать словарь, в котором по должности можно получить список людей с данной должностью и для каждого человека по соответствующему ключу можно получить имя, компанию и список всех доступных телефонов. Сохранить данную структуру данных в файл формата json и прочитать ее, показав идентичность структуры данных после сохранения/загрузки.\n"
      ],
      "metadata": {
        "id": "EMDd1yR9U4Li"
      }
    },
    {
      "cell_type": "code",
      "source": [
        "import xml.etree.ElementTree as ET\n",
        "import json\n",
        "\n",
        "# Парсинг XML-файла\n",
        "tree = ET.parse('/content/drive/MyDrive/datasets/addres-book-q.xml')\n",
        "root = tree.getroot()\n",
        "\n",
        "# Словарь для хранения данных\n",
        "data = {}\n",
        "data2 = {}\n",
        "\n",
        "# Обработка каждого элемента <address> в XML-файле\n",
        "for address_elem in root.findall('.//address'):\n",
        "    address_id = address_elem.get('id')\n",
        "    name = address_elem.find('name').text\n",
        "    position = address_elem.find('position').text\n",
        "    company = address_elem.find('company').text\n",
        "    phones = [phone_elem.text for phone_elem in address_elem.findall('phones/phone')]\n",
        "\n",
        "    # Добавление данных в словарь\n",
        "    data[address_id] = {\n",
        "        'name': name,\n",
        "        'position': position,\n",
        "        'company': company,\n",
        "        'phones': phones\n",
        "    }\n",
        "\n",
        "    data2.setdefault(position, []).append(name)\n",
        "\n",
        "# Сохранение словаря в файл JSON\n",
        "with open('address-book.json', 'w', encoding='utf-8') as json_file:\n",
        "    json.dump(data, json_file, ensure_ascii=False)\n",
        "\n",
        "# Чтение данных из файла JSON\n",
        "with open('address-book.json', 'r', encoding='utf-8') as json_file:\n",
        "    loaded_data = json.load(json_file)\n",
        "\n",
        "# Проверка идентичности структуры данных\n",
        "print(data == loaded_data)"
      ],
      "metadata": {
        "colab": {
          "base_uri": "https://localhost:8080/"
        },
        "id": "jLY48szHU5NL",
        "outputId": "be02829c-0150-46cf-c02e-f575c8afe188"
      },
      "execution_count": 157,
      "outputs": [
        {
          "output_type": "stream",
          "name": "stdout",
          "text": [
            "True\n"
          ]
        }
      ]
    },
    {
      "cell_type": "code",
      "source": [
        "data"
      ],
      "metadata": {
        "colab": {
          "base_uri": "https://localhost:8080/"
        },
        "id": "-s5msRGVLErU",
        "outputId": "ca140885-8849-4a24-afb1-50c897a964a7"
      },
      "execution_count": 158,
      "outputs": [
        {
          "output_type": "execute_result",
          "data": {
            "text/plain": [
              "{'1': {'name': 'Aicha Barki',\n",
              "  'position': 'Presidente',\n",
              "  'company': \"Association Algerienne d'Alphabetisation Iqraa\",\n",
              "  'phones': ['+ (213) 6150 4015', '+ (213) 2173 5247']},\n",
              " '2': {'name': 'Francisco Domingos',\n",
              "  'position': 'Directeur General',\n",
              "  'company': 'Institut National de Education des Adultes',\n",
              "  'phones': ['+ (244-2) 325 023', '+ (244-2) 325 023']},\n",
              " '3': {'name': 'Maria Luisa',\n",
              "  'position': 'Directrice Nationale',\n",
              "  'company': 'Institut National de Education des Adultes',\n",
              "  'phones': ['+ (244) 4232 2836']},\n",
              " '4': {'name': 'Abraao Chanda',\n",
              "  'position': 'Chef',\n",
              "  'company': 'Institut National de Education des Adultes',\n",
              "  'phones': ['+ (244-2) 325 023', '+ (244-2) 325 023']},\n",
              " '5': {'name': 'Beatriz Busaniche',\n",
              "  'position': 'Executive Director',\n",
              "  'company': 'Universidad de Buenos Aires',\n",
              "  'phones': ['+ (54-11) 4784 1159']},\n",
              " '6': {'name': 'Francesca Beddie',\n",
              "  'position': 'Executive Director',\n",
              "  'company': 'Adult Learning Australia',\n",
              "  'phones': ['+ (61-2) 6274 9500', '+ (61-2) 6274 9513']},\n",
              " '7': {'name': 'Graham John Smith',\n",
              "  'position': 'Secretary',\n",
              "  'company': 'Disability Australia Ltd',\n",
              "  'phones': ['+ (61-3) 9807 4702']}}"
            ]
          },
          "metadata": {},
          "execution_count": 158
        }
      ]
    },
    {
      "cell_type": "code",
      "source": [
        "loaded_data"
      ],
      "metadata": {
        "colab": {
          "base_uri": "https://localhost:8080/"
        },
        "id": "LrOYNbhXLHcN",
        "outputId": "e9bdb7e4-ff6e-408a-e519-caf18cba2831"
      },
      "execution_count": 159,
      "outputs": [
        {
          "output_type": "execute_result",
          "data": {
            "text/plain": [
              "{'1': {'name': 'Aicha Barki',\n",
              "  'position': 'Presidente',\n",
              "  'company': \"Association Algerienne d'Alphabetisation Iqraa\",\n",
              "  'phones': ['+ (213) 6150 4015', '+ (213) 2173 5247']},\n",
              " '2': {'name': 'Francisco Domingos',\n",
              "  'position': 'Directeur General',\n",
              "  'company': 'Institut National de Education des Adultes',\n",
              "  'phones': ['+ (244-2) 325 023', '+ (244-2) 325 023']},\n",
              " '3': {'name': 'Maria Luisa',\n",
              "  'position': 'Directrice Nationale',\n",
              "  'company': 'Institut National de Education des Adultes',\n",
              "  'phones': ['+ (244) 4232 2836']},\n",
              " '4': {'name': 'Abraao Chanda',\n",
              "  'position': 'Chef',\n",
              "  'company': 'Institut National de Education des Adultes',\n",
              "  'phones': ['+ (244-2) 325 023', '+ (244-2) 325 023']},\n",
              " '5': {'name': 'Beatriz Busaniche',\n",
              "  'position': 'Executive Director',\n",
              "  'company': 'Universidad de Buenos Aires',\n",
              "  'phones': ['+ (54-11) 4784 1159']},\n",
              " '6': {'name': 'Francesca Beddie',\n",
              "  'position': 'Executive Director',\n",
              "  'company': 'Adult Learning Australia',\n",
              "  'phones': ['+ (61-2) 6274 9500', '+ (61-2) 6274 9513']},\n",
              " '7': {'name': 'Graham John Smith',\n",
              "  'position': 'Secretary',\n",
              "  'company': 'Disability Australia Ltd',\n",
              "  'phones': ['+ (61-3) 9807 4702']}}"
            ]
          },
          "metadata": {},
          "execution_count": 159
        }
      ]
    },
    {
      "cell_type": "markdown",
      "source": [
        "Датасет: all_k.zip\n",
        " Подсчитать, сколько раз в текстовых файлах, лежащих в all_k.zip, встречаются предложения трех видов: вопросительные (в окончании имеют вопросительный знак), побудительные (в окончании имеют восклицательный знак и не имеют вопросительного) и повествовательные (в окончании имеют точку или троеточие, при этом нужно исключить учет точек, встречающихся в сокращениях, таких как \"\"т.к.\"\").\n",
        "Выполнить задание с использованием Dask (корректным!), распараллелив процесс обработки данных (использование Dask должно приводить к истинной параллельной обработке данных).\n"
      ],
      "metadata": {
        "id": "MrW6JPgEbZPp"
      }
    },
    {
      "cell_type": "code",
      "source": [
        "import dask.bag as db\n",
        "import re"
      ],
      "metadata": {
        "id": "04UFNNxzcnk9"
      },
      "execution_count": 19,
      "outputs": []
    },
    {
      "cell_type": "code",
      "source": [
        "regex_average = r'([^\\d]\\.\\s*[А-ЯЁ])|(?:\\.(?:\\Z|\\n))'\n",
        "regex_question = r'(\\?\\s*[А-ЯЁ])|(?:\\?(?:\\Z|))'\n",
        "regex_exclamation  = r'(!\\s*[А-ЯЁ])|(?:!(?:\\Z|))'\n",
        "texts = db.read_text('/content/drive/MyDrive/datasets/all_k/*', encoding='windows-1251')\n",
        "print(\"Количество повествовательных предложений:\", texts.map(lambda text: len(re.findall(regex_average, text))).fold(lambda x, y: x + y).compute())\n",
        "print(\"Количество вопросительных предложений:\", texts.map(lambda text: len(re.findall(regex_question, text))).fold(lambda x, y: x + y).compute())\n",
        "print(\"Количество побудительных предложений:\",texts.map(lambda text: len(re.findall(regex_exclamation, text))).fold(lambda x, y: x + y).compute())"
      ],
      "metadata": {
        "colab": {
          "base_uri": "https://localhost:8080/"
        },
        "id": "sSUT7i3x01tE",
        "outputId": "ec375a5a-6083-4398-c8f1-121502ba01ed"
      },
      "execution_count": 154,
      "outputs": [
        {
          "output_type": "stream",
          "name": "stdout",
          "text": [
            "Количество повествовательных предложений: 3497062\n",
            "Количество вопросительных предложений: 459416\n",
            "Количество побудительных предложений: 261296\n"
          ]
        }
      ]
    },
    {
      "cell_type": "markdown",
      "source": [
        "Датасет: wine.csv.zip\n",
        " 1. Как часто каждая страна появляется в датасете wine.csv.zip? Создайте pd.Series сопоставляющую страны количеству отзывов о винах из этой страны.\n",
        "\n",
        "2. Определите среднюю оценку рейтинга для каждого ревьюера (используйте 'taster_name' ,'points')\n"
      ],
      "metadata": {
        "id": "HKuMF7Sbd2IU"
      }
    },
    {
      "cell_type": "code",
      "source": [
        "wine = pd.read_csv('/content/drive/MyDrive/datasets/winemag-data-130k-v2.csv')\n",
        "\n",
        "wine.head()"
      ],
      "metadata": {
        "colab": {
          "base_uri": "https://localhost:8080/",
          "height": 693
        },
        "id": "7bmwHNtgelbO",
        "outputId": "fe29b5cc-d978-46be-d58b-c7ba51357f6c"
      },
      "execution_count": 22,
      "outputs": [
        {
          "output_type": "execute_result",
          "data": {
            "text/plain": [
              "   Unnamed: 0   country                                        description  \\\n",
              "0           0     Italy  Aromas include tropical fruit, broom, brimston...   \n",
              "1           1  Portugal  This is ripe and fruity, a wine that is smooth...   \n",
              "2           2        US  Tart and snappy, the flavors of lime flesh and...   \n",
              "3           3        US  Pineapple rind, lemon pith and orange blossom ...   \n",
              "4           4        US  Much like the regular bottling from 2012, this...   \n",
              "\n",
              "                          designation  points  price           province  \\\n",
              "0                        Vulkà Bianco      87    NaN  Sicily & Sardinia   \n",
              "1                            Avidagos      87   15.0              Douro   \n",
              "2                                 NaN      87   14.0             Oregon   \n",
              "3                Reserve Late Harvest      87   13.0           Michigan   \n",
              "4  Vintner's Reserve Wild Child Block      87   65.0             Oregon   \n",
              "\n",
              "              region_1           region_2         taster_name  \\\n",
              "0                 Etna                NaN       Kerin O’Keefe   \n",
              "1                  NaN                NaN          Roger Voss   \n",
              "2    Willamette Valley  Willamette Valley        Paul Gregutt   \n",
              "3  Lake Michigan Shore                NaN  Alexander Peartree   \n",
              "4    Willamette Valley  Willamette Valley        Paul Gregutt   \n",
              "\n",
              "  taster_twitter_handle                                              title  \\\n",
              "0          @kerinokeefe                  Nicosia 2013 Vulkà Bianco  (Etna)   \n",
              "1            @vossroger      Quinta dos Avidagos 2011 Avidagos Red (Douro)   \n",
              "2           @paulgwine       Rainstorm 2013 Pinot Gris (Willamette Valley)   \n",
              "3                   NaN  St. Julian 2013 Reserve Late Harvest Riesling ...   \n",
              "4           @paulgwine   Sweet Cheeks 2012 Vintner's Reserve Wild Child...   \n",
              "\n",
              "          variety               winery  \n",
              "0     White Blend              Nicosia  \n",
              "1  Portuguese Red  Quinta dos Avidagos  \n",
              "2      Pinot Gris            Rainstorm  \n",
              "3        Riesling           St. Julian  \n",
              "4      Pinot Noir         Sweet Cheeks  "
            ],
            "text/html": [
              "\n",
              "  <div id=\"df-1117d031-e505-497f-a23b-c3a329be5323\">\n",
              "    <div class=\"colab-df-container\">\n",
              "      <div>\n",
              "<style scoped>\n",
              "    .dataframe tbody tr th:only-of-type {\n",
              "        vertical-align: middle;\n",
              "    }\n",
              "\n",
              "    .dataframe tbody tr th {\n",
              "        vertical-align: top;\n",
              "    }\n",
              "\n",
              "    .dataframe thead th {\n",
              "        text-align: right;\n",
              "    }\n",
              "</style>\n",
              "<table border=\"1\" class=\"dataframe\">\n",
              "  <thead>\n",
              "    <tr style=\"text-align: right;\">\n",
              "      <th></th>\n",
              "      <th>Unnamed: 0</th>\n",
              "      <th>country</th>\n",
              "      <th>description</th>\n",
              "      <th>designation</th>\n",
              "      <th>points</th>\n",
              "      <th>price</th>\n",
              "      <th>province</th>\n",
              "      <th>region_1</th>\n",
              "      <th>region_2</th>\n",
              "      <th>taster_name</th>\n",
              "      <th>taster_twitter_handle</th>\n",
              "      <th>title</th>\n",
              "      <th>variety</th>\n",
              "      <th>winery</th>\n",
              "    </tr>\n",
              "  </thead>\n",
              "  <tbody>\n",
              "    <tr>\n",
              "      <th>0</th>\n",
              "      <td>0</td>\n",
              "      <td>Italy</td>\n",
              "      <td>Aromas include tropical fruit, broom, brimston...</td>\n",
              "      <td>Vulkà Bianco</td>\n",
              "      <td>87</td>\n",
              "      <td>NaN</td>\n",
              "      <td>Sicily &amp; Sardinia</td>\n",
              "      <td>Etna</td>\n",
              "      <td>NaN</td>\n",
              "      <td>Kerin O’Keefe</td>\n",
              "      <td>@kerinokeefe</td>\n",
              "      <td>Nicosia 2013 Vulkà Bianco  (Etna)</td>\n",
              "      <td>White Blend</td>\n",
              "      <td>Nicosia</td>\n",
              "    </tr>\n",
              "    <tr>\n",
              "      <th>1</th>\n",
              "      <td>1</td>\n",
              "      <td>Portugal</td>\n",
              "      <td>This is ripe and fruity, a wine that is smooth...</td>\n",
              "      <td>Avidagos</td>\n",
              "      <td>87</td>\n",
              "      <td>15.0</td>\n",
              "      <td>Douro</td>\n",
              "      <td>NaN</td>\n",
              "      <td>NaN</td>\n",
              "      <td>Roger Voss</td>\n",
              "      <td>@vossroger</td>\n",
              "      <td>Quinta dos Avidagos 2011 Avidagos Red (Douro)</td>\n",
              "      <td>Portuguese Red</td>\n",
              "      <td>Quinta dos Avidagos</td>\n",
              "    </tr>\n",
              "    <tr>\n",
              "      <th>2</th>\n",
              "      <td>2</td>\n",
              "      <td>US</td>\n",
              "      <td>Tart and snappy, the flavors of lime flesh and...</td>\n",
              "      <td>NaN</td>\n",
              "      <td>87</td>\n",
              "      <td>14.0</td>\n",
              "      <td>Oregon</td>\n",
              "      <td>Willamette Valley</td>\n",
              "      <td>Willamette Valley</td>\n",
              "      <td>Paul Gregutt</td>\n",
              "      <td>@paulgwine</td>\n",
              "      <td>Rainstorm 2013 Pinot Gris (Willamette Valley)</td>\n",
              "      <td>Pinot Gris</td>\n",
              "      <td>Rainstorm</td>\n",
              "    </tr>\n",
              "    <tr>\n",
              "      <th>3</th>\n",
              "      <td>3</td>\n",
              "      <td>US</td>\n",
              "      <td>Pineapple rind, lemon pith and orange blossom ...</td>\n",
              "      <td>Reserve Late Harvest</td>\n",
              "      <td>87</td>\n",
              "      <td>13.0</td>\n",
              "      <td>Michigan</td>\n",
              "      <td>Lake Michigan Shore</td>\n",
              "      <td>NaN</td>\n",
              "      <td>Alexander Peartree</td>\n",
              "      <td>NaN</td>\n",
              "      <td>St. Julian 2013 Reserve Late Harvest Riesling ...</td>\n",
              "      <td>Riesling</td>\n",
              "      <td>St. Julian</td>\n",
              "    </tr>\n",
              "    <tr>\n",
              "      <th>4</th>\n",
              "      <td>4</td>\n",
              "      <td>US</td>\n",
              "      <td>Much like the regular bottling from 2012, this...</td>\n",
              "      <td>Vintner's Reserve Wild Child Block</td>\n",
              "      <td>87</td>\n",
              "      <td>65.0</td>\n",
              "      <td>Oregon</td>\n",
              "      <td>Willamette Valley</td>\n",
              "      <td>Willamette Valley</td>\n",
              "      <td>Paul Gregutt</td>\n",
              "      <td>@paulgwine</td>\n",
              "      <td>Sweet Cheeks 2012 Vintner's Reserve Wild Child...</td>\n",
              "      <td>Pinot Noir</td>\n",
              "      <td>Sweet Cheeks</td>\n",
              "    </tr>\n",
              "  </tbody>\n",
              "</table>\n",
              "</div>\n",
              "      <button class=\"colab-df-convert\" onclick=\"convertToInteractive('df-1117d031-e505-497f-a23b-c3a329be5323')\"\n",
              "              title=\"Convert this dataframe to an interactive table.\"\n",
              "              style=\"display:none;\">\n",
              "        \n",
              "  <svg xmlns=\"http://www.w3.org/2000/svg\" height=\"24px\"viewBox=\"0 0 24 24\"\n",
              "       width=\"24px\">\n",
              "    <path d=\"M0 0h24v24H0V0z\" fill=\"none\"/>\n",
              "    <path d=\"M18.56 5.44l.94 2.06.94-2.06 2.06-.94-2.06-.94-.94-2.06-.94 2.06-2.06.94zm-11 1L8.5 8.5l.94-2.06 2.06-.94-2.06-.94L8.5 2.5l-.94 2.06-2.06.94zm10 10l.94 2.06.94-2.06 2.06-.94-2.06-.94-.94-2.06-.94 2.06-2.06.94z\"/><path d=\"M17.41 7.96l-1.37-1.37c-.4-.4-.92-.59-1.43-.59-.52 0-1.04.2-1.43.59L10.3 9.45l-7.72 7.72c-.78.78-.78 2.05 0 2.83L4 21.41c.39.39.9.59 1.41.59.51 0 1.02-.2 1.41-.59l7.78-7.78 2.81-2.81c.8-.78.8-2.07 0-2.86zM5.41 20L4 18.59l7.72-7.72 1.47 1.35L5.41 20z\"/>\n",
              "  </svg>\n",
              "      </button>\n",
              "      \n",
              "  <style>\n",
              "    .colab-df-container {\n",
              "      display:flex;\n",
              "      flex-wrap:wrap;\n",
              "      gap: 12px;\n",
              "    }\n",
              "\n",
              "    .colab-df-convert {\n",
              "      background-color: #E8F0FE;\n",
              "      border: none;\n",
              "      border-radius: 50%;\n",
              "      cursor: pointer;\n",
              "      display: none;\n",
              "      fill: #1967D2;\n",
              "      height: 32px;\n",
              "      padding: 0 0 0 0;\n",
              "      width: 32px;\n",
              "    }\n",
              "\n",
              "    .colab-df-convert:hover {\n",
              "      background-color: #E2EBFA;\n",
              "      box-shadow: 0px 1px 2px rgba(60, 64, 67, 0.3), 0px 1px 3px 1px rgba(60, 64, 67, 0.15);\n",
              "      fill: #174EA6;\n",
              "    }\n",
              "\n",
              "    [theme=dark] .colab-df-convert {\n",
              "      background-color: #3B4455;\n",
              "      fill: #D2E3FC;\n",
              "    }\n",
              "\n",
              "    [theme=dark] .colab-df-convert:hover {\n",
              "      background-color: #434B5C;\n",
              "      box-shadow: 0px 1px 3px 1px rgba(0, 0, 0, 0.15);\n",
              "      filter: drop-shadow(0px 1px 2px rgba(0, 0, 0, 0.3));\n",
              "      fill: #FFFFFF;\n",
              "    }\n",
              "  </style>\n",
              "\n",
              "      <script>\n",
              "        const buttonEl =\n",
              "          document.querySelector('#df-1117d031-e505-497f-a23b-c3a329be5323 button.colab-df-convert');\n",
              "        buttonEl.style.display =\n",
              "          google.colab.kernel.accessAllowed ? 'block' : 'none';\n",
              "\n",
              "        async function convertToInteractive(key) {\n",
              "          const element = document.querySelector('#df-1117d031-e505-497f-a23b-c3a329be5323');\n",
              "          const dataTable =\n",
              "            await google.colab.kernel.invokeFunction('convertToInteractive',\n",
              "                                                     [key], {});\n",
              "          if (!dataTable) return;\n",
              "\n",
              "          const docLinkHtml = 'Like what you see? Visit the ' +\n",
              "            '<a target=\"_blank\" href=https://colab.research.google.com/notebooks/data_table.ipynb>data table notebook</a>'\n",
              "            + ' to learn more about interactive tables.';\n",
              "          element.innerHTML = '';\n",
              "          dataTable['output_type'] = 'display_data';\n",
              "          await google.colab.output.renderOutput(dataTable, element);\n",
              "          const docLink = document.createElement('div');\n",
              "          docLink.innerHTML = docLinkHtml;\n",
              "          element.appendChild(docLink);\n",
              "        }\n",
              "      </script>\n",
              "    </div>\n",
              "  </div>\n",
              "  "
            ]
          },
          "metadata": {},
          "execution_count": 22
        }
      ]
    },
    {
      "cell_type": "markdown",
      "source": [
        "1. Как часто каждая страна появляется в датасете wine.csv.zip? Создайте pd.Series сопоставляющую страны количеству отзывов о винах из этой страны."
      ],
      "metadata": {
        "id": "HMZbn_gme0aL"
      }
    },
    {
      "cell_type": "code",
      "source": [
        "reviews_by_country = wine.groupby('country')['country'].count() # определение частоты появления каждой страны в датасете\n",
        "\n",
        "reviews_by_country_series = pd.Series(reviews_by_country, index = reviews_by_country.index) # создание pd.Series сопоставляющей страны количеству отзывов о винах из этой страны\n",
        "\n",
        "print(\"Количество отзывов о винах из каждой страны:\")\n",
        "print(reviews_by_country_series)"
      ],
      "metadata": {
        "colab": {
          "base_uri": "https://localhost:8080/"
        },
        "id": "XJknl2Ptd5kK",
        "outputId": "4496eafc-0da1-4b28-9b3d-5de0ee0a3387"
      },
      "execution_count": 24,
      "outputs": [
        {
          "output_type": "stream",
          "name": "stdout",
          "text": [
            "Количество отзывов о винах из каждой страны:\n",
            "country\n",
            "Argentina                  3800\n",
            "Armenia                       2\n",
            "Australia                  2329\n",
            "Austria                    3345\n",
            "Bosnia and Herzegovina        2\n",
            "Brazil                       52\n",
            "Bulgaria                    141\n",
            "Canada                      257\n",
            "Chile                      4472\n",
            "China                         1\n",
            "Croatia                      73\n",
            "Cyprus                       11\n",
            "Czech Republic               12\n",
            "Egypt                         1\n",
            "England                      74\n",
            "France                    22093\n",
            "Georgia                      86\n",
            "Germany                    2165\n",
            "Greece                      466\n",
            "Hungary                     146\n",
            "India                         9\n",
            "Israel                      505\n",
            "Italy                     19540\n",
            "Lebanon                      35\n",
            "Luxembourg                    6\n",
            "Macedonia                    12\n",
            "Mexico                       70\n",
            "Moldova                      59\n",
            "Morocco                      28\n",
            "New Zealand                1419\n",
            "Peru                         16\n",
            "Portugal                   5691\n",
            "Romania                     120\n",
            "Serbia                       12\n",
            "Slovakia                      1\n",
            "Slovenia                     87\n",
            "South Africa               1401\n",
            "Spain                      6645\n",
            "Switzerland                   7\n",
            "Turkey                       90\n",
            "US                        54504\n",
            "Ukraine                      14\n",
            "Uruguay                     109\n",
            "Name: country, dtype: int64\n"
          ]
        }
      ]
    },
    {
      "cell_type": "markdown",
      "source": [
        "2. Определите среднюю оценку рейтинга для каждого ревьюера (используйте 'taster_name' ,'points')"
      ],
      "metadata": {
        "id": "tTyUhP9Be6yn"
      }
    },
    {
      "cell_type": "code",
      "source": [
        "avg_points_by_taster = wine.groupby('taster_name')['points'].mean()\n",
        "\n",
        "print(\"Средняя оценка рейтинга для каждого ревьюера:\")\n",
        "print(avg_points_by_taster)"
      ],
      "metadata": {
        "colab": {
          "base_uri": "https://localhost:8080/"
        },
        "id": "iPb3B5UJe27d",
        "outputId": "c70da896-636c-44e1-e32d-fdd328ccbbf4"
      },
      "execution_count": 25,
      "outputs": [
        {
          "output_type": "stream",
          "name": "stdout",
          "text": [
            "Средняя оценка рейтинга для каждого ревьюера:\n",
            "taster_name\n",
            "Alexander Peartree    85.855422\n",
            "Anna Lee C. Iijima    88.415629\n",
            "Anne Krebiehl MW      90.562551\n",
            "Carrie Dykes          86.395683\n",
            "Christina Pickard     87.833333\n",
            "Fiona Adams           86.888889\n",
            "Jeff Jenssen          88.319756\n",
            "Jim Gordon            88.626287\n",
            "Joe Czerwinski        88.536235\n",
            "Kerin O’Keefe         88.867947\n",
            "Lauren Buzzeo         87.739510\n",
            "Matt Kettmann         90.008686\n",
            "Michael Schachner     86.907493\n",
            "Mike DeSimone         89.101167\n",
            "Paul Gregutt          89.082564\n",
            "Roger Voss            88.708003\n",
            "Sean P. Sullivan      88.755739\n",
            "Susan Kostrzewa       86.609217\n",
            "Virginie Boone        89.213379\n",
            "Name: points, dtype: float64\n"
          ]
        }
      ]
    },
    {
      "cell_type": "markdown",
      "source": [
        "Датасет: minutes_n_ingredients_full.hdf5\n",
        " Считайте датасет recipe из файла minutes_n_ingredients_full.hdf5 в виде dask.array. Укажите аргумент chunks=(100_000, 3) при создании массива. Выведите на экран основную информацию о массиве и вычислите среднее значение по каждому столбцу, кроме первого.\n"
      ],
      "metadata": {
        "id": "Xmp6YBINkHsH"
      }
    },
    {
      "cell_type": "code",
      "source": [
        "import os\n",
        "import numpy as np\n",
        "import h5py\n",
        "import dask.array as da"
      ],
      "metadata": {
        "id": "V4JoZOBYkgVd"
      },
      "execution_count": 27,
      "outputs": []
    },
    {
      "cell_type": "markdown",
      "source": [
        "**Считайте датасет recipe из файла minutes_n_ingredients_full.hdf5 в виде dask.array.**"
      ],
      "metadata": {
        "id": "b1Q2m-5WkUa6"
      }
    },
    {
      "cell_type": "code",
      "source": [
        "path='/content/drive/MyDrive/datasets/minutes_n_ingredients_full.hdf5'"
      ],
      "metadata": {
        "id": "Xy0LZD36e8cC"
      },
      "execution_count": 128,
      "outputs": []
    },
    {
      "cell_type": "code",
      "source": [
        "f = h5py.File(path)\n",
        "print(list(f.keys()))\n",
        "dset = f['recipe']"
      ],
      "metadata": {
        "colab": {
          "base_uri": "https://localhost:8080/"
        },
        "id": "QhpIoVVckXKh",
        "outputId": "38a55604-6310-4c57-e91a-6ed5309f0b3b"
      },
      "execution_count": 129,
      "outputs": [
        {
          "output_type": "stream",
          "name": "stdout",
          "text": [
            "['recipe']\n"
          ]
        }
      ]
    },
    {
      "cell_type": "markdown",
      "source": [
        "**Укажите аргумент chunks=(100_000, 3) при создании массива:**"
      ],
      "metadata": {
        "id": "BqPDb9GfkXEi"
      }
    },
    {
      "cell_type": "code",
      "source": [
        "recipe = da.from_array(dset, chunks=(100_000, 3))\n",
        "print(recipe.shape)\n",
        "recipe"
      ],
      "metadata": {
        "colab": {
          "base_uri": "https://localhost:8080/",
          "height": 214
        },
        "id": "-fTxk8f-kY3S",
        "outputId": "aba3df07-d5aa-4c16-b1f1-b4f087299194"
      },
      "execution_count": 130,
      "outputs": [
        {
          "output_type": "stream",
          "name": "stdout",
          "text": [
            "(2231637, 3)\n"
          ]
        },
        {
          "output_type": "execute_result",
          "data": {
            "text/plain": [
              "dask.array<array, shape=(2231637, 3), dtype=int64, chunksize=(100000, 3), chunktype=numpy.ndarray>"
            ],
            "text/html": [
              "<table>\n",
              "    <tr>\n",
              "        <td>\n",
              "            <table style=\"border-collapse: collapse;\">\n",
              "                <thead>\n",
              "                    <tr>\n",
              "                        <td> </td>\n",
              "                        <th> Array </th>\n",
              "                        <th> Chunk </th>\n",
              "                    </tr>\n",
              "                </thead>\n",
              "                <tbody>\n",
              "                    \n",
              "                    <tr>\n",
              "                        <th> Bytes </th>\n",
              "                        <td> 51.08 MiB </td>\n",
              "                        <td> 2.29 MiB </td>\n",
              "                    </tr>\n",
              "                    \n",
              "                    <tr>\n",
              "                        <th> Shape </th>\n",
              "                        <td> (2231637, 3) </td>\n",
              "                        <td> (100000, 3) </td>\n",
              "                    </tr>\n",
              "                    <tr>\n",
              "                        <th> Dask graph </th>\n",
              "                        <td colspan=\"2\"> 23 chunks in 2 graph layers </td>\n",
              "                    </tr>\n",
              "                    <tr>\n",
              "                        <th> Data type </th>\n",
              "                        <td colspan=\"2\"> int64 numpy.ndarray </td>\n",
              "                    </tr>\n",
              "                </tbody>\n",
              "            </table>\n",
              "        </td>\n",
              "        <td>\n",
              "        <svg width=\"75\" height=\"170\" style=\"stroke:rgb(0,0,0);stroke-width:1\" >\n",
              "\n",
              "  <!-- Horizontal lines -->\n",
              "  <line x1=\"0\" y1=\"0\" x2=\"25\" y2=\"0\" style=\"stroke-width:2\" />\n",
              "  <line x1=\"0\" y1=\"5\" x2=\"25\" y2=\"5\" />\n",
              "  <line x1=\"0\" y1=\"10\" x2=\"25\" y2=\"10\" />\n",
              "  <line x1=\"0\" y1=\"16\" x2=\"25\" y2=\"16\" />\n",
              "  <line x1=\"0\" y1=\"21\" x2=\"25\" y2=\"21\" />\n",
              "  <line x1=\"0\" y1=\"32\" x2=\"25\" y2=\"32\" />\n",
              "  <line x1=\"0\" y1=\"37\" x2=\"25\" y2=\"37\" />\n",
              "  <line x1=\"0\" y1=\"43\" x2=\"25\" y2=\"43\" />\n",
              "  <line x1=\"0\" y1=\"48\" x2=\"25\" y2=\"48\" />\n",
              "  <line x1=\"0\" y1=\"53\" x2=\"25\" y2=\"53\" />\n",
              "  <line x1=\"0\" y1=\"64\" x2=\"25\" y2=\"64\" />\n",
              "  <line x1=\"0\" y1=\"69\" x2=\"25\" y2=\"69\" />\n",
              "  <line x1=\"0\" y1=\"75\" x2=\"25\" y2=\"75\" />\n",
              "  <line x1=\"0\" y1=\"80\" x2=\"25\" y2=\"80\" />\n",
              "  <line x1=\"0\" y1=\"86\" x2=\"25\" y2=\"86\" />\n",
              "  <line x1=\"0\" y1=\"96\" x2=\"25\" y2=\"96\" />\n",
              "  <line x1=\"0\" y1=\"102\" x2=\"25\" y2=\"102\" />\n",
              "  <line x1=\"0\" y1=\"107\" x2=\"25\" y2=\"107\" />\n",
              "  <line x1=\"0\" y1=\"112\" x2=\"25\" y2=\"112\" />\n",
              "  <line x1=\"0\" y1=\"120\" x2=\"25\" y2=\"120\" style=\"stroke-width:2\" />\n",
              "\n",
              "  <!-- Vertical lines -->\n",
              "  <line x1=\"0\" y1=\"0\" x2=\"0\" y2=\"120\" style=\"stroke-width:2\" />\n",
              "  <line x1=\"25\" y1=\"0\" x2=\"25\" y2=\"120\" style=\"stroke-width:2\" />\n",
              "\n",
              "  <!-- Colored Rectangle -->\n",
              "  <polygon points=\"0.0,0.0 25.412616514582485,0.0 25.412616514582485,120.0 0.0,120.0\" style=\"fill:#8B4903A0;stroke-width:0\"/>\n",
              "\n",
              "  <!-- Text -->\n",
              "  <text x=\"12.706308\" y=\"140.000000\" font-size=\"1.0rem\" font-weight=\"100\" text-anchor=\"middle\" >3</text>\n",
              "  <text x=\"45.412617\" y=\"60.000000\" font-size=\"1.0rem\" font-weight=\"100\" text-anchor=\"middle\" transform=\"rotate(-90,45.412617,60.000000)\">2231637</text>\n",
              "</svg>\n",
              "        </td>\n",
              "    </tr>\n",
              "</table>"
            ]
          },
          "metadata": {},
          "execution_count": 130
        }
      ]
    },
    {
      "cell_type": "markdown",
      "source": [
        "**Выведите на экран основную информацию о массиве:**"
      ],
      "metadata": {
        "id": "RpLvEL3ikkeu"
      }
    },
    {
      "cell_type": "code",
      "source": [
        "print('Основная информация:',recipe,'\\n')\n",
        "print('Количество строк и столбцов:',recipe.shape,'\\n')\n",
        "print('Тип элементов массива:',recipe.dtype,'\\n')"
      ],
      "metadata": {
        "colab": {
          "base_uri": "https://localhost:8080/"
        },
        "id": "2UCZrwz9kktz",
        "outputId": "b4af1a65-84c1-40ff-a4c4-f754da25cc4e"
      },
      "execution_count": 131,
      "outputs": [
        {
          "output_type": "stream",
          "name": "stdout",
          "text": [
            "Основная информация: dask.array<array, shape=(2231637, 3), dtype=int64, chunksize=(100000, 3), chunktype=numpy.ndarray> \n",
            "\n",
            "Количество строк и столбцов: (2231637, 3) \n",
            "\n",
            "Тип элементов массива: int64 \n",
            "\n"
          ]
        }
      ]
    },
    {
      "cell_type": "markdown",
      "source": [
        "**Вычислите среднее значение по каждому столбцу, кроме первого**"
      ],
      "metadata": {
        "id": "X_P7Mh5ElZ7b"
      }
    },
    {
      "cell_type": "code",
      "source": [
        "mean = recipe[:, 1:].mean(axis=0)\n",
        "mean"
      ],
      "metadata": {
        "colab": {
          "base_uri": "https://localhost:8080/",
          "height": 137
        },
        "id": "-QvXeqhklZeA",
        "outputId": "9548f223-b815-46e3-e103-1944949e5f2d"
      },
      "execution_count": 135,
      "outputs": [
        {
          "output_type": "execute_result",
          "data": {
            "text/plain": [
              "dask.array<mean_agg-aggregate, shape=(2,), dtype=float64, chunksize=(2,), chunktype=numpy.ndarray>"
            ],
            "text/html": [
              "<table>\n",
              "    <tr>\n",
              "        <td>\n",
              "            <table style=\"border-collapse: collapse;\">\n",
              "                <thead>\n",
              "                    <tr>\n",
              "                        <td> </td>\n",
              "                        <th> Array </th>\n",
              "                        <th> Chunk </th>\n",
              "                    </tr>\n",
              "                </thead>\n",
              "                <tbody>\n",
              "                    \n",
              "                    <tr>\n",
              "                        <th> Bytes </th>\n",
              "                        <td> 16 B </td>\n",
              "                        <td> 16 B </td>\n",
              "                    </tr>\n",
              "                    \n",
              "                    <tr>\n",
              "                        <th> Shape </th>\n",
              "                        <td> (2,) </td>\n",
              "                        <td> (2,) </td>\n",
              "                    </tr>\n",
              "                    <tr>\n",
              "                        <th> Dask graph </th>\n",
              "                        <td colspan=\"2\"> 1 chunks in 7 graph layers </td>\n",
              "                    </tr>\n",
              "                    <tr>\n",
              "                        <th> Data type </th>\n",
              "                        <td colspan=\"2\"> float64 numpy.ndarray </td>\n",
              "                    </tr>\n",
              "                </tbody>\n",
              "            </table>\n",
              "        </td>\n",
              "        <td>\n",
              "        <svg width=\"170\" height=\"110\" style=\"stroke:rgb(0,0,0);stroke-width:1\" >\n",
              "\n",
              "  <!-- Horizontal lines -->\n",
              "  <line x1=\"0\" y1=\"0\" x2=\"120\" y2=\"0\" style=\"stroke-width:2\" />\n",
              "  <line x1=\"0\" y1=\"60\" x2=\"120\" y2=\"60\" style=\"stroke-width:2\" />\n",
              "\n",
              "  <!-- Vertical lines -->\n",
              "  <line x1=\"0\" y1=\"0\" x2=\"0\" y2=\"60\" style=\"stroke-width:2\" />\n",
              "  <line x1=\"120\" y1=\"0\" x2=\"120\" y2=\"60\" style=\"stroke-width:2\" />\n",
              "\n",
              "  <!-- Colored Rectangle -->\n",
              "  <polygon points=\"0.0,0.0 120.0,0.0 120.0,60.0 0.0,60.0\" style=\"fill:#ECB172A0;stroke-width:0\"/>\n",
              "\n",
              "  <!-- Text -->\n",
              "  <text x=\"60.000000\" y=\"80.000000\" font-size=\"1.0rem\" font-weight=\"100\" text-anchor=\"middle\" >2</text>\n",
              "  <text x=\"140.000000\" y=\"30.000000\" font-size=\"1.0rem\" font-weight=\"100\" text-anchor=\"middle\" transform=\"rotate(0,140.000000,30.000000)\">1</text>\n",
              "</svg>\n",
              "        </td>\n",
              "    </tr>\n",
              "</table>"
            ]
          },
          "metadata": {},
          "execution_count": 135
        }
      ]
    },
    {
      "cell_type": "code",
      "source": [
        "print('Второй столбец:',mean.compute()[0])\n",
        "print('Третий столбец:',mean.compute()[1])"
      ],
      "metadata": {
        "colab": {
          "base_uri": "https://localhost:8080/"
        },
        "id": "HEwEfjTo-qWc",
        "outputId": "2e9cce04-e225-45f7-de62-72b2c45c0f3d"
      },
      "execution_count": 136,
      "outputs": [
        {
          "output_type": "stream",
          "name": "stdout",
          "text": [
            "Второй столбец: 1004.2080517575215\n",
            "Третий столбец: 5.419800800936711\n"
          ]
        }
      ]
    },
    {
      "cell_type": "markdown",
      "source": [
        "Датасет: titanic.csv\n",
        " 1. Сколько мужчин / женщин находилось на борту?\n",
        "\n",
        "2. Правда ли, что женщины выживали чаще мужчин? Каковы доли выживших в обеих группах?\n"
      ],
      "metadata": {
        "id": "aWbLsbOll3ja"
      }
    },
    {
      "cell_type": "markdown",
      "source": [
        " **1. Сколько мужчин / женщин находилось на борту?**"
      ],
      "metadata": {
        "id": "6WimaZ5mmsBc"
      }
    },
    {
      "cell_type": "code",
      "source": [
        "import pandas as pd\n",
        "\n",
        "# Загрузка данных из CSV-файла в DataFrame\n",
        "data = pd.read_csv(\"/content/drive/MyDrive/datasets/titanic.csv\")"
      ],
      "metadata": {
        "id": "UqmC9vh4l9Ek"
      },
      "execution_count": 46,
      "outputs": []
    },
    {
      "cell_type": "code",
      "source": [
        "# Подсчет количества мужчин и женщин на борту\n",
        "gender_counts = data['Sex'].value_counts()\n",
        "male_count = gender_counts['male']\n",
        "female_count = gender_counts['female']\n",
        "\n",
        "print(\"Количество мужчин на борту:\", male_count)\n",
        "print(\"Количество женщин на борту:\", female_count)"
      ],
      "metadata": {
        "colab": {
          "base_uri": "https://localhost:8080/"
        },
        "id": "OqLFBYAimkEs",
        "outputId": "44656264-1202-4b22-e6ce-053e26e9aae5"
      },
      "execution_count": 47,
      "outputs": [
        {
          "output_type": "stream",
          "name": "stdout",
          "text": [
            "Количество мужчин на борту: 577\n",
            "Количество женщин на борту: 314\n"
          ]
        }
      ]
    },
    {
      "cell_type": "markdown",
      "source": [
        "**Правда ли, что женщины выживали чаще мужчин? Каковы доли выживших в обеих группах?**"
      ],
      "metadata": {
        "id": "0rxSytVcmyRN"
      }
    },
    {
      "cell_type": "code",
      "source": [
        "# Расчет долей выживших в обеих группах\n",
        "survived_counts = data.groupby('Sex')['Survived'].sum()\n",
        "total_counts = gender_counts\n",
        "\n",
        "male_survived = survived_counts['male']\n",
        "female_survived = survived_counts['female']\n",
        "\n",
        "male_survival_rate = male_survived / male_count\n",
        "female_survival_rate = female_survived / female_count\n",
        "\n",
        "print(\"Доля выживших мужчин:\", male_survival_rate)\n",
        "print(\"Доля выживших женщин:\", female_survival_rate)"
      ],
      "metadata": {
        "colab": {
          "base_uri": "https://localhost:8080/"
        },
        "id": "dozY5IuTmpds",
        "outputId": "860a9642-9613-464f-f373-d9075c820372"
      },
      "execution_count": 48,
      "outputs": [
        {
          "output_type": "stream",
          "name": "stdout",
          "text": [
            "Доля выживших мужчин: 0.18890814558058924\n",
            "Доля выживших женщин: 0.7420382165605095\n"
          ]
        }
      ]
    },
    {
      "cell_type": "markdown",
      "source": [
        "Ответ:\n",
        "Да, правда. Женщины выживали чаще мужчин."
      ],
      "metadata": {
        "id": "HRE4nD8OoedR"
      }
    },
    {
      "cell_type": "markdown",
      "source": [
        "ЕСЛИ НУЖЕН ГРАФИК:"
      ],
      "metadata": {
        "id": "-IxIdu4NnD1u"
      }
    },
    {
      "cell_type": "code",
      "source": [
        "import matplotlib.pyplot as plt\n",
        "\n",
        "survived_by_sex = data.groupby(['Sex', 'Survived'])['Survived'].count().unstack() # подсчет количества выживших и погибших по полу\n",
        "\n",
        "survival_rate_by_sex = survived_by_sex / survived_by_sex.sum() # расчет долей выживших и погибших по полу\n",
        "\n",
        "survival_rate_by_sex.plot(kind='bar', stacked=True)\n",
        "plt.title('Выжившие и погибшие')\n",
        "plt.xlabel('Пол')\n",
        "plt.ylabel('Доля')\n",
        "plt.xticks(rotation=0)\n",
        "plt.legend(['Погибли', 'Выжили'])\n",
        "plt.show()"
      ],
      "metadata": {
        "colab": {
          "base_uri": "https://localhost:8080/",
          "height": 472
        },
        "id": "zFu9YtYFnF1K",
        "outputId": "817cd94b-379d-4964-a3c3-6204892a3990"
      },
      "execution_count": 49,
      "outputs": [
        {
          "output_type": "display_data",
          "data": {
            "text/plain": [
              "<Figure size 640x480 with 1 Axes>"
            ],
            "image/png": "[encoded data removed]"
          },
          "metadata": {}
        }
      ]
    },
    {
      "cell_type": "markdown",
      "source": [
        "Ответ:\n",
        "Да, правда. Женщины выживали чаще мужчин."
      ],
      "metadata": {
        "id": "KlBIdebFoVXM"
      }
    },
    {
      "cell_type": "markdown",
      "source": [
        "Датасет: -\n",
        " Как найти общие значения между двумя массивами?\n"
      ],
      "metadata": {
        "id": "1Z6GlORQoiAI"
      }
    },
    {
      "cell_type": "code",
      "source": [
        "import numpy as np\n",
        "\n",
        "# Пример двух массивов\n",
        "array1 = np.array([1, 2, 3, 4, 5])\n",
        "array2 = np.array([4, 5, 6, 7, 8])\n",
        "\n",
        "# Нахождение общих значений\n",
        "common_values = np.intersect1d(array1, array2)\n",
        "\n",
        "print(\"Общие значения:\", common_values)"
      ],
      "metadata": {
        "colab": {
          "base_uri": "https://localhost:8080/"
        },
        "id": "1xlrXr5XnYvi",
        "outputId": "e219733e-c3a7-47fd-df71-5112c3d19e98"
      },
      "execution_count": 50,
      "outputs": [
        {
          "output_type": "stream",
          "name": "stdout",
          "text": [
            "Общие значения: [4 5]\n"
          ]
        }
      ]
    },
    {
      "cell_type": "markdown",
      "source": [
        "ещё способ:"
      ],
      "metadata": {
        "id": "3Z_RdV2upYY0"
      }
    },
    {
      "cell_type": "code",
      "source": [
        "# Пример двух массивов\n",
        "array1 = [1, 2, 3, 4, 5]\n",
        "array2 = [4, 5, 6, 7, 8]\n",
        "\n",
        "# Нахождение общих значений\n",
        "common_values = list(set(array1) & set(array2))\n",
        "\n",
        "print(\"Общие значения:\", common_values)"
      ],
      "metadata": {
        "colab": {
          "base_uri": "https://localhost:8080/"
        },
        "id": "Tal_xG70pdBv",
        "outputId": "16d234e5-e2fd-49ec-8aaa-5a4d506b09e7"
      },
      "execution_count": 52,
      "outputs": [
        {
          "output_type": "stream",
          "name": "stdout",
          "text": [
            "Общие значения: [4, 5]\n"
          ]
        }
      ]
    },
    {
      "cell_type": "markdown",
      "source": [
        "Датасет: -\n",
        " Создать двумерный массив 30 на 4, содержащий случайные целые числа от 0 до 100. Интерпретируя массив как 30 векторов из 4х компонент, вернуть массив 5 на 4, состоящий из векторов с наибольшей длиной (евклидовой нормой).Решить задачу средствами numpy и/или pandas. Не использовать циклы и конструкции стандартного Python там, где можно использовать возможности данных библиотек.\n"
      ],
      "metadata": {
        "id": "9EqZgkX_ovys"
      }
    },
    {
      "cell_type": "code",
      "source": [
        "import numpy as np\n",
        "\n",
        "# создаем двумерный массив 30 на 4 случайных целых чисел от 0 до 100\n",
        "arr = np.random.randint(0, 101, size=(30, 4))\n",
        "\n",
        "# вычисляем длины векторов\n",
        "lengths = np.linalg.norm(arr, axis=1)\n",
        "\n",
        "# находим индексы векторов с наибольшей длиной\n",
        "max_indices = np.argsort(lengths)[-5:]\n",
        "\n",
        "# выбираем соответствующие векторы\n",
        "result = arr[max_indices]\n",
        "\n",
        "print(result)\n"
      ],
      "metadata": {
        "colab": {
          "base_uri": "https://localhost:8080/"
        },
        "id": "oNyv6NflowIR",
        "outputId": "8897e24b-18f1-4ba4-db18-23dcf28628f5"
      },
      "execution_count": 51,
      "outputs": [
        {
          "output_type": "stream",
          "name": "stdout",
          "text": [
            "[[ 69  90  35  77]\n",
            " [ 75  45  76  99]\n",
            " [ 57  73 100  79]\n",
            " [ 96  92  45  72]\n",
            " [ 63  90  88  72]]\n"
          ]
        }
      ]
    },
    {
      "cell_type": "markdown",
      "source": [
        "Датасет: titanic.csv\n",
        " 1. Верно ли, что средний возраст выживших людей выше, чем у не выживших пассажиров?\n",
        "\n",
        "2. Правда ли, что женщины выживали чаще мужчин? Каковы доли выживших в обеих группах?\n"
      ],
      "metadata": {
        "id": "l20Ckx7spqXx"
      }
    },
    {
      "cell_type": "code",
      "source": [
        "import pandas as pd\n",
        "\n",
        "# Загрузка данных из CSV-файла в DataFrame\n",
        "data = pd.read_csv(\"/content/drive/MyDrive/datasets/titanic.csv\")\n",
        "\n",
        "# 1. Средний возраст выживших и не выживших\n",
        "mean_age_survived = data.loc[data['Survived'] == 1, 'Age'].mean()\n",
        "mean_age_not_survived = data.loc[data['Survived'] == 0, 'Age'].mean()\n",
        "\n",
        "print(\"Средний возраст выживших:\", mean_age_survived)\n",
        "print(\"Средний возраст не выживших:\", mean_age_not_survived)"
      ],
      "metadata": {
        "colab": {
          "base_uri": "https://localhost:8080/"
        },
        "id": "wc6hERe0ps7q",
        "outputId": "256db23e-6ff2-4573-89b1-09adf1f20def"
      },
      "execution_count": 55,
      "outputs": [
        {
          "output_type": "stream",
          "name": "stdout",
          "text": [
            "Средний возраст выживших: 28.343689655172415\n",
            "Средний возраст не выживших: 30.62617924528302\n"
          ]
        }
      ]
    },
    {
      "cell_type": "code",
      "source": [
        "# 2. Доли выживших мужчин и женщин\n",
        "survived_counts = data.groupby('Sex')['Survived'].sum()\n",
        "total_counts = data['Sex'].value_counts()\n",
        "\n",
        "male_survived = survived_counts['male']\n",
        "female_survived = survived_counts['female']\n",
        "\n",
        "male_total = total_counts['male']\n",
        "female_total = total_counts['female']\n",
        "\n",
        "male_survival_rate = male_survived / male_total\n",
        "female_survival_rate = female_survived / female_total\n",
        "\n",
        "print(\"Доля выживших мужчин:\", male_survival_rate)\n",
        "print(\"Доля выживших женщин:\", female_survival_rate)"
      ],
      "metadata": {
        "colab": {
          "base_uri": "https://localhost:8080/"
        },
        "id": "FZ5XbnJmqhbj",
        "outputId": "1d3213cb-aac1-47a3-b484-193fa3a6b6b3"
      },
      "execution_count": 54,
      "outputs": [
        {
          "output_type": "stream",
          "name": "stdout",
          "text": [
            "Доля выживших мужчин: 0.18890814558058924\n",
            "Доля выживших женщин: 0.7420382165605095\n"
          ]
        }
      ]
    },
    {
      "cell_type": "markdown",
      "source": [
        "Неверно, средний возраст выживших ниже, чем у невыживших"
      ],
      "metadata": {
        "id": "6oY6Q4zDMgAF"
      }
    },
    {
      "cell_type": "markdown",
      "source": [
        "Датасет: titanic.csv\n",
        " 1. Правда ли, что женщины выживали чаще мужчин? Каковы доли выживших в обеих группах?\n",
        "\n",
        "2. Найдите самое популярное имя среди пассажиров Титаника мужского пола.\n"
      ],
      "metadata": {
        "id": "3BkbNKvBqsNr"
      }
    },
    {
      "cell_type": "code",
      "source": [
        "import pandas as pd\n",
        "\n",
        "# Загрузка данных из CSV-файла в DataFrame\n",
        "data = pd.read_csv(\"/content/drive/MyDrive/datasets/titanic.csv\")\n",
        "\n",
        "# Подсчет количества выживших мужчин и женщин\n",
        "survived_counts = data.groupby('Sex')['Survived'].sum()\n",
        "total_counts = data['Sex'].value_counts()\n",
        "\n",
        "male_survived = survived_counts['male']\n",
        "female_survived = survived_counts['female']\n",
        "\n",
        "male_total = total_counts['male']\n",
        "female_total = total_counts['female']\n",
        "\n",
        "# Проверка, выживали ли женщины чаще мужчин\n",
        "female_survival_rate = female_survived / female_total\n",
        "male_survival_rate = male_survived / male_total\n",
        "\n",
        "# Доли выживших в обеих группах\n",
        "print(\"Доля выживших мужчин:\", male_survival_rate)\n",
        "print(\"Доля выживших женщин:\", female_survival_rate)\n",
        "\n",
        "if female_survival_rate > male_survival_rate:\n",
        "    print(\"Ответ: Женщины выживали чаще мужчин\")\n",
        "else:\n",
        "    print(\"Ответ: Мужчины выживали чаще женщин\")"
      ],
      "metadata": {
        "colab": {
          "base_uri": "https://localhost:8080/"
        },
        "id": "Zxe0QybEqhv_",
        "outputId": "44479377-5ca6-48de-daf4-4ebdf2dfa95d"
      },
      "execution_count": 27,
      "outputs": [
        {
          "output_type": "stream",
          "name": "stdout",
          "text": [
            "Доля выживших мужчин: 0.18890814558058924\n",
            "Доля выживших женщин: 0.7420382165605095\n",
            "Ответ: Женщины выживали чаще мужчин\n"
          ]
        }
      ]
    },
    {
      "cell_type": "code",
      "source": [
        "# Нахождение самого популярного имени среди пассажиров мужского пола\n",
        "# сортировка по столбцу Sex, извлечение имён из столбца Name строчными методами pandas и получение\n",
        "# наиболее часто встречающегося значения через функцию value_counts\n",
        "print(\"Самое популярное имя пасажира:\", data[data['Sex'] == 'male']['Name'].str.split(',').str[1].str.split(' ').str[2].value_counts().index[0])"
      ],
      "metadata": {
        "colab": {
          "base_uri": "https://localhost:8080/"
        },
        "id": "St2fK_Kyr7ys",
        "outputId": "d9ffada7-2d27-40c2-f814-bb45ff8a58da"
      },
      "execution_count": 39,
      "outputs": [
        {
          "output_type": "stream",
          "name": "stdout",
          "text": [
            "Самое популярное имя пасажира: William\n"
          ]
        }
      ]
    },
    {
      "cell_type": "markdown",
      "source": [
        "Датасет: minutes_n_ingredients_full.hdf5\n",
        " Считайте датасет recipe из файла minutes_n_ingredients_full.hdf5 в виде dask.array. Укажите аргумент chunks=(100_000, 3) при создании массива. Выведите на экран основную информацию о массиве и выберите рецепты, время выполнения которых меньше медианного значения.\n"
      ],
      "metadata": {
        "id": "XjYePr1GsnLL"
      }
    },
    {
      "cell_type": "code",
      "source": [
        "import os\n",
        "import numpy as np\n",
        "import h5py\n",
        "import dask.array as da"
      ],
      "metadata": {
        "id": "K58HWSk8r4GZ"
      },
      "execution_count": 60,
      "outputs": []
    },
    {
      "cell_type": "markdown",
      "source": [
        "**Считайте датасет recipe из файла minutes_n_ingredients_full.hdf5 в виде dask.array.**"
      ],
      "metadata": {
        "id": "quPKIzA7uOHb"
      }
    },
    {
      "cell_type": "code",
      "source": [
        "path='/content/drive/MyDrive/datasets/minutes_n_ingredients_full.hdf5'"
      ],
      "metadata": {
        "id": "Utzm2wqyuQQG"
      },
      "execution_count": 61,
      "outputs": []
    },
    {
      "cell_type": "code",
      "source": [
        "f = h5py.File(path)\n",
        "print(list(f.keys()))\n",
        "dset = f['recipe']"
      ],
      "metadata": {
        "colab": {
          "base_uri": "https://localhost:8080/"
        },
        "id": "mWaWNkEPuWwh",
        "outputId": "a1bfe4a0-6796-4f0a-e90e-d9fe338cc50f"
      },
      "execution_count": 62,
      "outputs": [
        {
          "output_type": "stream",
          "name": "stdout",
          "text": [
            "['recipe']\n"
          ]
        }
      ]
    },
    {
      "cell_type": "markdown",
      "source": [
        "**Укажите аргумент chunks=(100_000, 3) при создании массива:**"
      ],
      "metadata": {
        "id": "38ATmRehubuj"
      }
    },
    {
      "cell_type": "code",
      "source": [
        "recipe = da.from_array(dset, chunks=(100_000, 3))\n",
        "print(recipe.shape)\n",
        "recipe"
      ],
      "metadata": {
        "colab": {
          "base_uri": "https://localhost:8080/",
          "height": 214
        },
        "id": "do_jAadTuXZI",
        "outputId": "0662f4e8-23df-48d4-a5b6-d704cc546162"
      },
      "execution_count": 63,
      "outputs": [
        {
          "output_type": "stream",
          "name": "stdout",
          "text": [
            "(2231637, 3)\n"
          ]
        },
        {
          "output_type": "execute_result",
          "data": {
            "text/plain": [
              "dask.array<array, shape=(2231637, 3), dtype=int64, chunksize=(100000, 3), chunktype=numpy.ndarray>"
            ],
            "text/html": [
              "<table>\n",
              "    <tr>\n",
              "        <td>\n",
              "            <table style=\"border-collapse: collapse;\">\n",
              "                <thead>\n",
              "                    <tr>\n",
              "                        <td> </td>\n",
              "                        <th> Array </th>\n",
              "                        <th> Chunk </th>\n",
              "                    </tr>\n",
              "                </thead>\n",
              "                <tbody>\n",
              "                    \n",
              "                    <tr>\n",
              "                        <th> Bytes </th>\n",
              "                        <td> 51.08 MiB </td>\n",
              "                        <td> 2.29 MiB </td>\n",
              "                    </tr>\n",
              "                    \n",
              "                    <tr>\n",
              "                        <th> Shape </th>\n",
              "                        <td> (2231637, 3) </td>\n",
              "                        <td> (100000, 3) </td>\n",
              "                    </tr>\n",
              "                    <tr>\n",
              "                        <th> Dask graph </th>\n",
              "                        <td colspan=\"2\"> 23 chunks in 2 graph layers </td>\n",
              "                    </tr>\n",
              "                    <tr>\n",
              "                        <th> Data type </th>\n",
              "                        <td colspan=\"2\"> int64 numpy.ndarray </td>\n",
              "                    </tr>\n",
              "                </tbody>\n",
              "            </table>\n",
              "        </td>\n",
              "        <td>\n",
              "        <svg width=\"75\" height=\"170\" style=\"stroke:rgb(0,0,0);stroke-width:1\" >\n",
              "\n",
              "  <!-- Horizontal lines -->\n",
              "  <line x1=\"0\" y1=\"0\" x2=\"25\" y2=\"0\" style=\"stroke-width:2\" />\n",
              "  <line x1=\"0\" y1=\"5\" x2=\"25\" y2=\"5\" />\n",
              "  <line x1=\"0\" y1=\"10\" x2=\"25\" y2=\"10\" />\n",
              "  <line x1=\"0\" y1=\"16\" x2=\"25\" y2=\"16\" />\n",
              "  <line x1=\"0\" y1=\"21\" x2=\"25\" y2=\"21\" />\n",
              "  <line x1=\"0\" y1=\"32\" x2=\"25\" y2=\"32\" />\n",
              "  <line x1=\"0\" y1=\"37\" x2=\"25\" y2=\"37\" />\n",
              "  <line x1=\"0\" y1=\"43\" x2=\"25\" y2=\"43\" />\n",
              "  <line x1=\"0\" y1=\"48\" x2=\"25\" y2=\"48\" />\n",
              "  <line x1=\"0\" y1=\"53\" x2=\"25\" y2=\"53\" />\n",
              "  <line x1=\"0\" y1=\"64\" x2=\"25\" y2=\"64\" />\n",
              "  <line x1=\"0\" y1=\"69\" x2=\"25\" y2=\"69\" />\n",
              "  <line x1=\"0\" y1=\"75\" x2=\"25\" y2=\"75\" />\n",
              "  <line x1=\"0\" y1=\"80\" x2=\"25\" y2=\"80\" />\n",
              "  <line x1=\"0\" y1=\"86\" x2=\"25\" y2=\"86\" />\n",
              "  <line x1=\"0\" y1=\"96\" x2=\"25\" y2=\"96\" />\n",
              "  <line x1=\"0\" y1=\"102\" x2=\"25\" y2=\"102\" />\n",
              "  <line x1=\"0\" y1=\"107\" x2=\"25\" y2=\"107\" />\n",
              "  <line x1=\"0\" y1=\"112\" x2=\"25\" y2=\"112\" />\n",
              "  <line x1=\"0\" y1=\"120\" x2=\"25\" y2=\"120\" style=\"stroke-width:2\" />\n",
              "\n",
              "  <!-- Vertical lines -->\n",
              "  <line x1=\"0\" y1=\"0\" x2=\"0\" y2=\"120\" style=\"stroke-width:2\" />\n",
              "  <line x1=\"25\" y1=\"0\" x2=\"25\" y2=\"120\" style=\"stroke-width:2\" />\n",
              "\n",
              "  <!-- Colored Rectangle -->\n",
              "  <polygon points=\"0.0,0.0 25.412616514582485,0.0 25.412616514582485,120.0 0.0,120.0\" style=\"fill:#8B4903A0;stroke-width:0\"/>\n",
              "\n",
              "  <!-- Text -->\n",
              "  <text x=\"12.706308\" y=\"140.000000\" font-size=\"1.0rem\" font-weight=\"100\" text-anchor=\"middle\" >3</text>\n",
              "  <text x=\"45.412617\" y=\"60.000000\" font-size=\"1.0rem\" font-weight=\"100\" text-anchor=\"middle\" transform=\"rotate(-90,45.412617,60.000000)\">2231637</text>\n",
              "</svg>\n",
              "        </td>\n",
              "    </tr>\n",
              "</table>"
            ]
          },
          "metadata": {},
          "execution_count": 63
        }
      ]
    },
    {
      "cell_type": "markdown",
      "source": [
        "**Выведите на экран основную информацию о массиве:**"
      ],
      "metadata": {
        "id": "PvFd75cguftP"
      }
    },
    {
      "cell_type": "code",
      "source": [
        "print('Основная информация:',recipe,'\\n')\n",
        "print('Количество строк и столбцов:',recipe.shape,'\\n')\n",
        "print('Тип элементов массива:',recipe.dtype,'\\n')"
      ],
      "metadata": {
        "colab": {
          "base_uri": "https://localhost:8080/"
        },
        "id": "WZxODEAiudK4",
        "outputId": "07f96356-ec93-43e1-a3ee-564dd98e5eb3"
      },
      "execution_count": 64,
      "outputs": [
        {
          "output_type": "stream",
          "name": "stdout",
          "text": [
            "Основная информация: dask.array<array, shape=(2231637, 3), dtype=int64, chunksize=(100000, 3), chunktype=numpy.ndarray> \n",
            "\n",
            "Количество строк и столбцов: (2231637, 3) \n",
            "\n",
            "Тип элементов массива: int64 \n",
            "\n"
          ]
        }
      ]
    },
    {
      "cell_type": "markdown",
      "source": [
        "**Выберите рецепты, время выполнения которых меньше медианного значения:**"
      ],
      "metadata": {
        "id": "ZYm6wA7cumwb"
      }
    },
    {
      "cell_type": "code",
      "source": [
        "median = da.median(recipe[:,1],axis = 0).compute()\n",
        "print('Медианное значение времени выполнения:',median)"
      ],
      "metadata": {
        "colab": {
          "base_uri": "https://localhost:8080/"
        },
        "id": "LCdX9tyYuhKy",
        "outputId": "d0fb1611-1e47-462f-ba15-3cf6b4f8e8cc"
      },
      "execution_count": 65,
      "outputs": [
        {
          "output_type": "stream",
          "name": "stdout",
          "text": [
            "Медианное значение времени выполнения: 32.0\n"
          ]
        }
      ]
    },
    {
      "cell_type": "code",
      "source": [
        "recipe[(recipe[:,1] < median)].compute()"
      ],
      "metadata": {
        "colab": {
          "base_uri": "https://localhost:8080/"
        },
        "id": "5_JsQaZUuoDo",
        "outputId": "26248f82-dcfe-4690-8a76-acf3c6dd70b3"
      },
      "execution_count": 66,
      "outputs": [
        {
          "output_type": "execute_result",
          "data": {
            "text/plain": [
              "array([[1089012,      23,       5],\n",
              "       [1428572,       0,       5],\n",
              "       [1400250,      24,       1],\n",
              "       ...,\n",
              "       [1029131,      19,       4],\n",
              "       [1700703,       1,       1],\n",
              "       [ 713836,       0,       9]])"
            ]
          },
          "metadata": {},
          "execution_count": 66
        }
      ]
    },
    {
      "cell_type": "markdown",
      "source": [
        "Датасет: accounts.*.csv В accounts.*.csv найти id, для которого в столбце amount встречается наибольшее количество значений, кратных 5 и не кратных 10."
      ],
      "metadata": {
        "id": "hF8YkrduvHfU"
      }
    },
    {
      "cell_type": "code",
      "source": [
        "import pandas as pd\n",
        "import glob\n",
        "\n",
        "# Список файлов accounts.*.csv\n",
        "file_list = glob.glob(\"/content/drive/MyDrive/datasets/accounts/accounts.*.csv\")\n",
        "\n",
        "# Создание пустого DataFrame\n",
        "df = pd.DataFrame()\n",
        "\n",
        "# Загрузка данных из всех файлов в DataFrame\n",
        "for file in file_list:\n",
        "    df_temp = pd.read_csv(file)\n",
        "    df = df.append(df_temp)\n",
        "\n",
        "# Фильтрация значений в столбце \"amount\"\n",
        "filtered_data = df[(df['amount'] % 5 == 0) & (df['amount'] % 10 != 0)]\n",
        "\n",
        "# Подсчет количества значений по id\n",
        "id_counts = filtered_data['id'].value_counts()\n",
        "display(id_counts)\n",
        "# Нахождение id с наибольшим количеством значений\n",
        "max_count_id = id_counts.idxmax()\n",
        "\n",
        "print(\"ID с наибольшим количеством значений, кратных 5 и не кратных 10:\", max_count_id)\n"
      ],
      "metadata": {
        "colab": {
          "base_uri": "https://localhost:8080/",
          "height": 360
        },
        "id": "Uvr7vMi0upH_",
        "outputId": "e9ee57b8-7940-4278-ffb2-897b08e8ff2d"
      },
      "execution_count": 76,
      "outputs": [
        {
          "output_type": "stream",
          "name": "stderr",
          "text": [
            "<ipython-input-76-ccdbddb848de>:13: FutureWarning: The frame.append method is deprecated and will be removed from pandas in a future version. Use pandas.concat instead.\n",
            "  df = df.append(df_temp)\n",
            "<ipython-input-76-ccdbddb848de>:13: FutureWarning: The frame.append method is deprecated and will be removed from pandas in a future version. Use pandas.concat instead.\n",
            "  df = df.append(df_temp)\n",
            "<ipython-input-76-ccdbddb848de>:13: FutureWarning: The frame.append method is deprecated and will be removed from pandas in a future version. Use pandas.concat instead.\n",
            "  df = df.append(df_temp)\n"
          ]
        },
        {
          "output_type": "display_data",
          "data": {
            "text/plain": [
              "137    4883\n",
              "243    4857\n",
              "290    3183\n",
              "228    3158\n",
              "173    3095\n",
              "       ... \n",
              "169       3\n",
              "428       3\n",
              "238       3\n",
              "334       2\n",
              "413       1\n",
              "Name: id, Length: 496, dtype: int64"
            ]
          },
          "metadata": {}
        },
        {
          "output_type": "stream",
          "name": "stdout",
          "text": [
            "ID с наибольшим количеством значений, кратных 5 и не кратных 10: 137\n"
          ]
        }
      ]
    },
    {
      "cell_type": "markdown",
      "source": [
        "Датасет: titanic.csv\n",
        " 1. Каковы медиана и стандартное отклонение платежей (Fare)? Округлите до 2 десятичных знаков.\n",
        "\n",
        "2. Правда ли, что люди моложе 30 лет выживали чаще, чем люди старше 60 лет? Каковы доли выживших в обеих группах?\n"
      ],
      "metadata": {
        "id": "7s0mZ-bGwQin"
      }
    },
    {
      "cell_type": "code",
      "source": [
        "import pandas as pd\n",
        "\n",
        "# Загрузка данных из файла\n",
        "data = pd.read_csv(\"/content/drive/MyDrive/datasets/titanic.csv\")\n",
        "\n",
        "# Медиана и стандартное отклонение платежей (Fare)\n",
        "fare_median = data[\"Fare\"].median()\n",
        "fare_std = data[\"Fare\"].std()\n",
        "\n",
        "# Округление до 2 десятичных знаков\n",
        "fare_median = round(fare_median, 2)\n",
        "fare_std = round(fare_std, 2)\n",
        "\n",
        "# Вычисление доли выживших для людей моложе 30 лет\n",
        "survived_younger_30 = data[data[\"Age\"] < 30][\"Survived\"].mean()\n",
        "\n",
        "# Вычисление доли выживших для людей старше 60 лет\n",
        "survived_older_60 = data[data[\"Age\"] > 60][\"Survived\"].mean()\n",
        "\n",
        "# Проверка условия\n",
        "younger_30_survived_more = survived_younger_30 > survived_older_60\n",
        "\n",
        "# Вывод результатов\n",
        "print(\"Медиана платежей (Fare):\", fare_median)\n",
        "print(\"Стандартное отклонение платежей (Fare):\", fare_std)\n",
        "print(\"Доля выживших для людей моложе 30 лет:\", survived_younger_30)\n",
        "print(\"Доля выживших для людей старше 60 лет:\", survived_older_60)\n",
        "print(\"Люди моложе 30 лет выживали чаще, чем люди старше 60 лет:\", younger_30_survived_more)\n"
      ],
      "metadata": {
        "colab": {
          "base_uri": "https://localhost:8080/"
        },
        "id": "BoreLpW6wR7j",
        "outputId": "a68bc93e-a6af-474f-ae6a-210dd70f7d6c"
      },
      "execution_count": 43,
      "outputs": [
        {
          "output_type": "stream",
          "name": "stdout",
          "text": [
            "Медиана платежей (Fare): 14.45\n",
            "Стандартное отклонение платежей (Fare): 49.69\n",
            "Доля выживших для людей моложе 30 лет: 0.40625\n",
            "Доля выживших для людей старше 60 лет: 0.22727272727272727\n",
            "Люди моложе 30 лет выживали чаще, чем люди старше 60 лет: True\n"
          ]
        }
      ]
    },
    {
      "cell_type": "markdown",
      "source": [
        "Датасет: all_k.zip\n",
        " Подсчитать, сколько раз встречается каждая из заглавных русских букв в текстовых файлах, лежащих в all_k.zip.\n",
        "Выполнить задание с использованием Dask (корректным!), распараллелив процесс обработки данных (использование Dask должно приводить к истинной параллельной обработке данных).\n"
      ],
      "metadata": {
        "id": "ZcE10VRiwqTi"
      }
    },
    {
      "cell_type": "code",
      "source": [
        "regex = r'[А-ЯЁ]'\n",
        "texts = db.read_text('/content/drive/MyDrive/datasets/all_k/*', encoding='windows-1251')\n",
        "texts = texts.map(lambda text: re.findall(regex, text)).flatten().frequencies()\n",
        "print(sorted(texts.compute(schedule = 'processes'), key=lambda elem: elem[0]))"
      ],
      "metadata": {
        "colab": {
          "base_uri": "https://localhost:8080/"
        },
        "id": "K9Duk-Xnwqs-",
        "outputId": "14d6f8a2-66f6-48c7-9b6c-60b71b53cbff"
      },
      "execution_count": 83,
      "outputs": [
        {
          "output_type": "stream",
          "name": "stdout",
          "text": [
            "[('Ё', 60), ('А', 271030), ('Б', 250252), ('В', 466965), ('Г', 192381), ('Д', 479733), ('Е', 162606), ('Ж', 25925), ('З', 116175), ('И', 253041), ('Й', 13747), ('К', 442819), ('Л', 187693), ('М', 388300), ('Н', 566581), ('О', 599173), ('П', 455438), ('Р', 210449), ('С', 430379), ('Т', 353618), ('У', 128438), ('Ф', 82202), ('Х', 118962), ('Ц', 11270), ('Ч', 132623), ('Ш', 47125), ('Щ', 2292), ('Ъ', 106), ('Ы', 5669), ('Ь', 6025), ('Э', 225757), ('Ю', 8884), ('Я', 253267)]\n"
          ]
        }
      ]
    },
    {
      "cell_type": "markdown",
      "source": [
        "Датасет: wine.csv.zip\n",
        " 1. Найти медиану поля points в датасете wine.csv.zip\n",
        "\n",
        "2. Определите среднюю оценку рейтинга для каждого ревьюера (используйте 'taster_name' ,'points')\n"
      ],
      "metadata": {
        "id": "QUc62HW9wtgq"
      }
    },
    {
      "cell_type": "code",
      "source": [
        "# Загрузка данных из CSV-файла в DataFrame\n",
        "data = pd.read_csv(\"/content/drive/MyDrive/datasets/winemag-data-130k-v2.csv\")\n",
        "\n",
        "# Медиана поля \"points\"\n",
        "points_median = data['points'].median()\n",
        "\n",
        "print(\"Медиана поля 'points':\", points_median)\n",
        "\n",
        "# Средняя оценка рейтинга для каждого рецензента\n",
        "mean_ratings = data.groupby('taster_name')['points'].mean()\n",
        "\n",
        "print(\"Средняя оценка рейтинга для каждого рецензента:\")\n",
        "print(mean_ratings)"
      ],
      "metadata": {
        "colab": {
          "base_uri": "https://localhost:8080/"
        },
        "id": "ubZslZ5Lwt1Z",
        "outputId": "11b00cf4-3226-4853-f507-526193b87ab2"
      },
      "execution_count": 71,
      "outputs": [
        {
          "output_type": "stream",
          "name": "stdout",
          "text": [
            "Медиана поля 'points': 88.0\n",
            "Средняя оценка рейтинга для каждого рецензента:\n",
            "taster_name\n",
            "Alexander Peartree    85.855422\n",
            "Anna Lee C. Iijima    88.415629\n",
            "Anne Krebiehl MW      90.562551\n",
            "Carrie Dykes          86.395683\n",
            "Christina Pickard     87.833333\n",
            "Fiona Adams           86.888889\n",
            "Jeff Jenssen          88.319756\n",
            "Jim Gordon            88.626287\n",
            "Joe Czerwinski        88.536235\n",
            "Kerin O’Keefe         88.867947\n",
            "Lauren Buzzeo         87.739510\n",
            "Matt Kettmann         90.008686\n",
            "Michael Schachner     86.907493\n",
            "Mike DeSimone         89.101167\n",
            "Paul Gregutt          89.082564\n",
            "Roger Voss            88.708003\n",
            "Sean P. Sullivan      88.755739\n",
            "Susan Kostrzewa       86.609217\n",
            "Virginie Boone        89.213379\n",
            "Name: points, dtype: float64\n"
          ]
        }
      ]
    },
    {
      "cell_type": "markdown",
      "source": [
        "Датасет: reviews_full_mini\n",
        " В файлах папки  reviews_full_mini находятся файлы, содержащие информацию об отзывах к рецептам в формате JSON Lines. Отзывы разделены на файлы в зависимости от оценки (например, в файле reviews_1.json находятся отзывы с оценкой 1). Считайте файлы из этого архива в виде dask.bag. Преобразуйте текстовое содержимое файлов в объекты python (с помощью модуля json). Выведите на экран первые 5 элементов полученного bag. Модифицируйте функцию разбора JSON таким образом, чтобы в каждый словарь c информацией об отзыве добавить ключ rating. Значение получите на основе названия файла (см. аргумент include_path), использовав для этого регулярное выражение.Выполните препроцессинг отзывов:\n",
        "    * привести строки к нижнему регистру\n",
        "    * обрезать пробельные символы в начале и конце строки\n",
        "    * удалите все символы, кроме английских букв и пробелов\n"
      ],
      "metadata": {
        "id": "orCc4JFRxbHr"
      }
    },
    {
      "cell_type": "code",
      "source": [
        "import dask.bag as db\n",
        "import re\n",
        "import json"
      ],
      "metadata": {
        "id": "sxKSBRzECjYU"
      },
      "execution_count": 10,
      "outputs": []
    },
    {
      "cell_type": "code",
      "source": [
        "def func(json_str: tuple):\n",
        "    # получение рейтига из названия файла через регулярное выражение\n",
        "    rating = int(re.search(r'reviews_(\\d).json', json_str[1]).group(1))\n",
        "    review = json.loads(json_str[0])\n",
        "    review['rating'] = rating\n",
        "    review['review'] = re.sub(r\"[^a-zA-Z\\s]\", \"\", review['review'].lower().strip())\n",
        "    # получение месяца из даты\n",
        "    review['month'] = int(review['date'][5:7])\n",
        "    return review"
      ],
      "metadata": {
        "id": "2VHycfBBBzQ7"
      },
      "execution_count": 84,
      "outputs": []
    },
    {
      "cell_type": "code",
      "source": [
        "# открытие файла и вывод первых 5 элементов Bag\n",
        "data = db.read_text('/content/drive/MyDrive/datasets/reviews_full_mini/reviews_*.json', include_path=True).map(func)\n",
        "print(data.take(5))"
      ],
      "metadata": {
        "colab": {
          "base_uri": "https://localhost:8080/"
        },
        "id": "K37VgNMRB0xA",
        "outputId": "2e9b558c-d32e-4e26-9a33-e9200f736516"
      },
      "execution_count": 85,
      "outputs": [
        {
          "output_type": "stream",
          "name": "stdout",
          "text": [
            "({'user_id': 452355, 'recipe_id': 292657, 'date': '2016-05-08', 'review': 'wow this is the best i have never been able to make homemade enchiladas that taste like the mexican restaurants i made this last night for my family and they said they will never have enchiladas at the mexican restaurants again thanks for sharing', 'rating': 0, 'month': 5}, {'user_id': 329304, 'recipe_id': 433404, 'date': '2006-06-14', 'review': 'this was good but the dressing needed something and i found it to be a little too sweet next time i will experiment with some garlic and herbs and reduce the sugar slightly thanks for sharing kcdlongkitten', 'rating': 0, 'month': 6}, {'user_id': 227932, 'recipe_id': 2008187, 'date': '1985-11-19', 'review': 'very goodit was a hit for my family i used  cloves of garlic and had  lb beef and  johnsonville sausage lb hot and   lb honey garlic which i wanted to use that was a perfect combo for us the sausage gave it nice flavor no guestion  i will be making this often', 'rating': 0, 'month': 11}, {'user_id': 171468, 'recipe_id': 270716, 'date': '2019-05-21', 'review': 'made for zwt family picks after i saw these mentioned in the family picks thread so i got up this morning made my morning coffee while the oven was heating  then made these quickfix sweet treats b i was ready for my nd cup of coffee i used  tortillas all i had onhand  cut them into  wedges then i used  of my pamperd chef gadgets  my sml basting brush to spread the honey on the warm tortillas  my floursugar shaker to sprinkle the powd sugarcinnamon mixture atop the honeyed tortillas it might have taken a total of  min from oven to tasting yum using the same sweet mix these would also be good wbutter cream cheese or even lime juice cant wait to try them wlime juice thx for sharing this tasty little treat wus', 'rating': 0, 'month': 5}, {'user_id': 91392, 'recipe_id': 1159916, 'date': '1972-09-18', 'review': 'very nice slaw i especially like that it doesnt have the mayo dressing i used a prepackaged cole slaw mix so i didnt include the carrots nor the nuts i also doubled the sauce ', 'rating': 0, 'month': 9})\n"
          ]
        }
      ]
    },
    {
      "cell_type": "markdown",
      "source": [
        "Датасет: accounts.*.csv\n",
        " В accounts.*.csv найти id, для которого в столбце amount встречается наибольшее количество значений, кратных трем."
      ],
      "metadata": {
        "id": "qFrAoO6tzfFg"
      }
    },
    {
      "cell_type": "code",
      "source": [
        "import pandas as pd\n",
        "import glob\n",
        "\n",
        "# Список файлов CSV, соответствующих шаблону \"accounts.*.csv\"\n",
        "file_pattern = \"/content/drive/MyDrive/datasets/accounts/accounts.*.csv\"\n",
        "\n",
        "# Чтение файлов CSV в DataFrame с использованием glob\n",
        "dataframes = [pd.read_csv(file) for file in glob.glob(file_pattern)]\n",
        "\n",
        "# Объединение DataFrame'ов в один DataFrame\n",
        "merged_df = pd.concat(dataframes)\n",
        "\n",
        "# Фильтрация значений, кратных трем, в столбце \"amount\"\n",
        "filtered_df = merged_df[merged_df['amount'] % 3 == 0]\n",
        "\n",
        "# Подсчет количества значений, кратных трем, для каждого id\n",
        "count_by_id = filtered_df['id'].value_counts()\n",
        "\n",
        "# Получение id с наибольшим количеством значений, кратных трем\n",
        "max_count_id = count_by_id.idxmax()\n",
        "\n",
        "print(\"ID с наибольшим количеством значений, кратных трем:\", max_count_id)"
      ],
      "metadata": {
        "colab": {
          "base_uri": "https://localhost:8080/"
        },
        "id": "_uNWsX_uywtw",
        "outputId": "d0e050ed-edb0-43bd-a623-4aa868e6bd95"
      },
      "execution_count": 86,
      "outputs": [
        {
          "output_type": "stream",
          "name": "stdout",
          "text": [
            "ID с наибольшим количеством значений, кратных трем: 137\n"
          ]
        }
      ]
    },
    {
      "cell_type": "markdown",
      "source": [
        "Датасет: -\n",
        " Создайте единичную матрицу 3x3\n"
      ],
      "metadata": {
        "id": "Ywb1fC0Gzhau"
      }
    },
    {
      "cell_type": "code",
      "source": [
        "import numpy as np\n",
        "\n",
        "# Создание единичной матрицы 3x3\n",
        "identity_matrix = np.eye(3)\n",
        "\n",
        "print(identity_matrix)"
      ],
      "metadata": {
        "colab": {
          "base_uri": "https://localhost:8080/"
        },
        "id": "ubJmxiJyzijT",
        "outputId": "65a4e4a3-94dc-479c-e278-87a5ead99da2"
      },
      "execution_count": 76,
      "outputs": [
        {
          "output_type": "stream",
          "name": "stdout",
          "text": [
            "[[1. 0. 0.]\n",
            " [0. 1. 0.]\n",
            " [0. 0. 1.]]\n"
          ]
        }
      ]
    },
    {
      "cell_type": "markdown",
      "source": [
        "Датасет: -\n",
        " Создайте матрицу шахматной доски 8x8, используя функцию tile\n"
      ],
      "metadata": {
        "id": "aj4ujTlC0J-m"
      }
    },
    {
      "cell_type": "code",
      "source": [
        "import numpy as np\n",
        "\n",
        "# Определение шаблона одной клетки шахматной доски\n",
        "cell_template = np.array([[0, 1], [1, 0]])\n",
        "\n",
        "# Повторение шаблона для создания матрицы шахматной доски\n",
        "chessboard = np.tile(cell_template, (4, 4))\n",
        "\n",
        "print(chessboard)"
      ],
      "metadata": {
        "colab": {
          "base_uri": "https://localhost:8080/"
        },
        "id": "6_q_16lB0QQq",
        "outputId": "7c69a0e2-d270-4e54-92ce-b2c06606f650"
      },
      "execution_count": 77,
      "outputs": [
        {
          "output_type": "stream",
          "name": "stdout",
          "text": [
            "[[0 1 0 1 0 1 0 1]\n",
            " [1 0 1 0 1 0 1 0]\n",
            " [0 1 0 1 0 1 0 1]\n",
            " [1 0 1 0 1 0 1 0]\n",
            " [0 1 0 1 0 1 0 1]\n",
            " [1 0 1 0 1 0 1 0]\n",
            " [0 1 0 1 0 1 0 1]\n",
            " [1 0 1 0 1 0 1 0]]\n"
          ]
        }
      ]
    },
    {
      "cell_type": "markdown",
      "source": [
        "Датасет: wine.csv.zip\n",
        " 1. Подсчитайте количество отзывов, написанных каждым человеком ('taster_name') (используйте groupby).Определите человека, который написал наибольшее количество отзывов в датасете wine.csv.zip.\n",
        "\n",
        "2. Определите минимальные и максимальные цены на каждый сорт вина ('variety')? Определите название и самый дорогой вид вина.\n"
      ],
      "metadata": {
        "id": "IDKaf8zb0Z6M"
      }
    },
    {
      "cell_type": "code",
      "source": [
        "df = pd.read_csv('/content/drive/MyDrive/datasets/winemag-data-130k-v2.csv')\n",
        "\n",
        "# Подсчет количества отзывов по каждому человеку ('taster_name')\n",
        "review_count = df['taster_name'].value_counts()\n",
        "\n",
        "# Определение человека с наибольшим количеством отзывов\n",
        "max_reviews_person = review_count.idxmax()\n",
        "\n",
        "print(\"Человек с наибольшим количеством отзывов:\", max_reviews_person)\n",
        "\n",
        "# Определение минимальных и максимальных цен на каждый сорт вина ('variety')\n",
        "price_stats = df.groupby('variety')['price'].agg(['min', 'max'])\n",
        "print(\"Минимальные и максимальные цены на каждый сорт вина:\")\n",
        "print(price_stats)\n",
        "\n",
        "# Определение названия и самого дорогого вида вина\n",
        "max_price_wine = price_stats.loc[price_stats['max'].idxmax()]\n",
        "\n",
        "print(\"Название самого дорогого вида вина:\", max_price_wine.name)\n",
        "print(\"Максимальная цена:\", max_price_wine['max'])"
      ],
      "metadata": {
        "colab": {
          "base_uri": "https://localhost:8080/"
        },
        "id": "strju51V0gwU",
        "outputId": "8098cd90-89ca-444e-f7af-6735df9ebf2d"
      },
      "execution_count": 88,
      "outputs": [
        {
          "output_type": "stream",
          "name": "stdout",
          "text": [
            "Человек с наибольшим количеством отзывов: Roger Voss\n",
            "Минимальные и максимальные цены на каждый сорт вина:\n",
            "              min    max\n",
            "variety                 \n",
            "Abouriou     15.0   75.0\n",
            "Agiorgitiko  10.0   66.0\n",
            "Aglianico     6.0  180.0\n",
            "Aidani       27.0   27.0\n",
            "Airen         8.0   10.0\n",
            "...           ...    ...\n",
            "Zinfandel     5.0  100.0\n",
            "Zlahtina     13.0   16.0\n",
            "Zweigelt      9.0   70.0\n",
            "Çalkarası    19.0   19.0\n",
            "Žilavka      15.0   15.0\n",
            "\n",
            "[707 rows x 2 columns]\n",
            "Название самого дорогого вида вина: Bordeaux-style Red Blend\n",
            "Максимальная цена: 3300.0\n"
          ]
        }
      ]
    },
    {
      "cell_type": "markdown",
      "source": [
        "Датасет: Chinook_Sqlite.sqlite\n",
        " С помощью кода на Python с использованием sqlite3 и SQL решить задачу. Реализовать функции на Python:\n",
        "1. Которая возвращает всех имеющихся артистов.\n",
        "2. Которая по имени артиста возвращает все его альбомы с количеством треков в них.\n"
      ],
      "metadata": {
        "id": "5ptgQ0Zb07hD"
      }
    },
    {
      "cell_type": "markdown",
      "source": [
        "1. Которая возвращает всех имеющихся артистов."
      ],
      "metadata": {
        "id": "mMjO2yxG1EM5"
      }
    },
    {
      "cell_type": "code",
      "source": [
        "# Функция для получения всех имеющихся артистов\n",
        "def get_all_artists():\n",
        "  con = sqlite3.connect('/content/drive/MyDrive/datasets/Chinook_Sqlite.sqlite')\n",
        "  cur = con.cursor()\n",
        "  try:\n",
        "      cur.execute(\"\"\"\n",
        "      SELECT name\n",
        "      FROM Artist\n",
        "                  \"\"\")\n",
        "      fa = cur.fetchall()\n",
        "      columns = [i[0] for i in cur.description]\n",
        "      data = pd.DataFrame(fa, columns=columns)\n",
        "  except sqlite3.DatabaseError as error:\n",
        "      print(\"Ошибка:\", error)\n",
        "  finally:\n",
        "      cur.close()\n",
        "      con.close()\n",
        "\n",
        "  return data"
      ],
      "metadata": {
        "id": "UwCfoUru4dUw"
      },
      "execution_count": 83,
      "outputs": []
    },
    {
      "cell_type": "code",
      "source": [
        "get_all_artists()"
      ],
      "metadata": {
        "colab": {
          "base_uri": "https://localhost:8080/",
          "height": 419
        },
        "id": "kxNeblN047jB",
        "outputId": "9b6f463d-8593-40f1-ed56-cd2768deefe9"
      },
      "execution_count": 84,
      "outputs": [
        {
          "output_type": "execute_result",
          "data": {
            "text/plain": [
              "                                                  Name\n",
              "0                                                AC/DC\n",
              "1                                               Accept\n",
              "2                                            Aerosmith\n",
              "3                                    Alanis Morissette\n",
              "4                                      Alice In Chains\n",
              "..                                                 ...\n",
              "270   Mela Tenenbaum, Pro Musica Prague & Richard Kapp\n",
              "271                             Emerson String Quartet\n",
              "272  C. Monteverdi, Nigel Rogers - Chiaroscuro; Lon...\n",
              "273                                      Nash Ensemble\n",
              "274                              Philip Glass Ensemble\n",
              "\n",
              "[275 rows x 1 columns]"
            ],
            "text/html": [
              "\n",
              "  <div id=\"df-78d1c23e-d198-47d3-9233-7d2f7d1e931b\">\n",
              "    <div class=\"colab-df-container\">\n",
              "      <div>\n",
              "<style scoped>\n",
              "    .dataframe tbody tr th:only-of-type {\n",
              "        vertical-align: middle;\n",
              "    }\n",
              "\n",
              "    .dataframe tbody tr th {\n",
              "        vertical-align: top;\n",
              "    }\n",
              "\n",
              "    .dataframe thead th {\n",
              "        text-align: right;\n",
              "    }\n",
              "</style>\n",
              "<table border=\"1\" class=\"dataframe\">\n",
              "  <thead>\n",
              "    <tr style=\"text-align: right;\">\n",
              "      <th></th>\n",
              "      <th>Name</th>\n",
              "    </tr>\n",
              "  </thead>\n",
              "  <tbody>\n",
              "    <tr>\n",
              "      <th>0</th>\n",
              "      <td>AC/DC</td>\n",
              "    </tr>\n",
              "    <tr>\n",
              "      <th>1</th>\n",
              "      <td>Accept</td>\n",
              "    </tr>\n",
              "    <tr>\n",
              "      <th>2</th>\n",
              "      <td>Aerosmith</td>\n",
              "    </tr>\n",
              "    <tr>\n",
              "      <th>3</th>\n",
              "      <td>Alanis Morissette</td>\n",
              "    </tr>\n",
              "    <tr>\n",
              "      <th>4</th>\n",
              "      <td>Alice In Chains</td>\n",
              "    </tr>\n",
              "    <tr>\n",
              "      <th>...</th>\n",
              "      <td>...</td>\n",
              "    </tr>\n",
              "    <tr>\n",
              "      <th>270</th>\n",
              "      <td>Mela Tenenbaum, Pro Musica Prague &amp; Richard Kapp</td>\n",
              "    </tr>\n",
              "    <tr>\n",
              "      <th>271</th>\n",
              "      <td>Emerson String Quartet</td>\n",
              "    </tr>\n",
              "    <tr>\n",
              "      <th>272</th>\n",
              "      <td>C. Monteverdi, Nigel Rogers - Chiaroscuro; Lon...</td>\n",
              "    </tr>\n",
              "    <tr>\n",
              "      <th>273</th>\n",
              "      <td>Nash Ensemble</td>\n",
              "    </tr>\n",
              "    <tr>\n",
              "      <th>274</th>\n",
              "      <td>Philip Glass Ensemble</td>\n",
              "    </tr>\n",
              "  </tbody>\n",
              "</table>\n",
              "<p>275 rows × 1 columns</p>\n",
              "</div>\n",
              "      <button class=\"colab-df-convert\" onclick=\"convertToInteractive('df-78d1c23e-d198-47d3-9233-7d2f7d1e931b')\"\n",
              "              title=\"Convert this dataframe to an interactive table.\"\n",
              "              style=\"display:none;\">\n",
              "        \n",
              "  <svg xmlns=\"http://www.w3.org/2000/svg\" height=\"24px\"viewBox=\"0 0 24 24\"\n",
              "       width=\"24px\">\n",
              "    <path d=\"M0 0h24v24H0V0z\" fill=\"none\"/>\n",
              "    <path d=\"M18.56 5.44l.94 2.06.94-2.06 2.06-.94-2.06-.94-.94-2.06-.94 2.06-2.06.94zm-11 1L8.5 8.5l.94-2.06 2.06-.94-2.06-.94L8.5 2.5l-.94 2.06-2.06.94zm10 10l.94 2.06.94-2.06 2.06-.94-2.06-.94-.94-2.06-.94 2.06-2.06.94z\"/><path d=\"M17.41 7.96l-1.37-1.37c-.4-.4-.92-.59-1.43-.59-.52 0-1.04.2-1.43.59L10.3 9.45l-7.72 7.72c-.78.78-.78 2.05 0 2.83L4 21.41c.39.39.9.59 1.41.59.51 0 1.02-.2 1.41-.59l7.78-7.78 2.81-2.81c.8-.78.8-2.07 0-2.86zM5.41 20L4 18.59l7.72-7.72 1.47 1.35L5.41 20z\"/>\n",
              "  </svg>\n",
              "      </button>\n",
              "      \n",
              "  <style>\n",
              "    .colab-df-container {\n",
              "      display:flex;\n",
              "      flex-wrap:wrap;\n",
              "      gap: 12px;\n",
              "    }\n",
              "\n",
              "    .colab-df-convert {\n",
              "      background-color: #E8F0FE;\n",
              "      border: none;\n",
              "      border-radius: 50%;\n",
              "      cursor: pointer;\n",
              "      display: none;\n",
              "      fill: #1967D2;\n",
              "      height: 32px;\n",
              "      padding: 0 0 0 0;\n",
              "      width: 32px;\n",
              "    }\n",
              "\n",
              "    .colab-df-convert:hover {\n",
              "      background-color: #E2EBFA;\n",
              "      box-shadow: 0px 1px 2px rgba(60, 64, 67, 0.3), 0px 1px 3px 1px rgba(60, 64, 67, 0.15);\n",
              "      fill: #174EA6;\n",
              "    }\n",
              "\n",
              "    [theme=dark] .colab-df-convert {\n",
              "      background-color: #3B4455;\n",
              "      fill: #D2E3FC;\n",
              "    }\n",
              "\n",
              "    [theme=dark] .colab-df-convert:hover {\n",
              "      background-color: #434B5C;\n",
              "      box-shadow: 0px 1px 3px 1px rgba(0, 0, 0, 0.15);\n",
              "      filter: drop-shadow(0px 1px 2px rgba(0, 0, 0, 0.3));\n",
              "      fill: #FFFFFF;\n",
              "    }\n",
              "  </style>\n",
              "\n",
              "      <script>\n",
              "        const buttonEl =\n",
              "          document.querySelector('#df-78d1c23e-d198-47d3-9233-7d2f7d1e931b button.colab-df-convert');\n",
              "        buttonEl.style.display =\n",
              "          google.colab.kernel.accessAllowed ? 'block' : 'none';\n",
              "\n",
              "        async function convertToInteractive(key) {\n",
              "          const element = document.querySelector('#df-78d1c23e-d198-47d3-9233-7d2f7d1e931b');\n",
              "          const dataTable =\n",
              "            await google.colab.kernel.invokeFunction('convertToInteractive',\n",
              "                                                     [key], {});\n",
              "          if (!dataTable) return;\n",
              "\n",
              "          const docLinkHtml = 'Like what you see? Visit the ' +\n",
              "            '<a target=\"_blank\" href=https://colab.research.google.com/notebooks/data_table.ipynb>data table notebook</a>'\n",
              "            + ' to learn more about interactive tables.';\n",
              "          element.innerHTML = '';\n",
              "          dataTable['output_type'] = 'display_data';\n",
              "          await google.colab.output.renderOutput(dataTable, element);\n",
              "          const docLink = document.createElement('div');\n",
              "          docLink.innerHTML = docLinkHtml;\n",
              "          element.appendChild(docLink);\n",
              "        }\n",
              "      </script>\n",
              "    </div>\n",
              "  </div>\n",
              "  "
            ]
          },
          "metadata": {},
          "execution_count": 84
        }
      ]
    },
    {
      "cell_type": "markdown",
      "source": [
        "**2. Которая по имени артиста возвращает все его альбомы с количеством треков в них.**"
      ],
      "metadata": {
        "id": "BKKiMpgV1H1b"
      }
    },
    {
      "cell_type": "code",
      "source": [
        "# Функция для получения альбомов и количества треков по имени артиста\n",
        "def get_albums_by_artist(artist_name):\n",
        "  con = sqlite3.connect('/content/drive/MyDrive/datasets/Chinook_Sqlite.sqlite')\n",
        "  cur = con.cursor()\n",
        "  try:\n",
        "      cur.execute(f\"\"\"\n",
        "      SELECT Album.Title, COUNT(Track.TrackId) AS TrackCount\n",
        "      FROM Artist\n",
        "      INNER JOIN Album ON Artist.ArtistId = Album.ArtistId\n",
        "      INNER JOIN Track ON Album.AlbumId = Track.AlbumId\n",
        "      WHERE Artist.Name = '{artist_name}'\n",
        "      GROUP BY Album.AlbumId\n",
        "      ORDER BY Album.Title\n",
        "                  \"\"\")\n",
        "      fa = cur.fetchall()\n",
        "      columns = [i[0] for i in cur.description]\n",
        "      data = pd.DataFrame(fa, columns=columns)\n",
        "  except sqlite3.DatabaseError as error:\n",
        "      print(\"Ошибка:\", error)\n",
        "  finally:\n",
        "      cur.close()\n",
        "      con.close()\n",
        "  return data"
      ],
      "metadata": {
        "id": "GyzeKIIo5GuX"
      },
      "execution_count": 108,
      "outputs": []
    },
    {
      "cell_type": "code",
      "source": [
        "name = 'Accept'\n",
        "get_albums_by_artist(name)"
      ],
      "metadata": {
        "colab": {
          "base_uri": "https://localhost:8080/",
          "height": 111
        },
        "id": "AUwgZCZz5Yob",
        "outputId": "49fe2e15-30d6-46ca-d2fb-f132031d72b8"
      },
      "execution_count": 113,
      "outputs": [
        {
          "output_type": "execute_result",
          "data": {
            "text/plain": [
              "               Title  TrackCount\n",
              "0  Balls to the Wall           1\n",
              "1  Restless and Wild           3"
            ],
            "text/html": [
              "\n",
              "  <div id=\"df-e1c6c947-32a2-478c-8061-62a0bd75ac74\">\n",
              "    <div class=\"colab-df-container\">\n",
              "      <div>\n",
              "<style scoped>\n",
              "    .dataframe tbody tr th:only-of-type {\n",
              "        vertical-align: middle;\n",
              "    }\n",
              "\n",
              "    .dataframe tbody tr th {\n",
              "        vertical-align: top;\n",
              "    }\n",
              "\n",
              "    .dataframe thead th {\n",
              "        text-align: right;\n",
              "    }\n",
              "</style>\n",
              "<table border=\"1\" class=\"dataframe\">\n",
              "  <thead>\n",
              "    <tr style=\"text-align: right;\">\n",
              "      <th></th>\n",
              "      <th>Title</th>\n",
              "      <th>TrackCount</th>\n",
              "    </tr>\n",
              "  </thead>\n",
              "  <tbody>\n",
              "    <tr>\n",
              "      <th>0</th>\n",
              "      <td>Balls to the Wall</td>\n",
              "      <td>1</td>\n",
              "    </tr>\n",
              "    <tr>\n",
              "      <th>1</th>\n",
              "      <td>Restless and Wild</td>\n",
              "      <td>3</td>\n",
              "    </tr>\n",
              "  </tbody>\n",
              "</table>\n",
              "</div>\n",
              "      <button class=\"colab-df-convert\" onclick=\"convertToInteractive('df-e1c6c947-32a2-478c-8061-62a0bd75ac74')\"\n",
              "              title=\"Convert this dataframe to an interactive table.\"\n",
              "              style=\"display:none;\">\n",
              "        \n",
              "  <svg xmlns=\"http://www.w3.org/2000/svg\" height=\"24px\"viewBox=\"0 0 24 24\"\n",
              "       width=\"24px\">\n",
              "    <path d=\"M0 0h24v24H0V0z\" fill=\"none\"/>\n",
              "    <path d=\"M18.56 5.44l.94 2.06.94-2.06 2.06-.94-2.06-.94-.94-2.06-.94 2.06-2.06.94zm-11 1L8.5 8.5l.94-2.06 2.06-.94-2.06-.94L8.5 2.5l-.94 2.06-2.06.94zm10 10l.94 2.06.94-2.06 2.06-.94-2.06-.94-.94-2.06-.94 2.06-2.06.94z\"/><path d=\"M17.41 7.96l-1.37-1.37c-.4-.4-.92-.59-1.43-.59-.52 0-1.04.2-1.43.59L10.3 9.45l-7.72 7.72c-.78.78-.78 2.05 0 2.83L4 21.41c.39.39.9.59 1.41.59.51 0 1.02-.2 1.41-.59l7.78-7.78 2.81-2.81c.8-.78.8-2.07 0-2.86zM5.41 20L4 18.59l7.72-7.72 1.47 1.35L5.41 20z\"/>\n",
              "  </svg>\n",
              "      </button>\n",
              "      \n",
              "  <style>\n",
              "    .colab-df-container {\n",
              "      display:flex;\n",
              "      flex-wrap:wrap;\n",
              "      gap: 12px;\n",
              "    }\n",
              "\n",
              "    .colab-df-convert {\n",
              "      background-color: #E8F0FE;\n",
              "      border: none;\n",
              "      border-radius: 50%;\n",
              "      cursor: pointer;\n",
              "      display: none;\n",
              "      fill: #1967D2;\n",
              "      height: 32px;\n",
              "      padding: 0 0 0 0;\n",
              "      width: 32px;\n",
              "    }\n",
              "\n",
              "    .colab-df-convert:hover {\n",
              "      background-color: #E2EBFA;\n",
              "      box-shadow: 0px 1px 2px rgba(60, 64, 67, 0.3), 0px 1px 3px 1px rgba(60, 64, 67, 0.15);\n",
              "      fill: #174EA6;\n",
              "    }\n",
              "\n",
              "    [theme=dark] .colab-df-convert {\n",
              "      background-color: #3B4455;\n",
              "      fill: #D2E3FC;\n",
              "    }\n",
              "\n",
              "    [theme=dark] .colab-df-convert:hover {\n",
              "      background-color: #434B5C;\n",
              "      box-shadow: 0px 1px 3px 1px rgba(0, 0, 0, 0.15);\n",
              "      filter: drop-shadow(0px 1px 2px rgba(0, 0, 0, 0.3));\n",
              "      fill: #FFFFFF;\n",
              "    }\n",
              "  </style>\n",
              "\n",
              "      <script>\n",
              "        const buttonEl =\n",
              "          document.querySelector('#df-e1c6c947-32a2-478c-8061-62a0bd75ac74 button.colab-df-convert');\n",
              "        buttonEl.style.display =\n",
              "          google.colab.kernel.accessAllowed ? 'block' : 'none';\n",
              "\n",
              "        async function convertToInteractive(key) {\n",
              "          const element = document.querySelector('#df-e1c6c947-32a2-478c-8061-62a0bd75ac74');\n",
              "          const dataTable =\n",
              "            await google.colab.kernel.invokeFunction('convertToInteractive',\n",
              "                                                     [key], {});\n",
              "          if (!dataTable) return;\n",
              "\n",
              "          const docLinkHtml = 'Like what you see? Visit the ' +\n",
              "            '<a target=\"_blank\" href=https://colab.research.google.com/notebooks/data_table.ipynb>data table notebook</a>'\n",
              "            + ' to learn more about interactive tables.';\n",
              "          element.innerHTML = '';\n",
              "          dataTable['output_type'] = 'display_data';\n",
              "          await google.colab.output.renderOutput(dataTable, element);\n",
              "          const docLink = document.createElement('div');\n",
              "          docLink.innerHTML = docLinkHtml;\n",
              "          element.appendChild(docLink);\n",
              "        }\n",
              "      </script>\n",
              "    </div>\n",
              "  </div>\n",
              "  "
            ]
          },
          "metadata": {},
          "execution_count": 113
        }
      ]
    },
    {
      "cell_type": "markdown",
      "source": [
        "Датасет: titanic.csv\n",
        " 1. Сколько мужчин / женщин находилось на борту?\n",
        "\n",
        "2. Найдите самое популярное имя среди пассажиров Титаника мужского пола.\n"
      ],
      "metadata": {
        "id": "_gg9Lgs-7yDb"
      }
    },
    {
      "cell_type": "code",
      "source": [
        "import pandas as pd\n",
        "\n",
        "# Чтение данных из файла CSV\n",
        "data = pd.read_csv('/content/drive/MyDrive/datasets/titanic.csv')\n",
        "\n",
        "# 1. Сколько мужчин / женщин находилось на борту?\n",
        "gender_counts = data['Sex'].value_counts()\n",
        "male_count = gender_counts['male']\n",
        "female_count = gender_counts['female']\n",
        "\n",
        "print(\"Количество мужчин на борту:\", male_count)\n",
        "print(\"Количество женщин на борту:\", female_count)\n",
        "print()\n",
        "\n",
        "# Нахождение самого популярного имени среди пассажиров мужского пола\n",
        "# сортировка по столбцу Sex, извлечение имён из столбца Name строчными методами pandas и получение\n",
        "# наиболее часто встречающегося значения через функцию value_counts\n",
        "print(\"Самое популярное имя пасажира:\", data[data['Sex'] == 'male']['Name'].str.split(',').str[1].str.split(' ').str[2].value_counts().index[0])"
      ],
      "metadata": {
        "colab": {
          "base_uri": "https://localhost:8080/"
        },
        "id": "j39_qWdU1Csl",
        "outputId": "41bf62a1-6064-4626-f3b9-00e3850f2fc8"
      },
      "execution_count": 79,
      "outputs": [
        {
          "output_type": "stream",
          "name": "stdout",
          "text": [
            "Количество мужчин на борту: 577\n",
            "Количество женщин на борту: 314\n",
            "\n",
            "Самое популярное имя пасажира: William\n"
          ]
        }
      ]
    },
    {
      "cell_type": "markdown",
      "source": [
        "Датасет: minutes_n_ingredients_full.hdf5\n",
        " Считайте датасет recipe из файла minutes_n_ingredients_full.hdf5 в виде dask.array. Укажите аргумент chunks=(100_000, 3) при создании массива. Выведите на экран основную информацию о массиве и создайте массив dask.array из 2 чисел, содержащих ваши предпочтения относительно времени выполнения рецепта и кол-ва ингредиентов. Найдите наиболее похожий (в смысле 𝐿1 ) рецепт из имеющихся в датасете.\n"
      ],
      "metadata": {
        "id": "Ctpz4R_K8OL5"
      }
    },
    {
      "cell_type": "code",
      "source": [
        "import os\n",
        "import numpy as np\n",
        "import h5py\n",
        "import dask.array as da"
      ],
      "metadata": {
        "id": "NsEBZZoQ8VR9"
      },
      "execution_count": 115,
      "outputs": []
    },
    {
      "cell_type": "markdown",
      "source": [
        "**Считайте датасет recipe из файла minutes_n_ingredients_full.hdf5 в виде dask.array.**"
      ],
      "metadata": {
        "id": "vzQt3kfN8kfX"
      }
    },
    {
      "cell_type": "code",
      "source": [
        "path='/content/drive/MyDrive/datasets/minutes_n_ingredients_full.hdf5'"
      ],
      "metadata": {
        "id": "5jpEDxJz8hJx"
      },
      "execution_count": 119,
      "outputs": []
    },
    {
      "cell_type": "code",
      "source": [
        "f = h5py.File(path)\n",
        "print(list(f.keys()))\n",
        "dset = f['recipe']"
      ],
      "metadata": {
        "colab": {
          "base_uri": "https://localhost:8080/"
        },
        "id": "Ewtuxr0e8ph5",
        "outputId": "c55f65c7-19ef-417d-8a10-3e7efbb358f8"
      },
      "execution_count": 120,
      "outputs": [
        {
          "output_type": "stream",
          "name": "stdout",
          "text": [
            "['recipe']\n"
          ]
        }
      ]
    },
    {
      "cell_type": "markdown",
      "source": [
        "**Укажите аргумент chunks=(100_000, 3) при создании массива:**"
      ],
      "metadata": {
        "id": "-iAqP9WK8z8i"
      }
    },
    {
      "cell_type": "code",
      "source": [
        "recipe = da.from_array(dset, chunks=(100_000, 3))\n",
        "print(recipe.shape)\n",
        "recipe"
      ],
      "metadata": {
        "colab": {
          "base_uri": "https://localhost:8080/",
          "height": 214
        },
        "id": "Qt8Bq_F-8rJm",
        "outputId": "f0c6873e-f978-4704-cca2-4389e4bcdf16"
      },
      "execution_count": 121,
      "outputs": [
        {
          "output_type": "stream",
          "name": "stdout",
          "text": [
            "(2231637, 3)\n"
          ]
        },
        {
          "output_type": "execute_result",
          "data": {
            "text/plain": [
              "dask.array<array, shape=(2231637, 3), dtype=int64, chunksize=(100000, 3), chunktype=numpy.ndarray>"
            ],
            "text/html": [
              "<table>\n",
              "    <tr>\n",
              "        <td>\n",
              "            <table style=\"border-collapse: collapse;\">\n",
              "                <thead>\n",
              "                    <tr>\n",
              "                        <td> </td>\n",
              "                        <th> Array </th>\n",
              "                        <th> Chunk </th>\n",
              "                    </tr>\n",
              "                </thead>\n",
              "                <tbody>\n",
              "                    \n",
              "                    <tr>\n",
              "                        <th> Bytes </th>\n",
              "                        <td> 51.08 MiB </td>\n",
              "                        <td> 2.29 MiB </td>\n",
              "                    </tr>\n",
              "                    \n",
              "                    <tr>\n",
              "                        <th> Shape </th>\n",
              "                        <td> (2231637, 3) </td>\n",
              "                        <td> (100000, 3) </td>\n",
              "                    </tr>\n",
              "                    <tr>\n",
              "                        <th> Dask graph </th>\n",
              "                        <td colspan=\"2\"> 23 chunks in 2 graph layers </td>\n",
              "                    </tr>\n",
              "                    <tr>\n",
              "                        <th> Data type </th>\n",
              "                        <td colspan=\"2\"> int64 numpy.ndarray </td>\n",
              "                    </tr>\n",
              "                </tbody>\n",
              "            </table>\n",
              "        </td>\n",
              "        <td>\n",
              "        <svg width=\"75\" height=\"170\" style=\"stroke:rgb(0,0,0);stroke-width:1\" >\n",
              "\n",
              "  <!-- Horizontal lines -->\n",
              "  <line x1=\"0\" y1=\"0\" x2=\"25\" y2=\"0\" style=\"stroke-width:2\" />\n",
              "  <line x1=\"0\" y1=\"5\" x2=\"25\" y2=\"5\" />\n",
              "  <line x1=\"0\" y1=\"10\" x2=\"25\" y2=\"10\" />\n",
              "  <line x1=\"0\" y1=\"16\" x2=\"25\" y2=\"16\" />\n",
              "  <line x1=\"0\" y1=\"21\" x2=\"25\" y2=\"21\" />\n",
              "  <line x1=\"0\" y1=\"32\" x2=\"25\" y2=\"32\" />\n",
              "  <line x1=\"0\" y1=\"37\" x2=\"25\" y2=\"37\" />\n",
              "  <line x1=\"0\" y1=\"43\" x2=\"25\" y2=\"43\" />\n",
              "  <line x1=\"0\" y1=\"48\" x2=\"25\" y2=\"48\" />\n",
              "  <line x1=\"0\" y1=\"53\" x2=\"25\" y2=\"53\" />\n",
              "  <line x1=\"0\" y1=\"64\" x2=\"25\" y2=\"64\" />\n",
              "  <line x1=\"0\" y1=\"69\" x2=\"25\" y2=\"69\" />\n",
              "  <line x1=\"0\" y1=\"75\" x2=\"25\" y2=\"75\" />\n",
              "  <line x1=\"0\" y1=\"80\" x2=\"25\" y2=\"80\" />\n",
              "  <line x1=\"0\" y1=\"86\" x2=\"25\" y2=\"86\" />\n",
              "  <line x1=\"0\" y1=\"96\" x2=\"25\" y2=\"96\" />\n",
              "  <line x1=\"0\" y1=\"102\" x2=\"25\" y2=\"102\" />\n",
              "  <line x1=\"0\" y1=\"107\" x2=\"25\" y2=\"107\" />\n",
              "  <line x1=\"0\" y1=\"112\" x2=\"25\" y2=\"112\" />\n",
              "  <line x1=\"0\" y1=\"120\" x2=\"25\" y2=\"120\" style=\"stroke-width:2\" />\n",
              "\n",
              "  <!-- Vertical lines -->\n",
              "  <line x1=\"0\" y1=\"0\" x2=\"0\" y2=\"120\" style=\"stroke-width:2\" />\n",
              "  <line x1=\"25\" y1=\"0\" x2=\"25\" y2=\"120\" style=\"stroke-width:2\" />\n",
              "\n",
              "  <!-- Colored Rectangle -->\n",
              "  <polygon points=\"0.0,0.0 25.412616514582485,0.0 25.412616514582485,120.0 0.0,120.0\" style=\"fill:#8B4903A0;stroke-width:0\"/>\n",
              "\n",
              "  <!-- Text -->\n",
              "  <text x=\"12.706308\" y=\"140.000000\" font-size=\"1.0rem\" font-weight=\"100\" text-anchor=\"middle\" >3</text>\n",
              "  <text x=\"45.412617\" y=\"60.000000\" font-size=\"1.0rem\" font-weight=\"100\" text-anchor=\"middle\" transform=\"rotate(-90,45.412617,60.000000)\">2231637</text>\n",
              "</svg>\n",
              "        </td>\n",
              "    </tr>\n",
              "</table>"
            ]
          },
          "metadata": {},
          "execution_count": 121
        }
      ]
    },
    {
      "cell_type": "markdown",
      "source": [
        "**Выведите на экран основную информацию о массиве:**"
      ],
      "metadata": {
        "id": "zcFlX8V3825G"
      }
    },
    {
      "cell_type": "code",
      "source": [
        "print('Основная информация:',recipe,'\\n')\n",
        "print('Количество строк и столбцов:',recipe.shape,'\\n')\n",
        "print('Тип элементов массива:',recipe.dtype,'\\n')"
      ],
      "metadata": {
        "colab": {
          "base_uri": "https://localhost:8080/"
        },
        "id": "zksKLNj_81Mu",
        "outputId": "26c4fb42-d73a-44c8-cb1e-f0afd64f2b66"
      },
      "execution_count": 122,
      "outputs": [
        {
          "output_type": "stream",
          "name": "stdout",
          "text": [
            "Основная информация: dask.array<array, shape=(2231637, 3), dtype=int64, chunksize=(100000, 3), chunktype=numpy.ndarray> \n",
            "\n",
            "Количество строк и столбцов: (2231637, 3) \n",
            "\n",
            "Тип элементов массива: int64 \n",
            "\n"
          ]
        }
      ]
    },
    {
      "cell_type": "markdown",
      "source": [
        "Cоздайте массив dask.array из 2 чисел, содержащих ваши предпочтения относительно времени выполнения рецепта и кол-ва ингредиентов. Найдите наиболее похожий (в смысле 𝐿1 ) рецепт из имеющихся в датасете."
      ],
      "metadata": {
        "id": "wmv-hGsN9zlk"
      }
    },
    {
      "cell_type": "markdown",
      "source": [
        "![Снимок экрана 2023-03-30 в 00.45.12.png](data:image/png;base64,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)"
      ],
      "metadata": {
        "id": "TQ2RHN2i9ugn"
      }
    },
    {
      "cell_type": "code",
      "source": [
        "my_preferences = da.from_array([10, 5])"
      ],
      "metadata": {
        "id": "6MvtODKr89ti"
      },
      "execution_count": 126,
      "outputs": []
    },
    {
      "cell_type": "code",
      "source": [
        "times = recipe[:, 1]\n",
        "ingredients = recipe[:, 2]\n",
        "dist = da.abs(times - my_preferences[0]) + da.abs(ingredients - my_preferences[1]) # По формуле вычисляем dist\n",
        "index_1 = da.argmin(dist) # Находим индекс рецепта с наименьшей суммой разностей, функция argmin() возвращает индекс минимального значения вдоль указанной оси.\n",
        "recipe2 = recipe[index_1, :] # Получаем данные о найденном рецепте\n",
        "print(f'Наиболее похожий рецепт: {recipe2.compute()}')\n"
      ],
      "metadata": {
        "colab": {
          "base_uri": "https://localhost:8080/"
        },
        "id": "n12sPj_x-BV1",
        "outputId": "d7451b52-b6f1-41f7-d1ed-731ea30b6e4c"
      },
      "execution_count": 127,
      "outputs": [
        {
          "output_type": "stream",
          "name": "stdout",
          "text": [
            "Наиболее похожий рецепт: [2168955      10       5]\n"
          ]
        }
      ]
    },
    {
      "cell_type": "markdown",
      "source": [
        "Датасет: wine.csv.zip\n",
        " 1. Подсчитайте, сколько раз \"tropical\" и \"fruity\" встречается в описаниях вина (description) в датасете wine.csv.zip. (Необходимо учесть регистр)\n",
        "\n",
        "2. Определите среднюю оценку рейтинга для каждого ревьюера (используйте 'taster_name' ,'points')"
      ],
      "metadata": {
        "id": "agCu-64hUJeQ"
      }
    },
    {
      "cell_type": "code",
      "source": [
        "import pandas as pd\n",
        "\n",
        "# Загрузка данных из файла\n",
        "data = pd.read_csv(\"/content/drive/MyDrive/datasets/winemag-data-130k-v2.csv\")\n",
        "\n",
        "# Подсчет количества раз, когда \"tropical\" и \"fruity\" встречаются в описаниях вина\n",
        "count_tropical = data[data[\"description\"].str.contains(\"tropical\", case=True)][\"description\"].count()\n",
        "count_fruity = data[data[\"description\"].str.contains(\"fruity\", case=True)][\"description\"].count()\n",
        "\n",
        "# Вывод результатов\n",
        "print(\"Количество раз, когда 'tropical' встречается в описаниях вина:\", count_tropical)\n",
        "print(\"Количество раз, когда 'fruity' встречается в описаниях вина:\", count_fruity)"
      ],
      "metadata": {
        "colab": {
          "base_uri": "https://localhost:8080/"
        },
        "id": "FFdJZra2UN4w",
        "outputId": "e44986fd-18c6-4d33-b8fe-b081de16caa8"
      },
      "execution_count": 90,
      "outputs": [
        {
          "output_type": "stream",
          "name": "stdout",
          "text": [
            "Количество раз, когда 'tropical' встречается в описаниях вина: 3607\n",
            "Количество раз, когда 'fruity' встречается в описаниях вина: 9090\n"
          ]
        }
      ]
    },
    {
      "cell_type": "code",
      "source": [
        "# Определение средней оценки рейтинга для каждого ревьюера\n",
        "avg_rating_by_reviewer = data.groupby(\"taster_name\")[\"points\"].mean()\n",
        "\n",
        "# Вывод результатов\n",
        "print(\"Средняя оценка рейтинга для каждого ревьюера:\")\n",
        "print(avg_rating_by_reviewer)"
      ],
      "metadata": {
        "colab": {
          "base_uri": "https://localhost:8080/"
        },
        "id": "JivSh353rVoW",
        "outputId": "7befefaa-06b1-4fc8-fdbb-749b1588201b"
      },
      "execution_count": 91,
      "outputs": [
        {
          "output_type": "stream",
          "name": "stdout",
          "text": [
            "Средняя оценка рейтинга для каждого ревьюера:\n",
            "taster_name\n",
            "Alexander Peartree    85.855422\n",
            "Anna Lee C. Iijima    88.415629\n",
            "Anne Krebiehl MW      90.562551\n",
            "Carrie Dykes          86.395683\n",
            "Christina Pickard     87.833333\n",
            "Fiona Adams           86.888889\n",
            "Jeff Jenssen          88.319756\n",
            "Jim Gordon            88.626287\n",
            "Joe Czerwinski        88.536235\n",
            "Kerin O’Keefe         88.867947\n",
            "Lauren Buzzeo         87.739510\n",
            "Matt Kettmann         90.008686\n",
            "Michael Schachner     86.907493\n",
            "Mike DeSimone         89.101167\n",
            "Paul Gregutt          89.082564\n",
            "Roger Voss            88.708003\n",
            "Sean P. Sullivan      88.755739\n",
            "Susan Kostrzewa       86.609217\n",
            "Virginie Boone        89.213379\n",
            "Name: points, dtype: float64\n"
          ]
        }
      ]
    },
    {
      "cell_type": "markdown",
      "source": [
        "Датасет: -\n",
        " Напишите функцию на Python, которая вычисляет сумму квадратов всех чисел в списке размера N, содержащем целые случайно сгенерированные числа. Затем напишите функцию, скомпилированную с помощью Numba, которая выполняет ту же задачу, и сравните время выполнения обеих функций. Сравните скорость при различных N и сделайте вывод.\n"
      ],
      "metadata": {
        "id": "zdcJ7Z3kV_9o"
      }
    },
    {
      "cell_type": "code",
      "source": [
        "%%time\n",
        "import random\n",
        "\n",
        "def sum_of_squares_python(numbers):\n",
        "    square_sum = 0\n",
        "    for num in numbers:\n",
        "        square_sum += num ** 2\n",
        "    return square_sum\n",
        "\n",
        "N = 10000\n",
        "numbers = [random.randint(1, 100) for _ in range(N)]\n",
        "result = sum_of_squares_python(numbers)\n",
        "\n",
        "print(\"Сумма квадратов (Python):\", result)"
      ],
      "metadata": {
        "colab": {
          "base_uri": "https://localhost:8080/"
        },
        "id": "c7_8W9mWrkUW",
        "outputId": "c05932a0-2a43-456c-c810-23e26de7b4c6"
      },
      "execution_count": 65,
      "outputs": [
        {
          "output_type": "stream",
          "name": "stdout",
          "text": [
            "Сумма квадратов (Python): 33290186\n",
            "CPU times: user 17.4 ms, sys: 0 ns, total: 17.4 ms\n",
            "Wall time: 20.5 ms\n"
          ]
        }
      ]
    },
    {
      "cell_type": "code",
      "source": [
        "%%time\n",
        "from numba import njit\n",
        "\n",
        "@njit\n",
        "def sum_of_squares_numba(numbers):\n",
        "    square_sum = 0\n",
        "    for num in numbers:\n",
        "        square_sum += num ** 2\n",
        "    return square_sum\n",
        "\n",
        "# Вызов функции и измерение времени выполнения\n",
        "result = sum_of_squares_numba(numbers)\n",
        "\n",
        "print(\"Сумма квадратов (Numba):\", result)"
      ],
      "metadata": {
        "colab": {
          "base_uri": "https://localhost:8080/"
        },
        "id": "VWG6U5aWtRfR",
        "outputId": "fcb4c964-d1ce-4433-93f3-4d73df462f42"
      },
      "execution_count": 94,
      "outputs": [
        {
          "output_type": "stream",
          "name": "stderr",
          "text": [
            "/usr/local/lib/python3.10/dist-packages/numba/core/ir_utils.py:2147: NumbaPendingDeprecationWarning: \n",
            "Encountered the use of a type that is scheduled for deprecation: type 'reflected list' found for argument 'numbers' of function 'sum_of_squares_numba'.\n",
            "\n",
            "For more information visit https://numba.readthedocs.io/en/stable/reference/deprecation.html#deprecation-of-reflection-for-list-and-set-types\n",
            "\n",
            "File \"<timed exec>\", line 3:\n",
            "<source missing, REPL/exec in use?>\n",
            "\n",
            "  warnings.warn(NumbaPendingDeprecationWarning(msg, loc=loc))\n"
          ]
        },
        {
          "output_type": "stream",
          "name": "stdout",
          "text": [
            "Сумма квадратов (Numba): 33290186\n",
            "CPU times: user 270 ms, sys: 1.03 ms, total: 271 ms\n",
            "Wall time: 474 ms\n"
          ]
        }
      ]
    },
    {
      "cell_type": "markdown",
      "source": [
        "Датасет: accounts.*.csv\n",
        " В accounts.*.csv найти id, для которого в столбце amount встречается наибольшее количество значений между 1000 и 1500.\n"
      ],
      "metadata": {
        "id": "FtDamjg4t6mn"
      }
    },
    {
      "cell_type": "code",
      "source": [
        "import pandas as pd\n",
        "import glob\n",
        "\n",
        "# Получение списка файлов accounts.*.csv\n",
        "files = glob.glob('/content/drive/MyDrive/datasets/accounts/accounts.*.csv')\n",
        "\n",
        "# Создание пустого DataFrame для хранения данных\n",
        "df = pd.DataFrame()\n",
        "\n",
        "# Чтение и объединение данных из всех файлов\n",
        "for file in files:\n",
        "    data = pd.read_csv(file)\n",
        "    df = pd.concat([df, data])\n",
        "\n",
        "# Фильтрация значений столбца amount между 1000 и 1500\n",
        "filtered_data = df[(df['amount'] >= 1000) & (df['amount'] <= 1500)]\n",
        "\n",
        "# Подсчет количества значений для каждого id\n",
        "count_by_id = filtered_data['id'].value_counts()\n",
        "\n",
        "# Нахождение id с наибольшим количеством значений\n",
        "most_common_id = count_by_id.idxmax()\n",
        "\n",
        "print(\"ID с наибольшим количеством значений между 1000 и 1500:\", most_common_id)\n"
      ],
      "metadata": {
        "colab": {
          "base_uri": "https://localhost:8080/"
        },
        "id": "4JdGSNAhu7cw",
        "outputId": "f91f5519-1486-4e87-8881-13a42de5d2e7"
      },
      "execution_count": 95,
      "outputs": [
        {
          "output_type": "stream",
          "name": "stdout",
          "text": [
            "ID с наибольшим количеством значений между 1000 и 1500: 473\n"
          ]
        }
      ]
    },
    {
      "cell_type": "markdown",
      "source": [
        "Датасет: titanic.csv\n",
        " 1. Верно ли, что средний возраст выживших людей выше, чем у не выживших пассажиров?\n",
        "\n",
        "2. Найдите самое популярное имя среди пассажиров Титаника мужского пола.\n"
      ],
      "metadata": {
        "id": "kTJoYN6hydXE"
      }
    },
    {
      "cell_type": "code",
      "source": [
        "import pandas as pd\n",
        "\n",
        "# Чтение данных из файла CSV\n",
        "data = pd.read_csv('/content/drive/MyDrive/datasets/titanic.csv')\n",
        "\n",
        "# 1. Средний возраст выживших и не выживших\n",
        "mean_age_survived = data.loc[data['Survived'] == 1, 'Age'].mean()\n",
        "mean_age_not_survived = data.loc[data['Survived'] == 0, 'Age'].mean()\n",
        "\n",
        "print(\"Средний возраст выживших:\", mean_age_survived)\n",
        "print(\"Средний возраст не выживших:\", mean_age_not_survived)\n",
        "\n",
        "# Нахождение самого популярного имени среди пассажиров мужского пола\n",
        "# сортировка по столбцу Sex, извлечение имён из столбца Name строчными методами pandas и получение\n",
        "# наиболее часто встречающегося значения через функцию value_counts\n",
        "print(\"Самое популярное имя пасажира:\", data[data['Sex'] == 'male']['Name'].str.split(',').str[1].str.split(' ').str[2].value_counts().index[0])"
      ],
      "metadata": {
        "colab": {
          "base_uri": "https://localhost:8080/"
        },
        "id": "FrmLkUOUyomV",
        "outputId": "0fa2e38a-7bcc-4944-bf69-53f2fb24ca42"
      },
      "execution_count": 4,
      "outputs": [
        {
          "output_type": "stream",
          "name": "stdout",
          "text": [
            "Средний возраст выживших: 28.343689655172415\n",
            "Средний возраст не выживших: 30.62617924528302\n",
            "Самое популярное имя пасажира: William\n"
          ]
        }
      ]
    },
    {
      "cell_type": "markdown",
      "source": [
        "Неверно, средний возраст выживших ниже, чем у невыживших"
      ],
      "metadata": {
        "id": "YOVt3T9sMh57"
      }
    },
    {
      "cell_type": "markdown",
      "source": [
        "Датасет: Chinook_Sqlite.sqlite\n",
        " С помощью кода на Python с использованием sqlite3 и SQL решить задачу. Реализовать функции на Python:\n",
        "1. Которая возвращает все имеющиеся плейлисты.\n",
        "2. Которая по имени плейлиста возвращает количество треков в нем и их суммарную продолжительность.\n"
      ],
      "metadata": {
        "id": "a-seak7q4zDU"
      }
    },
    {
      "cell_type": "code",
      "source": [
        "# Функция которая возвращает все имеющиеся плейлисты\n",
        "def get_all_playlist():\n",
        "  con = sqlite3.connect('/content/drive/MyDrive/datasets/Chinook_Sqlite.sqlite')\n",
        "  cur = con.cursor()\n",
        "  try:\n",
        "      cur.execute(\"\"\"\n",
        "      SELECT Name\n",
        "      FROM Playlist\n",
        "                  \"\"\")\n",
        "      fa = cur.fetchall()\n",
        "      columns = [i[0] for i in cur.description]\n",
        "      data = pd.DataFrame(fa, columns=columns)\n",
        "  except sqlite3.DatabaseError as error:\n",
        "      print(\"Ошибка:\", error)\n",
        "  finally:\n",
        "      cur.close()\n",
        "      con.close()\n",
        "\n",
        "  return data"
      ],
      "metadata": {
        "id": "UCK58UT64Xln"
      },
      "execution_count": 129,
      "outputs": []
    },
    {
      "cell_type": "code",
      "source": [
        "get_all_playlist()"
      ],
      "metadata": {
        "colab": {
          "base_uri": "https://localhost:8080/",
          "height": 607
        },
        "id": "DfWmvnf25JpS",
        "outputId": "6e5aa341-2d1e-4df5-9b06-5e10ba25eac8"
      },
      "execution_count": 130,
      "outputs": [
        {
          "output_type": "execute_result",
          "data": {
            "text/plain": [
              "                          Name\n",
              "0                        Music\n",
              "1                       Movies\n",
              "2                     TV Shows\n",
              "3                   Audiobooks\n",
              "4                   90’s Music\n",
              "5                   Audiobooks\n",
              "6                       Movies\n",
              "7                        Music\n",
              "8                 Music Videos\n",
              "9                     TV Shows\n",
              "10             Brazilian Music\n",
              "11                   Classical\n",
              "12   Classical 101 - Deep Cuts\n",
              "13  Classical 101 - Next Steps\n",
              "14  Classical 101 - The Basics\n",
              "15                      Grunge\n",
              "16         Heavy Metal Classic\n",
              "17                 On-The-Go 1"
            ],
            "text/html": [
              "\n",
              "  <div id=\"df-910c784e-ba58-43a3-b12f-1e0a455fa473\">\n",
              "    <div class=\"colab-df-container\">\n",
              "      <div>\n",
              "<style scoped>\n",
              "    .dataframe tbody tr th:only-of-type {\n",
              "        vertical-align: middle;\n",
              "    }\n",
              "\n",
              "    .dataframe tbody tr th {\n",
              "        vertical-align: top;\n",
              "    }\n",
              "\n",
              "    .dataframe thead th {\n",
              "        text-align: right;\n",
              "    }\n",
              "</style>\n",
              "<table border=\"1\" class=\"dataframe\">\n",
              "  <thead>\n",
              "    <tr style=\"text-align: right;\">\n",
              "      <th></th>\n",
              "      <th>Name</th>\n",
              "    </tr>\n",
              "  </thead>\n",
              "  <tbody>\n",
              "    <tr>\n",
              "      <th>0</th>\n",
              "      <td>Music</td>\n",
              "    </tr>\n",
              "    <tr>\n",
              "      <th>1</th>\n",
              "      <td>Movies</td>\n",
              "    </tr>\n",
              "    <tr>\n",
              "      <th>2</th>\n",
              "      <td>TV Shows</td>\n",
              "    </tr>\n",
              "    <tr>\n",
              "      <th>3</th>\n",
              "      <td>Audiobooks</td>\n",
              "    </tr>\n",
              "    <tr>\n",
              "      <th>4</th>\n",
              "      <td>90’s Music</td>\n",
              "    </tr>\n",
              "    <tr>\n",
              "      <th>5</th>\n",
              "      <td>Audiobooks</td>\n",
              "    </tr>\n",
              "    <tr>\n",
              "      <th>6</th>\n",
              "      <td>Movies</td>\n",
              "    </tr>\n",
              "    <tr>\n",
              "      <th>7</th>\n",
              "      <td>Music</td>\n",
              "    </tr>\n",
              "    <tr>\n",
              "      <th>8</th>\n",
              "      <td>Music Videos</td>\n",
              "    </tr>\n",
              "    <tr>\n",
              "      <th>9</th>\n",
              "      <td>TV Shows</td>\n",
              "    </tr>\n",
              "    <tr>\n",
              "      <th>10</th>\n",
              "      <td>Brazilian Music</td>\n",
              "    </tr>\n",
              "    <tr>\n",
              "      <th>11</th>\n",
              "      <td>Classical</td>\n",
              "    </tr>\n",
              "    <tr>\n",
              "      <th>12</th>\n",
              "      <td>Classical 101 - Deep Cuts</td>\n",
              "    </tr>\n",
              "    <tr>\n",
              "      <th>13</th>\n",
              "      <td>Classical 101 - Next Steps</td>\n",
              "    </tr>\n",
              "    <tr>\n",
              "      <th>14</th>\n",
              "      <td>Classical 101 - The Basics</td>\n",
              "    </tr>\n",
              "    <tr>\n",
              "      <th>15</th>\n",
              "      <td>Grunge</td>\n",
              "    </tr>\n",
              "    <tr>\n",
              "      <th>16</th>\n",
              "      <td>Heavy Metal Classic</td>\n",
              "    </tr>\n",
              "    <tr>\n",
              "      <th>17</th>\n",
              "      <td>On-The-Go 1</td>\n",
              "    </tr>\n",
              "  </tbody>\n",
              "</table>\n",
              "</div>\n",
              "      <button class=\"colab-df-convert\" onclick=\"convertToInteractive('df-910c784e-ba58-43a3-b12f-1e0a455fa473')\"\n",
              "              title=\"Convert this dataframe to an interactive table.\"\n",
              "              style=\"display:none;\">\n",
              "        \n",
              "  <svg xmlns=\"http://www.w3.org/2000/svg\" height=\"24px\"viewBox=\"0 0 24 24\"\n",
              "       width=\"24px\">\n",
              "    <path d=\"M0 0h24v24H0V0z\" fill=\"none\"/>\n",
              "    <path d=\"M18.56 5.44l.94 2.06.94-2.06 2.06-.94-2.06-.94-.94-2.06-.94 2.06-2.06.94zm-11 1L8.5 8.5l.94-2.06 2.06-.94-2.06-.94L8.5 2.5l-.94 2.06-2.06.94zm10 10l.94 2.06.94-2.06 2.06-.94-2.06-.94-.94-2.06-.94 2.06-2.06.94z\"/><path d=\"M17.41 7.96l-1.37-1.37c-.4-.4-.92-.59-1.43-.59-.52 0-1.04.2-1.43.59L10.3 9.45l-7.72 7.72c-.78.78-.78 2.05 0 2.83L4 21.41c.39.39.9.59 1.41.59.51 0 1.02-.2 1.41-.59l7.78-7.78 2.81-2.81c.8-.78.8-2.07 0-2.86zM5.41 20L4 18.59l7.72-7.72 1.47 1.35L5.41 20z\"/>\n",
              "  </svg>\n",
              "      </button>\n",
              "      \n",
              "  <style>\n",
              "    .colab-df-container {\n",
              "      display:flex;\n",
              "      flex-wrap:wrap;\n",
              "      gap: 12px;\n",
              "    }\n",
              "\n",
              "    .colab-df-convert {\n",
              "      background-color: #E8F0FE;\n",
              "      border: none;\n",
              "      border-radius: 50%;\n",
              "      cursor: pointer;\n",
              "      display: none;\n",
              "      fill: #1967D2;\n",
              "      height: 32px;\n",
              "      padding: 0 0 0 0;\n",
              "      width: 32px;\n",
              "    }\n",
              "\n",
              "    .colab-df-convert:hover {\n",
              "      background-color: #E2EBFA;\n",
              "      box-shadow: 0px 1px 2px rgba(60, 64, 67, 0.3), 0px 1px 3px 1px rgba(60, 64, 67, 0.15);\n",
              "      fill: #174EA6;\n",
              "    }\n",
              "\n",
              "    [theme=dark] .colab-df-convert {\n",
              "      background-color: #3B4455;\n",
              "      fill: #D2E3FC;\n",
              "    }\n",
              "\n",
              "    [theme=dark] .colab-df-convert:hover {\n",
              "      background-color: #434B5C;\n",
              "      box-shadow: 0px 1px 3px 1px rgba(0, 0, 0, 0.15);\n",
              "      filter: drop-shadow(0px 1px 2px rgba(0, 0, 0, 0.3));\n",
              "      fill: #FFFFFF;\n",
              "    }\n",
              "  </style>\n",
              "\n",
              "      <script>\n",
              "        const buttonEl =\n",
              "          document.querySelector('#df-910c784e-ba58-43a3-b12f-1e0a455fa473 button.colab-df-convert');\n",
              "        buttonEl.style.display =\n",
              "          google.colab.kernel.accessAllowed ? 'block' : 'none';\n",
              "\n",
              "        async function convertToInteractive(key) {\n",
              "          const element = document.querySelector('#df-910c784e-ba58-43a3-b12f-1e0a455fa473');\n",
              "          const dataTable =\n",
              "            await google.colab.kernel.invokeFunction('convertToInteractive',\n",
              "                                                     [key], {});\n",
              "          if (!dataTable) return;\n",
              "\n",
              "          const docLinkHtml = 'Like what you see? Visit the ' +\n",
              "            '<a target=\"_blank\" href=https://colab.research.google.com/notebooks/data_table.ipynb>data table notebook</a>'\n",
              "            + ' to learn more about interactive tables.';\n",
              "          element.innerHTML = '';\n",
              "          dataTable['output_type'] = 'display_data';\n",
              "          await google.colab.output.renderOutput(dataTable, element);\n",
              "          const docLink = document.createElement('div');\n",
              "          docLink.innerHTML = docLinkHtml;\n",
              "          element.appendChild(docLink);\n",
              "        }\n",
              "      </script>\n",
              "    </div>\n",
              "  </div>\n",
              "  "
            ]
          },
          "metadata": {},
          "execution_count": 130
        }
      ]
    },
    {
      "cell_type": "code",
      "source": [
        "# Функция Которая по имени плейлиста возвращает количество треков в нем и их суммарную продолжительность\n",
        "def get_playlist_by_name(playlist_name):\n",
        "  con = sqlite3.connect('/content/drive/MyDrive/datasets/Chinook_Sqlite.sqlite')\n",
        "  cur = con.cursor()\n",
        "  try:\n",
        "      cur.execute(f\"\"\"\n",
        "      SELECT playlist.Name AS 'Название песни', COUNT(Track.TrackId) AS 'Количество треков', SUM(Track.Milliseconds) AS 'Cуммарная продолжительность в миллисекундах'\n",
        "      FROM playlist\n",
        "      JOIN PlaylistTrack ON playlist.PlaylistId = PlaylistTrack.PlaylistId\n",
        "      JOIN Track ON PlaylistTrack.TrackId = Track.TrackId\n",
        "      WHERE playlist.Name = '{playlist_name}'\n",
        "      GROUP BY playlist.Name\n",
        "                  \"\"\")\n",
        "      fa = cur.fetchall()\n",
        "      columns = [i[0] for i in cur.description]\n",
        "      data = pd.DataFrame(fa, columns=columns)\n",
        "  except sqlite3.DatabaseError as error:\n",
        "      print(\"Ошибка:\", error)\n",
        "  finally:\n",
        "      cur.close()\n",
        "      con.close()\n",
        "  return data"
      ],
      "metadata": {
        "id": "eGKvCOah46yY"
      },
      "execution_count": 146,
      "outputs": []
    },
    {
      "cell_type": "code",
      "source": [
        "name = 'Music'\n",
        "get_playlist_by_name(name)"
      ],
      "metadata": {
        "colab": {
          "base_uri": "https://localhost:8080/",
          "height": 80
        },
        "id": "eetpyyWf9DtX",
        "outputId": "d4ff08e1-05c9-4caa-d236-1ebbf0b59262"
      },
      "execution_count": 148,
      "outputs": [
        {
          "output_type": "execute_result",
          "data": {
            "text/plain": [
              "  Название песни  Количество треков  \\\n",
              "0          Music               6580   \n",
              "\n",
              "   Cуммарная продолжительность в миллисекундах  \n",
              "0                                   1755366166  "
            ],
            "text/html": [
              "\n",
              "  <div id=\"df-1f5dbd99-e5dc-49e8-a12a-db70fad6f19c\">\n",
              "    <div class=\"colab-df-container\">\n",
              "      <div>\n",
              "<style scoped>\n",
              "    .dataframe tbody tr th:only-of-type {\n",
              "        vertical-align: middle;\n",
              "    }\n",
              "\n",
              "    .dataframe tbody tr th {\n",
              "        vertical-align: top;\n",
              "    }\n",
              "\n",
              "    .dataframe thead th {\n",
              "        text-align: right;\n",
              "    }\n",
              "</style>\n",
              "<table border=\"1\" class=\"dataframe\">\n",
              "  <thead>\n",
              "    <tr style=\"text-align: right;\">\n",
              "      <th></th>\n",
              "      <th>Название песни</th>\n",
              "      <th>Количество треков</th>\n",
              "      <th>Cуммарная продолжительность в миллисекундах</th>\n",
              "    </tr>\n",
              "  </thead>\n",
              "  <tbody>\n",
              "    <tr>\n",
              "      <th>0</th>\n",
              "      <td>Music</td>\n",
              "      <td>6580</td>\n",
              "      <td>1755366166</td>\n",
              "    </tr>\n",
              "  </tbody>\n",
              "</table>\n",
              "</div>\n",
              "      <button class=\"colab-df-convert\" onclick=\"convertToInteractive('df-1f5dbd99-e5dc-49e8-a12a-db70fad6f19c')\"\n",
              "              title=\"Convert this dataframe to an interactive table.\"\n",
              "              style=\"display:none;\">\n",
              "        \n",
              "  <svg xmlns=\"http://www.w3.org/2000/svg\" height=\"24px\"viewBox=\"0 0 24 24\"\n",
              "       width=\"24px\">\n",
              "    <path d=\"M0 0h24v24H0V0z\" fill=\"none\"/>\n",
              "    <path d=\"M18.56 5.44l.94 2.06.94-2.06 2.06-.94-2.06-.94-.94-2.06-.94 2.06-2.06.94zm-11 1L8.5 8.5l.94-2.06 2.06-.94-2.06-.94L8.5 2.5l-.94 2.06-2.06.94zm10 10l.94 2.06.94-2.06 2.06-.94-2.06-.94-.94-2.06-.94 2.06-2.06.94z\"/><path d=\"M17.41 7.96l-1.37-1.37c-.4-.4-.92-.59-1.43-.59-.52 0-1.04.2-1.43.59L10.3 9.45l-7.72 7.72c-.78.78-.78 2.05 0 2.83L4 21.41c.39.39.9.59 1.41.59.51 0 1.02-.2 1.41-.59l7.78-7.78 2.81-2.81c.8-.78.8-2.07 0-2.86zM5.41 20L4 18.59l7.72-7.72 1.47 1.35L5.41 20z\"/>\n",
              "  </svg>\n",
              "      </button>\n",
              "      \n",
              "  <style>\n",
              "    .colab-df-container {\n",
              "      display:flex;\n",
              "      flex-wrap:wrap;\n",
              "      gap: 12px;\n",
              "    }\n",
              "\n",
              "    .colab-df-convert {\n",
              "      background-color: #E8F0FE;\n",
              "      border: none;\n",
              "      border-radius: 50%;\n",
              "      cursor: pointer;\n",
              "      display: none;\n",
              "      fill: #1967D2;\n",
              "      height: 32px;\n",
              "      padding: 0 0 0 0;\n",
              "      width: 32px;\n",
              "    }\n",
              "\n",
              "    .colab-df-convert:hover {\n",
              "      background-color: #E2EBFA;\n",
              "      box-shadow: 0px 1px 2px rgba(60, 64, 67, 0.3), 0px 1px 3px 1px rgba(60, 64, 67, 0.15);\n",
              "      fill: #174EA6;\n",
              "    }\n",
              "\n",
              "    [theme=dark] .colab-df-convert {\n",
              "      background-color: #3B4455;\n",
              "      fill: #D2E3FC;\n",
              "    }\n",
              "\n",
              "    [theme=dark] .colab-df-convert:hover {\n",
              "      background-color: #434B5C;\n",
              "      box-shadow: 0px 1px 3px 1px rgba(0, 0, 0, 0.15);\n",
              "      filter: drop-shadow(0px 1px 2px rgba(0, 0, 0, 0.3));\n",
              "      fill: #FFFFFF;\n",
              "    }\n",
              "  </style>\n",
              "\n",
              "      <script>\n",
              "        const buttonEl =\n",
              "          document.querySelector('#df-1f5dbd99-e5dc-49e8-a12a-db70fad6f19c button.colab-df-convert');\n",
              "        buttonEl.style.display =\n",
              "          google.colab.kernel.accessAllowed ? 'block' : 'none';\n",
              "\n",
              "        async function convertToInteractive(key) {\n",
              "          const element = document.querySelector('#df-1f5dbd99-e5dc-49e8-a12a-db70fad6f19c');\n",
              "          const dataTable =\n",
              "            await google.colab.kernel.invokeFunction('convertToInteractive',\n",
              "                                                     [key], {});\n",
              "          if (!dataTable) return;\n",
              "\n",
              "          const docLinkHtml = 'Like what you see? Visit the ' +\n",
              "            '<a target=\"_blank\" href=https://colab.research.google.com/notebooks/data_table.ipynb>data table notebook</a>'\n",
              "            + ' to learn more about interactive tables.';\n",
              "          element.innerHTML = '';\n",
              "          dataTable['output_type'] = 'display_data';\n",
              "          await google.colab.output.renderOutput(dataTable, element);\n",
              "          const docLink = document.createElement('div');\n",
              "          docLink.innerHTML = docLinkHtml;\n",
              "          element.appendChild(docLink);\n",
              "        }\n",
              "      </script>\n",
              "    </div>\n",
              "  </div>\n",
              "  "
            ]
          },
          "metadata": {},
          "execution_count": 148
        }
      ]
    },
    {
      "cell_type": "markdown",
      "source": [
        "Датасет: all_k.zip\n",
        " Подсчитать, сколько раз во всех текстовых файлах, лежащих в all_k.zip, встречаются реплики прямой речи, оформленные в виде диалога (В этом случае каждая реплика начинается с новой строки, перед репликами ставится тире (перед тире возможны различные пробельные символы). Выполнить задание с использованием Dask, распараллелив процесс обработки данных."
      ],
      "metadata": {
        "id": "TeaPwCZQ9VCx"
      }
    },
    {
      "cell_type": "code",
      "source": [
        "import dask.bag as db\n",
        "\n",
        "# Путь к директории с текстовыми файлами\n",
        "directory_path = \"/content/drive/MyDrive/datasets/all_k/*\"\n",
        "\n",
        "# Функция для подсчета вхождений реплик прямой речи в виде диалогов\n",
        "def count_dialogue_replicas(text):\n",
        "    count = 0\n",
        "    for line in text:\n",
        "        line = line.strip()\n",
        "        if line.startswith(\"-\"):\n",
        "            count += 1\n",
        "    return count\n",
        "\n",
        "# Создание Dask Bag из текстовых файлов\n",
        "file_bag = db.read_text(directory_path, encoding='windows-1251')\n",
        "\n",
        "# Подсчет количества вхождений реплик прямой речи в виде диалогов во всех файлов\n",
        "dialogue_replica_count = file_bag.map(count_dialogue_replicas).sum().compute()\n",
        "\n",
        "print(\"Количество вхождений реплик прямой речи в виде диалогов:\", dialogue_replica_count)"
      ],
      "metadata": {
        "colab": {
          "base_uri": "https://localhost:8080/"
        },
        "id": "o6UWS-Sc9Uej",
        "outputId": "8f516798-c12d-4b08-e2b4-0cc862cf0952"
      },
      "execution_count": 155,
      "outputs": [
        {
          "output_type": "stream",
          "name": "stdout",
          "text": [
            "Количество вхождений реплик прямой речи в виде диалогов: 1494798\n"
          ]
        }
      ]
    },
    {
      "cell_type": "markdown",
      "source": [
        "Датасет: all_k.zip\n",
        " Подсчитать, сколько раз встречается каждая из заглавных русских букв в текстовых файлах, лежащих в all_k.zip.\n",
        "Выполнить задание с использованием Dask (корректным!), распараллелив процесс обработки данных (использование Dask должно приводить к истинной параллельной обработке данных).\n"
      ],
      "metadata": {
        "id": "Zgnz7Hw3DwFw"
      }
    },
    {
      "cell_type": "code",
      "source": [
        "import dask.bag as db\n",
        "import dask.distributed\n",
        "\n",
        "# Путь к директории с текстовыми файлами\n",
        "directory_path = \"/content/drive/MyDrive/datasets/all_k/*\"\n",
        "\n",
        "\n",
        "# Функция для подсчета вхождений заглавных русских букв в файле\n",
        "def count_capital_letters(content):\n",
        "    capital_letters = [char for char in content if char.isupper() and char.isalpha() and char.isascii()]\n",
        "    count = len(capital_letters)\n",
        "    return count\n",
        "\n",
        "# Создание Dask Bag из текстовых файлов\n",
        "file_bag = db.read_text(directory_path, encoding='windows-1251')\n",
        "\n",
        "\n",
        "# Подсчет количества вхождений заглавных русских букв во всех файлов\n",
        "capital_letters_count = file_bag.map(count_capital_letters).sum().compute()\n",
        "\n",
        "print(\"Количество вхождений заглавных русских букв:\", capital_letters_count)"
      ],
      "metadata": {
        "colab": {
          "base_uri": "https://localhost:8080/"
        },
        "id": "9iVJQRzEDvob",
        "outputId": "8b5fc61f-6d04-423c-a1bb-fcaef879659f"
      },
      "execution_count": 156,
      "outputs": [
        {
          "output_type": "stream",
          "name": "stdout",
          "text": [
            "Количество вхождений заглавных русских букв: 24964\n"
          ]
        }
      ]
    },
    {
      "cell_type": "markdown",
      "source": [
        "Датасет: wine.csv.zip\n",
        " 1. Как часто каждая страна появляется в датасете wine.csv.zip? Создайте pd.Series сопоставляющую страны количеству отзывов о винах из этой страны.\n",
        "2. Определите минимальные и максимальные цены на каждый сорт вина ('variety')? Определите название и самый дорогой вид вина.\n"
      ],
      "metadata": {
        "id": "6q9x9b0tx7fc"
      }
    },
    {
      "cell_type": "code",
      "source": [
        "import pandas as pd\n",
        "data = pd.read_csv('/content/drive/MyDrive/data/wine.csv/winemag-data-130k-v2.csv',index_col='Unnamed: 0')"
      ],
      "metadata": {
        "id": "w4ghOkHhrQUy"
      },
      "execution_count": null,
      "outputs": []
    },
    {
      "cell_type": "code",
      "source": [
        "data.head()"
      ],
      "metadata": {
        "colab": {
          "base_uri": "https://localhost:8080/",
          "height": 354
        },
        "id": "zqZ7uWyqy6ni",
        "outputId": "315a3051-c751-4e89-ad12-9b44ca4bdab7"
      },
      "execution_count": null,
      "outputs": [
        {
          "output_type": "execute_result",
          "data": {
            "text/plain": [
              "    country                                        description  \\\n",
              "0     Italy  Aromas include tropical fruit, broom, brimston...   \n",
              "1  Portugal  This is ripe and fruity, a wine that is smooth...   \n",
              "2        US  Tart and snappy, the flavors of lime flesh and...   \n",
              "3        US  Pineapple rind, lemon pith and orange blossom ...   \n",
              "4        US  Much like the regular bottling from 2012, this...   \n",
              "\n",
              "                          designation  points  price           province  \\\n",
              "0                        Vulkà Bianco      87    NaN  Sicily & Sardinia   \n",
              "1                            Avidagos      87   15.0              Douro   \n",
              "2                                 NaN      87   14.0             Oregon   \n",
              "3                Reserve Late Harvest      87   13.0           Michigan   \n",
              "4  Vintner's Reserve Wild Child Block      87   65.0             Oregon   \n",
              "\n",
              "              region_1           region_2         taster_name  \\\n",
              "0                 Etna                NaN       Kerin O’Keefe   \n",
              "1                  NaN                NaN          Roger Voss   \n",
              "2    Willamette Valley  Willamette Valley        Paul Gregutt   \n",
              "3  Lake Michigan Shore                NaN  Alexander Peartree   \n",
              "4    Willamette Valley  Willamette Valley        Paul Gregutt   \n",
              "\n",
              "  taster_twitter_handle                                              title  \\\n",
              "0          @kerinokeefe                  Nicosia 2013 Vulkà Bianco  (Etna)   \n",
              "1            @vossroger      Quinta dos Avidagos 2011 Avidagos Red (Douro)   \n",
              "2           @paulgwine       Rainstorm 2013 Pinot Gris (Willamette Valley)   \n",
              "3                   NaN  St. Julian 2013 Reserve Late Harvest Riesling ...   \n",
              "4           @paulgwine   Sweet Cheeks 2012 Vintner's Reserve Wild Child...   \n",
              "\n",
              "          variety               winery  \n",
              "0     White Blend              Nicosia  \n",
              "1  Portuguese Red  Quinta dos Avidagos  \n",
              "2      Pinot Gris            Rainstorm  \n",
              "3        Riesling           St. Julian  \n",
              "4      Pinot Noir         Sweet Cheeks  "
            ],
            "text/html": [
              "\n",
              "  <div id=\"df-f0a31f65-6ba8-45ba-9b1e-eb89aaff81f9\">\n",
              "    <div class=\"colab-df-container\">\n",
              "      <div>\n",
              "<style scoped>\n",
              "    .dataframe tbody tr th:only-of-type {\n",
              "        vertical-align: middle;\n",
              "    }\n",
              "\n",
              "    .dataframe tbody tr th {\n",
              "        vertical-align: top;\n",
              "    }\n",
              "\n",
              "    .dataframe thead th {\n",
              "        text-align: right;\n",
              "    }\n",
              "</style>\n",
              "<table border=\"1\" class=\"dataframe\">\n",
              "  <thead>\n",
              "    <tr style=\"text-align: right;\">\n",
              "      <th></th>\n",
              "      <th>country</th>\n",
              "      <th>description</th>\n",
              "      <th>designation</th>\n",
              "      <th>points</th>\n",
              "      <th>price</th>\n",
              "      <th>province</th>\n",
              "      <th>region_1</th>\n",
              "      <th>region_2</th>\n",
              "      <th>taster_name</th>\n",
              "      <th>taster_twitter_handle</th>\n",
              "      <th>title</th>\n",
              "      <th>variety</th>\n",
              "      <th>winery</th>\n",
              "    </tr>\n",
              "  </thead>\n",
              "  <tbody>\n",
              "    <tr>\n",
              "      <th>0</th>\n",
              "      <td>Italy</td>\n",
              "      <td>Aromas include tropical fruit, broom, brimston...</td>\n",
              "      <td>Vulkà Bianco</td>\n",
              "      <td>87</td>\n",
              "      <td>NaN</td>\n",
              "      <td>Sicily &amp; Sardinia</td>\n",
              "      <td>Etna</td>\n",
              "      <td>NaN</td>\n",
              "      <td>Kerin O’Keefe</td>\n",
              "      <td>@kerinokeefe</td>\n",
              "      <td>Nicosia 2013 Vulkà Bianco  (Etna)</td>\n",
              "      <td>White Blend</td>\n",
              "      <td>Nicosia</td>\n",
              "    </tr>\n",
              "    <tr>\n",
              "      <th>1</th>\n",
              "      <td>Portugal</td>\n",
              "      <td>This is ripe and fruity, a wine that is smooth...</td>\n",
              "      <td>Avidagos</td>\n",
              "      <td>87</td>\n",
              "      <td>15.0</td>\n",
              "      <td>Douro</td>\n",
              "      <td>NaN</td>\n",
              "      <td>NaN</td>\n",
              "      <td>Roger Voss</td>\n",
              "      <td>@vossroger</td>\n",
              "      <td>Quinta dos Avidagos 2011 Avidagos Red (Douro)</td>\n",
              "      <td>Portuguese Red</td>\n",
              "      <td>Quinta dos Avidagos</td>\n",
              "    </tr>\n",
              "    <tr>\n",
              "      <th>2</th>\n",
              "      <td>US</td>\n",
              "      <td>Tart and snappy, the flavors of lime flesh and...</td>\n",
              "      <td>NaN</td>\n",
              "      <td>87</td>\n",
              "      <td>14.0</td>\n",
              "      <td>Oregon</td>\n",
              "      <td>Willamette Valley</td>\n",
              "      <td>Willamette Valley</td>\n",
              "      <td>Paul Gregutt</td>\n",
              "      <td>@paulgwine</td>\n",
              "      <td>Rainstorm 2013 Pinot Gris (Willamette Valley)</td>\n",
              "      <td>Pinot Gris</td>\n",
              "      <td>Rainstorm</td>\n",
              "    </tr>\n",
              "    <tr>\n",
              "      <th>3</th>\n",
              "      <td>US</td>\n",
              "      <td>Pineapple rind, lemon pith and orange blossom ...</td>\n",
              "      <td>Reserve Late Harvest</td>\n",
              "      <td>87</td>\n",
              "      <td>13.0</td>\n",
              "      <td>Michigan</td>\n",
              "      <td>Lake Michigan Shore</td>\n",
              "      <td>NaN</td>\n",
              "      <td>Alexander Peartree</td>\n",
              "      <td>NaN</td>\n",
              "      <td>St. Julian 2013 Reserve Late Harvest Riesling ...</td>\n",
              "      <td>Riesling</td>\n",
              "      <td>St. Julian</td>\n",
              "    </tr>\n",
              "    <tr>\n",
              "      <th>4</th>\n",
              "      <td>US</td>\n",
              "      <td>Much like the regular bottling from 2012, this...</td>\n",
              "      <td>Vintner's Reserve Wild Child Block</td>\n",
              "      <td>87</td>\n",
              "      <td>65.0</td>\n",
              "      <td>Oregon</td>\n",
              "      <td>Willamette Valley</td>\n",
              "      <td>Willamette Valley</td>\n",
              "      <td>Paul Gregutt</td>\n",
              "      <td>@paulgwine</td>\n",
              "      <td>Sweet Cheeks 2012 Vintner's Reserve Wild Child...</td>\n",
              "      <td>Pinot Noir</td>\n",
              "      <td>Sweet Cheeks</td>\n",
              "    </tr>\n",
              "  </tbody>\n",
              "</table>\n",
              "</div>\n",
              "      <button class=\"colab-df-convert\" onclick=\"convertToInteractive('df-f0a31f65-6ba8-45ba-9b1e-eb89aaff81f9')\"\n",
              "              title=\"Convert this dataframe to an interactive table.\"\n",
              "              style=\"display:none;\">\n",
              "        \n",
              "  <svg xmlns=\"http://www.w3.org/2000/svg\" height=\"24px\"viewBox=\"0 0 24 24\"\n",
              "       width=\"24px\">\n",
              "    <path d=\"M0 0h24v24H0V0z\" fill=\"none\"/>\n",
              "    <path d=\"M18.56 5.44l.94 2.06.94-2.06 2.06-.94-2.06-.94-.94-2.06-.94 2.06-2.06.94zm-11 1L8.5 8.5l.94-2.06 2.06-.94-2.06-.94L8.5 2.5l-.94 2.06-2.06.94zm10 10l.94 2.06.94-2.06 2.06-.94-2.06-.94-.94-2.06-.94 2.06-2.06.94z\"/><path d=\"M17.41 7.96l-1.37-1.37c-.4-.4-.92-.59-1.43-.59-.52 0-1.04.2-1.43.59L10.3 9.45l-7.72 7.72c-.78.78-.78 2.05 0 2.83L4 21.41c.39.39.9.59 1.41.59.51 0 1.02-.2 1.41-.59l7.78-7.78 2.81-2.81c.8-.78.8-2.07 0-2.86zM5.41 20L4 18.59l7.72-7.72 1.47 1.35L5.41 20z\"/>\n",
              "  </svg>\n",
              "      </button>\n",
              "      \n",
              "  <style>\n",
              "    .colab-df-container {\n",
              "      display:flex;\n",
              "      flex-wrap:wrap;\n",
              "      gap: 12px;\n",
              "    }\n",
              "\n",
              "    .colab-df-convert {\n",
              "      background-color: #E8F0FE;\n",
              "      border: none;\n",
              "      border-radius: 50%;\n",
              "      cursor: pointer;\n",
              "      display: none;\n",
              "      fill: #1967D2;\n",
              "      height: 32px;\n",
              "      padding: 0 0 0 0;\n",
              "      width: 32px;\n",
              "    }\n",
              "\n",
              "    .colab-df-convert:hover {\n",
              "      background-color: #E2EBFA;\n",
              "      box-shadow: 0px 1px 2px rgba(60, 64, 67, 0.3), 0px 1px 3px 1px rgba(60, 64, 67, 0.15);\n",
              "      fill: #174EA6;\n",
              "    }\n",
              "\n",
              "    [theme=dark] .colab-df-convert {\n",
              "      background-color: #3B4455;\n",
              "      fill: #D2E3FC;\n",
              "    }\n",
              "\n",
              "    [theme=dark] .colab-df-convert:hover {\n",
              "      background-color: #434B5C;\n",
              "      box-shadow: 0px 1px 3px 1px rgba(0, 0, 0, 0.15);\n",
              "      filter: drop-shadow(0px 1px 2px rgba(0, 0, 0, 0.3));\n",
              "      fill: #FFFFFF;\n",
              "    }\n",
              "  </style>\n",
              "\n",
              "      <script>\n",
              "        const buttonEl =\n",
              "          document.querySelector('#df-f0a31f65-6ba8-45ba-9b1e-eb89aaff81f9 button.colab-df-convert');\n",
              "        buttonEl.style.display =\n",
              "          google.colab.kernel.accessAllowed ? 'block' : 'none';\n",
              "\n",
              "        async function convertToInteractive(key) {\n",
              "          const element = document.querySelector('#df-f0a31f65-6ba8-45ba-9b1e-eb89aaff81f9');\n",
              "          const dataTable =\n",
              "            await google.colab.kernel.invokeFunction('convertToInteractive',\n",
              "                                                     [key], {});\n",
              "          if (!dataTable) return;\n",
              "\n",
              "          const docLinkHtml = 'Like what you see? Visit the ' +\n",
              "            '<a target=\"_blank\" href=https://colab.research.google.com/notebooks/data_table.ipynb>data table notebook</a>'\n",
              "            + ' to learn more about interactive tables.';\n",
              "          element.innerHTML = '';\n",
              "          dataTable['output_type'] = 'display_data';\n",
              "          await google.colab.output.renderOutput(dataTable, element);\n",
              "          const docLink = document.createElement('div');\n",
              "          docLink.innerHTML = docLinkHtml;\n",
              "          element.appendChild(docLink);\n",
              "        }\n",
              "      </script>\n",
              "    </div>\n",
              "  </div>\n",
              "  "
            ]
          },
          "metadata": {},
          "execution_count": 16
        }
      ]
    },
    {
      "cell_type": "code",
      "source": [
        "data['country'].value_counts()"
      ],
      "metadata": {
        "colab": {
          "base_uri": "https://localhost:8080/"
        },
        "id": "DEgSAos5zZaB",
        "outputId": "3263c0fc-c757-4e83-bc3d-27bbae0bb221"
      },
      "execution_count": null,
      "outputs": [
        {
          "output_type": "execute_result",
          "data": {
            "text/plain": [
              "US                        54504\n",
              "France                    22093\n",
              "Italy                     19540\n",
              "Spain                      6645\n",
              "Portugal                   5691\n",
              "Chile                      4472\n",
              "Argentina                  3800\n",
              "Austria                    3345\n",
              "Australia                  2329\n",
              "Germany                    2165\n",
              "New Zealand                1419\n",
              "South Africa               1401\n",
              "Israel                      505\n",
              "Greece                      466\n",
              "Canada                      257\n",
              "Hungary                     146\n",
              "Bulgaria                    141\n",
              "Romania                     120\n",
              "Uruguay                     109\n",
              "Turkey                       90\n",
              "Slovenia                     87\n",
              "Georgia                      86\n",
              "England                      74\n",
              "Croatia                      73\n",
              "Mexico                       70\n",
              "Moldova                      59\n",
              "Brazil                       52\n",
              "Lebanon                      35\n",
              "Morocco                      28\n",
              "Peru                         16\n",
              "Ukraine                      14\n",
              "Serbia                       12\n",
              "Czech Republic               12\n",
              "Macedonia                    12\n",
              "Cyprus                       11\n",
              "India                         9\n",
              "Switzerland                   7\n",
              "Luxembourg                    6\n",
              "Bosnia and Herzegovina        2\n",
              "Armenia                       2\n",
              "Slovakia                      1\n",
              "China                         1\n",
              "Egypt                         1\n",
              "Name: country, dtype: int64"
            ]
          },
          "metadata": {},
          "execution_count": 30
        }
      ]
    },
    {
      "cell_type": "code",
      "source": [
        "data.groupby(['variety'])['price'].max()"
      ],
      "metadata": {
        "colab": {
          "base_uri": "https://localhost:8080/"
        },
        "id": "-6RYp7T706Qh",
        "outputId": "5d4db27e-7161-4c1b-aaad-a18e98daf8b1"
      },
      "execution_count": null,
      "outputs": [
        {
          "output_type": "execute_result",
          "data": {
            "text/plain": [
              "variety\n",
              "Abouriou        75.0\n",
              "Agiorgitiko     66.0\n",
              "Aglianico      180.0\n",
              "Aidani          27.0\n",
              "Airen           10.0\n",
              "               ...  \n",
              "Zinfandel      100.0\n",
              "Zlahtina        16.0\n",
              "Zweigelt        70.0\n",
              "Çalkarası       19.0\n",
              "Žilavka         15.0\n",
              "Name: price, Length: 707, dtype: float64"
            ]
          },
          "metadata": {},
          "execution_count": 26
        }
      ]
    },
    {
      "cell_type": "code",
      "source": [
        "data.groupby(['variety'])['price'].min()"
      ],
      "metadata": {
        "colab": {
          "base_uri": "https://localhost:8080/"
        },
        "id": "hn49JeeC1jVr",
        "outputId": "25c4a485-0b83-4684-fb85-5a5c29eda842"
      },
      "execution_count": null,
      "outputs": [
        {
          "output_type": "execute_result",
          "data": {
            "text/plain": [
              "variety\n",
              "Abouriou       15.0\n",
              "Agiorgitiko    10.0\n",
              "Aglianico       6.0\n",
              "Aidani         27.0\n",
              "Airen           8.0\n",
              "               ... \n",
              "Zinfandel       5.0\n",
              "Zlahtina       13.0\n",
              "Zweigelt        9.0\n",
              "Çalkarası      19.0\n",
              "Žilavka        15.0\n",
              "Name: price, Length: 707, dtype: float64"
            ]
          },
          "metadata": {},
          "execution_count": 27
        }
      ]
    },
    {
      "cell_type": "code",
      "source": [
        "data.groupby(['variety'])['price'].max()"
      ],
      "metadata": {
        "colab": {
          "base_uri": "https://localhost:8080/"
        },
        "id": "flk2mQwc1klI",
        "outputId": "13ecfcb7-a588-481c-d177-2b8f9f07aee1"
      },
      "execution_count": null,
      "outputs": [
        {
          "output_type": "execute_result",
          "data": {
            "text/plain": [
              "variety\n",
              "Abouriou        75.0\n",
              "Agiorgitiko     66.0\n",
              "Aglianico      180.0\n",
              "Aidani          27.0\n",
              "Airen           10.0\n",
              "               ...  \n",
              "Zinfandel      100.0\n",
              "Zlahtina        16.0\n",
              "Zweigelt        70.0\n",
              "Çalkarası       19.0\n",
              "Žilavka         15.0\n",
              "Name: price, Length: 707, dtype: float64"
            ]
          },
          "metadata": {},
          "execution_count": 35
        }
      ]
    },
    {
      "cell_type": "code",
      "source": [
        "# Определение названия и самого дорогого вида вина\n",
        "max_price_wine = data.loc[data[\"price\"].idxmax(), [\"variety\", \"price\"]]\n",
        "max_price_wine_name = max_price_wine[\"variety\"]\n",
        "max_price = max_price_wine[\"price\"]\n",
        "\n",
        "print(\"\\nСамый дорогой вид вина:\")\n",
        "print(\"Название:\", max_price_wine_name)\n",
        "print(\"Цена:\", max_price)\n"
      ],
      "metadata": {
        "colab": {
          "base_uri": "https://localhost:8080/"
        },
        "id": "5va514tU1v1I",
        "outputId": "8bd85dec-b437-4d9e-dc97-d4322c68ae46"
      },
      "execution_count": null,
      "outputs": [
        {
          "output_type": "stream",
          "name": "stdout",
          "text": [
            "\n",
            "Самый дорогой вид вина:\n",
            "Название: Bordeaux-style Red Blend\n",
            "Цена: 3300.0\n"
          ]
        }
      ]
    },
    {
      "cell_type": "markdown",
      "source": [
        "Датасет: titanic.csv\n",
        " 1. Выведите распределение переменной Pclass (социально-экономический статус) и это же распределение, только для мужчин / женщин по отдельности. Сколько было мужчин 2-го класса?\n",
        " 2. Правда ли, что женщины выживали чаще мужчин? Каковы доли выживших в обеих группах?"
      ],
      "metadata": {
        "id": "DTS1GD3I2x0z"
      }
    },
    {
      "cell_type": "code",
      "source": [
        "import pandas as pd\n",
        "data = pd.read_csv('/content/drive/MyDrive/data/titanic.csv')\n",
        "data.head()"
      ],
      "metadata": {
        "colab": {
          "base_uri": "https://localhost:8080/",
          "height": 206
        },
        "id": "Ov-DIsN42yj7",
        "outputId": "cbb12b7d-ace8-4eba-9a5a-afd8bb10017f"
      },
      "execution_count": null,
      "outputs": [
        {
          "output_type": "execute_result",
          "data": {
            "text/plain": [
              "   PassengerId  Survived  Pclass  \\\n",
              "0            1         0       3   \n",
              "1            2         1       1   \n",
              "2            3         1       3   \n",
              "3            4         1       1   \n",
              "4            5         0       3   \n",
              "\n",
              "                                                Name     Sex   Age  SibSp  \\\n",
              "0                            Braund, Mr. Owen Harris    male  22.0      1   \n",
              "1  Cumings, Mrs. John Bradley (Florence Briggs Th...  female  38.0      1   \n",
              "2                             Heikkinen, Miss. Laina  female  26.0      0   \n",
              "3       Futrelle, Mrs. Jacques Heath (Lily May Peel)  female  35.0      1   \n",
              "4                           Allen, Mr. William Henry    male  35.0      0   \n",
              "\n",
              "   Parch            Ticket     Fare Cabin Embarked  \n",
              "0      0         A/5 21171   7.2500   NaN        S  \n",
              "1      0          PC 17599  71.2833   C85        C  \n",
              "2      0  STON/O2. 3101282   7.9250   NaN        S  \n",
              "3      0            113803  53.1000  C123        S  \n",
              "4      0            373450   8.0500   NaN        S  "
            ],
            "text/html": [
              "\n",
              "  <div id=\"df-5159ea03-d9e2-4a26-809f-4014310452b8\">\n",
              "    <div class=\"colab-df-container\">\n",
              "      <div>\n",
              "<style scoped>\n",
              "    .dataframe tbody tr th:only-of-type {\n",
              "        vertical-align: middle;\n",
              "    }\n",
              "\n",
              "    .dataframe tbody tr th {\n",
              "        vertical-align: top;\n",
              "    }\n",
              "\n",
              "    .dataframe thead th {\n",
              "        text-align: right;\n",
              "    }\n",
              "</style>\n",
              "<table border=\"1\" class=\"dataframe\">\n",
              "  <thead>\n",
              "    <tr style=\"text-align: right;\">\n",
              "      <th></th>\n",
              "      <th>PassengerId</th>\n",
              "      <th>Survived</th>\n",
              "      <th>Pclass</th>\n",
              "      <th>Name</th>\n",
              "      <th>Sex</th>\n",
              "      <th>Age</th>\n",
              "      <th>SibSp</th>\n",
              "      <th>Parch</th>\n",
              "      <th>Ticket</th>\n",
              "      <th>Fare</th>\n",
              "      <th>Cabin</th>\n",
              "      <th>Embarked</th>\n",
              "    </tr>\n",
              "  </thead>\n",
              "  <tbody>\n",
              "    <tr>\n",
              "      <th>0</th>\n",
              "      <td>1</td>\n",
              "      <td>0</td>\n",
              "      <td>3</td>\n",
              "      <td>Braund, Mr. Owen Harris</td>\n",
              "      <td>male</td>\n",
              "      <td>22.0</td>\n",
              "      <td>1</td>\n",
              "      <td>0</td>\n",
              "      <td>A/5 21171</td>\n",
              "      <td>7.2500</td>\n",
              "      <td>NaN</td>\n",
              "      <td>S</td>\n",
              "    </tr>\n",
              "    <tr>\n",
              "      <th>1</th>\n",
              "      <td>2</td>\n",
              "      <td>1</td>\n",
              "      <td>1</td>\n",
              "      <td>Cumings, Mrs. John Bradley (Florence Briggs Th...</td>\n",
              "      <td>female</td>\n",
              "      <td>38.0</td>\n",
              "      <td>1</td>\n",
              "      <td>0</td>\n",
              "      <td>PC 17599</td>\n",
              "      <td>71.2833</td>\n",
              "      <td>C85</td>\n",
              "      <td>C</td>\n",
              "    </tr>\n",
              "    <tr>\n",
              "      <th>2</th>\n",
              "      <td>3</td>\n",
              "      <td>1</td>\n",
              "      <td>3</td>\n",
              "      <td>Heikkinen, Miss. Laina</td>\n",
              "      <td>female</td>\n",
              "      <td>26.0</td>\n",
              "      <td>0</td>\n",
              "      <td>0</td>\n",
              "      <td>STON/O2. 3101282</td>\n",
              "      <td>7.9250</td>\n",
              "      <td>NaN</td>\n",
              "      <td>S</td>\n",
              "    </tr>\n",
              "    <tr>\n",
              "      <th>3</th>\n",
              "      <td>4</td>\n",
              "      <td>1</td>\n",
              "      <td>1</td>\n",
              "      <td>Futrelle, Mrs. Jacques Heath (Lily May Peel)</td>\n",
              "      <td>female</td>\n",
              "      <td>35.0</td>\n",
              "      <td>1</td>\n",
              "      <td>0</td>\n",
              "      <td>113803</td>\n",
              "      <td>53.1000</td>\n",
              "      <td>C123</td>\n",
              "      <td>S</td>\n",
              "    </tr>\n",
              "    <tr>\n",
              "      <th>4</th>\n",
              "      <td>5</td>\n",
              "      <td>0</td>\n",
              "      <td>3</td>\n",
              "      <td>Allen, Mr. William Henry</td>\n",
              "      <td>male</td>\n",
              "      <td>35.0</td>\n",
              "      <td>0</td>\n",
              "      <td>0</td>\n",
              "      <td>373450</td>\n",
              "      <td>8.0500</td>\n",
              "      <td>NaN</td>\n",
              "      <td>S</td>\n",
              "    </tr>\n",
              "  </tbody>\n",
              "</table>\n",
              "</div>\n",
              "      <button class=\"colab-df-convert\" onclick=\"convertToInteractive('df-5159ea03-d9e2-4a26-809f-4014310452b8')\"\n",
              "              title=\"Convert this dataframe to an interactive table.\"\n",
              "              style=\"display:none;\">\n",
              "        \n",
              "  <svg xmlns=\"http://www.w3.org/2000/svg\" height=\"24px\"viewBox=\"0 0 24 24\"\n",
              "       width=\"24px\">\n",
              "    <path d=\"M0 0h24v24H0V0z\" fill=\"none\"/>\n",
              "    <path d=\"M18.56 5.44l.94 2.06.94-2.06 2.06-.94-2.06-.94-.94-2.06-.94 2.06-2.06.94zm-11 1L8.5 8.5l.94-2.06 2.06-.94-2.06-.94L8.5 2.5l-.94 2.06-2.06.94zm10 10l.94 2.06.94-2.06 2.06-.94-2.06-.94-.94-2.06-.94 2.06-2.06.94z\"/><path d=\"M17.41 7.96l-1.37-1.37c-.4-.4-.92-.59-1.43-.59-.52 0-1.04.2-1.43.59L10.3 9.45l-7.72 7.72c-.78.78-.78 2.05 0 2.83L4 21.41c.39.39.9.59 1.41.59.51 0 1.02-.2 1.41-.59l7.78-7.78 2.81-2.81c.8-.78.8-2.07 0-2.86zM5.41 20L4 18.59l7.72-7.72 1.47 1.35L5.41 20z\"/>\n",
              "  </svg>\n",
              "      </button>\n",
              "      \n",
              "  <style>\n",
              "    .colab-df-container {\n",
              "      display:flex;\n",
              "      flex-wrap:wrap;\n",
              "      gap: 12px;\n",
              "    }\n",
              "\n",
              "    .colab-df-convert {\n",
              "      background-color: #E8F0FE;\n",
              "      border: none;\n",
              "      border-radius: 50%;\n",
              "      cursor: pointer;\n",
              "      display: none;\n",
              "      fill: #1967D2;\n",
              "      height: 32px;\n",
              "      padding: 0 0 0 0;\n",
              "      width: 32px;\n",
              "    }\n",
              "\n",
              "    .colab-df-convert:hover {\n",
              "      background-color: #E2EBFA;\n",
              "      box-shadow: 0px 1px 2px rgba(60, 64, 67, 0.3), 0px 1px 3px 1px rgba(60, 64, 67, 0.15);\n",
              "      fill: #174EA6;\n",
              "    }\n",
              "\n",
              "    [theme=dark] .colab-df-convert {\n",
              "      background-color: #3B4455;\n",
              "      fill: #D2E3FC;\n",
              "    }\n",
              "\n",
              "    [theme=dark] .colab-df-convert:hover {\n",
              "      background-color: #434B5C;\n",
              "      box-shadow: 0px 1px 3px 1px rgba(0, 0, 0, 0.15);\n",
              "      filter: drop-shadow(0px 1px 2px rgba(0, 0, 0, 0.3));\n",
              "      fill: #FFFFFF;\n",
              "    }\n",
              "  </style>\n",
              "\n",
              "      <script>\n",
              "        const buttonEl =\n",
              "          document.querySelector('#df-5159ea03-d9e2-4a26-809f-4014310452b8 button.colab-df-convert');\n",
              "        buttonEl.style.display =\n",
              "          google.colab.kernel.accessAllowed ? 'block' : 'none';\n",
              "\n",
              "        async function convertToInteractive(key) {\n",
              "          const element = document.querySelector('#df-5159ea03-d9e2-4a26-809f-4014310452b8');\n",
              "          const dataTable =\n",
              "            await google.colab.kernel.invokeFunction('convertToInteractive',\n",
              "                                                     [key], {});\n",
              "          if (!dataTable) return;\n",
              "\n",
              "          const docLinkHtml = 'Like what you see? Visit the ' +\n",
              "            '<a target=\"_blank\" href=https://colab.research.google.com/notebooks/data_table.ipynb>data table notebook</a>'\n",
              "            + ' to learn more about interactive tables.';\n",
              "          element.innerHTML = '';\n",
              "          dataTable['output_type'] = 'display_data';\n",
              "          await google.colab.output.renderOutput(dataTable, element);\n",
              "          const docLink = document.createElement('div');\n",
              "          docLink.innerHTML = docLinkHtml;\n",
              "          element.appendChild(docLink);\n",
              "        }\n",
              "      </script>\n",
              "    </div>\n",
              "  </div>\n",
              "  "
            ]
          },
          "metadata": {},
          "execution_count": 48
        }
      ]
    },
    {
      "cell_type": "code",
      "source": [
        "data['Pclass'].value_counts()"
      ],
      "metadata": {
        "colab": {
          "base_uri": "https://localhost:8080/"
        },
        "id": "06vSXctV3BsR",
        "outputId": "9f6e9913-08a7-4f05-a547-79e3d0c81069"
      },
      "execution_count": null,
      "outputs": [
        {
          "output_type": "execute_result",
          "data": {
            "text/plain": [
              "3    491\n",
              "1    216\n",
              "2    184\n",
              "Name: Pclass, dtype: int64"
            ]
          },
          "metadata": {},
          "execution_count": 49
        }
      ]
    },
    {
      "cell_type": "code",
      "source": [
        "data[data[\"Sex\"] == \"male\"][\"Pclass\"].value_counts()"
      ],
      "metadata": {
        "colab": {
          "base_uri": "https://localhost:8080/"
        },
        "id": "MmwGLSp-3JTR",
        "outputId": "992dafc1-beb7-4b8a-b340-6e00a89ef126"
      },
      "execution_count": null,
      "outputs": [
        {
          "output_type": "execute_result",
          "data": {
            "text/plain": [
              "3    347\n",
              "1    122\n",
              "2    108\n",
              "Name: Pclass, dtype: int64"
            ]
          },
          "metadata": {},
          "execution_count": 50
        }
      ]
    },
    {
      "cell_type": "markdown",
      "source": [
        "108 мужчин 2 класса"
      ],
      "metadata": {
        "id": "fE2xI_M93Yf6"
      }
    },
    {
      "cell_type": "code",
      "source": [
        "data[data[\"Sex\"] == \"female\"][\"Pclass\"].value_counts()"
      ],
      "metadata": {
        "colab": {
          "base_uri": "https://localhost:8080/"
        },
        "id": "7NZZfvlQ3PZp",
        "outputId": "9a5c38bf-a08a-49f3-fe89-b241e60e3565"
      },
      "execution_count": null,
      "outputs": [
        {
          "output_type": "execute_result",
          "data": {
            "text/plain": [
              "3    144\n",
              "1     94\n",
              "2     76\n",
              "Name: Pclass, dtype: int64"
            ]
          },
          "metadata": {},
          "execution_count": 51
        }
      ]
    },
    {
      "cell_type": "code",
      "source": [
        "# Доля выживших мужчин и женщин\n",
        "survived = data[data[\"Survived\"] == 1]\n",
        "total_passengers = len(data)\n",
        "\n",
        "male_survived = len(survived[survived[\"Sex\"] == \"male\"])\n",
        "female_survived = len(survived[survived[\"Sex\"] == \"female\"])\n",
        "male_count = len(data[data[\"Sex\"] == \"male\"])\n",
        "female_count = len(data[data[\"Sex\"] == \"male\"])\n",
        "\n",
        "male_survival_rate = male_survived / male_count\n",
        "female_survival_rate = female_survived / female_count\n",
        "\n",
        "print(\"\\nДоля выживших мужчин:\", male_survival_rate)\n",
        "print(\"Доля выживших женщин:\", female_survival_rate)"
      ],
      "metadata": {
        "colab": {
          "base_uri": "https://localhost:8080/"
        },
        "id": "azZiNNBw3QzZ",
        "outputId": "3894c5e1-aaa8-4e4d-d228-412f0378d63a"
      },
      "execution_count": null,
      "outputs": [
        {
          "output_type": "stream",
          "name": "stdout",
          "text": [
            "\n",
            "Доля выживших мужчин: 0.18890814558058924\n",
            "Доля выживших женщин: 0.4038128249566724\n"
          ]
        }
      ]
    },
    {
      "cell_type": "markdown",
      "source": [
        "Датасет: -\n",
        " Дан список целых чисел от 1 до 400 000, найти сумму квадратов каждого целого числа. Решение этой задачи распараллелить, используя multiprocessing Pool. Сравнить продолжительность последовательного и параллельного решения задачи."
      ],
      "metadata": {
        "id": "CDCqYVyD3zlI"
      }
    },
    {
      "cell_type": "code",
      "source": [
        "import multiprocessing\n",
        "import time\n",
        "\n",
        "# Функция для вычисления суммы квадратов чисел\n",
        "def calculate_square_sum(number):\n",
        "    return number ** 2\n",
        "\n",
        "# Функция для последовательного решения задачи\n",
        "def sequential_solution(numbers):\n",
        "    start_time = time.time()\n",
        "\n",
        "    result = sum(calculate_square_sum(number) for number in numbers)\n",
        "\n",
        "    end_time = time.time()\n",
        "    elapsed_time = end_time - start_time\n",
        "\n",
        "    print(\"Последовательное решение:\")\n",
        "    print(\"Результат:\", result)\n",
        "    print(\"Продолжительность:\", elapsed_time, \"секунд\")\n",
        "\n",
        "# Функция для параллельного решения задачи\n",
        "def parallel_solution(numbers):\n",
        "    start_time = time.time()\n",
        "\n",
        "    pool = multiprocessing.Pool()\n",
        "    result = sum(pool.map(calculate_square_sum, numbers))\n",
        "    pool.close()\n",
        "    pool.join()\n",
        "\n",
        "    end_time = time.time()\n",
        "    elapsed_time = end_time - start_time\n",
        "\n",
        "    print(\"Параллельное решение:\")\n",
        "    print(\"Результат:\", result)\n",
        "    print(\"Продолжительность:\", elapsed_time, \"секунд\")\n",
        "\n",
        "# Создание списка чисел\n",
        "numbers = list(range(1, 400001))\n",
        "\n",
        "# Последовательное решение задачи\n",
        "sequential_solution(numbers)\n",
        "\n",
        "# Параллельное решение задачи\n",
        "parallel_solution(numbers)\n"
      ],
      "metadata": {
        "colab": {
          "base_uri": "https://localhost:8080/"
        },
        "id": "noQnwvMe3z8R",
        "outputId": "711bee68-1b43-48b4-f024-2fb49dd89073"
      },
      "execution_count": null,
      "outputs": [
        {
          "output_type": "stream",
          "name": "stdout",
          "text": [
            "Последовательное решение:\n",
            "Результат: 21333413333400000\n",
            "Продолжительность: 0.14670300483703613 секунд\n",
            "Параллельное решение:\n",
            "Результат: 21333413333400000\n",
            "Продолжительность: 0.3308837413787842 секунд\n"
          ]
        }
      ]
    },
    {
      "cell_type": "markdown",
      "source": [
        "Датасет: wine.csv.zip\n",
        " 1. Найти медиану поля points в датасете wine.csv.zip\n",
        "  2. Определите минимальные и максимальные цены на каждый сорт вина ('variety')? Определите название и самый дорогой вид вина.\n"
      ],
      "metadata": {
        "id": "wL3Az63Z5Dbq"
      }
    },
    {
      "cell_type": "code",
      "source": [
        "import pandas as pd\n",
        "data = pd.read_csv('/content/drive/MyDrive/data/wine.csv/winemag-data-130k-v2.csv',index_col='Unnamed: 0')\n",
        "data.head()"
      ],
      "metadata": {
        "colab": {
          "base_uri": "https://localhost:8080/",
          "height": 354
        },
        "id": "bk9NEt8z4Z_p",
        "outputId": "8f80c821-cdda-47c4-cb4f-418c4d9ec037"
      },
      "execution_count": null,
      "outputs": [
        {
          "output_type": "execute_result",
          "data": {
            "text/plain": [
              "    country                                        description  \\\n",
              "0     Italy  Aromas include tropical fruit, broom, brimston...   \n",
              "1  Portugal  This is ripe and fruity, a wine that is smooth...   \n",
              "2        US  Tart and snappy, the flavors of lime flesh and...   \n",
              "3        US  Pineapple rind, lemon pith and orange blossom ...   \n",
              "4        US  Much like the regular bottling from 2012, this...   \n",
              "\n",
              "                          designation  points  price           province  \\\n",
              "0                        Vulkà Bianco      87    NaN  Sicily & Sardinia   \n",
              "1                            Avidagos      87   15.0              Douro   \n",
              "2                                 NaN      87   14.0             Oregon   \n",
              "3                Reserve Late Harvest      87   13.0           Michigan   \n",
              "4  Vintner's Reserve Wild Child Block      87   65.0             Oregon   \n",
              "\n",
              "              region_1           region_2         taster_name  \\\n",
              "0                 Etna                NaN       Kerin O’Keefe   \n",
              "1                  NaN                NaN          Roger Voss   \n",
              "2    Willamette Valley  Willamette Valley        Paul Gregutt   \n",
              "3  Lake Michigan Shore                NaN  Alexander Peartree   \n",
              "4    Willamette Valley  Willamette Valley        Paul Gregutt   \n",
              "\n",
              "  taster_twitter_handle                                              title  \\\n",
              "0          @kerinokeefe                  Nicosia 2013 Vulkà Bianco  (Etna)   \n",
              "1            @vossroger      Quinta dos Avidagos 2011 Avidagos Red (Douro)   \n",
              "2           @paulgwine       Rainstorm 2013 Pinot Gris (Willamette Valley)   \n",
              "3                   NaN  St. Julian 2013 Reserve Late Harvest Riesling ...   \n",
              "4           @paulgwine   Sweet Cheeks 2012 Vintner's Reserve Wild Child...   \n",
              "\n",
              "          variety               winery  \n",
              "0     White Blend              Nicosia  \n",
              "1  Portuguese Red  Quinta dos Avidagos  \n",
              "2      Pinot Gris            Rainstorm  \n",
              "3        Riesling           St. Julian  \n",
              "4      Pinot Noir         Sweet Cheeks  "
            ],
            "text/html": [
              "\n",
              "  <div id=\"df-108c0670-9b9c-4de2-83b4-d792e2ef732d\">\n",
              "    <div class=\"colab-df-container\">\n",
              "      <div>\n",
              "<style scoped>\n",
              "    .dataframe tbody tr th:only-of-type {\n",
              "        vertical-align: middle;\n",
              "    }\n",
              "\n",
              "    .dataframe tbody tr th {\n",
              "        vertical-align: top;\n",
              "    }\n",
              "\n",
              "    .dataframe thead th {\n",
              "        text-align: right;\n",
              "    }\n",
              "</style>\n",
              "<table border=\"1\" class=\"dataframe\">\n",
              "  <thead>\n",
              "    <tr style=\"text-align: right;\">\n",
              "      <th></th>\n",
              "      <th>country</th>\n",
              "      <th>description</th>\n",
              "      <th>designation</th>\n",
              "      <th>points</th>\n",
              "      <th>price</th>\n",
              "      <th>province</th>\n",
              "      <th>region_1</th>\n",
              "      <th>region_2</th>\n",
              "      <th>taster_name</th>\n",
              "      <th>taster_twitter_handle</th>\n",
              "      <th>title</th>\n",
              "      <th>variety</th>\n",
              "      <th>winery</th>\n",
              "    </tr>\n",
              "  </thead>\n",
              "  <tbody>\n",
              "    <tr>\n",
              "      <th>0</th>\n",
              "      <td>Italy</td>\n",
              "      <td>Aromas include tropical fruit, broom, brimston...</td>\n",
              "      <td>Vulkà Bianco</td>\n",
              "      <td>87</td>\n",
              "      <td>NaN</td>\n",
              "      <td>Sicily &amp; Sardinia</td>\n",
              "      <td>Etna</td>\n",
              "      <td>NaN</td>\n",
              "      <td>Kerin O’Keefe</td>\n",
              "      <td>@kerinokeefe</td>\n",
              "      <td>Nicosia 2013 Vulkà Bianco  (Etna)</td>\n",
              "      <td>White Blend</td>\n",
              "      <td>Nicosia</td>\n",
              "    </tr>\n",
              "    <tr>\n",
              "      <th>1</th>\n",
              "      <td>Portugal</td>\n",
              "      <td>This is ripe and fruity, a wine that is smooth...</td>\n",
              "      <td>Avidagos</td>\n",
              "      <td>87</td>\n",
              "      <td>15.0</td>\n",
              "      <td>Douro</td>\n",
              "      <td>NaN</td>\n",
              "      <td>NaN</td>\n",
              "      <td>Roger Voss</td>\n",
              "      <td>@vossroger</td>\n",
              "      <td>Quinta dos Avidagos 2011 Avidagos Red (Douro)</td>\n",
              "      <td>Portuguese Red</td>\n",
              "      <td>Quinta dos Avidagos</td>\n",
              "    </tr>\n",
              "    <tr>\n",
              "      <th>2</th>\n",
              "      <td>US</td>\n",
              "      <td>Tart and snappy, the flavors of lime flesh and...</td>\n",
              "      <td>NaN</td>\n",
              "      <td>87</td>\n",
              "      <td>14.0</td>\n",
              "      <td>Oregon</td>\n",
              "      <td>Willamette Valley</td>\n",
              "      <td>Willamette Valley</td>\n",
              "      <td>Paul Gregutt</td>\n",
              "      <td>@paulgwine</td>\n",
              "      <td>Rainstorm 2013 Pinot Gris (Willamette Valley)</td>\n",
              "      <td>Pinot Gris</td>\n",
              "      <td>Rainstorm</td>\n",
              "    </tr>\n",
              "    <tr>\n",
              "      <th>3</th>\n",
              "      <td>US</td>\n",
              "      <td>Pineapple rind, lemon pith and orange blossom ...</td>\n",
              "      <td>Reserve Late Harvest</td>\n",
              "      <td>87</td>\n",
              "      <td>13.0</td>\n",
              "      <td>Michigan</td>\n",
              "      <td>Lake Michigan Shore</td>\n",
              "      <td>NaN</td>\n",
              "      <td>Alexander Peartree</td>\n",
              "      <td>NaN</td>\n",
              "      <td>St. Julian 2013 Reserve Late Harvest Riesling ...</td>\n",
              "      <td>Riesling</td>\n",
              "      <td>St. Julian</td>\n",
              "    </tr>\n",
              "    <tr>\n",
              "      <th>4</th>\n",
              "      <td>US</td>\n",
              "      <td>Much like the regular bottling from 2012, this...</td>\n",
              "      <td>Vintner's Reserve Wild Child Block</td>\n",
              "      <td>87</td>\n",
              "      <td>65.0</td>\n",
              "      <td>Oregon</td>\n",
              "      <td>Willamette Valley</td>\n",
              "      <td>Willamette Valley</td>\n",
              "      <td>Paul Gregutt</td>\n",
              "      <td>@paulgwine</td>\n",
              "      <td>Sweet Cheeks 2012 Vintner's Reserve Wild Child...</td>\n",
              "      <td>Pinot Noir</td>\n",
              "      <td>Sweet Cheeks</td>\n",
              "    </tr>\n",
              "  </tbody>\n",
              "</table>\n",
              "</div>\n",
              "      <button class=\"colab-df-convert\" onclick=\"convertToInteractive('df-108c0670-9b9c-4de2-83b4-d792e2ef732d')\"\n",
              "              title=\"Convert this dataframe to an interactive table.\"\n",
              "              style=\"display:none;\">\n",
              "        \n",
              "  <svg xmlns=\"http://www.w3.org/2000/svg\" height=\"24px\"viewBox=\"0 0 24 24\"\n",
              "       width=\"24px\">\n",
              "    <path d=\"M0 0h24v24H0V0z\" fill=\"none\"/>\n",
              "    <path d=\"M18.56 5.44l.94 2.06.94-2.06 2.06-.94-2.06-.94-.94-2.06-.94 2.06-2.06.94zm-11 1L8.5 8.5l.94-2.06 2.06-.94-2.06-.94L8.5 2.5l-.94 2.06-2.06.94zm10 10l.94 2.06.94-2.06 2.06-.94-2.06-.94-.94-2.06-.94 2.06-2.06.94z\"/><path d=\"M17.41 7.96l-1.37-1.37c-.4-.4-.92-.59-1.43-.59-.52 0-1.04.2-1.43.59L10.3 9.45l-7.72 7.72c-.78.78-.78 2.05 0 2.83L4 21.41c.39.39.9.59 1.41.59.51 0 1.02-.2 1.41-.59l7.78-7.78 2.81-2.81c.8-.78.8-2.07 0-2.86zM5.41 20L4 18.59l7.72-7.72 1.47 1.35L5.41 20z\"/>\n",
              "  </svg>\n",
              "      </button>\n",
              "      \n",
              "  <style>\n",
              "    .colab-df-container {\n",
              "      display:flex;\n",
              "      flex-wrap:wrap;\n",
              "      gap: 12px;\n",
              "    }\n",
              "\n",
              "    .colab-df-convert {\n",
              "      background-color: #E8F0FE;\n",
              "      border: none;\n",
              "      border-radius: 50%;\n",
              "      cursor: pointer;\n",
              "      display: none;\n",
              "      fill: #1967D2;\n",
              "      height: 32px;\n",
              "      padding: 0 0 0 0;\n",
              "      width: 32px;\n",
              "    }\n",
              "\n",
              "    .colab-df-convert:hover {\n",
              "      background-color: #E2EBFA;\n",
              "      box-shadow: 0px 1px 2px rgba(60, 64, 67, 0.3), 0px 1px 3px 1px rgba(60, 64, 67, 0.15);\n",
              "      fill: #174EA6;\n",
              "    }\n",
              "\n",
              "    [theme=dark] .colab-df-convert {\n",
              "      background-color: #3B4455;\n",
              "      fill: #D2E3FC;\n",
              "    }\n",
              "\n",
              "    [theme=dark] .colab-df-convert:hover {\n",
              "      background-color: #434B5C;\n",
              "      box-shadow: 0px 1px 3px 1px rgba(0, 0, 0, 0.15);\n",
              "      filter: drop-shadow(0px 1px 2px rgba(0, 0, 0, 0.3));\n",
              "      fill: #FFFFFF;\n",
              "    }\n",
              "  </style>\n",
              "\n",
              "      <script>\n",
              "        const buttonEl =\n",
              "          document.querySelector('#df-108c0670-9b9c-4de2-83b4-d792e2ef732d button.colab-df-convert');\n",
              "        buttonEl.style.display =\n",
              "          google.colab.kernel.accessAllowed ? 'block' : 'none';\n",
              "\n",
              "        async function convertToInteractive(key) {\n",
              "          const element = document.querySelector('#df-108c0670-9b9c-4de2-83b4-d792e2ef732d');\n",
              "          const dataTable =\n",
              "            await google.colab.kernel.invokeFunction('convertToInteractive',\n",
              "                                                     [key], {});\n",
              "          if (!dataTable) return;\n",
              "\n",
              "          const docLinkHtml = 'Like what you see? Visit the ' +\n",
              "            '<a target=\"_blank\" href=https://colab.research.google.com/notebooks/data_table.ipynb>data table notebook</a>'\n",
              "            + ' to learn more about interactive tables.';\n",
              "          element.innerHTML = '';\n",
              "          dataTable['output_type'] = 'display_data';\n",
              "          await google.colab.output.renderOutput(dataTable, element);\n",
              "          const docLink = document.createElement('div');\n",
              "          docLink.innerHTML = docLinkHtml;\n",
              "          element.appendChild(docLink);\n",
              "        }\n",
              "      </script>\n",
              "    </div>\n",
              "  </div>\n",
              "  "
            ]
          },
          "metadata": {},
          "execution_count": 63
        }
      ]
    },
    {
      "cell_type": "code",
      "source": [
        "data['points'].median()"
      ],
      "metadata": {
        "colab": {
          "base_uri": "https://localhost:8080/"
        },
        "id": "UQGsTmJK5J-Z",
        "outputId": "17d10d82-2f3a-46ce-ac07-c172c9dee733"
      },
      "execution_count": null,
      "outputs": [
        {
          "output_type": "execute_result",
          "data": {
            "text/plain": [
              "88.0"
            ]
          },
          "metadata": {},
          "execution_count": 64
        }
      ]
    },
    {
      "cell_type": "code",
      "source": [
        "# Определение названия и самого дорогого вида вина\n",
        "max_price_wine = data.loc[data[\"price\"].idxmax(), [\"variety\", \"price\"]]\n",
        "max_price_wine_name = max_price_wine[\"variety\"]\n",
        "max_price = max_price_wine[\"price\"]\n",
        "\n",
        "print(\"\\nСамый дорогой вид вина:\")\n",
        "print(\"Название:\", max_price_wine_name)\n",
        "print(\"Цена:\", max_price)\n"
      ],
      "metadata": {
        "colab": {
          "base_uri": "https://localhost:8080/"
        },
        "id": "TBXvzi6x5PV5",
        "outputId": "dc77d3d3-a7ad-4321-87fe-88f2641fadcd"
      },
      "execution_count": null,
      "outputs": [
        {
          "output_type": "stream",
          "name": "stdout",
          "text": [
            "\n",
            "Самый дорогой вид вина:\n",
            "Название: Bordeaux-style Red Blend\n",
            "Цена: 3300.0\n"
          ]
        }
      ]
    },
    {
      "cell_type": "markdown",
      "source": [
        "Датасет: -\n",
        " Необходимо найти все пары целых чисел от 1 до 3000, для которых sin от произведения чисел из пары будет иметь значение больше 0.99999999 (например, sin(237∗1544)=0.9999999951152019>0.99999999; sin(237∗1544)=0.9999999951152019>0.99999999 ). Ответ представляет собой список пар (целое число1, целое число2, значение синуса для из произведения), для которых значение синуса удовлетворяет условию. Решение этой задачи распараллелить, используя multiprocessing Pool. Сравнить продолжительность последовательного и параллельного решения задачи.\n"
      ],
      "metadata": {
        "id": "eqlWxEAV5Y-l"
      }
    },
    {
      "cell_type": "code",
      "source": [
        "import multiprocessing\n",
        "import math\n",
        "import time\n",
        "\n",
        "# Функция для проверки условия sin от произведения чисел\n",
        "def check_condition(pair):\n",
        "    number1, number2 = pair\n",
        "    product = number1 * number2\n",
        "    sin_value = math.sin(product)\n",
        "    return number1, number2, sin_value\n",
        "\n",
        "# Функция для последовательного решения задачи\n",
        "def sequential_solution():\n",
        "    start_time = time.time()\n",
        "\n",
        "    pairs = [(number1, number2) for number1 in range(1, 3001) for number2 in range(1, 3001)]\n",
        "    results = [check_condition(pair) for pair in pairs if check_condition(pair)[2] > 0.99999999]\n",
        "\n",
        "    end_time = time.time()\n",
        "    elapsed_time = end_time - start_time\n",
        "\n",
        "    print(\"Последовательное решение:\")\n",
        "    print(\"Результаты:\", results)\n",
        "    print(\"Продолжительность:\", elapsed_time, \"секунд\")\n",
        "\n",
        "# Функция для параллельного решения задачи\n",
        "def parallel_solution():\n",
        "    start_time = time.time()\n",
        "\n",
        "    pairs = [(number1, number2) for number1 in range(1, 3001) for number2 in range(1, 3001)]\n",
        "\n",
        "    pool = multiprocessing.Pool()\n",
        "    results = pool.map(check_condition, pairs)\n",
        "    filtered_results = [(number1, number2, sin_value) for number1, number2, sin_value in results if sin_value > 0.99999999]\n",
        "    pool.close()\n",
        "    pool.join()\n",
        "\n",
        "    end_time = time.time()\n",
        "    elapsed_time = end_time - start_time\n",
        "\n",
        "    print(\"Параллельное решение:\")\n",
        "    print(\"Результаты:\", filtered_results)\n",
        "    print(\"Продолжительность:\", elapsed_time, \"секунд\")\n",
        "\n",
        "# Последовательное решение задачи\n",
        "sequential_solution()\n",
        "\n",
        "# Параллельное решение задачи\n",
        "parallel_solution()\n"
      ],
      "metadata": {
        "colab": {
          "base_uri": "https://localhost:8080/"
        },
        "id": "AVSthbkj5UcR",
        "outputId": "8019a90a-feea-4841-8306-770179691f07"
      },
      "execution_count": null,
      "outputs": [
        {
          "output_type": "stream",
          "name": "stdout",
          "text": [
            "Последовательное решение:\n",
            "Результаты: [(23, 2253, 0.999999999696513), (57, 2746, 0.9999999998635031), (62, 2536, 0.9999999970500172), (69, 751, 0.999999999696513), (91, 2855, 0.9999999980220771), (114, 1373, 0.9999999998635031), (115, 2253, 0.9999999924128237), (124, 1268, 0.9999999970500172), (129, 2025, 0.9999999983363994), (133, 2746, 0.99999999925685), (135, 1935, 0.9999999983363994), (157, 1006, 0.9999999906018032), (158, 2316, 0.9999999951152019), (193, 1896, 0.9999999951152019), (194, 2951, 0.9999999982003109), (209, 2746, 0.9999999981648745), (215, 1215, 0.9999999983363994), (219, 2149, 0.9999999901999105), (222, 2582, 0.9999999999999568), (225, 1161, 0.9999999983363994), (227, 2522, 0.9999999982003109), (237, 1544, 0.9999999951152019), (241, 2807, 0.9999999968696842), (243, 1075, 0.9999999983363994), (248, 634, 0.9999999970500172), (266, 1373, 0.99999999925685), (267, 2531, 0.9999999902820274), (269, 1739, 0.9999999948839151), (271, 2880, 0.999999995173126), (285, 2746, 0.9999999965875765), (288, 2710, 0.999999995173126), (307, 1533, 0.9999999901999105), (311, 1511, 0.9999999968230039), (314, 503, 0.9999999906018032), (316, 1158, 0.9999999951152019), (317, 496, 0.9999999970500172), (320, 2439, 0.999999995173126), (329, 2697, 0.9999999923402456), (345, 751, 0.9999999924128237), (350, 2234, 0.9999999997508212), (360, 2168, 0.999999995173126), (361, 2746, 0.9999999945249561), (382, 2045, 0.9999999992793377), (386, 948, 0.9999999951152019), (387, 675, 0.9999999983363994), (401, 1687, 0.9999999968696842), (405, 645, 0.9999999983363994), (409, 1910, 0.9999999992793377), (417, 2876, 0.9999999977965826), (418, 1373, 0.9999999981648745), (437, 2746, 0.9999999919770133), (443, 2704, 0.9999999985315368), (444, 1291, 0.9999999999999568), (454, 1261, 0.9999999982003109), (455, 571, 0.9999999980220771), (473, 2534, 0.9999999999814237), (474, 772, 0.9999999951152019), (480, 1626, 0.999999995173126), (488, 2027, 0.9999999970949925), (496, 317, 0.9999999970500172), (503, 314, 0.9999999906018032), (509, 2762, 0.9999999957263056), (511, 921, 0.9999999901999105), (524, 2687, 0.9999999960914796), (542, 1440, 0.999999995173126), (556, 2157, 0.9999999977965826), (563, 1571, 0.9999999931106364), (569, 2472, 0.9999999994827584), (570, 1373, 0.9999999965875765), (571, 455, 0.9999999980220771), (576, 1355, 0.999999995173126), (579, 632, 0.9999999951152019), (586, 2754, 0.9999999914573485), (602, 1991, 0.9999999999814237), (607, 773, 0.9999999998113691), (609, 1457, 0.9999999923402456), (612, 2637, 0.9999999914573485), (618, 2276, 0.9999999994827584), (632, 579, 0.9999999951152019), (634, 248, 0.9999999970500172), (645, 405, 0.9999999983363994), (650, 2805, 0.9999999988291063), (651, 1363, 0.9999999923402456), (663, 2750, 0.9999999988291063), (669, 2259, 0.9999999999595361), (675, 387, 0.9999999983363994), (676, 1772, 0.9999999985315368), (687, 1895, 0.9999999973118869), (700, 1117, 0.9999999997508212), (715, 2550, 0.9999999988291063), (719, 1668, 0.9999999977965826), (720, 1084, 0.999999995173126), (722, 1373, 0.9999999945249561), (733, 2913, 0.999999994405293), (750, 2431, 0.9999999988291063), (751, 69, 0.999999999696513), (751, 345, 0.9999999924128237), (752, 2703, 0.9999999994244887), (753, 2007, 0.9999999999595361), (772, 474, 0.9999999951152019), (773, 607, 0.9999999998113691), (778, 2078, 0.9999999939010542), (799, 2544, 0.9999999994244887), (813, 960, 0.999999995173126), (816, 2491, 0.9999999994244887), (818, 955, 0.9999999992793377), (824, 1707, 0.9999999994827584), (825, 2210, 0.9999999988291063), (834, 1438, 0.9999999977965826), (848, 2397, 0.9999999994244887), (850, 2145, 0.9999999988291063), (858, 2125, 0.9999999988291063), (862, 2601, 0.999999993243496), (867, 2586, 0.999999993243496), (868, 2821, 0.9999999990930195), (874, 1373, 0.9999999919770133), (876, 2557, 0.9999999979120855), (879, 1836, 0.9999999914573485), (886, 1352, 0.9999999985315368), (887, 1703, 0.9999999986845285), (891, 2984, 0.999999994998317), (899, 987, 0.9999999923402456), (901, 2256, 0.9999999994244887), (918, 1758, 0.9999999914573485), (921, 511, 0.9999999901999105), (935, 1950, 0.9999999988291063), (941, 1385, 0.9999999988834986), (946, 1267, 0.9999999999814237), (948, 386, 0.9999999951152019), (955, 818, 0.9999999992793377), (960, 813, 0.999999995173126), (961, 2548, 0.9999999990930195), (971, 2199, 0.999999994405293), (975, 1870, 0.9999999988291063), (982, 2920, 0.9999999925522816), (987, 899, 0.9999999923402456), (1006, 157, 0.9999999906018032), (1018, 1381, 0.9999999957263056), (1029, 2887, 0.9999999990913918), (1032, 2978, 0.9999999952879379), (1039, 1556, 0.9999999939010542), (1063, 2599, 0.9999999967286067), (1067, 2393, 0.9999999999989757), (1075, 243, 0.9999999983363994), (1084, 720, 0.999999995173126), (1087, 1581, 0.9999999959902742), (1105, 1650, 0.9999999988291063), (1110, 2582, 0.9999999999989203), (1117, 700, 0.9999999997508212), (1119, 2376, 0.999999994998317), (1122, 1625, 0.9999999988291063), (1128, 1802, 0.9999999994244887), (1129, 1155, 0.9999999942172122), (1137, 1145, 0.9999999973118869), (1138, 1236, 0.9999999994827584), (1138, 2884, 0.9999999971839069), (1145, 1137, 0.9999999973118869), (1155, 1129, 0.9999999942172122), (1158, 316, 0.9999999951152019), (1161, 225, 0.9999999983363994), (1168, 2455, 0.9999999925522816), (1172, 1377, 0.9999999914573485), (1188, 2238, 0.999999994998317), (1202, 2558, 0.9999999997238871), (1215, 215, 0.9999999983363994), (1229, 2842, 0.999999991827411), (1236, 1138, 0.9999999994827584), (1261, 454, 0.9999999982003109), (1267, 946, 0.9999999999814237), (1268, 124, 0.9999999970500172), (1272, 1598, 0.9999999994244887), (1274, 1922, 0.9999999990930195), (1275, 1430, 0.9999999988291063), (1279, 2404, 0.9999999997238871), (1291, 444, 0.9999999999999568), (1291, 2220, 0.9999999999989203), (1293, 1734, 0.999999993243496), (1325, 1769, 0.9999999964929694), (1326, 1375, 0.9999999988291063), (1331, 2857, 0.9999999939052725), (1336, 2769, 0.9999999995198774), (1352, 886, 0.9999999985315368), (1355, 576, 0.999999995173126), (1363, 651, 0.9999999923402456), (1373, 114, 0.9999999998635031), (1373, 266, 0.99999999925685), (1373, 418, 0.9999999981648745), (1373, 570, 0.9999999965875765), (1373, 722, 0.9999999945249561), (1373, 874, 0.9999999919770133), (1375, 1326, 0.9999999988291063), (1377, 1172, 0.9999999914573485), (1381, 1018, 0.9999999957263056), (1385, 941, 0.9999999988834986), (1388, 2967, 0.999999991068884), (1395, 2802, 0.9999999986825684), (1401, 2790, 0.9999999986825684), (1421, 2458, 0.999999991827411), (1430, 1275, 0.9999999988291063), (1437, 2503, 0.9999999940900975), (1438, 834, 0.9999999977965826), (1440, 542, 0.999999995173126), (1442, 2276, 0.9999999971839069), (1457, 609, 0.9999999923402456), (1460, 1964, 0.9999999925522816), (1489, 2064, 0.9999999952879379), (1492, 1782, 0.999999994998317), (1499, 2399, 0.9999999988272569), (1511, 311, 0.9999999968230039), (1518, 2986, 0.99999999798736), (1519, 1612, 0.9999999990930195), (1525, 1537, 0.9999999964929694), (1533, 307, 0.9999999901999105), (1537, 1525, 0.9999999964929694), (1544, 237, 0.9999999951152019), (1551, 2049, 0.9999999984365575), (1556, 1039, 0.9999999939010542), (1571, 563, 0.9999999931106364), (1581, 1087, 0.9999999959902742), (1598, 1272, 0.9999999994244887), (1598, 2968, 0.999999996866661), (1612, 1519, 0.9999999990930195), (1625, 1122, 0.9999999988291063), (1626, 480, 0.999999995173126), (1650, 1105, 0.9999999988291063), (1656, 2612, 0.9999999993839149), (1659, 2293, 0.9999999999482698), (1668, 719, 0.9999999977965826), (1674, 2335, 0.9999999986825684), (1687, 401, 0.9999999968696842), (1703, 887, 0.9999999986845285), (1704, 2171, 0.9999999995198774), (1707, 824, 0.9999999994827584), (1726, 1781, 0.9999999993232765), (1734, 1293, 0.999999993243496), (1739, 269, 0.9999999948839151), (1750, 2234, 0.9999999937705296), (1758, 918, 0.9999999914573485), (1769, 1325, 0.9999999964929694), (1772, 676, 0.9999999985315368), (1781, 1726, 0.9999999993232765), (1782, 1492, 0.999999994998317), (1793, 2994, 0.9999999963905805), (1802, 1128, 0.9999999994244887), (1802, 2632, 0.999999996866661), (1836, 879, 0.9999999914573485), (1846, 2004, 0.9999999995198774), (1859, 2831, 0.9999999998641335), (1870, 975, 0.9999999988291063), (1895, 687, 0.9999999973118869), (1896, 193, 0.9999999951152019), (1904, 2491, 0.999999996866661), (1910, 409, 0.9999999992793377), (1913, 2152, 0.9999999999145581), (1922, 1274, 0.9999999990930195), (1934, 2129, 0.9999999973090852), (1935, 135, 0.9999999983363994), (1937, 2717, 0.9999999998641335), (1949, 2701, 0.9999999945823146), (1950, 935, 0.9999999988291063), (1959, 2208, 0.9999999993839149), (1962, 2417, 0.9999999998218927), (1964, 1460, 0.9999999925522816), (1978, 2082, 0.999999991068884), (1991, 602, 0.9999999999814237), (1998, 2582, 0.9999999999965019), (2004, 1846, 0.9999999995198774), (2007, 753, 0.9999999999595361), (2025, 129, 0.9999999983363994), (2027, 488, 0.9999999970949925), (2045, 382, 0.9999999992793377), (2049, 1551, 0.9999999984365575), (2054, 2410, 0.9999999998121104), (2064, 1489, 0.9999999952879379), (2069, 2796, 0.9999999976377419), (2078, 778, 0.9999999939010542), (2082, 1978, 0.999999991068884), (2125, 858, 0.9999999988291063), (2129, 1934, 0.9999999973090852), (2145, 850, 0.9999999988291063), (2149, 219, 0.9999999901999105), (2152, 1913, 0.9999999999145581), (2157, 556, 0.9999999977965826), (2168, 360, 0.999999995173126), (2171, 1704, 0.9999999995198774), (2199, 971, 0.999999994405293), (2208, 1959, 0.9999999993839149), (2210, 825, 0.9999999988291063), (2219, 2841, 0.9999999961980565), (2220, 1291, 0.9999999999989203), (2233, 2731, 0.9999999912979604), (2234, 350, 0.9999999997508212), (2234, 1750, 0.9999999937705296), (2238, 1188, 0.999999994998317), (2239, 2257, 0.9999999951189769), (2253, 23, 0.999999999696513), (2253, 115, 0.9999999924128237), (2256, 901, 0.9999999994244887), (2257, 2239, 0.9999999951189769), (2259, 669, 0.9999999999595361), (2266, 2276, 0.9999999930459741), (2276, 618, 0.9999999994827584), (2276, 1442, 0.9999999971839069), (2276, 2266, 0.9999999930459741), (2293, 1659, 0.9999999999482698), (2316, 158, 0.9999999951152019), (2317, 2541, 0.9999999974815136), (2324, 2758, 0.9999999998985), (2335, 1674, 0.9999999986825684), (2350, 2993, 0.9999999949470397), (2365, 2534, 0.9999999995355932), (2376, 1119, 0.999999994998317), (2391, 2768, 0.999999999341959), (2393, 1067, 0.9999999999989757), (2397, 848, 0.9999999994244887), (2399, 1499, 0.9999999988272569), (2401, 2887, 0.9999999950531332), (2404, 1279, 0.9999999997238871), (2410, 2054, 0.9999999998121104), (2417, 1962, 0.9999999998218927), (2419, 2564, 0.999999993638623), (2431, 750, 0.9999999988291063), (2434, 2890, 0.9999999991903913), (2439, 320, 0.999999995173126), (2455, 1168, 0.9999999925522816), (2458, 1421, 0.999999991827411), (2472, 569, 0.9999999994827584), (2491, 816, 0.9999999994244887), (2491, 1904, 0.999999996866661), (2491, 2992, 0.9999999922625709), (2503, 1437, 0.9999999940900975), (2522, 227, 0.9999999982003109), (2531, 267, 0.9999999902820274), (2534, 473, 0.9999999999814237), (2534, 2365, 0.9999999995355932), (2536, 62, 0.9999999970500172), (2541, 2317, 0.9999999974815136), (2544, 799, 0.9999999994244887), (2548, 961, 0.9999999990930195), (2550, 715, 0.9999999988291063), (2557, 876, 0.9999999979120855), (2558, 1202, 0.9999999997238871), (2564, 2419, 0.999999993638623), (2582, 222, 0.9999999999999568), (2582, 1110, 0.9999999999989203), (2582, 1998, 0.9999999999965019), (2582, 2886, 0.9999999999927016), (2586, 867, 0.999999993243496), (2599, 1063, 0.9999999967286067), (2601, 862, 0.999999993243496), (2607, 2778, 0.9999999969190185), (2612, 1656, 0.9999999993839149), (2632, 1802, 0.999999996866661), (2637, 612, 0.9999999914573485), (2669, 2714, 0.9999999991146687), (2687, 524, 0.9999999960914796), (2697, 329, 0.9999999923402456), (2701, 1949, 0.9999999945823146), (2703, 752, 0.9999999994244887), (2704, 443, 0.9999999985315368), (2710, 288, 0.999999995173126), (2714, 2669, 0.9999999991146687), (2717, 1937, 0.9999999998641335), (2731, 2233, 0.9999999912979604), (2746, 57, 0.9999999998635031), (2746, 133, 0.99999999925685), (2746, 209, 0.9999999981648745), (2746, 285, 0.9999999965875765), (2746, 361, 0.9999999945249561), (2746, 437, 0.9999999919770133), (2750, 663, 0.9999999988291063), (2754, 586, 0.9999999914573485), (2758, 2324, 0.9999999998985), (2762, 509, 0.9999999957263056), (2768, 2391, 0.999999999341959), (2769, 1336, 0.9999999995198774), (2778, 2607, 0.9999999969190185), (2790, 1401, 0.9999999986825684), (2796, 2069, 0.9999999976377419), (2802, 1395, 0.9999999986825684), (2805, 650, 0.9999999988291063), (2807, 241, 0.9999999968696842), (2821, 868, 0.9999999990930195), (2831, 1859, 0.9999999998641335), (2837, 2957, 0.9999999988592028), (2841, 2219, 0.9999999961980565), (2842, 1229, 0.999999991827411), (2855, 91, 0.9999999980220771), (2857, 1331, 0.9999999939052725), (2875, 2991, 0.9999999955025535), (2876, 417, 0.9999999977965826), (2880, 271, 0.999999995173126), (2884, 1138, 0.9999999971839069), (2886, 2582, 0.9999999999927016), (2887, 1029, 0.9999999990913918), (2887, 2401, 0.9999999950531332), (2890, 2434, 0.9999999991903913), (2913, 733, 0.999999994405293), (2920, 982, 0.9999999925522816), (2951, 194, 0.9999999982003109), (2957, 2837, 0.9999999988592028), (2967, 1388, 0.999999991068884), (2968, 1598, 0.999999996866661), (2978, 1032, 0.9999999952879379), (2984, 891, 0.999999994998317), (2986, 1518, 0.99999999798736), (2991, 2875, 0.9999999955025535), (2992, 2491, 0.9999999922625709), (2993, 2350, 0.9999999949470397), (2994, 1793, 0.9999999963905805)]\n",
            "Продолжительность: 4.771498680114746 секунд\n",
            "Параллельное решение:\n",
            "Результаты: [(23, 2253, 0.999999999696513), (57, 2746, 0.9999999998635031), (62, 2536, 0.9999999970500172), (69, 751, 0.999999999696513), (91, 2855, 0.9999999980220771), (114, 1373, 0.9999999998635031), (115, 2253, 0.9999999924128237), (124, 1268, 0.9999999970500172), (129, 2025, 0.9999999983363994), (133, 2746, 0.99999999925685), (135, 1935, 0.9999999983363994), (157, 1006, 0.9999999906018032), (158, 2316, 0.9999999951152019), (193, 1896, 0.9999999951152019), (194, 2951, 0.9999999982003109), (209, 2746, 0.9999999981648745), (215, 1215, 0.9999999983363994), (219, 2149, 0.9999999901999105), (222, 2582, 0.9999999999999568), (225, 1161, 0.9999999983363994), (227, 2522, 0.9999999982003109), (237, 1544, 0.9999999951152019), (241, 2807, 0.9999999968696842), (243, 1075, 0.9999999983363994), (248, 634, 0.9999999970500172), (266, 1373, 0.99999999925685), (267, 2531, 0.9999999902820274), (269, 1739, 0.9999999948839151), (271, 2880, 0.999999995173126), (285, 2746, 0.9999999965875765), (288, 2710, 0.999999995173126), (307, 1533, 0.9999999901999105), (311, 1511, 0.9999999968230039), (314, 503, 0.9999999906018032), (316, 1158, 0.9999999951152019), (317, 496, 0.9999999970500172), (320, 2439, 0.999999995173126), (329, 2697, 0.9999999923402456), (345, 751, 0.9999999924128237), (350, 2234, 0.9999999997508212), (360, 2168, 0.999999995173126), (361, 2746, 0.9999999945249561), (382, 2045, 0.9999999992793377), (386, 948, 0.9999999951152019), (387, 675, 0.9999999983363994), (401, 1687, 0.9999999968696842), (405, 645, 0.9999999983363994), (409, 1910, 0.9999999992793377), (417, 2876, 0.9999999977965826), (418, 1373, 0.9999999981648745), (437, 2746, 0.9999999919770133), (443, 2704, 0.9999999985315368), (444, 1291, 0.9999999999999568), (454, 1261, 0.9999999982003109), (455, 571, 0.9999999980220771), (473, 2534, 0.9999999999814237), (474, 772, 0.9999999951152019), (480, 1626, 0.999999995173126), (488, 2027, 0.9999999970949925), (496, 317, 0.9999999970500172), (503, 314, 0.9999999906018032), (509, 2762, 0.9999999957263056), (511, 921, 0.9999999901999105), (524, 2687, 0.9999999960914796), (542, 1440, 0.999999995173126), (556, 2157, 0.9999999977965826), (563, 1571, 0.9999999931106364), (569, 2472, 0.9999999994827584), (570, 1373, 0.9999999965875765), (571, 455, 0.9999999980220771), (576, 1355, 0.999999995173126), (579, 632, 0.9999999951152019), (586, 2754, 0.9999999914573485), (602, 1991, 0.9999999999814237), (607, 773, 0.9999999998113691), (609, 1457, 0.9999999923402456), (612, 2637, 0.9999999914573485), (618, 2276, 0.9999999994827584), (632, 579, 0.9999999951152019), (634, 248, 0.9999999970500172), (645, 405, 0.9999999983363994), (650, 2805, 0.9999999988291063), (651, 1363, 0.9999999923402456), (663, 2750, 0.9999999988291063), (669, 2259, 0.9999999999595361), (675, 387, 0.9999999983363994), (676, 1772, 0.9999999985315368), (687, 1895, 0.9999999973118869), (700, 1117, 0.9999999997508212), (715, 2550, 0.9999999988291063), (719, 1668, 0.9999999977965826), (720, 1084, 0.999999995173126), (722, 1373, 0.9999999945249561), (733, 2913, 0.999999994405293), (750, 2431, 0.9999999988291063), (751, 69, 0.999999999696513), (751, 345, 0.9999999924128237), (752, 2703, 0.9999999994244887), (753, 2007, 0.9999999999595361), (772, 474, 0.9999999951152019), (773, 607, 0.9999999998113691), (778, 2078, 0.9999999939010542), (799, 2544, 0.9999999994244887), (813, 960, 0.999999995173126), (816, 2491, 0.9999999994244887), (818, 955, 0.9999999992793377), (824, 1707, 0.9999999994827584), (825, 2210, 0.9999999988291063), (834, 1438, 0.9999999977965826), (848, 2397, 0.9999999994244887), (850, 2145, 0.9999999988291063), (858, 2125, 0.9999999988291063), (862, 2601, 0.999999993243496), (867, 2586, 0.999999993243496), (868, 2821, 0.9999999990930195), (874, 1373, 0.9999999919770133), (876, 2557, 0.9999999979120855), (879, 1836, 0.9999999914573485), (886, 1352, 0.9999999985315368), (887, 1703, 0.9999999986845285), (891, 2984, 0.999999994998317), (899, 987, 0.9999999923402456), (901, 2256, 0.9999999994244887), (918, 1758, 0.9999999914573485), (921, 511, 0.9999999901999105), (935, 1950, 0.9999999988291063), (941, 1385, 0.9999999988834986), (946, 1267, 0.9999999999814237), (948, 386, 0.9999999951152019), (955, 818, 0.9999999992793377), (960, 813, 0.999999995173126), (961, 2548, 0.9999999990930195), (971, 2199, 0.999999994405293), (975, 1870, 0.9999999988291063), (982, 2920, 0.9999999925522816), (987, 899, 0.9999999923402456), (1006, 157, 0.9999999906018032), (1018, 1381, 0.9999999957263056), (1029, 2887, 0.9999999990913918), (1032, 2978, 0.9999999952879379), (1039, 1556, 0.9999999939010542), (1063, 2599, 0.9999999967286067), (1067, 2393, 0.9999999999989757), (1075, 243, 0.9999999983363994), (1084, 720, 0.999999995173126), (1087, 1581, 0.9999999959902742), (1105, 1650, 0.9999999988291063), (1110, 2582, 0.9999999999989203), (1117, 700, 0.9999999997508212), (1119, 2376, 0.999999994998317), (1122, 1625, 0.9999999988291063), (1128, 1802, 0.9999999994244887), (1129, 1155, 0.9999999942172122), (1137, 1145, 0.9999999973118869), (1138, 1236, 0.9999999994827584), (1138, 2884, 0.9999999971839069), (1145, 1137, 0.9999999973118869), (1155, 1129, 0.9999999942172122), (1158, 316, 0.9999999951152019), (1161, 225, 0.9999999983363994), (1168, 2455, 0.9999999925522816), (1172, 1377, 0.9999999914573485), (1188, 2238, 0.999999994998317), (1202, 2558, 0.9999999997238871), (1215, 215, 0.9999999983363994), (1229, 2842, 0.999999991827411), (1236, 1138, 0.9999999994827584), (1261, 454, 0.9999999982003109), (1267, 946, 0.9999999999814237), (1268, 124, 0.9999999970500172), (1272, 1598, 0.9999999994244887), (1274, 1922, 0.9999999990930195), (1275, 1430, 0.9999999988291063), (1279, 2404, 0.9999999997238871), (1291, 444, 0.9999999999999568), (1291, 2220, 0.9999999999989203), (1293, 1734, 0.999999993243496), (1325, 1769, 0.9999999964929694), (1326, 1375, 0.9999999988291063), (1331, 2857, 0.9999999939052725), (1336, 2769, 0.9999999995198774), (1352, 886, 0.9999999985315368), (1355, 576, 0.999999995173126), (1363, 651, 0.9999999923402456), (1373, 114, 0.9999999998635031), (1373, 266, 0.99999999925685), (1373, 418, 0.9999999981648745), (1373, 570, 0.9999999965875765), (1373, 722, 0.9999999945249561), (1373, 874, 0.9999999919770133), (1375, 1326, 0.9999999988291063), (1377, 1172, 0.9999999914573485), (1381, 1018, 0.9999999957263056), (1385, 941, 0.9999999988834986), (1388, 2967, 0.999999991068884), (1395, 2802, 0.9999999986825684), (1401, 2790, 0.9999999986825684), (1421, 2458, 0.999999991827411), (1430, 1275, 0.9999999988291063), (1437, 2503, 0.9999999940900975), (1438, 834, 0.9999999977965826), (1440, 542, 0.999999995173126), (1442, 2276, 0.9999999971839069), (1457, 609, 0.9999999923402456), (1460, 1964, 0.9999999925522816), (1489, 2064, 0.9999999952879379), (1492, 1782, 0.999999994998317), (1499, 2399, 0.9999999988272569), (1511, 311, 0.9999999968230039), (1518, 2986, 0.99999999798736), (1519, 1612, 0.9999999990930195), (1525, 1537, 0.9999999964929694), (1533, 307, 0.9999999901999105), (1537, 1525, 0.9999999964929694), (1544, 237, 0.9999999951152019), (1551, 2049, 0.9999999984365575), (1556, 1039, 0.9999999939010542), (1571, 563, 0.9999999931106364), (1581, 1087, 0.9999999959902742), (1598, 1272, 0.9999999994244887), (1598, 2968, 0.999999996866661), (1612, 1519, 0.9999999990930195), (1625, 1122, 0.9999999988291063), (1626, 480, 0.999999995173126), (1650, 1105, 0.9999999988291063), (1656, 2612, 0.9999999993839149), (1659, 2293, 0.9999999999482698), (1668, 719, 0.9999999977965826), (1674, 2335, 0.9999999986825684), (1687, 401, 0.9999999968696842), (1703, 887, 0.9999999986845285), (1704, 2171, 0.9999999995198774), (1707, 824, 0.9999999994827584), (1726, 1781, 0.9999999993232765), (1734, 1293, 0.999999993243496), (1739, 269, 0.9999999948839151), (1750, 2234, 0.9999999937705296), (1758, 918, 0.9999999914573485), (1769, 1325, 0.9999999964929694), (1772, 676, 0.9999999985315368), (1781, 1726, 0.9999999993232765), (1782, 1492, 0.999999994998317), (1793, 2994, 0.9999999963905805), (1802, 1128, 0.9999999994244887), (1802, 2632, 0.999999996866661), (1836, 879, 0.9999999914573485), (1846, 2004, 0.9999999995198774), (1859, 2831, 0.9999999998641335), (1870, 975, 0.9999999988291063), (1895, 687, 0.9999999973118869), (1896, 193, 0.9999999951152019), (1904, 2491, 0.999999996866661), (1910, 409, 0.9999999992793377), (1913, 2152, 0.9999999999145581), (1922, 1274, 0.9999999990930195), (1934, 2129, 0.9999999973090852), (1935, 135, 0.9999999983363994), (1937, 2717, 0.9999999998641335), (1949, 2701, 0.9999999945823146), (1950, 935, 0.9999999988291063), (1959, 2208, 0.9999999993839149), (1962, 2417, 0.9999999998218927), (1964, 1460, 0.9999999925522816), (1978, 2082, 0.999999991068884), (1991, 602, 0.9999999999814237), (1998, 2582, 0.9999999999965019), (2004, 1846, 0.9999999995198774), (2007, 753, 0.9999999999595361), (2025, 129, 0.9999999983363994), (2027, 488, 0.9999999970949925), (2045, 382, 0.9999999992793377), (2049, 1551, 0.9999999984365575), (2054, 2410, 0.9999999998121104), (2064, 1489, 0.9999999952879379), (2069, 2796, 0.9999999976377419), (2078, 778, 0.9999999939010542), (2082, 1978, 0.999999991068884), (2125, 858, 0.9999999988291063), (2129, 1934, 0.9999999973090852), (2145, 850, 0.9999999988291063), (2149, 219, 0.9999999901999105), (2152, 1913, 0.9999999999145581), (2157, 556, 0.9999999977965826), (2168, 360, 0.999999995173126), (2171, 1704, 0.9999999995198774), (2199, 971, 0.999999994405293), (2208, 1959, 0.9999999993839149), (2210, 825, 0.9999999988291063), (2219, 2841, 0.9999999961980565), (2220, 1291, 0.9999999999989203), (2233, 2731, 0.9999999912979604), (2234, 350, 0.9999999997508212), (2234, 1750, 0.9999999937705296), (2238, 1188, 0.999999994998317), (2239, 2257, 0.9999999951189769), (2253, 23, 0.999999999696513), (2253, 115, 0.9999999924128237), (2256, 901, 0.9999999994244887), (2257, 2239, 0.9999999951189769), (2259, 669, 0.9999999999595361), (2266, 2276, 0.9999999930459741), (2276, 618, 0.9999999994827584), (2276, 1442, 0.9999999971839069), (2276, 2266, 0.9999999930459741), (2293, 1659, 0.9999999999482698), (2316, 158, 0.9999999951152019), (2317, 2541, 0.9999999974815136), (2324, 2758, 0.9999999998985), (2335, 1674, 0.9999999986825684), (2350, 2993, 0.9999999949470397), (2365, 2534, 0.9999999995355932), (2376, 1119, 0.999999994998317), (2391, 2768, 0.999999999341959), (2393, 1067, 0.9999999999989757), (2397, 848, 0.9999999994244887), (2399, 1499, 0.9999999988272569), (2401, 2887, 0.9999999950531332), (2404, 1279, 0.9999999997238871), (2410, 2054, 0.9999999998121104), (2417, 1962, 0.9999999998218927), (2419, 2564, 0.999999993638623), (2431, 750, 0.9999999988291063), (2434, 2890, 0.9999999991903913), (2439, 320, 0.999999995173126), (2455, 1168, 0.9999999925522816), (2458, 1421, 0.999999991827411), (2472, 569, 0.9999999994827584), (2491, 816, 0.9999999994244887), (2491, 1904, 0.999999996866661), (2491, 2992, 0.9999999922625709), (2503, 1437, 0.9999999940900975), (2522, 227, 0.9999999982003109), (2531, 267, 0.9999999902820274), (2534, 473, 0.9999999999814237), (2534, 2365, 0.9999999995355932), (2536, 62, 0.9999999970500172), (2541, 2317, 0.9999999974815136), (2544, 799, 0.9999999994244887), (2548, 961, 0.9999999990930195), (2550, 715, 0.9999999988291063), (2557, 876, 0.9999999979120855), (2558, 1202, 0.9999999997238871), (2564, 2419, 0.999999993638623), (2582, 222, 0.9999999999999568), (2582, 1110, 0.9999999999989203), (2582, 1998, 0.9999999999965019), (2582, 2886, 0.9999999999927016), (2586, 867, 0.999999993243496), (2599, 1063, 0.9999999967286067), (2601, 862, 0.999999993243496), (2607, 2778, 0.9999999969190185), (2612, 1656, 0.9999999993839149), (2632, 1802, 0.999999996866661), (2637, 612, 0.9999999914573485), (2669, 2714, 0.9999999991146687), (2687, 524, 0.9999999960914796), (2697, 329, 0.9999999923402456), (2701, 1949, 0.9999999945823146), (2703, 752, 0.9999999994244887), (2704, 443, 0.9999999985315368), (2710, 288, 0.999999995173126), (2714, 2669, 0.9999999991146687), (2717, 1937, 0.9999999998641335), (2731, 2233, 0.9999999912979604), (2746, 57, 0.9999999998635031), (2746, 133, 0.99999999925685), (2746, 209, 0.9999999981648745), (2746, 285, 0.9999999965875765), (2746, 361, 0.9999999945249561), (2746, 437, 0.9999999919770133), (2750, 663, 0.9999999988291063), (2754, 586, 0.9999999914573485), (2758, 2324, 0.9999999998985), (2762, 509, 0.9999999957263056), (2768, 2391, 0.999999999341959), (2769, 1336, 0.9999999995198774), (2778, 2607, 0.9999999969190185), (2790, 1401, 0.9999999986825684), (2796, 2069, 0.9999999976377419), (2802, 1395, 0.9999999986825684), (2805, 650, 0.9999999988291063), (2807, 241, 0.9999999968696842), (2821, 868, 0.9999999990930195), (2831, 1859, 0.9999999998641335), (2837, 2957, 0.9999999988592028), (2841, 2219, 0.9999999961980565), (2842, 1229, 0.999999991827411), (2855, 91, 0.9999999980220771), (2857, 1331, 0.9999999939052725), (2875, 2991, 0.9999999955025535), (2876, 417, 0.9999999977965826), (2880, 271, 0.999999995173126), (2884, 1138, 0.9999999971839069), (2886, 2582, 0.9999999999927016), (2887, 1029, 0.9999999990913918), (2887, 2401, 0.9999999950531332), (2890, 2434, 0.9999999991903913), (2913, 733, 0.999999994405293), (2920, 982, 0.9999999925522816), (2951, 194, 0.9999999982003109), (2957, 2837, 0.9999999988592028), (2967, 1388, 0.999999991068884), (2968, 1598, 0.999999996866661), (2978, 1032, 0.9999999952879379), (2984, 891, 0.999999994998317), (2986, 1518, 0.99999999798736), (2991, 2875, 0.9999999955025535), (2992, 2491, 0.9999999922625709), (2993, 2350, 0.9999999949470397), (2994, 1793, 0.9999999963905805)]\n",
            "Продолжительность: 17.716302394866943 секунд\n"
          ]
        }
      ]
    },
    {
      "cell_type": "markdown",
      "source": [
        "Датасет: titanic.csv\n",
        " 1. Выведите распределение переменной Pclass (социально-экономический статус) и это же распределение, только для мужчин / женщин по отдельности. Сколько было мужчин 2-го класса?\n",
        "  2. Каковы медиана и стандартное отклонение платежей (Fare)? Округлите до 2 десятичных знаков.\n"
      ],
      "metadata": {
        "id": "edid525A5pln"
      }
    },
    {
      "cell_type": "code",
      "source": [
        "import pandas as pd\n",
        "data = pd.read_csv('/content/drive/MyDrive/data/titanic.csv')\n",
        "data.head()"
      ],
      "metadata": {
        "colab": {
          "base_uri": "https://localhost:8080/",
          "height": 206
        },
        "id": "kAV2CpQQ5p4B",
        "outputId": "a5248913-9e31-4a9d-fe7c-36ff29f2a88d"
      },
      "execution_count": null,
      "outputs": [
        {
          "output_type": "execute_result",
          "data": {
            "text/plain": [
              "   PassengerId  Survived  Pclass  \\\n",
              "0            1         0       3   \n",
              "1            2         1       1   \n",
              "2            3         1       3   \n",
              "3            4         1       1   \n",
              "4            5         0       3   \n",
              "\n",
              "                                                Name     Sex   Age  SibSp  \\\n",
              "0                            Braund, Mr. Owen Harris    male  22.0      1   \n",
              "1  Cumings, Mrs. John Bradley (Florence Briggs Th...  female  38.0      1   \n",
              "2                             Heikkinen, Miss. Laina  female  26.0      0   \n",
              "3       Futrelle, Mrs. Jacques Heath (Lily May Peel)  female  35.0      1   \n",
              "4                           Allen, Mr. William Henry    male  35.0      0   \n",
              "\n",
              "   Parch            Ticket     Fare Cabin Embarked  \n",
              "0      0         A/5 21171   7.2500   NaN        S  \n",
              "1      0          PC 17599  71.2833   C85        C  \n",
              "2      0  STON/O2. 3101282   7.9250   NaN        S  \n",
              "3      0            113803  53.1000  C123        S  \n",
              "4      0            373450   8.0500   NaN        S  "
            ],
            "text/html": [
              "\n",
              "  <div id=\"df-2fae41aa-adae-423e-815f-0c3b73d51f88\">\n",
              "    <div class=\"colab-df-container\">\n",
              "      <div>\n",
              "<style scoped>\n",
              "    .dataframe tbody tr th:only-of-type {\n",
              "        vertical-align: middle;\n",
              "    }\n",
              "\n",
              "    .dataframe tbody tr th {\n",
              "        vertical-align: top;\n",
              "    }\n",
              "\n",
              "    .dataframe thead th {\n",
              "        text-align: right;\n",
              "    }\n",
              "</style>\n",
              "<table border=\"1\" class=\"dataframe\">\n",
              "  <thead>\n",
              "    <tr style=\"text-align: right;\">\n",
              "      <th></th>\n",
              "      <th>PassengerId</th>\n",
              "      <th>Survived</th>\n",
              "      <th>Pclass</th>\n",
              "      <th>Name</th>\n",
              "      <th>Sex</th>\n",
              "      <th>Age</th>\n",
              "      <th>SibSp</th>\n",
              "      <th>Parch</th>\n",
              "      <th>Ticket</th>\n",
              "      <th>Fare</th>\n",
              "      <th>Cabin</th>\n",
              "      <th>Embarked</th>\n",
              "    </tr>\n",
              "  </thead>\n",
              "  <tbody>\n",
              "    <tr>\n",
              "      <th>0</th>\n",
              "      <td>1</td>\n",
              "      <td>0</td>\n",
              "      <td>3</td>\n",
              "      <td>Braund, Mr. Owen Harris</td>\n",
              "      <td>male</td>\n",
              "      <td>22.0</td>\n",
              "      <td>1</td>\n",
              "      <td>0</td>\n",
              "      <td>A/5 21171</td>\n",
              "      <td>7.2500</td>\n",
              "      <td>NaN</td>\n",
              "      <td>S</td>\n",
              "    </tr>\n",
              "    <tr>\n",
              "      <th>1</th>\n",
              "      <td>2</td>\n",
              "      <td>1</td>\n",
              "      <td>1</td>\n",
              "      <td>Cumings, Mrs. John Bradley (Florence Briggs Th...</td>\n",
              "      <td>female</td>\n",
              "      <td>38.0</td>\n",
              "      <td>1</td>\n",
              "      <td>0</td>\n",
              "      <td>PC 17599</td>\n",
              "      <td>71.2833</td>\n",
              "      <td>C85</td>\n",
              "      <td>C</td>\n",
              "    </tr>\n",
              "    <tr>\n",
              "      <th>2</th>\n",
              "      <td>3</td>\n",
              "      <td>1</td>\n",
              "      <td>3</td>\n",
              "      <td>Heikkinen, Miss. Laina</td>\n",
              "      <td>female</td>\n",
              "      <td>26.0</td>\n",
              "      <td>0</td>\n",
              "      <td>0</td>\n",
              "      <td>STON/O2. 3101282</td>\n",
              "      <td>7.9250</td>\n",
              "      <td>NaN</td>\n",
              "      <td>S</td>\n",
              "    </tr>\n",
              "    <tr>\n",
              "      <th>3</th>\n",
              "      <td>4</td>\n",
              "      <td>1</td>\n",
              "      <td>1</td>\n",
              "      <td>Futrelle, Mrs. Jacques Heath (Lily May Peel)</td>\n",
              "      <td>female</td>\n",
              "      <td>35.0</td>\n",
              "      <td>1</td>\n",
              "      <td>0</td>\n",
              "      <td>113803</td>\n",
              "      <td>53.1000</td>\n",
              "      <td>C123</td>\n",
              "      <td>S</td>\n",
              "    </tr>\n",
              "    <tr>\n",
              "      <th>4</th>\n",
              "      <td>5</td>\n",
              "      <td>0</td>\n",
              "      <td>3</td>\n",
              "      <td>Allen, Mr. William Henry</td>\n",
              "      <td>male</td>\n",
              "      <td>35.0</td>\n",
              "      <td>0</td>\n",
              "      <td>0</td>\n",
              "      <td>373450</td>\n",
              "      <td>8.0500</td>\n",
              "      <td>NaN</td>\n",
              "      <td>S</td>\n",
              "    </tr>\n",
              "  </tbody>\n",
              "</table>\n",
              "</div>\n",
              "      <button class=\"colab-df-convert\" onclick=\"convertToInteractive('df-2fae41aa-adae-423e-815f-0c3b73d51f88')\"\n",
              "              title=\"Convert this dataframe to an interactive table.\"\n",
              "              style=\"display:none;\">\n",
              "        \n",
              "  <svg xmlns=\"http://www.w3.org/2000/svg\" height=\"24px\"viewBox=\"0 0 24 24\"\n",
              "       width=\"24px\">\n",
              "    <path d=\"M0 0h24v24H0V0z\" fill=\"none\"/>\n",
              "    <path d=\"M18.56 5.44l.94 2.06.94-2.06 2.06-.94-2.06-.94-.94-2.06-.94 2.06-2.06.94zm-11 1L8.5 8.5l.94-2.06 2.06-.94-2.06-.94L8.5 2.5l-.94 2.06-2.06.94zm10 10l.94 2.06.94-2.06 2.06-.94-2.06-.94-.94-2.06-.94 2.06-2.06.94z\"/><path d=\"M17.41 7.96l-1.37-1.37c-.4-.4-.92-.59-1.43-.59-.52 0-1.04.2-1.43.59L10.3 9.45l-7.72 7.72c-.78.78-.78 2.05 0 2.83L4 21.41c.39.39.9.59 1.41.59.51 0 1.02-.2 1.41-.59l7.78-7.78 2.81-2.81c.8-.78.8-2.07 0-2.86zM5.41 20L4 18.59l7.72-7.72 1.47 1.35L5.41 20z\"/>\n",
              "  </svg>\n",
              "      </button>\n",
              "      \n",
              "  <style>\n",
              "    .colab-df-container {\n",
              "      display:flex;\n",
              "      flex-wrap:wrap;\n",
              "      gap: 12px;\n",
              "    }\n",
              "\n",
              "    .colab-df-convert {\n",
              "      background-color: #E8F0FE;\n",
              "      border: none;\n",
              "      border-radius: 50%;\n",
              "      cursor: pointer;\n",
              "      display: none;\n",
              "      fill: #1967D2;\n",
              "      height: 32px;\n",
              "      padding: 0 0 0 0;\n",
              "      width: 32px;\n",
              "    }\n",
              "\n",
              "    .colab-df-convert:hover {\n",
              "      background-color: #E2EBFA;\n",
              "      box-shadow: 0px 1px 2px rgba(60, 64, 67, 0.3), 0px 1px 3px 1px rgba(60, 64, 67, 0.15);\n",
              "      fill: #174EA6;\n",
              "    }\n",
              "\n",
              "    [theme=dark] .colab-df-convert {\n",
              "      background-color: #3B4455;\n",
              "      fill: #D2E3FC;\n",
              "    }\n",
              "\n",
              "    [theme=dark] .colab-df-convert:hover {\n",
              "      background-color: #434B5C;\n",
              "      box-shadow: 0px 1px 3px 1px rgba(0, 0, 0, 0.15);\n",
              "      filter: drop-shadow(0px 1px 2px rgba(0, 0, 0, 0.3));\n",
              "      fill: #FFFFFF;\n",
              "    }\n",
              "  </style>\n",
              "\n",
              "      <script>\n",
              "        const buttonEl =\n",
              "          document.querySelector('#df-2fae41aa-adae-423e-815f-0c3b73d51f88 button.colab-df-convert');\n",
              "        buttonEl.style.display =\n",
              "          google.colab.kernel.accessAllowed ? 'block' : 'none';\n",
              "\n",
              "        async function convertToInteractive(key) {\n",
              "          const element = document.querySelector('#df-2fae41aa-adae-423e-815f-0c3b73d51f88');\n",
              "          const dataTable =\n",
              "            await google.colab.kernel.invokeFunction('convertToInteractive',\n",
              "                                                     [key], {});\n",
              "          if (!dataTable) return;\n",
              "\n",
              "          const docLinkHtml = 'Like what you see? Visit the ' +\n",
              "            '<a target=\"_blank\" href=https://colab.research.google.com/notebooks/data_table.ipynb>data table notebook</a>'\n",
              "            + ' to learn more about interactive tables.';\n",
              "          element.innerHTML = '';\n",
              "          dataTable['output_type'] = 'display_data';\n",
              "          await google.colab.output.renderOutput(dataTable, element);\n",
              "          const docLink = document.createElement('div');\n",
              "          docLink.innerHTML = docLinkHtml;\n",
              "          element.appendChild(docLink);\n",
              "        }\n",
              "      </script>\n",
              "    </div>\n",
              "  </div>\n",
              "  "
            ]
          },
          "metadata": {},
          "execution_count": 66
        }
      ]
    },
    {
      "cell_type": "code",
      "source": [
        "data['Pclass'].value_counts()"
      ],
      "metadata": {
        "colab": {
          "base_uri": "https://localhost:8080/"
        },
        "id": "UVJsgrcJ5ucK",
        "outputId": "277c4733-456e-4116-992c-9184e9480f2e"
      },
      "execution_count": null,
      "outputs": [
        {
          "output_type": "execute_result",
          "data": {
            "text/plain": [
              "3    491\n",
              "1    216\n",
              "2    184\n",
              "Name: Pclass, dtype: int64"
            ]
          },
          "metadata": {},
          "execution_count": 67
        }
      ]
    },
    {
      "cell_type": "code",
      "source": [
        "data[data[\"Sex\"] == \"male\"][\"Pclass\"].value_counts()"
      ],
      "metadata": {
        "colab": {
          "base_uri": "https://localhost:8080/"
        },
        "outputId": "d9b7f79e-64cd-4ec9-b28d-474b1af200cc",
        "id": "i47LjHcM5ydF"
      },
      "execution_count": null,
      "outputs": [
        {
          "output_type": "execute_result",
          "data": {
            "text/plain": [
              "3    347\n",
              "1    122\n",
              "2    108\n",
              "Name: Pclass, dtype: int64"
            ]
          },
          "metadata": {},
          "execution_count": 69
        }
      ]
    },
    {
      "cell_type": "markdown",
      "source": [
        "108 мужчин 2 класса"
      ],
      "metadata": {
        "id": "PUyGCReF5ydF"
      }
    },
    {
      "cell_type": "code",
      "source": [
        "data[data[\"Sex\"] == \"female\"][\"Pclass\"].value_counts()"
      ],
      "metadata": {
        "colab": {
          "base_uri": "https://localhost:8080/"
        },
        "outputId": "1c1ca3c7-11f7-4f37-b1a0-fbd454427c82",
        "id": "-kWFEGgb5ydF"
      },
      "execution_count": null,
      "outputs": [
        {
          "output_type": "execute_result",
          "data": {
            "text/plain": [
              "3    144\n",
              "1     94\n",
              "2     76\n",
              "Name: Pclass, dtype: int64"
            ]
          },
          "metadata": {},
          "execution_count": 68
        }
      ]
    },
    {
      "cell_type": "code",
      "source": [
        "data['Fare'].median()"
      ],
      "metadata": {
        "colab": {
          "base_uri": "https://localhost:8080/"
        },
        "id": "-MBHYZNO5yrJ",
        "outputId": "8d5427e1-94bf-487f-e481-1b6aec8e5276"
      },
      "execution_count": null,
      "outputs": [
        {
          "output_type": "execute_result",
          "data": {
            "text/plain": [
              "14.4542"
            ]
          },
          "metadata": {},
          "execution_count": 70
        }
      ]
    },
    {
      "cell_type": "code",
      "source": [
        "data['Fare'].std( )"
      ],
      "metadata": {
        "colab": {
          "base_uri": "https://localhost:8080/"
        },
        "id": "t_WBYeFQ56DC",
        "outputId": "602b6086-ddfe-487e-bac9-2c6428c40a66"
      },
      "execution_count": null,
      "outputs": [
        {
          "output_type": "execute_result",
          "data": {
            "text/plain": [
              "49.6934285971809"
            ]
          },
          "metadata": {},
          "execution_count": 71
        }
      ]
    },
    {
      "cell_type": "markdown",
      "source": [
        "Датасет: accounts.*.csv\n",
        " В accounts.*.csv найти id, для которого в столбце amount встречается наибольшее количество значений между 1000 и 1500."
      ],
      "metadata": {
        "id": "gIKnpUno6A3h"
      }
    },
    {
      "cell_type": "code",
      "source": [
        "import pandas as pd\n",
        "import glob\n",
        "\n",
        "# Получение списка файлов accounts.*.csv\n",
        "files = glob.glob('/content/drive/MyDrive/data2/accounts/accounts.*.csv')\n",
        "\n",
        "# Создание пустого DataFrame для хранения данных\n",
        "df = pd.DataFrame()\n",
        "\n",
        "# Чтение и объединение данных из всех файлов\n",
        "for file in files:\n",
        "    data = pd.read_csv(file)\n",
        "    df = pd.concat([df, data])\n",
        "\n",
        "# Фильтрация значений столбца amount между 1000 и 1500\n",
        "filtered_data = df[(df['amount'] >= 1000) & (df['amount'] <= 1500)]\n",
        "\n",
        "# Подсчет количества значений для каждого id\n",
        "count_by_id = filtered_data['id'].value_counts()\n",
        "\n",
        "# Нахождение id с наибольшим количеством значений\n",
        "most_common_id = count_by_id.idxmax()\n",
        "\n",
        "print(\"ID с наибольшим количеством значений между 1000 и 1500:\", most_common_id)"
      ],
      "metadata": {
        "colab": {
          "base_uri": "https://localhost:8080/"
        },
        "id": "IE7K2FYx5-uB",
        "outputId": "2f8b72d1-a6c3-413a-8302-df8fae8c0c01"
      },
      "execution_count": null,
      "outputs": [
        {
          "output_type": "stream",
          "name": "stdout",
          "text": [
            "ID с наибольшим количеством значений между 1000 и 1500: 473\n"
          ]
        }
      ]
    },
    {
      "cell_type": "code",
      "execution_count": null,
      "metadata": {
        "id": "5ae0aa71"
      },
      "outputs": [],
      "source": [
        "import re\n",
        "import json\n",
        "import pandas as pd\n",
        "import numpy as np\n",
        "import sqlite3\n",
        "import dask.array as da\n",
        "import dask.dataframe as dd\n",
        "import dask.bag as db\n",
        "import h5py\n",
        "import multiprocessing\n",
        "from numba import njit\n",
        "from collections import Counter\n",
        "from math import sin"
      ]
    },
    {
      "cell_type": "markdown",
      "metadata": {
        "id": "434affd6"
      },
      "source": [
        "Датасет: -\n",
        " Напишите функцию, которая принимает на вход два списка случайно сгенерированных целых чисел,каждый размера N, и возвращает новый список, в котором каждый элемент является суммой соответствующих элементов во входных списках.\n",
        "\n",
        "Например, если входными списками являются [1, 2, 3] и [4, 5, 6], функция должна вернуть [5, 7, 9].\n",
        "\n",
        "Затем напишите функцию, скомпилированную с помощью Numba, которая выполняет ту же задачу, и сравните время выполнения обеих функций. Сравните скорость при различных N и сделайте вывод.\n"
      ]
    },
    {
      "cell_type": "code",
      "execution_count": null,
      "metadata": {
        "id": "60c77e8a"
      },
      "outputs": [],
      "source": [
        "def sum_lists(list1, list2):\n",
        "    assert len(list1) == len(list2), \"Списки должны быть одинаковой длины\"\n",
        "    return [x + y for x, y in zip(list1, list2)]\n",
        "\n",
        "sum_lists_numba = njit(sum_lists)"
      ]
    },
    {
      "cell_type": "code",
      "execution_count": null,
      "metadata": {
        "id": "d897bfa3"
      },
      "outputs": [],
      "source": [
        "N = 1_000\n",
        "a = np.random.random(N)\n",
        "b = np.random.random(N)"
      ]
    },
    {
      "cell_type": "code",
      "execution_count": null,
      "metadata": {
        "id": "fe6e8255",
        "outputId": "c540422c-cfaa-41fc-8e69-347a052226af"
      },
      "outputs": [
        {
          "name": "stdout",
          "output_type": "stream",
          "text": [
            "Wall time: 0 ns\n"
          ]
        },
        {
          "data": {
            "text/plain": [
              "[1.9121902198289544,\n",
              " 1.2435765900826832,\n",
              " 1.8066706564875417,\n",
              " 1.201959563337612,\n",
              " 0.9071724719426334,\n",
              " 0.9838365500126431,\n",
              " 1.3303972878803454,\n",
              " 1.04599050519161,\n",
              " 0.9437125314980942,\n",
              " 1.4300539598058042,\n",
              " 1.166429296826521,\n",
              " 0.2996921119007967,\n",
              " 0.5834513025195508,\n",
              " 0.464980030588936,\n",
              " 0.1564628597615637,\n",
              " 0.9407556623924771,\n",
              " 0.8408223445443573,\n",
              " 0.9391087585044174,\n",
              " 1.278066409665331,\n",
              " 0.3460537769834251,\n",
              " 0.33128316297178595,\n",
              " 0.7250653041632854,\n",
              " 0.680095823669631,\n",
              " 0.9434301018986418,\n",
              " 0.7550724498949021,\n",
              " 1.4182852176417273,\n",
              " 1.0930734565469946,\n",
              " 1.6378090171270865,\n",
              " 1.3904034436633095,\n",
              " 1.820591610533242,\n",
              " 0.8854433350756996,\n",
              " 1.3465172200074638,\n",
              " 1.6344542649878973,\n",
              " 0.921453539207875,\n",
              " 1.6674836867231821,\n",
              " 1.5053794483534402,\n",
              " 0.6713812235982464,\n",
              " 1.252157199015652,\n",
              " 1.645087779615031,\n",
              " 0.7891293488756216,\n",
              " 1.8402328058887,\n",
              " 1.0594817891419805,\n",
              " 1.5074410246007686,\n",
              " 0.7075765259404868,\n",
              " 0.2490186352452861,\n",
              " 0.8498249553045628,\n",
              " 0.7671584024542675,\n",
              " 0.7745429476208214,\n",
              " 0.057947600875392524,\n",
              " 0.8794200127258227,\n",
              " 1.3921776939320125,\n",
              " 0.7869030250564328,\n",
              " 1.5625383364698475,\n",
              " 0.4908759287654946,\n",
              " 1.3482514667785792,\n",
              " 1.0865597817325539,\n",
              " 0.727677421655812,\n",
              " 0.16659031777021815,\n",
              " 0.43251680772298484,\n",
              " 0.3344360440426526,\n",
              " 1.2717616440909483,\n",
              " 0.8317100391055604,\n",
              " 0.804291799315533,\n",
              " 0.6114300674321828,\n",
              " 1.3571133252206482,\n",
              " 0.7047932260890933,\n",
              " 0.7251669242678643,\n",
              " 0.9707581380055144,\n",
              " 1.0879681356883797,\n",
              " 0.9784903154623146,\n",
              " 1.627439571101315,\n",
              " 0.9061142492732484,\n",
              " 1.3118822893289444,\n",
              " 0.5641588240690991,\n",
              " 0.7693943900116607,\n",
              " 0.7548979770176201,\n",
              " 1.0165385402030085,\n",
              " 0.9430774500862439,\n",
              " 1.4602198044263448,\n",
              " 0.7144366949030974,\n",
              " 0.7828265117373572,\n",
              " 0.6696453303735334,\n",
              " 1.3892409328732835,\n",
              " 0.6417302972700816,\n",
              " 1.3296303069444062,\n",
              " 0.5982751897531826,\n",
              " 0.8718564894742605,\n",
              " 0.8076812414180944,\n",
              " 0.9118508457442027,\n",
              " 1.3719513162526986,\n",
              " 1.1330131065778652,\n",
              " 1.4718643605895219,\n",
              " 1.0100300593022498,\n",
              " 1.0930351331642985,\n",
              " 0.6371016611298634,\n",
              " 1.4535103478921196,\n",
              " 1.2312850213145308,\n",
              " 1.2179759697859758,\n",
              " 0.7027126488227508,\n",
              " 0.4782894320291283,\n",
              " 0.5442535561890653,\n",
              " 0.8820634849724568,\n",
              " 0.9472307120748157,\n",
              " 0.9287757294569535,\n",
              " 1.4202004015739158,\n",
              " 0.14179644456194973,\n",
              " 1.1537056657119396,\n",
              " 0.9872920200801715,\n",
              " 1.432293852364124,\n",
              " 1.7302852155732724,\n",
              " 1.6209280997152806,\n",
              " 1.3200072977805835,\n",
              " 0.6522905731783023,\n",
              " 0.5712997388317747,\n",
              " 0.5422006819869735,\n",
              " 1.691121917464735,\n",
              " 1.1684362567217719,\n",
              " 0.8060176286956475,\n",
              " 1.4100794185163288,\n",
              " 1.8593792969983518,\n",
              " 0.7817855571305071,\n",
              " 1.1056278204666197,\n",
              " 1.2901105013149001,\n",
              " 1.3506622371580939,\n",
              " 0.5981968067683163,\n",
              " 1.3827415702135388,\n",
              " 0.8595551790524673,\n",
              " 1.5681703090464718,\n",
              " 1.879441788877806,\n",
              " 0.42759596334862315,\n",
              " 1.19855860274361,\n",
              " 1.593598152438547,\n",
              " 1.1664359762869454,\n",
              " 1.3127099234752118,\n",
              " 1.7658949362600893,\n",
              " 0.8758823387627309,\n",
              " 1.3094756373117826,\n",
              " 1.3937363310264872,\n",
              " 0.7455094909779686,\n",
              " 1.5798186796627969,\n",
              " 1.5111323167995656,\n",
              " 1.253195635108884,\n",
              " 1.5768718291295478,\n",
              " 0.5534477496837422,\n",
              " 0.5211423793227435,\n",
              " 0.5933447927309347,\n",
              " 1.1980230176283055,\n",
              " 0.9420103290081353,\n",
              " 1.160408114144316,\n",
              " 1.5154330351682226,\n",
              " 1.354206600991894,\n",
              " 0.6881378553077576,\n",
              " 1.3783801854391933,\n",
              " 0.7857084397115875,\n",
              " 0.41495497630471967,\n",
              " 0.473187811229165,\n",
              " 1.382053057958737,\n",
              " 1.0614193273821502,\n",
              " 0.8874114728245882,\n",
              " 1.3313240381759681,\n",
              " 0.2251666280333472,\n",
              " 0.6516321228115338,\n",
              " 1.5997136700195764,\n",
              " 1.8828787232415105,\n",
              " 0.9041952399788684,\n",
              " 0.9714110391511624,\n",
              " 0.6886714421468053,\n",
              " 1.4189574754664205,\n",
              " 0.43622429359449477,\n",
              " 1.8121499790613587,\n",
              " 0.9049040249383378,\n",
              " 0.9715841640226598,\n",
              " 1.0144195492854737,\n",
              " 1.1663351814415894,\n",
              " 1.0113352745688464,\n",
              " 1.359221021285368,\n",
              " 1.12094155048041,\n",
              " 1.2023841323996356,\n",
              " 1.1706143385591772,\n",
              " 1.3138051961002808,\n",
              " 0.924649541981271,\n",
              " 1.0051337208345883,\n",
              " 1.1789351452478676,\n",
              " 1.591494125680851,\n",
              " 0.5738789400562918,\n",
              " 0.7146241286226813,\n",
              " 0.9256138569154246,\n",
              " 1.0674582591626776,\n",
              " 0.5476944513244439,\n",
              " 1.1385000527596927,\n",
              " 1.0450418668317294,\n",
              " 1.401785696612816,\n",
              " 0.7743724949047192,\n",
              " 0.9450395733993483,\n",
              " 0.7113215441376008,\n",
              " 0.9527659591948552,\n",
              " 0.8469941488893326,\n",
              " 1.0393548525916112,\n",
              " 0.45889148440469374,\n",
              " 1.090420853092647,\n",
              " 0.5382899350343795,\n",
              " 1.2362397462770087,\n",
              " 0.8094032602843946,\n",
              " 1.0390500013662147,\n",
              " 1.3913422887051061,\n",
              " 0.42669755325020986,\n",
              " 0.9150828248956986,\n",
              " 1.0053505956166306,\n",
              " 0.998653943190124,\n",
              " 0.8523453044702158,\n",
              " 1.252981810431321,\n",
              " 1.3841027177820275,\n",
              " 1.5417980075952493,\n",
              " 1.2155754274932682,\n",
              " 0.599181397488851,\n",
              " 1.3876856024260027,\n",
              " 0.7235513816343454,\n",
              " 0.8997861433188501,\n",
              " 1.6608718564100537,\n",
              " 1.5907676591457411,\n",
              " 1.164406705398065,\n",
              " 0.8030320841004285,\n",
              " 0.9078240848859332,\n",
              " 0.8766550180560285,\n",
              " 0.09964532246439262,\n",
              " 0.3297920764195327,\n",
              " 1.349376812040282,\n",
              " 1.398359835330623,\n",
              " 1.8655745685942087,\n",
              " 1.5363300598874616,\n",
              " 0.7838226333970317,\n",
              " 1.0416709760665832,\n",
              " 0.9590622234684857,\n",
              " 1.143253227599269,\n",
              " 1.2674677452623238,\n",
              " 0.47475537939941026,\n",
              " 0.6236450202457458,\n",
              " 0.8499868648179982,\n",
              " 1.0153779897035777,\n",
              " 1.1820721598989867,\n",
              " 1.020013042140574,\n",
              " 0.11555490629497678,\n",
              " 1.5706301735589994,\n",
              " 1.4629687760479162,\n",
              " 0.681228618093471,\n",
              " 0.16285845607774274,\n",
              " 0.8566499321288813,\n",
              " 0.7967379532476249,\n",
              " 1.281525288629194,\n",
              " 1.1380714734510042,\n",
              " 1.1172468800052306,\n",
              " 0.8319889972079122,\n",
              " 0.5419202261141428,\n",
              " 1.1685041326027563,\n",
              " 0.9996748753159241,\n",
              " 1.2144984753713297,\n",
              " 1.0608472967560205,\n",
              " 1.7278072909615418,\n",
              " 0.9254298650237721,\n",
              " 1.6699999375693462,\n",
              " 1.1785888642041584,\n",
              " 0.9587173989790259,\n",
              " 0.718768414096247,\n",
              " 0.9302277392881848,\n",
              " 1.1564850868365726,\n",
              " 0.8006180265948408,\n",
              " 0.6828426800456713,\n",
              " 1.6688114505917304,\n",
              " 1.0617502517330921,\n",
              " 0.3065367145006972,\n",
              " 1.0142025315180732,\n",
              " 1.0965489198488245,\n",
              " 0.844784107594648,\n",
              " 1.0746637888144053,\n",
              " 0.47823089351757464,\n",
              " 0.990191035733469,\n",
              " 1.232894488715376,\n",
              " 0.26357282855949915,\n",
              " 1.3926136396901598,\n",
              " 1.0907557299164443,\n",
              " 0.889641698490611,\n",
              " 0.6440313023235944,\n",
              " 1.1533011496758672,\n",
              " 0.2113950289702855,\n",
              " 0.9188623654701366,\n",
              " 1.2412753767557598,\n",
              " 0.9091247550888594,\n",
              " 0.5935206898111605,\n",
              " 1.3945723205715725,\n",
              " 0.8077231552385803,\n",
              " 1.1671251893096837,\n",
              " 1.2024762066989574,\n",
              " 1.2218627868783147,\n",
              " 1.0503876620084944,\n",
              " 0.6472724552082727,\n",
              " 0.6038259326679175,\n",
              " 1.3135225363818708,\n",
              " 0.4495305958977164,\n",
              " 0.9071924190468721,\n",
              " 0.8874187296860997,\n",
              " 0.6192557787820434,\n",
              " 0.5058282886588219,\n",
              " 0.9504224011754016,\n",
              " 0.7310366373938351,\n",
              " 0.7184680547548965,\n",
              " 1.3318630828723916,\n",
              " 1.1045731087280042,\n",
              " 1.2801644596562385,\n",
              " 0.9479735820360187,\n",
              " 0.9437981985798608,\n",
              " 0.9264101927859334,\n",
              " 0.5491071163195466,\n",
              " 1.1040269602327615,\n",
              " 1.746887235962346,\n",
              " 0.7386267221505941,\n",
              " 0.590370934119048,\n",
              " 0.6216101883016205,\n",
              " 0.887078915059835,\n",
              " 1.2768246211537542,\n",
              " 1.1523169830004087,\n",
              " 0.890019667669461,\n",
              " 0.4481199153889255,\n",
              " 1.0680654228506836,\n",
              " 0.9264741172084829,\n",
              " 0.8178588940885048,\n",
              " 1.4934119190542259,\n",
              " 1.3202358935457283,\n",
              " 0.3851495066597793,\n",
              " 1.1392806078696718,\n",
              " 1.1440243154590077,\n",
              " 1.6656010728024764,\n",
              " 0.8541800673870175,\n",
              " 0.7925854257105087,\n",
              " 0.9805926277181207,\n",
              " 1.0354604817378101,\n",
              " 1.3113634970519708,\n",
              " 1.3219464792146365,\n",
              " 1.2286162506477754,\n",
              " 1.6365603078441215,\n",
              " 1.691473429660069,\n",
              " 1.3028577797258243,\n",
              " 0.5262791863131216,\n",
              " 0.6119506935694959,\n",
              " 1.4254453208278253,\n",
              " 1.4551930876971029,\n",
              " 0.8002497932291225,\n",
              " 0.58986011457681,\n",
              " 0.9109309084365111,\n",
              " 1.2039444349944675,\n",
              " 1.1709906309997826,\n",
              " 1.7501428965660089,\n",
              " 1.1280714758437456,\n",
              " 0.4301490509674337,\n",
              " 0.879114239581495,\n",
              " 0.5685054592338274,\n",
              " 0.45889707920657064,\n",
              " 0.44938932995492653,\n",
              " 0.9755716724603807,\n",
              " 1.3727860371712088,\n",
              " 1.1259523034493724,\n",
              " 1.5285499736789452,\n",
              " 0.7394037392810094,\n",
              " 0.9767095924639072,\n",
              " 1.7624810549777634,\n",
              " 0.5049496970423358,\n",
              " 1.4371445542692693,\n",
              " 0.7634899117899916,\n",
              " 0.5817702120559007,\n",
              " 0.9898404956353396,\n",
              " 1.1448576907180077,\n",
              " 0.3954669450867324,\n",
              " 0.8003777445793019,\n",
              " 0.7747705314501708,\n",
              " 0.5851078288533772,\n",
              " 0.3704471300888985,\n",
              " 1.0128801079666863,\n",
              " 0.9905789262351253,\n",
              " 1.251301664975205,\n",
              " 0.9332252525384611,\n",
              " 1.1536052276844702,\n",
              " 0.7890962959841028,\n",
              " 0.8926814770934739,\n",
              " 1.481147576162633,\n",
              " 1.133799825769373,\n",
              " 1.018709820243207,\n",
              " 1.0834721517092605,\n",
              " 0.9301911658532133,\n",
              " 1.8239778793829347,\n",
              " 0.9433126163957287,\n",
              " 1.1096873000784475,\n",
              " 1.2000687009210327,\n",
              " 0.21029739277424875,\n",
              " 0.12561501620459525,\n",
              " 1.074828747006502,\n",
              " 0.41611862433862523,\n",
              " 1.4943338601666194,\n",
              " 0.6275912552867083,\n",
              " 0.7115850267198242,\n",
              " 0.8980089332394707,\n",
              " 1.4739811665878393,\n",
              " 1.3178424946636151,\n",
              " 0.43095661299199517,\n",
              " 1.1740588421721867,\n",
              " 0.8456588112284449,\n",
              " 1.0201314893840645,\n",
              " 0.2782845170544499,\n",
              " 1.4573868398299026,\n",
              " 1.1084572689131331,\n",
              " 1.0259273939896647,\n",
              " 0.7679132090155687,\n",
              " 0.6846554938238247,\n",
              " 1.2794434511242823,\n",
              " 0.16359236332688487,\n",
              " 1.1244331801106318,\n",
              " 0.7716525845538948,\n",
              " 0.9850443000491131,\n",
              " 0.7498074168980727,\n",
              " 1.185925010068607,\n",
              " 0.7648008156210764,\n",
              " 1.0837291732132317,\n",
              " 0.9676172930084423,\n",
              " 1.160873178217121,\n",
              " 0.9109948294900224,\n",
              " 1.538203531078852,\n",
              " 0.7138091941291269,\n",
              " 0.6189071565039262,\n",
              " 1.0178052200290644,\n",
              " 1.2219619184171768,\n",
              " 0.3309991205482802,\n",
              " 0.34149689764042235,\n",
              " 1.2417059641890769,\n",
              " 0.997768277999821,\n",
              " 0.7343715398100921,\n",
              " 1.5276329697974558,\n",
              " 0.36153773970338887,\n",
              " 0.768366011115157,\n",
              " 0.6515295779228082,\n",
              " 1.0564001878677092,\n",
              " 0.871327512486825,\n",
              " 0.8306825970932457,\n",
              " 0.35126709191353755,\n",
              " 0.8961069205224602,\n",
              " 1.247710162594815,\n",
              " 0.796144551221957,\n",
              " 0.7984236580838959,\n",
              " 1.815403189137128,\n",
              " 1.6647872724141475,\n",
              " 0.8016890553857384,\n",
              " 0.25176340496688077,\n",
              " 1.4158399242686235,\n",
              " 1.712203458130268,\n",
              " 0.514098370785809,\n",
              " 0.8788298887079017,\n",
              " 0.45149832059362505,\n",
              " 0.7201800890523702,\n",
              " 1.0511693959165198,\n",
              " 0.5739567607257106,\n",
              " 0.9990547118259976,\n",
              " 1.1597187671079408,\n",
              " 0.6823044304247301,\n",
              " 1.0737773624025884,\n",
              " 0.9994889725588904,\n",
              " 1.6212423890428758,\n",
              " 0.5487373910065568,\n",
              " 0.6535234237921749,\n",
              " 0.86651610138368,\n",
              " 0.7339512739180937,\n",
              " 0.9926685720062062,\n",
              " 1.1981933197750343,\n",
              " 1.426528567577368,\n",
              " 1.0279718355745975,\n",
              " 0.4130385095155342,\n",
              " 1.1542874454731198,\n",
              " 1.3687320508745553,\n",
              " 1.0710768299362154,\n",
              " 1.0899159083278918,\n",
              " 1.7764666068589132,\n",
              " 1.4733585198418677,\n",
              " 0.8731756104200382,\n",
              " 0.18383213100468,\n",
              " 0.32441545461850163,\n",
              " 1.0398359248722353,\n",
              " 1.4567295929256212,\n",
              " 1.3660083845015127,\n",
              " 0.9194626567313863,\n",
              " 1.0103104004984096,\n",
              " 1.5565975600756474,\n",
              " 1.1531344048372074,\n",
              " 0.8854680246456609,\n",
              " 1.6217502878391241,\n",
              " 0.6988311393501198,\n",
              " 1.8950869961859196,\n",
              " 1.8082845477716807,\n",
              " 1.1770572207529097,\n",
              " 0.31114684377732404,\n",
              " 0.9327436408564362,\n",
              " 0.4954250424581721,\n",
              " 0.19111297014736195,\n",
              " 1.092798843706936,\n",
              " 1.8206165374289172,\n",
              " 1.0055394024214075,\n",
              " 0.7035131071615086,\n",
              " 1.637987286169205,\n",
              " 0.8826730137621823,\n",
              " 1.1866305108960875,\n",
              " 1.9337797502425822,\n",
              " 1.0549647592486795,\n",
              " 0.4496690747006461,\n",
              " 1.6825600721350753,\n",
              " 1.8917738382141547,\n",
              " 1.1276210490223564,\n",
              " 0.3201918924145778,\n",
              " 1.3350421707006928,\n",
              " 0.10794390289173594,\n",
              " 1.5906011812136556,\n",
              " 0.6686050820404936,\n",
              " 1.4242696887121444,\n",
              " 0.8685717769600021,\n",
              " 0.6115940207999859,\n",
              " 1.7308627828327448,\n",
              " 0.8901456439587311,\n",
              " 0.5701194007793593,\n",
              " 0.405828039860726,\n",
              " 0.9562700556826531,\n",
              " 1.5956137701963897,\n",
              " 1.2788912870446316,\n",
              " 1.0299143471428929,\n",
              " 1.472510136496374,\n",
              " 1.2420281498565422,\n",
              " 1.2262346921425098,\n",
              " 0.9318636749996192,\n",
              " 0.8872891644122645,\n",
              " 1.1418838783402556,\n",
              " 0.6057830860288351,\n",
              " 0.713045672800589,\n",
              " 1.1239138102558213,\n",
              " 1.5709544520454983,\n",
              " 1.6739546732281123,\n",
              " 1.6744720190042481,\n",
              " 1.3421490396096396,\n",
              " 1.1685734019573322,\n",
              " 1.07997853689198,\n",
              " 1.0054065082342758,\n",
              " 1.1324236735049484,\n",
              " 1.320138425222145,\n",
              " 1.0757266468390934,\n",
              " 1.4176975513953454,\n",
              " 1.4693834037376237,\n",
              " 0.3112446047267874,\n",
              " 1.3043986208801162,\n",
              " 1.3359145537196921,\n",
              " 1.075974452464045,\n",
              " 0.4854737401204551,\n",
              " 0.25952347626087147,\n",
              " 1.1050648035995274,\n",
              " 1.665758430740957,\n",
              " 0.2787248103259178,\n",
              " 0.47734704639593617,\n",
              " 0.8152608506710426,\n",
              " 1.6256656828898772,\n",
              " 0.8560053863377457,\n",
              " 0.7183135425772385,\n",
              " 1.1016677748575394,\n",
              " 0.9159190612994532,\n",
              " 1.0177397019105414,\n",
              " 1.2949911045772704,\n",
              " 1.386407262003625,\n",
              " 1.471508237674486,\n",
              " 0.6447208519112662,\n",
              " 1.2568111529174315,\n",
              " 1.5239858161877593,\n",
              " 1.3238644603601464,\n",
              " 0.39690939863315566,\n",
              " 0.8942190962988136,\n",
              " 0.6723954938322849,\n",
              " 1.1225168167172916,\n",
              " 0.8260047051670416,\n",
              " 1.6248403278951482,\n",
              " 0.7876394453416838,\n",
              " 0.9231038389871797,\n",
              " 0.9893068783441932,\n",
              " 1.5097352664980093,\n",
              " 1.45341792929137,\n",
              " 0.9086601446794962,\n",
              " 1.3144619973747822,\n",
              " 1.016596490643861,\n",
              " 1.0905488056574533,\n",
              " 0.9962170902235415,\n",
              " 0.5191537173742329,\n",
              " 0.8933313365446749,\n",
              " 0.2082778562145582,\n",
              " 1.8949601081032208,\n",
              " 1.2572994323319358,\n",
              " 1.181233646084939,\n",
              " 0.2679090810574264,\n",
              " 1.3581832613645983,\n",
              " 1.2619817285752148,\n",
              " 1.7079613874600597,\n",
              " 1.5662272335051053,\n",
              " 1.5822314478837542,\n",
              " 0.4431843079509329,\n",
              " 0.9207668801581481,\n",
              " 0.2487993797313015,\n",
              " 1.5056546511803446,\n",
              " 0.38364229695929497,\n",
              " 1.5241709909793437,\n",
              " 1.669516236794014,\n",
              " 0.6255290838307128,\n",
              " 0.7243559366851207,\n",
              " 1.2306941465350616,\n",
              " 1.2123488647471294,\n",
              " 0.8192356814979018,\n",
              " 0.7656229022884694,\n",
              " 0.44227446321488384,\n",
              " 1.6404692718712708,\n",
              " 0.35051875913324326,\n",
              " 0.09748669062603865,\n",
              " 1.2584368626387452,\n",
              " 0.9490637639589571,\n",
              " 0.5844636779098533,\n",
              " 1.0820747789859801,\n",
              " 0.8945092012016373,\n",
              " 1.4732088643124785,\n",
              " 1.113808451012549,\n",
              " 0.5015272402995469,\n",
              " 1.8210720607858983,\n",
              " 1.5696256088019283,\n",
              " 1.603709380230468,\n",
              " 0.8541172543718805,\n",
              " 1.4904289661933199,\n",
              " 0.5152507254042137,\n",
              " 0.7230909434639393,\n",
              " 0.7611656569490616,\n",
              " 1.3936727400617943,\n",
              " 1.6375274956949557,\n",
              " 1.283611131812315,\n",
              " 1.3351268999969599,\n",
              " 1.0114644102384651,\n",
              " 1.2737360201829682,\n",
              " 1.4736807960171645,\n",
              " 1.6895717342874268,\n",
              " 1.0959991100892679,\n",
              " 1.4750073722963881,\n",
              " 1.2504442617252902,\n",
              " 0.6730750515451194,\n",
              " 1.2767039042296742,\n",
              " 0.5973361851674075,\n",
              " 1.48293498000988,\n",
              " 0.7517957241340861,\n",
              " 0.8351818124271332,\n",
              " 1.3331783025402832,\n",
              " 0.1727029284139885,\n",
              " 1.3007021908171588,\n",
              " 1.2118559352089675,\n",
              " 1.1235229484149087,\n",
              " 0.4371574588862982,\n",
              " 0.6319659519054374,\n",
              " 0.558867400784218,\n",
              " 0.6685463174287846,\n",
              " 0.7558421899865324,\n",
              " 0.6354262483434453,\n",
              " 0.8613790177021876,\n",
              " 1.1581489692287965,\n",
              " 1.2201153355548846,\n",
              " 1.093060618564989,\n",
              " 1.0009515630408852,\n",
              " 1.5529929435048928,\n",
              " 0.5578516518182478,\n",
              " 1.3091270733623432,\n",
              " 1.8289189443882587,\n",
              " 1.3875069026556068,\n",
              " 0.48848035438947845,\n",
              " 1.720945723054057,\n",
              " 0.9752866183355573,\n",
              " 1.2019904047203378,\n",
              " 0.7585284689129105,\n",
              " 1.7050946691850362,\n",
              " 1.1915528864667055,\n",
              " 1.5299293088576207,\n",
              " 1.1399876301349354,\n",
              " 0.6002676991516124,\n",
              " 0.48923795439990014,\n",
              " 0.857926152430459,\n",
              " 1.0515718637173963,\n",
              " 1.5546714584983858,\n",
              " 1.1815723097035638,\n",
              " 0.6984163467707425,\n",
              " 0.44818812781973494,\n",
              " 0.4605845632318002,\n",
              " 1.1001584927343036,\n",
              " 1.6134379874375866,\n",
              " 1.8838368000420256,\n",
              " 1.552893634515799,\n",
              " 1.124502943034352,\n",
              " 0.5588086201894906,\n",
              " 0.960110525000711,\n",
              " 1.0765414788841534,\n",
              " 1.0164188905829108,\n",
              " 1.3356900708644068,\n",
              " 1.1708950391323523,\n",
              " 1.1522592074538713,\n",
              " 0.8672775883844084,\n",
              " 0.8028851610950923,\n",
              " 0.9893593775650041,\n",
              " 0.8048409408350927,\n",
              " 1.321772074786494,\n",
              " 1.00760536004811,\n",
              " 0.19795434139161672,\n",
              " 1.1592076023831135,\n",
              " 0.053790364197297214,\n",
              " 1.1944985194415603,\n",
              " 1.4132389936379497,\n",
              " 0.9577000999425661,\n",
              " 1.2758169164045028,\n",
              " 1.3881263947730236,\n",
              " 0.3012678651142071,\n",
              " 0.5268064765000516,\n",
              " 1.543785984697874,\n",
              " 0.7209292127152966,\n",
              " 0.7622204662110182,\n",
              " 1.5209806729984732,\n",
              " 0.6825582667486335,\n",
              " 1.7930367313205715,\n",
              " 1.4248785544740856,\n",
              " 1.0149425302773252,\n",
              " 1.1498524734077793,\n",
              " 0.7769315824651042,\n",
              " 1.180593825230526,\n",
              " 0.43187049942831546,\n",
              " 0.5113140769042318,\n",
              " 0.1005977512361046,\n",
              " 1.3140470608162496,\n",
              " 0.15829704635140895,\n",
              " 0.8433299812457717,\n",
              " 0.9013717994675022,\n",
              " 0.7551408672517378,\n",
              " 0.9940760449455501,\n",
              " 0.7627644090595092,\n",
              " 1.2888179724922109,\n",
              " 1.211959902475816,\n",
              " 1.3025108277376598,\n",
              " 1.304961838418117,\n",
              " 0.9800626420131953,\n",
              " 0.25259246059084095,\n",
              " 0.9810027385530962,\n",
              " 1.0939831087434584,\n",
              " 0.23602003934551108,\n",
              " 1.0776872367461219,\n",
              " 0.42549863688655587,\n",
              " 0.6154098342034431,\n",
              " 0.30066971202460446,\n",
              " 1.260765781781069,\n",
              " 0.4158491839878111,\n",
              " 0.8261902121430531,\n",
              " 1.0208923167412058,\n",
              " 0.9994307763003971,\n",
              " 1.3285200580368102,\n",
              " 0.5068640087698162,\n",
              " 1.4240966381579696,\n",
              " 0.5685840779534153,\n",
              " 1.2122285607298224,\n",
              " 1.3015649759525996,\n",
              " 0.5083479566856478,\n",
              " 1.5120989957330562,\n",
              " 0.7433377761387931,\n",
              " 1.7326502469260228,\n",
              " 0.9819565105556525,\n",
              " 0.6509632046832986,\n",
              " 1.0441941363192768,\n",
              " 1.8457442054962054,\n",
              " 1.1187063947540512,\n",
              " 0.671860881882951,\n",
              " 1.641774839750392,\n",
              " 0.9677133408967291,\n",
              " 0.9506795460823764,\n",
              " 0.2624506130775458,\n",
              " 0.3095629204510254,\n",
              " 0.7689761445557065,\n",
              " 1.371058497946144,\n",
              " 0.5258229542419636,\n",
              " 1.15705325931126,\n",
              " 0.9714591492645586,\n",
              " 1.1321467681815458,\n",
              " 0.5754502899761578,\n",
              " 0.726988599954751,\n",
              " 1.544453167152069,\n",
              " 1.2157824240035016,\n",
              " 1.6139231968931729,\n",
              " 0.26332400733183636,\n",
              " 1.1703264677374925,\n",
              " 1.0894557661663327,\n",
              " 0.5029055888833388,\n",
              " 0.8337771564809866,\n",
              " 0.41983846413638604,\n",
              " 0.7134496907421998,\n",
              " 0.5774779363383074,\n",
              " 1.4965242354341814,\n",
              " 1.2543213479129554,\n",
              " 0.26781517214189077,\n",
              " 0.8055831542972275,\n",
              " 0.945266070383577,\n",
              " 0.39497960444046876,\n",
              " 1.1418764936986423,\n",
              " 0.7193913462763987,\n",
              " 1.09147671504457,\n",
              " 1.1565403606280913,\n",
              " 1.2160665235958934,\n",
              " 0.6502988792619134,\n",
              " 0.38744192064376204,\n",
              " 0.8043840789746425,\n",
              " 0.8866506302006246,\n",
              " 0.7781761210899445,\n",
              " 1.4502288851080372,\n",
              " 0.6272088819735244,\n",
              " 0.40990823317155833,\n",
              " 0.7341148447953277,\n",
              " 0.6068398531173372,\n",
              " 0.6700399098362447,\n",
              " 1.1565984866537915,\n",
              " 1.4812788640089862,\n",
              " 1.7785125904734902,\n",
              " 1.0727607986249794,\n",
              " 0.9251313279160749,\n",
              " 1.350244290622915,\n",
              " 0.9411073435844253,\n",
              " 1.1591044000347797,\n",
              " 1.0266724157201306,\n",
              " 1.3884859534908442,\n",
              " 0.44142875109874635,\n",
              " 0.5767594783399811,\n",
              " 1.1473232537141547,\n",
              " 0.15835140666997083,\n",
              " 0.7786041446065283,\n",
              " 0.8381482456196709,\n",
              " 1.4446322382268182,\n",
              " 1.3445286513014754,\n",
              " 0.4764181057278185,\n",
              " 0.9151532479399342,\n",
              " 1.43691676740863,\n",
              " 0.8162225631754397,\n",
              " 0.9892896827711799,\n",
              " 0.7576541915856679,\n",
              " 0.6837105139497396,\n",
              " 0.9510233174023789,\n",
              " 0.27500932986378257,\n",
              " 0.99980577538318,\n",
              " 1.5661448393693125,\n",
              " 1.1325069429928332,\n",
              " 1.4267322723584526,\n",
              " 1.1897595556904585,\n",
              " 0.5448184453009628,\n",
              " 1.822896575343572,\n",
              " 1.3265058158294245,\n",
              " 1.2367303741081512,\n",
              " 0.07775769480367734,\n",
              " 1.3753259930161887,\n",
              " 1.29283924527509,\n",
              " 0.19660504937670753,\n",
              " 1.557646165988736,\n",
              " 0.5786478621343565,\n",
              " 0.46810509474577466,\n",
              " 0.19769536663245224,\n",
              " 0.9382625169004355,\n",
              " 0.7621369583677146,\n",
              " 0.6239024717159017,\n",
              " 1.3879207932194526,\n",
              " 1.5785239685547847,\n",
              " 1.1539567544152107,\n",
              " 0.6552448391139735,\n",
              " 1.3505489373218358,\n",
              " 1.61490898891644,\n",
              " 1.0303202708488355,\n",
              " 1.6158355006636071,\n",
              " 1.4766535729382553,\n",
              " 0.7572554558956077,\n",
              " 1.2516380219122913,\n",
              " 0.8804468282882699,\n",
              " 1.0767012722121745,\n",
              " 1.8166048536938253,\n",
              " 1.2252817541625385,\n",
              " 1.4323203458373808,\n",
              " 1.3810651993346161,\n",
              " 1.2524131285190645,\n",
              " 1.770413279136255,\n",
              " 0.8305813098734532,\n",
              " 0.6602419385307295,\n",
              " 0.4889914567802204,\n",
              " 1.4926723354948326,\n",
              " 1.4356823598284123,\n",
              " 0.617054935706269,\n",
              " 1.1273229465269632,\n",
              " 0.7524893773583833,\n",
              " 1.2935055645346907,\n",
              " 1.1908856794667206,\n",
              " 0.6519015140151962,\n",
              " 1.4857257850771695,\n",
              " 0.8178395536271584,\n",
              " 0.6729730088191707,\n",
              " 0.6337296640055278,\n",
              " 1.343334607369483,\n",
              " 1.2674503720758206,\n",
              " 1.800850158617341,\n",
              " 1.1277244640702264,\n",
              " 0.6155832250682151,\n",
              " 0.7950932021846646,\n",
              " 1.2650488163882878,\n",
              " 0.8511209341634491,\n",
              " 1.390414530993376,\n",
              " 1.6328182168843515,\n",
              " 0.2436510449792274,\n",
              " 0.2510514424049064,\n",
              " 1.0571574608720502,\n",
              " 0.8304764451137123,\n",
              " 0.48037252722158286,\n",
              " 1.0103630335058105,\n",
              " 1.4754339494444904,\n",
              " 1.7263357587336787,\n",
              " 0.545980578783644,\n",
              " 1.148774765347999,\n",
              " 1.4009328696975518,\n",
              " 1.783097348963728,\n",
              " 0.8832508942564333,\n",
              " 1.8408301307316879,\n",
              " 0.7433805487246177,\n",
              " 1.2113974810286945,\n",
              " 1.671000388999423,\n",
              " 0.9377227450154461,\n",
              " 0.8686790082931173,\n",
              " 0.6575763108843938,\n",
              " 1.0070145071219352,\n",
              " 1.0096906545828466,\n",
              " 0.8450067854605251,\n",
              " 0.23076680478106626,\n",
              " 1.2460447967196993,\n",
              " 1.1308975909708083,\n",
              " 0.8042732317195203,\n",
              " 0.8367165979011998,\n",
              " 0.6032386608962733,\n",
              " 1.3368830729089098,\n",
              " 0.7016630998037555,\n",
              " 1.0096821265115636,\n",
              " 1.4812222952160283,\n",
              " 1.2382789289394966,\n",
              " 0.5957032494471869,\n",
              " 0.8110791075647683,\n",
              " 0.7564764546707466,\n",
              " 0.8735793324854583,\n",
              " 1.2188057763533906,\n",
              " 1.4648095764407647,\n",
              " 1.2698792297774186,\n",
              " 1.3448525506135325,\n",
              " 1.529074776539789,\n",
              " 0.4141384509914837,\n",
              " 0.8970651940383815,\n",
              " 0.47594750905691396,\n",
              " 1.405236672912256,\n",
              " 1.733821057532539,\n",
              " 1.4434509049126736,\n",
              " 1.6515049890895628,\n",
              " 0.8336834106574127,\n",
              " 0.7808262971887285,\n",
              " 0.9517360133115865,\n",
              " 1.0709541410569534,\n",
              " 0.9007893827571118,\n",
              " 1.3858789365480177,\n",
              " 0.6998931933827184,\n",
              " 0.8016113481699175,\n",
              " 0.352062216069123,\n",
              " 0.45183654168344234,\n",
              " 0.8623633361251574,\n",
              " 1.1620890429958188,\n",
              " 0.48721369819750515,\n",
              " 0.5350203050053941,\n",
              " 0.9307520474280858,\n",
              " 0.8257559477101929,\n",
              " 0.2907622957372017,\n",
              " 1.2705344199134396,\n",
              " 1.1628388048057532,\n",
              " 1.469294192510679,\n",
              " 0.5336346430690376,\n",
              " 1.4140851542966124,\n",
              " 0.183761000224689,\n",
              " 1.7474009923705034,\n",
              " 1.4770684788908164,\n",
              " 1.4948280684428719,\n",
              " 1.443389341558588,\n",
              " 1.2938263082643813,\n",
              " 0.674874339267029,\n",
              " 1.1032248327776424,\n",
              " 1.416016779712673,\n",
              " 1.1570562474291406,\n",
              " 0.9043537524022731,\n",
              " 0.9141291373633037,\n",
              " 1.4100724320292848,\n",
              " 1.5498397791721388,\n",
              " 0.9132225226195181,\n",
              " 0.372183388356672,\n",
              " 1.1075419005040459,\n",
              " 1.5672167463349578,\n",
              " 0.9652403473353405]"
            ]
          },
          "execution_count": 112,
          "metadata": {},
          "output_type": "execute_result"
        }
      ],
      "source": [
        "%%time\n",
        "sum_lists(a, b)"
      ]
    },
    {
      "cell_type": "code",
      "execution_count": null,
      "metadata": {
        "id": "637508ed",
        "outputId": "1cd04591-d8a3-4785-e475-e66e9c3b33f1"
      },
      "outputs": [
        {
          "name": "stdout",
          "output_type": "stream",
          "text": [
            "Wall time: 334 ms\n"
          ]
        },
        {
          "data": {
            "text/plain": [
              "[1.9121902198289544,\n",
              " 1.2435765900826832,\n",
              " 1.8066706564875417,\n",
              " 1.201959563337612,\n",
              " 0.9071724719426334,\n",
              " 0.9838365500126431,\n",
              " 1.3303972878803454,\n",
              " 1.04599050519161,\n",
              " 0.9437125314980942,\n",
              " 1.4300539598058042,\n",
              " 1.166429296826521,\n",
              " 0.2996921119007967,\n",
              " 0.5834513025195508,\n",
              " 0.464980030588936,\n",
              " 0.1564628597615637,\n",
              " 0.9407556623924771,\n",
              " 0.8408223445443573,\n",
              " 0.9391087585044174,\n",
              " 1.278066409665331,\n",
              " 0.3460537769834251,\n",
              " 0.33128316297178595,\n",
              " 0.7250653041632854,\n",
              " 0.680095823669631,\n",
              " 0.9434301018986418,\n",
              " 0.7550724498949021,\n",
              " 1.4182852176417273,\n",
              " 1.0930734565469946,\n",
              " 1.6378090171270865,\n",
              " 1.3904034436633095,\n",
              " 1.820591610533242,\n",
              " 0.8854433350756996,\n",
              " 1.3465172200074638,\n",
              " 1.6344542649878973,\n",
              " 0.921453539207875,\n",
              " 1.6674836867231821,\n",
              " 1.5053794483534402,\n",
              " 0.6713812235982464,\n",
              " 1.252157199015652,\n",
              " 1.645087779615031,\n",
              " 0.7891293488756216,\n",
              " 1.8402328058887,\n",
              " 1.0594817891419805,\n",
              " 1.5074410246007686,\n",
              " 0.7075765259404868,\n",
              " 0.2490186352452861,\n",
              " 0.8498249553045628,\n",
              " 0.7671584024542675,\n",
              " 0.7745429476208214,\n",
              " 0.057947600875392524,\n",
              " 0.8794200127258227,\n",
              " 1.3921776939320125,\n",
              " 0.7869030250564328,\n",
              " 1.5625383364698475,\n",
              " 0.4908759287654946,\n",
              " 1.3482514667785792,\n",
              " 1.0865597817325539,\n",
              " 0.727677421655812,\n",
              " 0.16659031777021815,\n",
              " 0.43251680772298484,\n",
              " 0.3344360440426526,\n",
              " 1.2717616440909483,\n",
              " 0.8317100391055604,\n",
              " 0.804291799315533,\n",
              " 0.6114300674321828,\n",
              " 1.3571133252206482,\n",
              " 0.7047932260890933,\n",
              " 0.7251669242678643,\n",
              " 0.9707581380055144,\n",
              " 1.0879681356883797,\n",
              " 0.9784903154623146,\n",
              " 1.627439571101315,\n",
              " 0.9061142492732484,\n",
              " 1.3118822893289444,\n",
              " 0.5641588240690991,\n",
              " 0.7693943900116607,\n",
              " 0.7548979770176201,\n",
              " 1.0165385402030085,\n",
              " 0.9430774500862439,\n",
              " 1.4602198044263448,\n",
              " 0.7144366949030974,\n",
              " 0.7828265117373572,\n",
              " 0.6696453303735334,\n",
              " 1.3892409328732835,\n",
              " 0.6417302972700816,\n",
              " 1.3296303069444062,\n",
              " 0.5982751897531826,\n",
              " 0.8718564894742605,\n",
              " 0.8076812414180944,\n",
              " 0.9118508457442027,\n",
              " 1.3719513162526986,\n",
              " 1.1330131065778652,\n",
              " 1.4718643605895219,\n",
              " 1.0100300593022498,\n",
              " 1.0930351331642985,\n",
              " 0.6371016611298634,\n",
              " 1.4535103478921196,\n",
              " 1.2312850213145308,\n",
              " 1.2179759697859758,\n",
              " 0.7027126488227508,\n",
              " 0.4782894320291283,\n",
              " 0.5442535561890653,\n",
              " 0.8820634849724568,\n",
              " 0.9472307120748157,\n",
              " 0.9287757294569535,\n",
              " 1.4202004015739158,\n",
              " 0.14179644456194973,\n",
              " 1.1537056657119396,\n",
              " 0.9872920200801715,\n",
              " 1.432293852364124,\n",
              " 1.7302852155732724,\n",
              " 1.6209280997152806,\n",
              " 1.3200072977805835,\n",
              " 0.6522905731783023,\n",
              " 0.5712997388317747,\n",
              " 0.5422006819869735,\n",
              " 1.691121917464735,\n",
              " 1.1684362567217719,\n",
              " 0.8060176286956475,\n",
              " 1.4100794185163288,\n",
              " 1.8593792969983518,\n",
              " 0.7817855571305071,\n",
              " 1.1056278204666197,\n",
              " 1.2901105013149001,\n",
              " 1.3506622371580939,\n",
              " 0.5981968067683163,\n",
              " 1.3827415702135388,\n",
              " 0.8595551790524673,\n",
              " 1.5681703090464718,\n",
              " 1.879441788877806,\n",
              " 0.42759596334862315,\n",
              " 1.19855860274361,\n",
              " 1.593598152438547,\n",
              " 1.1664359762869454,\n",
              " 1.3127099234752118,\n",
              " 1.7658949362600893,\n",
              " 0.8758823387627309,\n",
              " 1.3094756373117826,\n",
              " 1.3937363310264872,\n",
              " 0.7455094909779686,\n",
              " 1.5798186796627969,\n",
              " 1.5111323167995656,\n",
              " 1.253195635108884,\n",
              " 1.5768718291295478,\n",
              " 0.5534477496837422,\n",
              " 0.5211423793227435,\n",
              " 0.5933447927309347,\n",
              " 1.1980230176283055,\n",
              " 0.9420103290081353,\n",
              " 1.160408114144316,\n",
              " 1.5154330351682226,\n",
              " 1.354206600991894,\n",
              " 0.6881378553077576,\n",
              " 1.3783801854391933,\n",
              " 0.7857084397115875,\n",
              " 0.41495497630471967,\n",
              " 0.473187811229165,\n",
              " 1.382053057958737,\n",
              " 1.0614193273821502,\n",
              " 0.8874114728245882,\n",
              " 1.3313240381759681,\n",
              " 0.2251666280333472,\n",
              " 0.6516321228115338,\n",
              " 1.5997136700195764,\n",
              " 1.8828787232415105,\n",
              " 0.9041952399788684,\n",
              " 0.9714110391511624,\n",
              " 0.6886714421468053,\n",
              " 1.4189574754664205,\n",
              " 0.43622429359449477,\n",
              " 1.8121499790613587,\n",
              " 0.9049040249383378,\n",
              " 0.9715841640226598,\n",
              " 1.0144195492854737,\n",
              " 1.1663351814415894,\n",
              " 1.0113352745688464,\n",
              " 1.359221021285368,\n",
              " 1.12094155048041,\n",
              " 1.2023841323996356,\n",
              " 1.1706143385591772,\n",
              " 1.3138051961002808,\n",
              " 0.924649541981271,\n",
              " 1.0051337208345883,\n",
              " 1.1789351452478676,\n",
              " 1.591494125680851,\n",
              " 0.5738789400562918,\n",
              " 0.7146241286226813,\n",
              " 0.9256138569154246,\n",
              " 1.0674582591626776,\n",
              " 0.5476944513244439,\n",
              " 1.1385000527596927,\n",
              " 1.0450418668317294,\n",
              " 1.401785696612816,\n",
              " 0.7743724949047192,\n",
              " 0.9450395733993483,\n",
              " 0.7113215441376008,\n",
              " 0.9527659591948552,\n",
              " 0.8469941488893326,\n",
              " 1.0393548525916112,\n",
              " 0.45889148440469374,\n",
              " 1.090420853092647,\n",
              " 0.5382899350343795,\n",
              " 1.2362397462770087,\n",
              " 0.8094032602843946,\n",
              " 1.0390500013662147,\n",
              " 1.3913422887051061,\n",
              " 0.42669755325020986,\n",
              " 0.9150828248956986,\n",
              " 1.0053505956166306,\n",
              " 0.998653943190124,\n",
              " 0.8523453044702158,\n",
              " 1.252981810431321,\n",
              " 1.3841027177820275,\n",
              " 1.5417980075952493,\n",
              " 1.2155754274932682,\n",
              " 0.599181397488851,\n",
              " 1.3876856024260027,\n",
              " 0.7235513816343454,\n",
              " 0.8997861433188501,\n",
              " 1.6608718564100537,\n",
              " 1.5907676591457411,\n",
              " 1.164406705398065,\n",
              " 0.8030320841004285,\n",
              " 0.9078240848859332,\n",
              " 0.8766550180560285,\n",
              " 0.09964532246439262,\n",
              " 0.3297920764195327,\n",
              " 1.349376812040282,\n",
              " 1.398359835330623,\n",
              " 1.8655745685942087,\n",
              " 1.5363300598874616,\n",
              " 0.7838226333970317,\n",
              " 1.0416709760665832,\n",
              " 0.9590622234684857,\n",
              " 1.143253227599269,\n",
              " 1.2674677452623238,\n",
              " 0.47475537939941026,\n",
              " 0.6236450202457458,\n",
              " 0.8499868648179982,\n",
              " 1.0153779897035777,\n",
              " 1.1820721598989867,\n",
              " 1.020013042140574,\n",
              " 0.11555490629497678,\n",
              " 1.5706301735589994,\n",
              " 1.4629687760479162,\n",
              " 0.681228618093471,\n",
              " 0.16285845607774274,\n",
              " 0.8566499321288813,\n",
              " 0.7967379532476249,\n",
              " 1.281525288629194,\n",
              " 1.1380714734510042,\n",
              " 1.1172468800052306,\n",
              " 0.8319889972079122,\n",
              " 0.5419202261141428,\n",
              " 1.1685041326027563,\n",
              " 0.9996748753159241,\n",
              " 1.2144984753713297,\n",
              " 1.0608472967560205,\n",
              " 1.7278072909615418,\n",
              " 0.9254298650237721,\n",
              " 1.6699999375693462,\n",
              " 1.1785888642041584,\n",
              " 0.9587173989790259,\n",
              " 0.718768414096247,\n",
              " 0.9302277392881848,\n",
              " 1.1564850868365726,\n",
              " 0.8006180265948408,\n",
              " 0.6828426800456713,\n",
              " 1.6688114505917304,\n",
              " 1.0617502517330921,\n",
              " 0.3065367145006972,\n",
              " 1.0142025315180732,\n",
              " 1.0965489198488245,\n",
              " 0.844784107594648,\n",
              " 1.0746637888144053,\n",
              " 0.47823089351757464,\n",
              " 0.990191035733469,\n",
              " 1.232894488715376,\n",
              " 0.26357282855949915,\n",
              " 1.3926136396901598,\n",
              " 1.0907557299164443,\n",
              " 0.889641698490611,\n",
              " 0.6440313023235944,\n",
              " 1.1533011496758672,\n",
              " 0.2113950289702855,\n",
              " 0.9188623654701366,\n",
              " 1.2412753767557598,\n",
              " 0.9091247550888594,\n",
              " 0.5935206898111605,\n",
              " 1.3945723205715725,\n",
              " 0.8077231552385803,\n",
              " 1.1671251893096837,\n",
              " 1.2024762066989574,\n",
              " 1.2218627868783147,\n",
              " 1.0503876620084944,\n",
              " 0.6472724552082727,\n",
              " 0.6038259326679175,\n",
              " 1.3135225363818708,\n",
              " 0.4495305958977164,\n",
              " 0.9071924190468721,\n",
              " 0.8874187296860997,\n",
              " 0.6192557787820434,\n",
              " 0.5058282886588219,\n",
              " 0.9504224011754016,\n",
              " 0.7310366373938351,\n",
              " 0.7184680547548965,\n",
              " 1.3318630828723916,\n",
              " 1.1045731087280042,\n",
              " 1.2801644596562385,\n",
              " 0.9479735820360187,\n",
              " 0.9437981985798608,\n",
              " 0.9264101927859334,\n",
              " 0.5491071163195466,\n",
              " 1.1040269602327615,\n",
              " 1.746887235962346,\n",
              " 0.7386267221505941,\n",
              " 0.590370934119048,\n",
              " 0.6216101883016205,\n",
              " 0.887078915059835,\n",
              " 1.2768246211537542,\n",
              " 1.1523169830004087,\n",
              " 0.890019667669461,\n",
              " 0.4481199153889255,\n",
              " 1.0680654228506836,\n",
              " 0.9264741172084829,\n",
              " 0.8178588940885048,\n",
              " 1.4934119190542259,\n",
              " 1.3202358935457283,\n",
              " 0.3851495066597793,\n",
              " 1.1392806078696718,\n",
              " 1.1440243154590077,\n",
              " 1.6656010728024764,\n",
              " 0.8541800673870175,\n",
              " 0.7925854257105087,\n",
              " 0.9805926277181207,\n",
              " 1.0354604817378101,\n",
              " 1.3113634970519708,\n",
              " 1.3219464792146365,\n",
              " 1.2286162506477754,\n",
              " 1.6365603078441215,\n",
              " 1.691473429660069,\n",
              " 1.3028577797258243,\n",
              " 0.5262791863131216,\n",
              " 0.6119506935694959,\n",
              " 1.4254453208278253,\n",
              " 1.4551930876971029,\n",
              " 0.8002497932291225,\n",
              " 0.58986011457681,\n",
              " 0.9109309084365111,\n",
              " 1.2039444349944675,\n",
              " 1.1709906309997826,\n",
              " 1.7501428965660089,\n",
              " 1.1280714758437456,\n",
              " 0.4301490509674337,\n",
              " 0.879114239581495,\n",
              " 0.5685054592338274,\n",
              " 0.45889707920657064,\n",
              " 0.44938932995492653,\n",
              " 0.9755716724603807,\n",
              " 1.3727860371712088,\n",
              " 1.1259523034493724,\n",
              " 1.5285499736789452,\n",
              " 0.7394037392810094,\n",
              " 0.9767095924639072,\n",
              " 1.7624810549777634,\n",
              " 0.5049496970423358,\n",
              " 1.4371445542692693,\n",
              " 0.7634899117899916,\n",
              " 0.5817702120559007,\n",
              " 0.9898404956353396,\n",
              " 1.1448576907180077,\n",
              " 0.3954669450867324,\n",
              " 0.8003777445793019,\n",
              " 0.7747705314501708,\n",
              " 0.5851078288533772,\n",
              " 0.3704471300888985,\n",
              " 1.0128801079666863,\n",
              " 0.9905789262351253,\n",
              " 1.251301664975205,\n",
              " 0.9332252525384611,\n",
              " 1.1536052276844702,\n",
              " 0.7890962959841028,\n",
              " 0.8926814770934739,\n",
              " 1.481147576162633,\n",
              " 1.133799825769373,\n",
              " 1.018709820243207,\n",
              " 1.0834721517092605,\n",
              " 0.9301911658532133,\n",
              " 1.8239778793829347,\n",
              " 0.9433126163957287,\n",
              " 1.1096873000784475,\n",
              " 1.2000687009210327,\n",
              " 0.21029739277424875,\n",
              " 0.12561501620459525,\n",
              " 1.074828747006502,\n",
              " 0.41611862433862523,\n",
              " 1.4943338601666194,\n",
              " 0.6275912552867083,\n",
              " 0.7115850267198242,\n",
              " 0.8980089332394707,\n",
              " 1.4739811665878393,\n",
              " 1.3178424946636151,\n",
              " 0.43095661299199517,\n",
              " 1.1740588421721867,\n",
              " 0.8456588112284449,\n",
              " 1.0201314893840645,\n",
              " 0.2782845170544499,\n",
              " 1.4573868398299026,\n",
              " 1.1084572689131331,\n",
              " 1.0259273939896647,\n",
              " 0.7679132090155687,\n",
              " 0.6846554938238247,\n",
              " 1.2794434511242823,\n",
              " 0.16359236332688487,\n",
              " 1.1244331801106318,\n",
              " 0.7716525845538948,\n",
              " 0.9850443000491131,\n",
              " 0.7498074168980727,\n",
              " 1.185925010068607,\n",
              " 0.7648008156210764,\n",
              " 1.0837291732132317,\n",
              " 0.9676172930084423,\n",
              " 1.160873178217121,\n",
              " 0.9109948294900224,\n",
              " 1.538203531078852,\n",
              " 0.7138091941291269,\n",
              " 0.6189071565039262,\n",
              " 1.0178052200290644,\n",
              " 1.2219619184171768,\n",
              " 0.3309991205482802,\n",
              " 0.34149689764042235,\n",
              " 1.2417059641890769,\n",
              " 0.997768277999821,\n",
              " 0.7343715398100921,\n",
              " 1.5276329697974558,\n",
              " 0.36153773970338887,\n",
              " 0.768366011115157,\n",
              " 0.6515295779228082,\n",
              " 1.0564001878677092,\n",
              " 0.871327512486825,\n",
              " 0.8306825970932457,\n",
              " 0.35126709191353755,\n",
              " 0.8961069205224602,\n",
              " 1.247710162594815,\n",
              " 0.796144551221957,\n",
              " 0.7984236580838959,\n",
              " 1.815403189137128,\n",
              " 1.6647872724141475,\n",
              " 0.8016890553857384,\n",
              " 0.25176340496688077,\n",
              " 1.4158399242686235,\n",
              " 1.712203458130268,\n",
              " 0.514098370785809,\n",
              " 0.8788298887079017,\n",
              " 0.45149832059362505,\n",
              " 0.7201800890523702,\n",
              " 1.0511693959165198,\n",
              " 0.5739567607257106,\n",
              " 0.9990547118259976,\n",
              " 1.1597187671079408,\n",
              " 0.6823044304247301,\n",
              " 1.0737773624025884,\n",
              " 0.9994889725588904,\n",
              " 1.6212423890428758,\n",
              " 0.5487373910065568,\n",
              " 0.6535234237921749,\n",
              " 0.86651610138368,\n",
              " 0.7339512739180937,\n",
              " 0.9926685720062062,\n",
              " 1.1981933197750343,\n",
              " 1.426528567577368,\n",
              " 1.0279718355745975,\n",
              " 0.4130385095155342,\n",
              " 1.1542874454731198,\n",
              " 1.3687320508745553,\n",
              " 1.0710768299362154,\n",
              " 1.0899159083278918,\n",
              " 1.7764666068589132,\n",
              " 1.4733585198418677,\n",
              " 0.8731756104200382,\n",
              " 0.18383213100468,\n",
              " 0.32441545461850163,\n",
              " 1.0398359248722353,\n",
              " 1.4567295929256212,\n",
              " 1.3660083845015127,\n",
              " 0.9194626567313863,\n",
              " 1.0103104004984096,\n",
              " 1.5565975600756474,\n",
              " 1.1531344048372074,\n",
              " 0.8854680246456609,\n",
              " 1.6217502878391241,\n",
              " 0.6988311393501198,\n",
              " 1.8950869961859196,\n",
              " 1.8082845477716807,\n",
              " 1.1770572207529097,\n",
              " 0.31114684377732404,\n",
              " 0.9327436408564362,\n",
              " 0.4954250424581721,\n",
              " 0.19111297014736195,\n",
              " 1.092798843706936,\n",
              " 1.8206165374289172,\n",
              " 1.0055394024214075,\n",
              " 0.7035131071615086,\n",
              " 1.637987286169205,\n",
              " 0.8826730137621823,\n",
              " 1.1866305108960875,\n",
              " 1.9337797502425822,\n",
              " 1.0549647592486795,\n",
              " 0.4496690747006461,\n",
              " 1.6825600721350753,\n",
              " 1.8917738382141547,\n",
              " 1.1276210490223564,\n",
              " 0.3201918924145778,\n",
              " 1.3350421707006928,\n",
              " 0.10794390289173594,\n",
              " 1.5906011812136556,\n",
              " 0.6686050820404936,\n",
              " 1.4242696887121444,\n",
              " 0.8685717769600021,\n",
              " 0.6115940207999859,\n",
              " 1.7308627828327448,\n",
              " 0.8901456439587311,\n",
              " 0.5701194007793593,\n",
              " 0.405828039860726,\n",
              " 0.9562700556826531,\n",
              " 1.5956137701963897,\n",
              " 1.2788912870446316,\n",
              " 1.0299143471428929,\n",
              " 1.472510136496374,\n",
              " 1.2420281498565422,\n",
              " 1.2262346921425098,\n",
              " 0.9318636749996192,\n",
              " 0.8872891644122645,\n",
              " 1.1418838783402556,\n",
              " 0.6057830860288351,\n",
              " 0.713045672800589,\n",
              " 1.1239138102558213,\n",
              " 1.5709544520454983,\n",
              " 1.6739546732281123,\n",
              " 1.6744720190042481,\n",
              " 1.3421490396096396,\n",
              " 1.1685734019573322,\n",
              " 1.07997853689198,\n",
              " 1.0054065082342758,\n",
              " 1.1324236735049484,\n",
              " 1.320138425222145,\n",
              " 1.0757266468390934,\n",
              " 1.4176975513953454,\n",
              " 1.4693834037376237,\n",
              " 0.3112446047267874,\n",
              " 1.3043986208801162,\n",
              " 1.3359145537196921,\n",
              " 1.075974452464045,\n",
              " 0.4854737401204551,\n",
              " 0.25952347626087147,\n",
              " 1.1050648035995274,\n",
              " 1.665758430740957,\n",
              " 0.2787248103259178,\n",
              " 0.47734704639593617,\n",
              " 0.8152608506710426,\n",
              " 1.6256656828898772,\n",
              " 0.8560053863377457,\n",
              " 0.7183135425772385,\n",
              " 1.1016677748575394,\n",
              " 0.9159190612994532,\n",
              " 1.0177397019105414,\n",
              " 1.2949911045772704,\n",
              " 1.386407262003625,\n",
              " 1.471508237674486,\n",
              " 0.6447208519112662,\n",
              " 1.2568111529174315,\n",
              " 1.5239858161877593,\n",
              " 1.3238644603601464,\n",
              " 0.39690939863315566,\n",
              " 0.8942190962988136,\n",
              " 0.6723954938322849,\n",
              " 1.1225168167172916,\n",
              " 0.8260047051670416,\n",
              " 1.6248403278951482,\n",
              " 0.7876394453416838,\n",
              " 0.9231038389871797,\n",
              " 0.9893068783441932,\n",
              " 1.5097352664980093,\n",
              " 1.45341792929137,\n",
              " 0.9086601446794962,\n",
              " 1.3144619973747822,\n",
              " 1.016596490643861,\n",
              " 1.0905488056574533,\n",
              " 0.9962170902235415,\n",
              " 0.5191537173742329,\n",
              " 0.8933313365446749,\n",
              " 0.2082778562145582,\n",
              " 1.8949601081032208,\n",
              " 1.2572994323319358,\n",
              " 1.181233646084939,\n",
              " 0.2679090810574264,\n",
              " 1.3581832613645983,\n",
              " 1.2619817285752148,\n",
              " 1.7079613874600597,\n",
              " 1.5662272335051053,\n",
              " 1.5822314478837542,\n",
              " 0.4431843079509329,\n",
              " 0.9207668801581481,\n",
              " 0.2487993797313015,\n",
              " 1.5056546511803446,\n",
              " 0.38364229695929497,\n",
              " 1.5241709909793437,\n",
              " 1.669516236794014,\n",
              " 0.6255290838307128,\n",
              " 0.7243559366851207,\n",
              " 1.2306941465350616,\n",
              " 1.2123488647471294,\n",
              " 0.8192356814979018,\n",
              " 0.7656229022884694,\n",
              " 0.44227446321488384,\n",
              " 1.6404692718712708,\n",
              " 0.35051875913324326,\n",
              " 0.09748669062603865,\n",
              " 1.2584368626387452,\n",
              " 0.9490637639589571,\n",
              " 0.5844636779098533,\n",
              " 1.0820747789859801,\n",
              " 0.8945092012016373,\n",
              " 1.4732088643124785,\n",
              " 1.113808451012549,\n",
              " 0.5015272402995469,\n",
              " 1.8210720607858983,\n",
              " 1.5696256088019283,\n",
              " 1.603709380230468,\n",
              " 0.8541172543718805,\n",
              " 1.4904289661933199,\n",
              " 0.5152507254042137,\n",
              " 0.7230909434639393,\n",
              " 0.7611656569490616,\n",
              " 1.3936727400617943,\n",
              " 1.6375274956949557,\n",
              " 1.283611131812315,\n",
              " 1.3351268999969599,\n",
              " 1.0114644102384651,\n",
              " 1.2737360201829682,\n",
              " 1.4736807960171645,\n",
              " 1.6895717342874268,\n",
              " 1.0959991100892679,\n",
              " 1.4750073722963881,\n",
              " 1.2504442617252902,\n",
              " 0.6730750515451194,\n",
              " 1.2767039042296742,\n",
              " 0.5973361851674075,\n",
              " 1.48293498000988,\n",
              " 0.7517957241340861,\n",
              " 0.8351818124271332,\n",
              " 1.3331783025402832,\n",
              " 0.1727029284139885,\n",
              " 1.3007021908171588,\n",
              " 1.2118559352089675,\n",
              " 1.1235229484149087,\n",
              " 0.4371574588862982,\n",
              " 0.6319659519054374,\n",
              " 0.558867400784218,\n",
              " 0.6685463174287846,\n",
              " 0.7558421899865324,\n",
              " 0.6354262483434453,\n",
              " 0.8613790177021876,\n",
              " 1.1581489692287965,\n",
              " 1.2201153355548846,\n",
              " 1.093060618564989,\n",
              " 1.0009515630408852,\n",
              " 1.5529929435048928,\n",
              " 0.5578516518182478,\n",
              " 1.3091270733623432,\n",
              " 1.8289189443882587,\n",
              " 1.3875069026556068,\n",
              " 0.48848035438947845,\n",
              " 1.720945723054057,\n",
              " 0.9752866183355573,\n",
              " 1.2019904047203378,\n",
              " 0.7585284689129105,\n",
              " 1.7050946691850362,\n",
              " 1.1915528864667055,\n",
              " 1.5299293088576207,\n",
              " 1.1399876301349354,\n",
              " 0.6002676991516124,\n",
              " 0.48923795439990014,\n",
              " 0.857926152430459,\n",
              " 1.0515718637173963,\n",
              " 1.5546714584983858,\n",
              " 1.1815723097035638,\n",
              " 0.6984163467707425,\n",
              " 0.44818812781973494,\n",
              " 0.4605845632318002,\n",
              " 1.1001584927343036,\n",
              " 1.6134379874375866,\n",
              " 1.8838368000420256,\n",
              " 1.552893634515799,\n",
              " 1.124502943034352,\n",
              " 0.5588086201894906,\n",
              " 0.960110525000711,\n",
              " 1.0765414788841534,\n",
              " 1.0164188905829108,\n",
              " 1.3356900708644068,\n",
              " 1.1708950391323523,\n",
              " 1.1522592074538713,\n",
              " 0.8672775883844084,\n",
              " 0.8028851610950923,\n",
              " 0.9893593775650041,\n",
              " 0.8048409408350927,\n",
              " 1.321772074786494,\n",
              " 1.00760536004811,\n",
              " 0.19795434139161672,\n",
              " 1.1592076023831135,\n",
              " 0.053790364197297214,\n",
              " 1.1944985194415603,\n",
              " 1.4132389936379497,\n",
              " 0.9577000999425661,\n",
              " 1.2758169164045028,\n",
              " 1.3881263947730236,\n",
              " 0.3012678651142071,\n",
              " 0.5268064765000516,\n",
              " 1.543785984697874,\n",
              " 0.7209292127152966,\n",
              " 0.7622204662110182,\n",
              " 1.5209806729984732,\n",
              " 0.6825582667486335,\n",
              " 1.7930367313205715,\n",
              " 1.4248785544740856,\n",
              " 1.0149425302773252,\n",
              " 1.1498524734077793,\n",
              " 0.7769315824651042,\n",
              " 1.180593825230526,\n",
              " 0.43187049942831546,\n",
              " 0.5113140769042318,\n",
              " 0.1005977512361046,\n",
              " 1.3140470608162496,\n",
              " 0.15829704635140895,\n",
              " 0.8433299812457717,\n",
              " 0.9013717994675022,\n",
              " 0.7551408672517378,\n",
              " 0.9940760449455501,\n",
              " 0.7627644090595092,\n",
              " 1.2888179724922109,\n",
              " 1.211959902475816,\n",
              " 1.3025108277376598,\n",
              " 1.304961838418117,\n",
              " 0.9800626420131953,\n",
              " 0.25259246059084095,\n",
              " 0.9810027385530962,\n",
              " 1.0939831087434584,\n",
              " 0.23602003934551108,\n",
              " 1.0776872367461219,\n",
              " 0.42549863688655587,\n",
              " 0.6154098342034431,\n",
              " 0.30066971202460446,\n",
              " 1.260765781781069,\n",
              " 0.4158491839878111,\n",
              " 0.8261902121430531,\n",
              " 1.0208923167412058,\n",
              " 0.9994307763003971,\n",
              " 1.3285200580368102,\n",
              " 0.5068640087698162,\n",
              " 1.4240966381579696,\n",
              " 0.5685840779534153,\n",
              " 1.2122285607298224,\n",
              " 1.3015649759525996,\n",
              " 0.5083479566856478,\n",
              " 1.5120989957330562,\n",
              " 0.7433377761387931,\n",
              " 1.7326502469260228,\n",
              " 0.9819565105556525,\n",
              " 0.6509632046832986,\n",
              " 1.0441941363192768,\n",
              " 1.8457442054962054,\n",
              " 1.1187063947540512,\n",
              " 0.671860881882951,\n",
              " 1.641774839750392,\n",
              " 0.9677133408967291,\n",
              " 0.9506795460823764,\n",
              " 0.2624506130775458,\n",
              " 0.3095629204510254,\n",
              " 0.7689761445557065,\n",
              " 1.371058497946144,\n",
              " 0.5258229542419636,\n",
              " 1.15705325931126,\n",
              " 0.9714591492645586,\n",
              " 1.1321467681815458,\n",
              " 0.5754502899761578,\n",
              " 0.726988599954751,\n",
              " 1.544453167152069,\n",
              " 1.2157824240035016,\n",
              " 1.6139231968931729,\n",
              " 0.26332400733183636,\n",
              " 1.1703264677374925,\n",
              " 1.0894557661663327,\n",
              " 0.5029055888833388,\n",
              " 0.8337771564809866,\n",
              " 0.41983846413638604,\n",
              " 0.7134496907421998,\n",
              " 0.5774779363383074,\n",
              " 1.4965242354341814,\n",
              " 1.2543213479129554,\n",
              " 0.26781517214189077,\n",
              " 0.8055831542972275,\n",
              " 0.945266070383577,\n",
              " 0.39497960444046876,\n",
              " 1.1418764936986423,\n",
              " 0.7193913462763987,\n",
              " 1.09147671504457,\n",
              " 1.1565403606280913,\n",
              " 1.2160665235958934,\n",
              " 0.6502988792619134,\n",
              " 0.38744192064376204,\n",
              " 0.8043840789746425,\n",
              " 0.8866506302006246,\n",
              " 0.7781761210899445,\n",
              " 1.4502288851080372,\n",
              " 0.6272088819735244,\n",
              " 0.40990823317155833,\n",
              " 0.7341148447953277,\n",
              " 0.6068398531173372,\n",
              " 0.6700399098362447,\n",
              " 1.1565984866537915,\n",
              " 1.4812788640089862,\n",
              " 1.7785125904734902,\n",
              " 1.0727607986249794,\n",
              " 0.9251313279160749,\n",
              " 1.350244290622915,\n",
              " 0.9411073435844253,\n",
              " 1.1591044000347797,\n",
              " 1.0266724157201306,\n",
              " 1.3884859534908442,\n",
              " 0.44142875109874635,\n",
              " 0.5767594783399811,\n",
              " 1.1473232537141547,\n",
              " 0.15835140666997083,\n",
              " 0.7786041446065283,\n",
              " 0.8381482456196709,\n",
              " 1.4446322382268182,\n",
              " 1.3445286513014754,\n",
              " 0.4764181057278185,\n",
              " 0.9151532479399342,\n",
              " 1.43691676740863,\n",
              " 0.8162225631754397,\n",
              " 0.9892896827711799,\n",
              " 0.7576541915856679,\n",
              " 0.6837105139497396,\n",
              " 0.9510233174023789,\n",
              " 0.27500932986378257,\n",
              " 0.99980577538318,\n",
              " 1.5661448393693125,\n",
              " 1.1325069429928332,\n",
              " 1.4267322723584526,\n",
              " 1.1897595556904585,\n",
              " 0.5448184453009628,\n",
              " 1.822896575343572,\n",
              " 1.3265058158294245,\n",
              " 1.2367303741081512,\n",
              " 0.07775769480367734,\n",
              " 1.3753259930161887,\n",
              " 1.29283924527509,\n",
              " 0.19660504937670753,\n",
              " 1.557646165988736,\n",
              " 0.5786478621343565,\n",
              " 0.46810509474577466,\n",
              " 0.19769536663245224,\n",
              " 0.9382625169004355,\n",
              " 0.7621369583677146,\n",
              " 0.6239024717159017,\n",
              " 1.3879207932194526,\n",
              " 1.5785239685547847,\n",
              " 1.1539567544152107,\n",
              " 0.6552448391139735,\n",
              " 1.3505489373218358,\n",
              " 1.61490898891644,\n",
              " 1.0303202708488355,\n",
              " 1.6158355006636071,\n",
              " 1.4766535729382553,\n",
              " 0.7572554558956077,\n",
              " 1.2516380219122913,\n",
              " 0.8804468282882699,\n",
              " 1.0767012722121745,\n",
              " 1.8166048536938253,\n",
              " 1.2252817541625385,\n",
              " 1.4323203458373808,\n",
              " 1.3810651993346161,\n",
              " 1.2524131285190645,\n",
              " 1.770413279136255,\n",
              " 0.8305813098734532,\n",
              " 0.6602419385307295,\n",
              " 0.4889914567802204,\n",
              " 1.4926723354948326,\n",
              " 1.4356823598284123,\n",
              " 0.617054935706269,\n",
              " 1.1273229465269632,\n",
              " 0.7524893773583833,\n",
              " 1.2935055645346907,\n",
              " 1.1908856794667206,\n",
              " 0.6519015140151962,\n",
              " 1.4857257850771695,\n",
              " 0.8178395536271584,\n",
              " 0.6729730088191707,\n",
              " 0.6337296640055278,\n",
              " 1.343334607369483,\n",
              " 1.2674503720758206,\n",
              " 1.800850158617341,\n",
              " 1.1277244640702264,\n",
              " 0.6155832250682151,\n",
              " 0.7950932021846646,\n",
              " 1.2650488163882878,\n",
              " 0.8511209341634491,\n",
              " 1.390414530993376,\n",
              " 1.6328182168843515,\n",
              " 0.2436510449792274,\n",
              " 0.2510514424049064,\n",
              " 1.0571574608720502,\n",
              " 0.8304764451137123,\n",
              " 0.48037252722158286,\n",
              " 1.0103630335058105,\n",
              " 1.4754339494444904,\n",
              " 1.7263357587336787,\n",
              " 0.545980578783644,\n",
              " 1.148774765347999,\n",
              " 1.4009328696975518,\n",
              " 1.783097348963728,\n",
              " 0.8832508942564333,\n",
              " 1.8408301307316879,\n",
              " 0.7433805487246177,\n",
              " 1.2113974810286945,\n",
              " 1.671000388999423,\n",
              " 0.9377227450154461,\n",
              " 0.8686790082931173,\n",
              " 0.6575763108843938,\n",
              " 1.0070145071219352,\n",
              " 1.0096906545828466,\n",
              " 0.8450067854605251,\n",
              " 0.23076680478106626,\n",
              " 1.2460447967196993,\n",
              " 1.1308975909708083,\n",
              " 0.8042732317195203,\n",
              " 0.8367165979011998,\n",
              " 0.6032386608962733,\n",
              " 1.3368830729089098,\n",
              " 0.7016630998037555,\n",
              " 1.0096821265115636,\n",
              " 1.4812222952160283,\n",
              " 1.2382789289394966,\n",
              " 0.5957032494471869,\n",
              " 0.8110791075647683,\n",
              " 0.7564764546707466,\n",
              " 0.8735793324854583,\n",
              " 1.2188057763533906,\n",
              " 1.4648095764407647,\n",
              " 1.2698792297774186,\n",
              " 1.3448525506135325,\n",
              " 1.529074776539789,\n",
              " 0.4141384509914837,\n",
              " 0.8970651940383815,\n",
              " 0.47594750905691396,\n",
              " 1.405236672912256,\n",
              " 1.733821057532539,\n",
              " 1.4434509049126736,\n",
              " 1.6515049890895628,\n",
              " 0.8336834106574127,\n",
              " 0.7808262971887285,\n",
              " 0.9517360133115865,\n",
              " 1.0709541410569534,\n",
              " 0.9007893827571118,\n",
              " 1.3858789365480177,\n",
              " 0.6998931933827184,\n",
              " 0.8016113481699175,\n",
              " 0.352062216069123,\n",
              " 0.45183654168344234,\n",
              " 0.8623633361251574,\n",
              " 1.1620890429958188,\n",
              " 0.48721369819750515,\n",
              " 0.5350203050053941,\n",
              " 0.9307520474280858,\n",
              " 0.8257559477101929,\n",
              " 0.2907622957372017,\n",
              " 1.2705344199134396,\n",
              " 1.1628388048057532,\n",
              " 1.469294192510679,\n",
              " 0.5336346430690376,\n",
              " 1.4140851542966124,\n",
              " 0.183761000224689,\n",
              " 1.7474009923705034,\n",
              " 1.4770684788908164,\n",
              " 1.4948280684428719,\n",
              " 1.443389341558588,\n",
              " 1.2938263082643813,\n",
              " 0.674874339267029,\n",
              " 1.1032248327776424,\n",
              " 1.416016779712673,\n",
              " 1.1570562474291406,\n",
              " 0.9043537524022731,\n",
              " 0.9141291373633037,\n",
              " 1.4100724320292848,\n",
              " 1.5498397791721388,\n",
              " 0.9132225226195181,\n",
              " 0.372183388356672,\n",
              " 1.1075419005040459,\n",
              " 1.5672167463349578,\n",
              " 0.9652403473353405]"
            ]
          },
          "execution_count": 113,
          "metadata": {},
          "output_type": "execute_result"
        }
      ],
      "source": [
        "%%time\n",
        "sum_lists_numba(a, b)"
      ]
    },
    {
      "cell_type": "markdown",
      "metadata": {
        "id": "8bab51a4"
      },
      "source": [
        "Датасет: -\n",
        " Дан список целых чисел от 1 до 400 000, найти сумму квадратов каждого целого числа. Решение этой задачи распараллелить, используя multiprocessing Pool. Сравнить продолжительность последовательного и параллельного решения задачи.\n"
      ]
    },
    {
      "cell_type": "code",
      "execution_count": null,
      "metadata": {
        "id": "f439f725"
      },
      "outputs": [],
      "source": [
        "def func(ranges: tuple) -> int:\n",
        "    return sum([i*i for i in range(*ranges)])\n",
        "\n",
        "def parallel_solution():\n",
        "    num_ranges = [(i * 50_000, (i + 1) * 50_000) for i in range(8)]\n",
        "    pool = multiprocessing.Pool()\n",
        "    results = pool.map(func, num_ranges)\n",
        "    results = sum(results)\n",
        "    pool.close()\n",
        "    pool.join()\n",
        "    print(results)"
      ]
    },
    {
      "cell_type": "code",
      "execution_count": null,
      "metadata": {
        "id": "a03b6360"
      },
      "outputs": [],
      "source": [
        "if __name__ == '__main__':\n",
        "    parallel_solution()"
      ]
    },
    {
      "cell_type": "markdown",
      "metadata": {
        "id": "ccd86dfb"
      },
      "source": [
        "Датасет: titanic.csv\n",
        " 1. Каковы медиана и стандартное отклонение платежей (Fare)? Округлите до 2 десятичных знаков.\n",
        " 2. Найдите самое популярное имя среди пассажиров Титаника мужского пола.\n"
      ]
    },
    {
      "cell_type": "code",
      "execution_count": null,
      "metadata": {
        "id": "d9dc40fd",
        "outputId": "7210811d-14bf-4421-c326-315a5d84c8a4"
      },
      "outputs": [
        {
          "name": "stdout",
          "output_type": "stream",
          "text": [
            "Медиана Fare: 14.45\n",
            "Стандартное отклонение Fare: 49.69\n",
            "Самое популярное имя пасажира: William\n"
          ]
        }
      ],
      "source": [
        "# открытие файла\n",
        "data = pd.read_csv('Datasets/titanic.csv')\n",
        "# метод median для медианы и std для стандартного отклонения\n",
        "print(\"Медиана Fare:\", round(data['Fare'].median(), 2))\n",
        "print(\"Стандартное отклонение Fare:\", round(data['Fare'].std(), 2))\n",
        "# сортировка по столбцу Sex, извлечение имён из столбца Name строчными методами pandas и получение\n",
        "# наиболее часто встречающегося значения через функцию value_counts\n",
        "print(\"Самое популярное имя пасажира:\",\n",
        "       data[data['Sex'] == 'male']['Name'].str.split(',').str[1].str.split(' ').str[2].value_counts().index[0])"
      ]
    },
    {
      "cell_type": "markdown",
      "metadata": {
        "id": "2aa77e38"
      },
      "source": [
        "Датасет: minutes_n_ingredients_full.hdf5\n",
        " Считайте датасет recipe из файла minutes_n_ingredients_full.hdf5 в виде dask.array. Укажите аргумент chunks=(100_000, 3) при создании массива. Выведите на экран основную информацию о массиве и посчитайте количество каждого из возможных значений кол-ва ингредиентов.\n"
      ]
    },
    {
      "cell_type": "code",
      "execution_count": null,
      "metadata": {
        "id": "01789779",
        "outputId": "4cf0b0f4-bc11-4e27-c05b-e75f08dc1cc1"
      },
      "outputs": [
        {
          "name": "stdout",
          "output_type": "stream",
          "text": [
            "Основная информация: dask.array<array, shape=(2231637, 3), dtype=int64, chunksize=(100000, 3), chunktype=numpy.ndarray>\n",
            "Количество каждого из возможных значений кол-ва ингредиентов:\n",
            "Counter({7: 247181, 9: 246816, 8: 246747, 6: 244360, 5: 240720, 4: 234948, 3: 229388, 2: 224158, 1: 222071, 10: 22430, 11: 19094, 12: 15165, 13: 11640, 14: 8284, 15: 6014, 16: 4145, 17: 2793, 18: 1913, 19: 1279, 20: 852, 21: 529, 22: 346, 23: 244, 24: 178, 25: 107, 26: 68, 27: 55, 28: 33, 29: 22, 30: 20, 31: 13, 32: 5, 35: 4, 33: 4, 34: 3, 37: 2, 40: 2, 43: 1, 39: 1, 38: 1, 36: 1})\n"
          ]
        }
      ],
      "source": [
        "try:\n",
        "    # открытие файла на чтение\n",
        "    file = h5py.File('Datasets/minutes_n_ingredients_full.hdf5', 'r')\n",
        "    # Создаем dask.array из датасета recipe с указанием аргумента chunks\n",
        "    recipe_array = da.from_array(file['recipe'], chunks=(100_000, 3))\n",
        "    print('Основная информация:', recipe_array)\n",
        "    # считываем в переменную только третью колонку, содержащую кол-во ингредиентов для каждого рецепта\n",
        "    ingredients = recipe_array.compute()[:, 2]\n",
        "    print('Количество каждого из возможных значений кол-ва ингредиентов:')\n",
        "    # высчитываем, сколько раз встречается каждое кол-во ингредиентов\n",
        "    print(Counter(ingredients))\n",
        "finally:\n",
        "    # Закрываем файл HDF5\n",
        "    file.close()"
      ]
    },
    {
      "cell_type": "markdown",
      "metadata": {
        "id": "e2da111d"
      },
      "source": [
        "Датасет: Chinook_Sqlite.sqlite\n",
        " С помощью кода на Python с использованием sqlite3 и SQL решить задачу. Реализовать функции на Python:\n",
        "1. Которая возвращает всех имеющихся артистов.\n",
        "2. Которая по имени артиста возвращает все его альбомы с количеством треков в них.\n"
      ]
    },
    {
      "cell_type": "code",
      "execution_count": null,
      "metadata": {
        "id": "0414b0b9"
      },
      "outputs": [],
      "source": [
        "def artists() -> pd.DataFrame:\n",
        "    # подключение к БД и создание курсора\n",
        "    con = sqlite3.connect('Datasets/Chinook_Sqlite.sqlite')\n",
        "    cur = con.cursor()\n",
        "    try:\n",
        "        # попытка выполнить sql запрос и преобразовать полученные данные в pd.DataFrame\n",
        "        cur.execute(f\"\"\"SELECT DISTINCT Name FROM Artist\"\"\")\n",
        "        # получение всех строк bp БД по запросу\n",
        "        fa = cur.fetchall()\n",
        "        columns = [i[0] for i in cur.description]\n",
        "        data = pd.DataFrame(fa, columns=columns)\n",
        "        return data\n",
        "    except sqlite3.DatabaseError as error:\n",
        "        # в случае ошибки в запросе её вывод\n",
        "        print(\"Ошибка:\", error)\n",
        "    finally:\n",
        "        # закрытие курсора и подключение в любом случае\n",
        "        cur.close()\n",
        "        con.close()\n",
        "\n",
        "def all_albums(name: str) -> pd.DataFrame:\n",
        "    # подключение к БД и создание курсора\n",
        "    con = sqlite3.connect('Datasets/Chinook_Sqlite.sqlite')\n",
        "    cur = con.cursor()\n",
        "    try:\n",
        "        # попытка выполнить sql запрос и преобразовать полученные данные в pd.DataFrame\n",
        "        cur.execute(f\"\"\"SELECT Artist.Name,\n",
        "                               Album.title,\n",
        "                               COUNT(TrackId) AS 'number of tracks'\n",
        "                        FROM Track\n",
        "                        INNER JOIN Album USING (AlbumId)\n",
        "                        INNER JOIN Artist USING (ArtistId)\n",
        "                        WHERE Artist.Name = '{name}'\n",
        "                        GROUP BY Album.Title, Artist.Name\"\"\")\n",
        "        # получение всех строк bp БД по запросу\n",
        "        fa = cur.fetchall()\n",
        "        columns = [i[0] for i in cur.description]\n",
        "        data = pd.DataFrame(fa, columns=columns)\n",
        "        return data\n",
        "    except sqlite3.DatabaseError as error:\n",
        "        # в случае ошибки в запросе её вывод\n",
        "        print(\"Ошибка:\", error)\n",
        "    finally:\n",
        "        # закрытие курсора и подключение в любом случае\n",
        "        cur.close()\n",
        "        con.close()"
      ]
    },
    {
      "cell_type": "code",
      "execution_count": null,
      "metadata": {
        "id": "10b11c8e",
        "outputId": "ecea64ae-3ee0-40da-97be-fe74e92ff741"
      },
      "outputs": [
        {
          "data": {
            "text/html": [
              "<div>\n",
              "<style scoped>\n",
              "    .dataframe tbody tr th:only-of-type {\n",
              "        vertical-align: middle;\n",
              "    }\n",
              "\n",
              "    .dataframe tbody tr th {\n",
              "        vertical-align: top;\n",
              "    }\n",
              "\n",
              "    .dataframe thead th {\n",
              "        text-align: right;\n",
              "    }\n",
              "</style>\n",
              "<table border=\"1\" class=\"dataframe\">\n",
              "  <thead>\n",
              "    <tr style=\"text-align: right;\">\n",
              "      <th></th>\n",
              "      <th>Name</th>\n",
              "    </tr>\n",
              "  </thead>\n",
              "  <tbody>\n",
              "    <tr>\n",
              "      <th>0</th>\n",
              "      <td>AC/DC</td>\n",
              "    </tr>\n",
              "    <tr>\n",
              "      <th>1</th>\n",
              "      <td>Accept</td>\n",
              "    </tr>\n",
              "    <tr>\n",
              "      <th>2</th>\n",
              "      <td>Aerosmith</td>\n",
              "    </tr>\n",
              "    <tr>\n",
              "      <th>3</th>\n",
              "      <td>Alanis Morissette</td>\n",
              "    </tr>\n",
              "    <tr>\n",
              "      <th>4</th>\n",
              "      <td>Alice In Chains</td>\n",
              "    </tr>\n",
              "    <tr>\n",
              "      <th>...</th>\n",
              "      <td>...</td>\n",
              "    </tr>\n",
              "    <tr>\n",
              "      <th>270</th>\n",
              "      <td>Mela Tenenbaum, Pro Musica Prague &amp; Richard Kapp</td>\n",
              "    </tr>\n",
              "    <tr>\n",
              "      <th>271</th>\n",
              "      <td>Emerson String Quartet</td>\n",
              "    </tr>\n",
              "    <tr>\n",
              "      <th>272</th>\n",
              "      <td>C. Monteverdi, Nigel Rogers - Chiaroscuro; Lon...</td>\n",
              "    </tr>\n",
              "    <tr>\n",
              "      <th>273</th>\n",
              "      <td>Nash Ensemble</td>\n",
              "    </tr>\n",
              "    <tr>\n",
              "      <th>274</th>\n",
              "      <td>Philip Glass Ensemble</td>\n",
              "    </tr>\n",
              "  </tbody>\n",
              "</table>\n",
              "<p>275 rows × 1 columns</p>\n",
              "</div>"
            ],
            "text/plain": [
              "                                                  Name\n",
              "0                                                AC/DC\n",
              "1                                               Accept\n",
              "2                                            Aerosmith\n",
              "3                                    Alanis Morissette\n",
              "4                                      Alice In Chains\n",
              "..                                                 ...\n",
              "270   Mela Tenenbaum, Pro Musica Prague & Richard Kapp\n",
              "271                             Emerson String Quartet\n",
              "272  C. Monteverdi, Nigel Rogers - Chiaroscuro; Lon...\n",
              "273                                      Nash Ensemble\n",
              "274                              Philip Glass Ensemble\n",
              "\n",
              "[275 rows x 1 columns]"
            ]
          },
          "execution_count": 101,
          "metadata": {},
          "output_type": "execute_result"
        }
      ],
      "source": [
        "artists()"
      ]
    },
    {
      "cell_type": "code",
      "execution_count": null,
      "metadata": {
        "id": "27c487f2",
        "outputId": "8e415778-69c7-4527-f603-94da11bfbe8b"
      },
      "outputs": [
        {
          "data": {
            "text/html": [
              "<div>\n",
              "<style scoped>\n",
              "    .dataframe tbody tr th:only-of-type {\n",
              "        vertical-align: middle;\n",
              "    }\n",
              "\n",
              "    .dataframe tbody tr th {\n",
              "        vertical-align: top;\n",
              "    }\n",
              "\n",
              "    .dataframe thead th {\n",
              "        text-align: right;\n",
              "    }\n",
              "</style>\n",
              "<table border=\"1\" class=\"dataframe\">\n",
              "  <thead>\n",
              "    <tr style=\"text-align: right;\">\n",
              "      <th></th>\n",
              "      <th>Name</th>\n",
              "      <th>Title</th>\n",
              "      <th>number of tracks</th>\n",
              "    </tr>\n",
              "  </thead>\n",
              "  <tbody>\n",
              "    <tr>\n",
              "      <th>0</th>\n",
              "      <td>Philip Glass Ensemble</td>\n",
              "      <td>Koyaanisqatsi (Soundtrack from the Motion Pict...</td>\n",
              "      <td>1</td>\n",
              "    </tr>\n",
              "  </tbody>\n",
              "</table>\n",
              "</div>"
            ],
            "text/plain": [
              "                    Name                                              Title  \\\n",
              "0  Philip Glass Ensemble  Koyaanisqatsi (Soundtrack from the Motion Pict...   \n",
              "\n",
              "   number of tracks  \n",
              "0                 1  "
            ]
          },
          "execution_count": 105,
          "metadata": {},
          "output_type": "execute_result"
        }
      ],
      "source": [
        "all_albums('Philip Glass Ensemble')"
      ]
    },
    {
      "cell_type": "markdown",
      "metadata": {
        "id": "d78e357c"
      },
      "source": [
        " Датасет: -\n",
        " Создайте нулевой вектор размера 10\n"
      ]
    },
    {
      "cell_type": "code",
      "execution_count": null,
      "metadata": {
        "id": "8e187bbc",
        "outputId": "dea3b559-fb9e-4d8a-a63f-1ff0a3e23468"
      },
      "outputs": [
        {
          "data": {
            "text/plain": [
              "array([0., 0., 0., 0., 0., 0., 0., 0., 0., 0.])"
            ]
          },
          "execution_count": 59,
          "metadata": {},
          "output_type": "execute_result"
        }
      ],
      "source": [
        "np.zeros(10)"
      ]
    },
    {
      "cell_type": "markdown",
      "metadata": {
        "id": "b365e60f"
      },
      "source": [
        "Датасет: accounts.*.csv\n",
        " В accounts.*.csv найти id, для которого в столбце amount встречается наибольшее количество значений, кратных трем."
      ]
    },
    {
      "cell_type": "code",
      "execution_count": null,
      "metadata": {
        "id": "affbcc5a",
        "outputId": "dbf49f91-9053-40e5-ffff-9e6e82e5a69b"
      },
      "outputs": [
        {
          "data": {
            "text/html": [
              "<div>\n",
              "<style scoped>\n",
              "    .dataframe tbody tr th:only-of-type {\n",
              "        vertical-align: middle;\n",
              "    }\n",
              "\n",
              "    .dataframe tbody tr th {\n",
              "        vertical-align: top;\n",
              "    }\n",
              "\n",
              "    .dataframe thead th {\n",
              "        text-align: right;\n",
              "    }\n",
              "</style>\n",
              "<table border=\"1\" class=\"dataframe\">\n",
              "  <thead>\n",
              "    <tr style=\"text-align: right;\">\n",
              "      <th></th>\n",
              "      <th>id</th>\n",
              "      <th>names</th>\n",
              "      <th>amount</th>\n",
              "    </tr>\n",
              "  </thead>\n",
              "  <tbody>\n",
              "    <tr>\n",
              "      <th>0</th>\n",
              "      <td>39</td>\n",
              "      <td>Victor</td>\n",
              "      <td>205.0</td>\n",
              "    </tr>\n",
              "    <tr>\n",
              "      <th>1</th>\n",
              "      <td>289</td>\n",
              "      <td>Hannah</td>\n",
              "      <td>87.0</td>\n",
              "    </tr>\n",
              "    <tr>\n",
              "      <th>2</th>\n",
              "      <td>234</td>\n",
              "      <td>Victor</td>\n",
              "      <td>1820.0</td>\n",
              "    </tr>\n",
              "    <tr>\n",
              "      <th>3</th>\n",
              "      <td>155</td>\n",
              "      <td>Ray</td>\n",
              "      <td>-600.0</td>\n",
              "    </tr>\n",
              "    <tr>\n",
              "      <th>4</th>\n",
              "      <td>266</td>\n",
              "      <td>Ray</td>\n",
              "      <td>572.0</td>\n",
              "    </tr>\n",
              "    <tr>\n",
              "      <th>...</th>\n",
              "      <td>...</td>\n",
              "      <td>...</td>\n",
              "      <td>...</td>\n",
              "    </tr>\n",
              "    <tr>\n",
              "      <th>999995</th>\n",
              "      <td>270</td>\n",
              "      <td>Edith</td>\n",
              "      <td>810.0</td>\n",
              "    </tr>\n",
              "    <tr>\n",
              "      <th>999996</th>\n",
              "      <td>249</td>\n",
              "      <td>Norbert</td>\n",
              "      <td>132.0</td>\n",
              "    </tr>\n",
              "    <tr>\n",
              "      <th>999997</th>\n",
              "      <td>308</td>\n",
              "      <td>Kevin</td>\n",
              "      <td>20.0</td>\n",
              "    </tr>\n",
              "    <tr>\n",
              "      <th>999998</th>\n",
              "      <td>302</td>\n",
              "      <td>Tim</td>\n",
              "      <td>33.0</td>\n",
              "    </tr>\n",
              "    <tr>\n",
              "      <th>999999</th>\n",
              "      <td>288</td>\n",
              "      <td>Michael</td>\n",
              "      <td>2465.0</td>\n",
              "    </tr>\n",
              "  </tbody>\n",
              "</table>\n",
              "<p>3000000 rows × 3 columns</p>\n",
              "</div>"
            ],
            "text/plain": [
              "         id    names  amount\n",
              "0        39   Victor   205.0\n",
              "1       289   Hannah    87.0\n",
              "2       234   Victor  1820.0\n",
              "3       155      Ray  -600.0\n",
              "4       266      Ray   572.0\n",
              "...     ...      ...     ...\n",
              "999995  270    Edith   810.0\n",
              "999996  249  Norbert   132.0\n",
              "999997  308    Kevin    20.0\n",
              "999998  302      Tim    33.0\n",
              "999999  288  Michael  2465.0\n",
              "\n",
              "[3000000 rows x 3 columns]"
            ]
          },
          "metadata": {},
          "output_type": "display_data"
        },
        {
          "name": "stdout",
          "output_type": "stream",
          "text": [
            "Наибольшее количество значений, кратных трём в ID: 16283\n"
          ]
        }
      ],
      "source": [
        "# открытие файла\n",
        "data = dd.read_csv('Datasets/accounts/*.csv', dtype={'amount': 'float64'})\n",
        "display(data.compute())\n",
        "# фильтруем кратные трём значения в столбце \"amount\"\n",
        "data = data[data['amount'] % 3 == 0]\n",
        "# находим id с наибольшей кол-вом значений\n",
        "max_id = data['id'].value_counts().compute().iloc[0]\n",
        "# выводим результат\n",
        "print(\"Наибольшее количество значений, кратных трём в ID:\", max_id)"
      ]
    },
    {
      "cell_type": "markdown",
      "metadata": {
        "id": "3804a084"
      },
      "source": [
        "Датасет: wine.csv.zip\n",
        " 1. Найти медиану поля points в датасете wine.csv.zip\n",
        " 2. Подсчитайте, сколько раз \"tropical\" и \"fruity\" встречается в описаниях вина (description) в датасете wine.csv.zip. (Необходимо учесть регистр)"
      ]
    },
    {
      "cell_type": "code",
      "execution_count": null,
      "metadata": {
        "id": "4e62a1f7",
        "outputId": "80d2c2af-b506-493f-dbcd-d1f393dd0c29"
      },
      "outputs": [
        {
          "name": "stdout",
          "output_type": "stream",
          "text": [
            "Медиана поля points: 88.0\n",
            "Количество вхождений 'tropical': 3800\n",
            "Количество вхождений 'fruity': 9455\n"
          ]
        }
      ],
      "source": [
        "# открытие файла с пропуском первого столбца, дублирующегно индексы\n",
        "data = pd.read_csv('Datasets/wine.csv/winemag-data-130k-v2.csv', usecols=range(1, 14))\n",
        "# нахождение медианы\n",
        "print(\"Медиана поля points:\", data['points'].median())\n",
        "# подсчет количества вхождений \"tropical\" в столбце \"description\"\n",
        "count_tropical = sum(data[\"description\"].str.contains(\"tropical\", case=False, na=False))\n",
        "# подсчет количества вхождений \"fruity\" в столбце \"description\"\n",
        "count_fruity = sum(data[\"description\"].str.contains(\"fruity\", case=False, na=False))\n",
        "print(\"Количество вхождений 'tropical':\", count_tropical)\n",
        "print(\"Количество вхождений 'fruity':\", count_fruity)"
      ]
    },
    {
      "cell_type": "markdown",
      "metadata": {
        "id": "bd838c82"
      },
      "source": [
        "Датасет: titanic.csv\n",
        " 1. Правда ли, что люди моложе 30 лет выживали чаще, чем люди старше 60 лет? Каковы доли выживших в обеих группах?\n",
        " 2. Найдите самое популярное имя среди пассажиров Титаника мужского пола.\n"
      ]
    },
    {
      "cell_type": "code",
      "execution_count": null,
      "metadata": {
        "id": "2097b0ac",
        "outputId": "1ac34a7a-47f1-4cdf-d9af-aab5cbce29df"
      },
      "outputs": [
        {
          "name": "stdout",
          "output_type": "stream",
          "text": [
            "Люди моложе 30: 156\n",
            "Люди старше 60: 5\n",
            "Доли моложе 30: 0.40625\n",
            "Доли старше 60: 0.22727272727272727\n",
            "Самое популярное имя пасажира: William\n"
          ]
        }
      ],
      "source": [
        "# открытие файла\n",
        "data = pd.read_csv('Datasets/titanic.csv')\n",
        "# фильтрация DataFrame по колонке Age меньше 30 и суммирование значений из столбца Survived\n",
        "print(\"Люди моложе 30:\", data[data['Age'] < 30]['Survived'].sum())\n",
        "# фильтрация DataFrame по колонке Age больше 60 и суммирование значений из столбца Survived\n",
        "print(\"Люди старше 60:\", data[data['Age'] > 60]['Survived'].sum())\n",
        "# то же самое и деление на всё кол-во элементов\n",
        "print(\"Доли моложе 30:\", data[data['Age'] < 30]['Survived'].sum() / data[data['Age'] < 30].shape[0])\n",
        "print(\"Доли старше 60:\", data[data['Age'] > 60]['Survived'].sum() / data[data['Age'] > 60].shape[0])\n",
        "# сортировка по столбцу Sex, извлечение имён из столбца Name строчными методами pandas и получение\n",
        "# наиболее часто встречающегося значения через функцию value_counts\n",
        "print(\"Самое популярное имя пасажира:\",\n",
        "       data[data['Sex'] == 'male']['Name'].str.split(',').str[1].str.split(' ').str[2].value_counts().index[0])"
      ]
    },
    {
      "cell_type": "markdown",
      "metadata": {
        "id": "b15cb28b"
      },
      "source": [
        "Датасет: -\n",
        " Необходимо найти все целые числа от 1 до 400 000, для которых sin от этого числа будет иметь не менее 9 одинаковых цифр (например, sin(139198)=0.30763333543133703; sin(139198)=0.30763333543133703 т.е. имеет 9 троек). Ответ представляет собой список пар (целое число, значение синуса для него), для которых значение синуса удовлетворяет условию. Решение этой задачи распараллелить, используя multiprocessing Pool. Сравнить продолжительность последовательного и параллельного решения задачи.\n"
      ]
    },
    {
      "cell_type": "code",
      "execution_count": null,
      "metadata": {
        "id": "56b6b688"
      },
      "outputs": [],
      "source": [
        "def func(value: int):\n",
        "    counter = Counter()\n",
        "    sin_value = str(sin(value))\n",
        "    counter += Counter(sin_value)\n",
        "    if counter.most_common(1)[0][1] >= 9:\n",
        "        return value, sin_value"
      ]
    },
    {
      "cell_type": "code",
      "execution_count": null,
      "metadata": {
        "id": "fe313609"
      },
      "outputs": [],
      "source": [
        "if __name__ == '__main__':\n",
        "    with multiprocessing.Pool(processes=cpu_count() * 3) as pool:\n",
        "        result = pool.map(func, range(1, 400_001))\n",
        "        result = list(filter(lambda x: x, result))\n",
        "        print(result)"
      ]
    },
    {
      "cell_type": "markdown",
      "metadata": {
        "id": "70e7039b"
      },
      "source": [
        "Датасет: -\n",
        " Напишите функцию Python, которая вычисляет скалярное произведение двух больших массивов со случайно сгенерированными значениями (например, по N = 10 000 000 элементов в каждом) и возвращает результат. Затем напишите функцию, скомпилированную с помощью Numba, которая выполняет ту же задачу, и сравните время выполнения обеих функций. Сравните скорость при N = 100 и сделайте вывод.\n"
      ]
    },
    {
      "cell_type": "code",
      "execution_count": null,
      "metadata": {
        "id": "55b890bf"
      },
      "outputs": [],
      "source": [
        "def scalar(a: np.array, b: np.array) -> np.array:\n",
        "    rows_a = a.shape[0]\n",
        "    cols_a = a.shape[1]\n",
        "    cols_b = b.shape[1]\n",
        "    result = np.zeros((rows_a, cols_b))\n",
        "    for i in range(rows_a):\n",
        "        for j in range(cols_b):\n",
        "            for k in range(cols_a):\n",
        "                result[i][j] += a[i][k] * b[k][j]\n",
        "    return result\n",
        "\n",
        "\n",
        "scalar_numba = njit(scalar)"
      ]
    },
    {
      "cell_type": "code",
      "execution_count": null,
      "metadata": {
        "id": "bb746270"
      },
      "outputs": [],
      "source": [
        "N = (10, 10)\n",
        "a = np.random.random(N)\n",
        "b = np.random.random(N)"
      ]
    },
    {
      "cell_type": "code",
      "execution_count": null,
      "metadata": {
        "scrolled": false,
        "id": "d20d2ed5",
        "outputId": "cd8bdad2-6f1c-4710-a60c-ef4d241e0905"
      },
      "outputs": [
        {
          "name": "stdout",
          "output_type": "stream",
          "text": [
            "Wall time: 1.02 ms\n"
          ]
        },
        {
          "data": {
            "text/plain": [
              "array([[2.98659788, 2.84677486, 2.01452887, 2.57641703, 2.40710721,\n",
              "        2.10290939, 2.47540452, 2.96587804, 3.49637082, 2.7221117 ],\n",
              "       [2.97702904, 2.44951339, 2.39351183, 2.33976027, 2.58765288,\n",
              "        2.45130763, 2.40483163, 2.94684539, 3.1702557 , 2.85415409],\n",
              "       [4.30886916, 2.68593644, 3.25353024, 3.35118865, 3.28196514,\n",
              "        2.93839896, 2.65265958, 3.7613377 , 3.54436173, 3.65072182],\n",
              "       [2.62422224, 2.13618553, 2.08424922, 2.3347518 , 1.50644149,\n",
              "        1.676068  , 1.79622546, 1.83790891, 2.17106007, 2.19970082],\n",
              "       [2.15571966, 2.04449341, 1.44922338, 1.74104028, 1.84378596,\n",
              "        1.85588382, 1.5745485 , 2.60858419, 2.39882528, 2.17536415],\n",
              "       [2.95757348, 1.81148301, 2.44475499, 1.90896746, 2.64751238,\n",
              "        2.45505208, 1.78690918, 3.1559968 , 2.49150153, 2.78036106],\n",
              "       [2.63546774, 2.27000064, 1.84444007, 2.48515342, 1.98691585,\n",
              "        2.07326448, 2.08183631, 2.66395379, 3.01689905, 2.73769927],\n",
              "       [3.21063119, 2.6721695 , 2.12818547, 3.16777084, 1.9916688 ,\n",
              "        1.8931793 , 2.26671496, 2.71724897, 3.13123646, 2.65752918],\n",
              "       [3.26693678, 2.01587217, 2.38784962, 2.85348777, 2.62748762,\n",
              "        2.47953656, 2.44238229, 3.21540128, 3.25956642, 3.06418762],\n",
              "       [3.45723011, 2.53435377, 2.11289234, 2.8314162 , 2.21190763,\n",
              "        2.08118613, 2.54556496, 2.70267027, 3.33857455, 2.85034941]])"
            ]
          },
          "execution_count": 33,
          "metadata": {},
          "output_type": "execute_result"
        }
      ],
      "source": [
        "%%time\n",
        "scalar(a, b)"
      ]
    },
    {
      "cell_type": "code",
      "execution_count": null,
      "metadata": {
        "scrolled": true,
        "id": "41becddb",
        "outputId": "59528025-00f4-41dc-92ef-3d753362800a"
      },
      "outputs": [
        {
          "name": "stdout",
          "output_type": "stream",
          "text": [
            "Wall time: 285 ms\n"
          ]
        },
        {
          "data": {
            "text/plain": [
              "array([[2.98659788, 2.84677486, 2.01452887, 2.57641703, 2.40710721,\n",
              "        2.10290939, 2.47540452, 2.96587804, 3.49637082, 2.7221117 ],\n",
              "       [2.97702904, 2.44951339, 2.39351183, 2.33976027, 2.58765288,\n",
              "        2.45130763, 2.40483163, 2.94684539, 3.1702557 , 2.85415409],\n",
              "       [4.30886916, 2.68593644, 3.25353024, 3.35118865, 3.28196514,\n",
              "        2.93839896, 2.65265958, 3.7613377 , 3.54436173, 3.65072182],\n",
              "       [2.62422224, 2.13618553, 2.08424922, 2.3347518 , 1.50644149,\n",
              "        1.676068  , 1.79622546, 1.83790891, 2.17106007, 2.19970082],\n",
              "       [2.15571966, 2.04449341, 1.44922338, 1.74104028, 1.84378596,\n",
              "        1.85588382, 1.5745485 , 2.60858419, 2.39882528, 2.17536415],\n",
              "       [2.95757348, 1.81148301, 2.44475499, 1.90896746, 2.64751238,\n",
              "        2.45505208, 1.78690918, 3.1559968 , 2.49150153, 2.78036106],\n",
              "       [2.63546774, 2.27000064, 1.84444007, 2.48515342, 1.98691585,\n",
              "        2.07326448, 2.08183631, 2.66395379, 3.01689905, 2.73769927],\n",
              "       [3.21063119, 2.6721695 , 2.12818547, 3.16777084, 1.9916688 ,\n",
              "        1.8931793 , 2.26671496, 2.71724897, 3.13123646, 2.65752918],\n",
              "       [3.26693678, 2.01587217, 2.38784962, 2.85348777, 2.62748762,\n",
              "        2.47953656, 2.44238229, 3.21540128, 3.25956642, 3.06418762],\n",
              "       [3.45723011, 2.53435377, 2.11289234, 2.8314162 , 2.21190763,\n",
              "        2.08118613, 2.54556496, 2.70267027, 3.33857455, 2.85034941]])"
            ]
          },
          "execution_count": 34,
          "metadata": {},
          "output_type": "execute_result"
        }
      ],
      "source": [
        "%%time\n",
        "scalar_numba(a, b)"
      ]
    },
    {
      "cell_type": "markdown",
      "metadata": {
        "id": "87e4f424"
      },
      "source": [
        "Датасет: minutes_n_ingredients_full.hdf5\n",
        " Считайте датасет recipe из файла minutes_n_ingredients_full.hdf5 в виде dask.array. Укажите аргумент chunks=(100_000, 3) при создании массива. Выведите на экран основную информацию о массиве и вычислите среднее значение по каждому столбцу, кроме первого.\n"
      ]
    },
    {
      "cell_type": "code",
      "execution_count": null,
      "metadata": {
        "id": "1e958537",
        "outputId": "fbad3126-7f8b-4a9a-8220-a31f1c8cdbde"
      },
      "outputs": [
        {
          "name": "stdout",
          "output_type": "stream",
          "text": [
            "Основная информация: dask.array<array, shape=(2231637, 3), dtype=int64, chunksize=(100000, 3), chunktype=numpy.ndarray>\n",
            "[1004.20805176    5.4198008 ]\n"
          ]
        }
      ],
      "source": [
        "try:\n",
        "    # открытие файла на чтение\n",
        "    file = h5py.File('Datasets/minutes_n_ingredients_full.hdf5', 'r')\n",
        "    # Создаем dask.array из датасета recipe с указанием аргумента chunks\n",
        "    data = da.from_array(file['recipe'], chunks=(100_000, 3))\n",
        "    print('Основная информация:', data)\n",
        "    print(data[:, 1:].mean(axis=0).compute())\n",
        "finally:\n",
        "    # Закрываем файл HDF5\n",
        "    file.close()"
      ]
    },
    {
      "cell_type": "markdown",
      "metadata": {
        "id": "1187b549"
      },
      "source": [
        "Датасет: -\n",
        " Необходимо найти все пары целых чисел от 1 до 3000, для которых sin от произведения чисел из пары будет иметь значение больше 0.99999999 (sin(237∗1544)=0.9999999951152019>0.99999999). Ответ представляет собой список пар (целое число1, целое число2, значение синуса для из произведения), для которых значение синуса удовлетворяет условию. Решение этой задачи распараллелить, используя multiprocessing Pool. Сравнить продолжительность последовательного и параллельного решения задачи.\n"
      ]
    },
    {
      "cell_type": "markdown",
      "metadata": {
        "id": "a5be4e89"
      },
      "source": [
        "# делать в коллабе"
      ]
    },
    {
      "cell_type": "code",
      "execution_count": null,
      "metadata": {
        "id": "81a0d53a"
      },
      "outputs": [],
      "source": [
        "def func(num_range: tuple):\n",
        "    a, b = num_range\n",
        "    result = []\n",
        "    static = 0.99999999\n",
        "    for i in range(*a):\n",
        "        for j in range(*b):\n",
        "            sin_i_j = sin(i * j)\n",
        "            if sin_i_j > static:\n",
        "                result.append((i, j, sin_i_j))\n",
        "    return result\n",
        "\n",
        "def parallel_solution():\n",
        "    num_ranges = [((1, 1001), (1, 1001)), ((1, 1001), (1000, 2001)), ((1, 1001), (2000, 3001)),\n",
        "                     ((1000, 2001), (1000, 2001)), ((1000, 2001), (2000, 3001)),\n",
        "                     ((2000, 3001), (2000, 3001))]\n",
        "    pool = multiprocessing.Pool()\n",
        "    results = pool.map(func, num_ranges)\n",
        "    pool.close()\n",
        "    pool.join()\n",
        "    print(results)"
      ]
    },
    {
      "cell_type": "code",
      "execution_count": null,
      "metadata": {
        "id": "07249ba8"
      },
      "outputs": [],
      "source": [
        "if __name__ == '__main__':\n",
        "    parallel_solution()"
      ]
    },
    {
      "cell_type": "markdown",
      "metadata": {
        "id": "73c3cec1"
      },
      "source": [
        "Датасет: -\n",
        " Создайте массив 10x10 со случайными значениями и найдите минимальное и максимальное значения"
      ]
    },
    {
      "cell_type": "code",
      "execution_count": null,
      "metadata": {
        "id": "c8e83713",
        "outputId": "9a18887b-2c42-4706-ebcb-337e7d104bc2"
      },
      "outputs": [
        {
          "name": "stdout",
          "output_type": "stream",
          "text": [
            "Минимальное значение: 0.0011463796368024193\n",
            "Максимальное значение: 0.9981971501183917\n"
          ]
        }
      ],
      "source": [
        "# Создание массива 10x10 со случайными значениями от 0 до 1\n",
        "array = np.random.rand(10, 10)\n",
        "# Нахождение минимального значения в массиве\n",
        "print(\"Минимальное значение:\", np.min(array))\n",
        "# Нахождение максимального значения в массиве\n",
        "print(\"Максимальное значение:\", np.max(array))"
      ]
    },
    {
      "cell_type": "markdown",
      "metadata": {
        "id": "7677694a"
      },
      "source": [
        "Датасет: accounts.*.csv\n",
        " В accounts.*.csv найти id, для которого сумма положительных значений в столбце amount наибольшая."
      ]
    },
    {
      "cell_type": "code",
      "execution_count": null,
      "metadata": {
        "id": "6809b54e",
        "outputId": "42d4cf6c-1385-4ce3-9ee6-696bd7b4f18c"
      },
      "outputs": [
        {
          "name": "stdout",
          "output_type": "stream",
          "text": [
            "ID с наибольшей суммой положительных значений: 137\n"
          ]
        }
      ],
      "source": [
        "# открытие файла\n",
        "data = dd.read_csv('Datasets/accounts/*.csv', dtype={'amount': 'float64'})\n",
        "# фильтруем положительные значения в столбце \"amount\"\n",
        "data = data[data['amount'] > 0]\n",
        "# группируем данные по столбцу \"id\" и суммируем значения в столбце \"amount\"\n",
        "data = data.groupby('id')['amount'].sum()\n",
        "# находим id с наибольшей суммой положительных значений\n",
        "max_id = data.idxmax().compute()\n",
        "# выводим результат\n",
        "print(\"ID с наибольшей суммой положительных значений:\", max_id)"
      ]
    },
    {
      "cell_type": "markdown",
      "metadata": {
        "id": "dbbfa7c3"
      },
      "source": [
        "Датасет: titanic.csv\n",
        " 1. Сколько мужчин / женщин находилось на борту?\n",
        " 2. Верно ли, что средний возраст выживших людей выше, чем у не выживших пассажиров?"
      ]
    },
    {
      "cell_type": "code",
      "execution_count": null,
      "metadata": {
        "id": "a366de40",
        "outputId": "dafd47dc-7163-4b5f-9950-a2030a32f513"
      },
      "outputs": [
        {
          "data": {
            "text/plain": [
              "male      577\n",
              "female    314\n",
              "Name: Sex, dtype: int64"
            ]
          },
          "execution_count": 124,
          "metadata": {},
          "output_type": "execute_result"
        }
      ],
      "source": [
        "# открытие файла\n",
        "data = pd.read_csv('Datasets/titanic.csv')\n",
        "# подсчёт встречаемых значений в колонке Sex\n",
        "data['Sex'].value_counts()"
      ]
    },
    {
      "cell_type": "code",
      "execution_count": null,
      "metadata": {
        "id": "0b29f785",
        "outputId": "1f379222-8b77-4144-8873-d00097ddd8e1"
      },
      "outputs": [
        {
          "data": {
            "text/plain": [
              "Survived\n",
              "0    30.626179\n",
              "1    28.343690\n",
              "Name: Age, dtype: float64"
            ]
          },
          "execution_count": 125,
          "metadata": {},
          "output_type": "execute_result"
        }
      ],
      "source": [
        "# группировка по колоке Survived, подсчёт среднего для колонке Age в каждой группе\n",
        "data.groupby(by='Survived')['Age'].mean()"
      ]
    },
    {
      "cell_type": "markdown",
      "metadata": {
        "id": "237c320f"
      },
      "source": [
        "Неверно, средний возраст выживших ниже, чем у невыживших"
      ]
    },
    {
      "cell_type": "markdown",
      "metadata": {
        "id": "96466b65"
      },
      "source": [
        "Датасет: minutes_n_ingredients_full.hdf5\n",
        " Считайте датасет recipe из файла minutes_n_ingredients_full.hdf5 в виде dask.array. Укажите аргумент chunks=(100_000, 3) при создании массива. Выведите на экран основную информацию о массиве и найдите максимальную продолжительность рецепта. Ограничьте максимальную продолжительность рецептов сверху значением, равному 75% квантилю."
      ]
    },
    {
      "cell_type": "code",
      "execution_count": null,
      "metadata": {
        "id": "0992eae3",
        "outputId": "8a9a145b-ad34-43e0-99d3-7d4c7362b60b"
      },
      "outputs": [
        {
          "name": "stdout",
          "output_type": "stream",
          "text": [
            "Основная информация: dask.array<array, shape=(2231637, 3), dtype=int64, chunksize=(100000, 3), chunktype=numpy.ndarray>\n",
            "максимальная продолжительность рецепта: 2147483647\n",
            "[[ 683970      33       9]\n",
            " [1089012      23       5]\n",
            " [1428572       0       5]\n",
            " ...\n",
            " [1029131      19       4]\n",
            " [1700703       1       1]\n",
            " [ 713836       0       9]]\n"
          ]
        }
      ],
      "source": [
        "try:\n",
        "    # открытие файла на чтение\n",
        "    data = h5py.File('Datasets/minutes_n_ingredients_full.hdf5', 'r')\n",
        "    # Создаем dask.array из датасета recipe с указанием аргумента chunks\n",
        "    data = da.from_array(data['recipe'], chunks=(100_000, 3))\n",
        "    print('Основная информация:', recipe_array)\n",
        "    # максимальная продолжительность рецепта\n",
        "    maximum = da.max(data[:, 1], axis=0).compute()\n",
        "    print('максимальная продолжительность рецепта:', maximum)\n",
        "    # квантиль 75% по столбцу от array (что бы не было ошибки)\n",
        "    quantile = np.quantile(np.array(data[:, 1]), .75, axis=0)\n",
        "    # ограничение максимальное продолжительности сверху\n",
        "    print(data[(data[:, 1] < quantile), :].compute())\n",
        "finally:\n",
        "    # Закрываем файл HDF5\n",
        "    file.close()"
      ]
    },
    {
      "cell_type": "markdown",
      "metadata": {
        "id": "1a8c31a5"
      },
      "source": [
        "Датасет: wine.csv.zip\n",
        "1. Как часто каждая страна появляется в датасете wine.csv.zip? Создайте pd.Series сопоставляющую страны количеству отзывов о винах из этой страны.\n",
        "2. Какое вино является «самой выгодной сделкой»? Определите название вина с самым высоким соотношением баллов к цене в датасете wine.csv.zip."
      ]
    },
    {
      "cell_type": "code",
      "execution_count": null,
      "metadata": {
        "id": "8f3efbe0",
        "outputId": "f0a28c1f-fb98-4b41-d3db-03e3f2eeac28"
      },
      "outputs": [
        {
          "data": {
            "text/html": [
              "<div>\n",
              "<style scoped>\n",
              "    .dataframe tbody tr th:only-of-type {\n",
              "        vertical-align: middle;\n",
              "    }\n",
              "\n",
              "    .dataframe tbody tr th {\n",
              "        vertical-align: top;\n",
              "    }\n",
              "\n",
              "    .dataframe thead th {\n",
              "        text-align: right;\n",
              "    }\n",
              "</style>\n",
              "<table border=\"1\" class=\"dataframe\">\n",
              "  <thead>\n",
              "    <tr style=\"text-align: right;\">\n",
              "      <th></th>\n",
              "      <th>country</th>\n",
              "      <th>description</th>\n",
              "      <th>designation</th>\n",
              "      <th>points</th>\n",
              "      <th>price</th>\n",
              "      <th>province</th>\n",
              "      <th>region_1</th>\n",
              "      <th>region_2</th>\n",
              "      <th>taster_name</th>\n",
              "      <th>taster_twitter_handle</th>\n",
              "      <th>title</th>\n",
              "      <th>variety</th>\n",
              "      <th>winery</th>\n",
              "    </tr>\n",
              "  </thead>\n",
              "  <tbody>\n",
              "    <tr>\n",
              "      <th>0</th>\n",
              "      <td>Italy</td>\n",
              "      <td>Aromas include tropical fruit, broom, brimston...</td>\n",
              "      <td>Vulkà Bianco</td>\n",
              "      <td>87</td>\n",
              "      <td>NaN</td>\n",
              "      <td>Sicily &amp; Sardinia</td>\n",
              "      <td>Etna</td>\n",
              "      <td>NaN</td>\n",
              "      <td>Kerin O’Keefe</td>\n",
              "      <td>@kerinokeefe</td>\n",
              "      <td>Nicosia 2013 Vulkà Bianco  (Etna)</td>\n",
              "      <td>White Blend</td>\n",
              "      <td>Nicosia</td>\n",
              "    </tr>\n",
              "    <tr>\n",
              "      <th>1</th>\n",
              "      <td>Portugal</td>\n",
              "      <td>This is ripe and fruity, a wine that is smooth...</td>\n",
              "      <td>Avidagos</td>\n",
              "      <td>87</td>\n",
              "      <td>15.0</td>\n",
              "      <td>Douro</td>\n",
              "      <td>NaN</td>\n",
              "      <td>NaN</td>\n",
              "      <td>Roger Voss</td>\n",
              "      <td>@vossroger</td>\n",
              "      <td>Quinta dos Avidagos 2011 Avidagos Red (Douro)</td>\n",
              "      <td>Portuguese Red</td>\n",
              "      <td>Quinta dos Avidagos</td>\n",
              "    </tr>\n",
              "    <tr>\n",
              "      <th>2</th>\n",
              "      <td>US</td>\n",
              "      <td>Tart and snappy, the flavors of lime flesh and...</td>\n",
              "      <td>NaN</td>\n",
              "      <td>87</td>\n",
              "      <td>14.0</td>\n",
              "      <td>Oregon</td>\n",
              "      <td>Willamette Valley</td>\n",
              "      <td>Willamette Valley</td>\n",
              "      <td>Paul Gregutt</td>\n",
              "      <td>@paulgwine</td>\n",
              "      <td>Rainstorm 2013 Pinot Gris (Willamette Valley)</td>\n",
              "      <td>Pinot Gris</td>\n",
              "      <td>Rainstorm</td>\n",
              "    </tr>\n",
              "    <tr>\n",
              "      <th>3</th>\n",
              "      <td>US</td>\n",
              "      <td>Pineapple rind, lemon pith and orange blossom ...</td>\n",
              "      <td>Reserve Late Harvest</td>\n",
              "      <td>87</td>\n",
              "      <td>13.0</td>\n",
              "      <td>Michigan</td>\n",
              "      <td>Lake Michigan Shore</td>\n",
              "      <td>NaN</td>\n",
              "      <td>Alexander Peartree</td>\n",
              "      <td>NaN</td>\n",
              "      <td>St. Julian 2013 Reserve Late Harvest Riesling ...</td>\n",
              "      <td>Riesling</td>\n",
              "      <td>St. Julian</td>\n",
              "    </tr>\n",
              "    <tr>\n",
              "      <th>4</th>\n",
              "      <td>US</td>\n",
              "      <td>Much like the regular bottling from 2012, this...</td>\n",
              "      <td>Vintner's Reserve Wild Child Block</td>\n",
              "      <td>87</td>\n",
              "      <td>65.0</td>\n",
              "      <td>Oregon</td>\n",
              "      <td>Willamette Valley</td>\n",
              "      <td>Willamette Valley</td>\n",
              "      <td>Paul Gregutt</td>\n",
              "      <td>@paulgwine</td>\n",
              "      <td>Sweet Cheeks 2012 Vintner's Reserve Wild Child...</td>\n",
              "      <td>Pinot Noir</td>\n",
              "      <td>Sweet Cheeks</td>\n",
              "    </tr>\n",
              "  </tbody>\n",
              "</table>\n",
              "</div>"
            ],
            "text/plain": [
              "    country                                        description  \\\n",
              "0     Italy  Aromas include tropical fruit, broom, brimston...   \n",
              "1  Portugal  This is ripe and fruity, a wine that is smooth...   \n",
              "2        US  Tart and snappy, the flavors of lime flesh and...   \n",
              "3        US  Pineapple rind, lemon pith and orange blossom ...   \n",
              "4        US  Much like the regular bottling from 2012, this...   \n",
              "\n",
              "                          designation  points  price           province  \\\n",
              "0                        Vulkà Bianco      87    NaN  Sicily & Sardinia   \n",
              "1                            Avidagos      87   15.0              Douro   \n",
              "2                                 NaN      87   14.0             Oregon   \n",
              "3                Reserve Late Harvest      87   13.0           Michigan   \n",
              "4  Vintner's Reserve Wild Child Block      87   65.0             Oregon   \n",
              "\n",
              "              region_1           region_2         taster_name  \\\n",
              "0                 Etna                NaN       Kerin O’Keefe   \n",
              "1                  NaN                NaN          Roger Voss   \n",
              "2    Willamette Valley  Willamette Valley        Paul Gregutt   \n",
              "3  Lake Michigan Shore                NaN  Alexander Peartree   \n",
              "4    Willamette Valley  Willamette Valley        Paul Gregutt   \n",
              "\n",
              "  taster_twitter_handle                                              title  \\\n",
              "0          @kerinokeefe                  Nicosia 2013 Vulkà Bianco  (Etna)   \n",
              "1            @vossroger      Quinta dos Avidagos 2011 Avidagos Red (Douro)   \n",
              "2           @paulgwine       Rainstorm 2013 Pinot Gris (Willamette Valley)   \n",
              "3                   NaN  St. Julian 2013 Reserve Late Harvest Riesling ...   \n",
              "4           @paulgwine   Sweet Cheeks 2012 Vintner's Reserve Wild Child...   \n",
              "\n",
              "          variety               winery  \n",
              "0     White Blend              Nicosia  \n",
              "1  Portuguese Red  Quinta dos Avidagos  \n",
              "2      Pinot Gris            Rainstorm  \n",
              "3        Riesling           St. Julian  \n",
              "4      Pinot Noir         Sweet Cheeks  "
            ]
          },
          "execution_count": 95,
          "metadata": {},
          "output_type": "execute_result"
        }
      ],
      "source": [
        "# открытие файла с пропуском первого столбца, дублирующегно индексы\n",
        "data = pd.read_csv('Datasets/wine.csv/winemag-data-130k-v2.csv', usecols=range(1, 14))\n",
        "data.head()"
      ]
    },
    {
      "cell_type": "code",
      "execution_count": null,
      "metadata": {
        "id": "43ae2b50",
        "outputId": "731e9b0b-c43a-483a-9f56-ed4541c056fe"
      },
      "outputs": [
        {
          "data": {
            "text/plain": [
              "country\n",
              "Argentina                  3800\n",
              "Armenia                       2\n",
              "Australia                  2329\n",
              "Austria                    3345\n",
              "Bosnia and Herzegovina        2\n",
              "Brazil                       52\n",
              "Bulgaria                    141\n",
              "Canada                      257\n",
              "Chile                      4472\n",
              "China                         1\n",
              "Croatia                      73\n",
              "Cyprus                       11\n",
              "Czech Republic               12\n",
              "Egypt                         1\n",
              "England                      74\n",
              "France                    22093\n",
              "Georgia                      86\n",
              "Germany                    2165\n",
              "Greece                      466\n",
              "Hungary                     146\n",
              "India                         9\n",
              "Israel                      505\n",
              "Italy                     19540\n",
              "Lebanon                      35\n",
              "Luxembourg                    6\n",
              "Macedonia                    12\n",
              "Mexico                       70\n",
              "Moldova                      59\n",
              "Morocco                      28\n",
              "New Zealand                1419\n",
              "Peru                         16\n",
              "Portugal                   5691\n",
              "Romania                     120\n",
              "Serbia                       12\n",
              "Slovakia                      1\n",
              "Slovenia                     87\n",
              "South Africa               1401\n",
              "Spain                      6645\n",
              "Switzerland                   7\n",
              "Turkey                       90\n",
              "US                        54504\n",
              "Ukraine                      14\n",
              "Uruguay                     109\n",
              "Name: description, dtype: int64"
            ]
          },
          "execution_count": 100,
          "metadata": {},
          "output_type": "execute_result"
        }
      ],
      "source": [
        "# группирование по стране и подсчёт столбца description для каждой country\n",
        "countries = data.groupby(by='country')['description'].count()\n",
        "countries"
      ]
    },
    {
      "cell_type": "code",
      "execution_count": null,
      "metadata": {
        "id": "b94a6e93",
        "outputId": "567b7473-be04-435a-e557-298500a11257"
      },
      "outputs": [
        {
          "data": {
            "text/plain": [
              "64590                         Bandit NV Merlot (California)\n",
              "126096    Cramele Recas 2011 UnWineD Pinot Grigio (Viile...\n",
              "Name: title, dtype: object"
            ]
          },
          "execution_count": 110,
          "metadata": {},
          "output_type": "execute_result"
        }
      ],
      "source": [
        "# поиск значений с самым высоким соотношением баллов к цене\n",
        "data[data['points'] / data['price'] == (data['points'] / data['price']).max()]['title']"
      ]
    },
    {
      "cell_type": "markdown",
      "metadata": {
        "id": "82d864fa"
      },
      "source": [
        "Датасет: reviews_full_mini\n",
        " В файлах папки  reviews_full_mini находятся файлы, содержащие информацию об отзывах к рецептам в формате JSON Lines. Отзывы разделены на файлы в зависимости от оценки (например, в файле reviews_1.json находятся отзывы с оценкой 1). Считайте файлы из этого архива в виде dask.bag. Преобразуйте текстовое содержимое файлов в объекты python (с помощью модуля json). Выведите на экран первые 5 элементов полученного bag. Модифицируйте функцию разбора JSON таким образом, чтобы в каждый словарь c информацией об отзыве добавить ключ rating.Рассчитайте среднее значение оценок отзывов с группировкой по месяцам (используйте только методы dask.bag), проверьте результат c использованием dask.dataframe"
      ]
    },
    {
      "cell_type": "code",
      "execution_count": null,
      "metadata": {
        "id": "1aee1ed3"
      },
      "outputs": [],
      "source": [
        "def func(json_str: tuple):\n",
        "    # получение рейтига из названия файла через регулярное выражение\n",
        "    rating = int(re.search(r'reviews_(\\d).json', json_str[1]).group(1))\n",
        "    review = json.loads(json_str[0])\n",
        "    review['rating'] = rating\n",
        "    # получение месяца из даты\n",
        "    review['month'] = int(review['date'][5:7])\n",
        "    return review"
      ]
    },
    {
      "cell_type": "code",
      "execution_count": null,
      "metadata": {
        "id": "9c494aa2",
        "outputId": "a1e88365-4b07-4ace-caf0-78872d990506"
      },
      "outputs": [
        {
          "name": "stdout",
          "output_type": "stream",
          "text": [
            "({'user_id': 452355, 'recipe_id': 292657, 'date': '2016-05-08', 'review': 'WOW!!! This is the best. I have never been able to make homemade enchiladas that taste like the Mexican restaurants. I made this last night for my family and they said they will never have enchiladas at the Mexican Restaurants again. Thanks for sharing.', 'rating': 0, 'month': 5}, {'user_id': 329304, 'recipe_id': 433404, 'date': '2006-06-14', 'review': 'This was good but the dressing needed something and I found it to be a little too sweet, next time I will experiment with some garlic and herbs and reduce the sugar slightly, thanks for sharing kcdlong!...Kitten', 'rating': 0, 'month': 6}, {'user_id': 227932, 'recipe_id': 2008187, 'date': '1985-11-19', 'review': 'Very good,it was a hit for my family. I used 6 cloves of garlic and had 1 lb beef and  Johnsonville sausage,1/2 lb hot and  1/2 lb honey garlic( which I wanted to use). That was a perfect combo for us. The sausage gave it nice flavor No guestion , I will be making this often.', 'rating': 0, 'month': 11}, {'user_id': 171468, 'recipe_id': 270716, 'date': '2019-05-21', 'review': 'Made for ZWT-8 Family Picks after I saw these mentioned in the Family Picks thread. So I got up this morning, made my morning coffee while the oven was heating & then made these quick-fix sweet treats B4 I was ready for my 2nd cup of coffee. I used 8\" tortillas (all I had on-hand) & cut them into 8 wedges. Then I used 2 of my Pamperd Chef gadgets .. my sml basting brush to spread the honey on the warm tortillas & my flour/sugar shaker to sprinkle the powd sugar/cinnamon mixture atop the honeyed tortillas. It might have taken a total of 2 min from oven to tasting! Yum! Using the same \"sweet mix\" these would also be good w/butter, cream cheese or even lime juice. Can\\'t wait to try them w/lime juice! Thx for sharing this tasty little treat w/us.', 'rating': 0, 'month': 5}, {'user_id': 91392, 'recipe_id': 1159916, 'date': '1972-09-18', 'review': \"Very nice slaw. I especially like that it doesn't have the mayo dressing. I used a prepackaged Cole slaw mix, so i didn't include the carrots nor the nuts. I also doubled the sauce. :)\", 'rating': 0, 'month': 9})\n"
          ]
        }
      ],
      "source": [
        "# открытие файла и вывод первых 5 элементов Bag\n",
        "data = db.read_text('Datasets/reviews_full_mini/*.json', include_path=True).map(func)\n",
        "print(data.take(5))"
      ]
    },
    {
      "cell_type": "code",
      "execution_count": null,
      "metadata": {
        "id": "b0591266",
        "outputId": "f68ab221-c020-4ed3-fd60-695017c44f4f"
      },
      "outputs": [
        {
          "name": "stdout",
          "output_type": "stream",
          "text": [
            "[(1, 1.1905), (2, 1.1775), (3, 1.1763), (4, 1.1838), (5, 1.1873), (6, 1.1701), (7, 1.1781), (8, 1.179), (9, 1.1898), (10, 1.1908), (11, 1.1766), (12, 1.1758)]\n"
          ]
        }
      ],
      "source": [
        "# подсчёт суммы оценок и их кол-ва по месяцам с помощью агрегации\n",
        "mean_month = data.foldby(lambda item: item['month'],\n",
        "                         lambda total, item: (total[0] + item['rating'], total[1] + 1), (0, 0),\n",
        "                         lambda total, item: (total[0] + item[0], total[1] + item[1]), (0, 0))\n",
        "mean_month = mean_month.compute()\n",
        "# подсчёт среднего значения оценок по месяцам с сортировкой\n",
        "mean_month = sorted(map(lambda x: (x[0], round(x[1][0] / x[1][1], 4)), mean_month),\n",
        "                    key=lambda elem: elem[0])\n",
        "print(mean_month)"
      ]
    },
    {
      "cell_type": "markdown",
      "metadata": {
        "id": "149787b9"
      },
      "source": [
        "Датасет: all_k.zip\n",
        " Подсчитать, сколько раз встречается каждое из личных местоимений в именительном падеже (полный список: я, ты, он, она, оно, мы, вы, они) в текстовых файлах, лежащих в папке: all_k.zip.\n",
        "Выполнить задание с использованием Dask (корректным!), распараллелив процесс обработки данных (использование Dask должно приводить к истинной параллельной обработке данных)"
      ]
    },
    {
      "cell_type": "code",
      "execution_count": null,
      "metadata": {
        "id": "fa49f5f5",
        "outputId": "0b684fea-a29d-4c49-f2b1-ef607812ba91"
      },
      "outputs": [
        {
          "name": "stdout",
          "output_type": "stream",
          "text": [
            "20171\n"
          ]
        }
      ],
      "source": [
        "def func(text: str) -> int:\n",
        "    # извлечение всех местоимений из строки\n",
        "    pronouns = re.findall(r\"\\b(я|ты|он|она|оно|мы|вы|они)\\b\", text.lower())\n",
        "    # подсчёт кол-ва местоимений в строке\n",
        "    return len(pronouns)\n",
        "# считывания данных в dask.Bag с указанием кодировки\n",
        "data = db.read_text('Datasets/all_k/*.txt', encoding='Windows-1251')\n",
        "# применение функции подсчёта местоимений для всего Bag\n",
        "result = data.map(func).sum()\n",
        "# вычисление с распараллеливанием\n",
        "print(result.compute(scheduler='processes'))"
      ]
    },
    {
      "cell_type": "markdown",
      "metadata": {
        "id": "60e4dd92"
      },
      "source": [
        "Датасет: minutes_n_ingredients_full.hdf5\n",
        " Считайте датасет recipe из файла minutes_n_ingredients_full.hdf5 в виде dask.array. Укажите аргумент chunks=(100_000, 3) при создании массива. Выведите на экран основную информацию о массиве и посчитайте количество каждого из возможных значений кол-ва ингредиентов."
      ]
    },
    {
      "cell_type": "code",
      "execution_count": null,
      "metadata": {
        "id": "cbe94512",
        "outputId": "fdfa0c0e-6898-41e5-d1ce-6aa0efaf7f3d"
      },
      "outputs": [
        {
          "name": "stdout",
          "output_type": "stream",
          "text": [
            "Основная информация: dask.array<array, shape=(2231637, 3), dtype=int64, chunksize=(100000, 3), chunktype=numpy.ndarray>\n",
            "Количество каждого из возможных значений кол-ва ингредиентов:\n",
            "Counter({7: 247181, 9: 246816, 8: 246747, 6: 244360, 5: 240720, 4: 234948, 3: 229388, 2: 224158, 1: 222071, 10: 22430, 11: 19094, 12: 15165, 13: 11640, 14: 8284, 15: 6014, 16: 4145, 17: 2793, 18: 1913, 19: 1279, 20: 852, 21: 529, 22: 346, 23: 244, 24: 178, 25: 107, 26: 68, 27: 55, 28: 33, 29: 22, 30: 20, 31: 13, 32: 5, 35: 4, 33: 4, 34: 3, 37: 2, 40: 2, 43: 1, 39: 1, 38: 1, 36: 1})\n"
          ]
        }
      ],
      "source": [
        "try:\n",
        "    # открытие файла на чтение\n",
        "    file = h5py.File('Datasets/minutes_n_ingredients_full.hdf5', 'r')\n",
        "    # Создаем dask.array из датасета recipe с указанием аргумента chunks\n",
        "    recipe_array = da.from_array(file['recipe'], chunks=(100_000, 3))\n",
        "    print('Основная информация:', recipe_array)\n",
        "    # считываем в переменную только третью колонку, содержащую кол-во ингредиентов для каждого рецепта\n",
        "    ingredients = recipe_array.compute()[:, 2]\n",
        "    print('Количество каждого из возможных значений кол-ва ингредиентов:')\n",
        "    # высчитываем, сколько раз встречается каждое кол-во ингредиентов\n",
        "    print(Counter(ingredients))\n",
        "finally:\n",
        "    # Закрываем файл HDF5\n",
        "    file.close()"
      ]
    },
    {
      "cell_type": "markdown",
      "metadata": {
        "id": "2badd29e"
      },
      "source": [
        "Датасет: Chinook_Sqlite.sqlite\n",
        " С помощью кода на Python с использованием sqlite3 и SQL решить задачу. Реализовать функции на Python:\n",
        "1. Которая по имени исполнителя возвращает все его альбомы.\n",
        "2. Которая по имени исполнителя и имени альбома возвращает количество треков в альбоме и их суммарную продолжительность."
      ]
    },
    {
      "cell_type": "code",
      "execution_count": null,
      "metadata": {
        "id": "6f152b5f"
      },
      "outputs": [],
      "source": [
        "def all_albums(name: str) -> pd.DataFrame:\n",
        "    \"\"\"Функция принимает на вход имя автора и возвращает pd.DataFrame названий его альбомов\n",
        "    \"\"\"\n",
        "    # подключение к БД и создание курсора\n",
        "    con = sqlite3.connect('Datasets/Chinook_Sqlite.sqlite')\n",
        "    cur = con.cursor()\n",
        "    try:\n",
        "        # попытка выполнить sql запрос и преобразовать полученные данные в pd.DataFrame\n",
        "        cur.execute(f\"\"\"SELECT Artist.Name, Album.Title FROM Artist\n",
        "                    INNER JOIN Album USING (ArtistId)\n",
        "                    WHERE Artist.Name = '{name}'\n",
        "                    ORDER BY Artist.Name\"\"\")\n",
        "        # получение всех строк bp БД по запросу\n",
        "        fa = cur.fetchall()\n",
        "        columns = [i[0] for i in cur.description]\n",
        "        data = pd.DataFrame(fa, columns=columns)\n",
        "        return data\n",
        "    except sqlite3.DatabaseError as error:\n",
        "        # в случае ошибки в запросе её вывод\n",
        "        print(\"Ошибка:\", error)\n",
        "    finally:\n",
        "        # закрытие курсора и подключение в любом случае\n",
        "        cur.close()\n",
        "        con.close()"
      ]
    },
    {
      "cell_type": "code",
      "execution_count": null,
      "metadata": {
        "id": "27b4d8ea"
      },
      "outputs": [],
      "source": [
        "def album_counts(artist: str, album: str) -> pd.DataFrame:\n",
        "    \"\"\"Функция принимает на вход имя автора и название альбома и возвращает pd.DataFrame\n",
        "    с общим кол-во треков альбома и суммарное время треков в миллисекундах\n",
        "    \"\"\"\n",
        "    # подключение к БД и создание курсора\n",
        "    con = sqlite3.connect('Datasets/Chinook_Sqlite.sqlite')\n",
        "    cur = con.cursor()\n",
        "    try:\n",
        "        # попытка выполнить sql запрос и преобразовать полученные данные в pd.DataFrame\n",
        "        cur.execute(f\"\"\"SELECT Artist.Name,\n",
        "                           Album.title,\n",
        "                           COUNT(TrackId) AS 'number of tracks',\n",
        "                           SUM(Track.milliseconds) AS 'total time (ms)'\n",
        "                    FROM Track\n",
        "                    INNER JOIN Album USING (AlbumId)\n",
        "                    INNER JOIN Artist USING (ArtistId)\n",
        "                    WHERE Artist.Name = '{artist}' AND Album.Title = '{album}'\n",
        "                    GROUP BY Album.Title, Artist.Name\"\"\")\n",
        "        # получение всех строк bp БД по запросу\n",
        "        fa = cur.fetchall()\n",
        "        columns = [i[0] for i in cur.description]\n",
        "        data = pd.DataFrame(fa, columns=columns)\n",
        "        return data\n",
        "    except sqlite3.DatabaseError as error:\n",
        "        # в случае ошибки в запросе её вывод\n",
        "        print(\"Ошибка:\", error)\n",
        "    finally:\n",
        "        # закрытие курсора и подключение в любом случае\n",
        "        cur.close()\n",
        "        con.close()"
      ]
    },
    {
      "cell_type": "code",
      "execution_count": null,
      "metadata": {
        "id": "73413753",
        "outputId": "00110486-9ac7-4490-b452-20a232b83682"
      },
      "outputs": [
        {
          "data": {
            "text/html": [
              "<div>\n",
              "<style scoped>\n",
              "    .dataframe tbody tr th:only-of-type {\n",
              "        vertical-align: middle;\n",
              "    }\n",
              "\n",
              "    .dataframe tbody tr th {\n",
              "        vertical-align: top;\n",
              "    }\n",
              "\n",
              "    .dataframe thead th {\n",
              "        text-align: right;\n",
              "    }\n",
              "</style>\n",
              "<table border=\"1\" class=\"dataframe\">\n",
              "  <thead>\n",
              "    <tr style=\"text-align: right;\">\n",
              "      <th></th>\n",
              "      <th>Name</th>\n",
              "      <th>Title</th>\n",
              "    </tr>\n",
              "  </thead>\n",
              "  <tbody>\n",
              "    <tr>\n",
              "      <th>0</th>\n",
              "      <td>Zeca Pagodinho</td>\n",
              "      <td>Ao Vivo [IMPORT]</td>\n",
              "    </tr>\n",
              "  </tbody>\n",
              "</table>\n",
              "</div>"
            ],
            "text/plain": [
              "             Name             Title\n",
              "0  Zeca Pagodinho  Ao Vivo [IMPORT]"
            ]
          },
          "execution_count": 49,
          "metadata": {},
          "output_type": "execute_result"
        }
      ],
      "source": [
        "all_albums('Zeca Pagodinho')"
      ]
    },
    {
      "cell_type": "code",
      "execution_count": null,
      "metadata": {
        "id": "5ac6a8bc",
        "outputId": "61120d9e-e6a0-4655-edde-1d9c3b4b6a43"
      },
      "outputs": [
        {
          "data": {
            "text/html": [
              "<div>\n",
              "<style scoped>\n",
              "    .dataframe tbody tr th:only-of-type {\n",
              "        vertical-align: middle;\n",
              "    }\n",
              "\n",
              "    .dataframe tbody tr th {\n",
              "        vertical-align: top;\n",
              "    }\n",
              "\n",
              "    .dataframe thead th {\n",
              "        text-align: right;\n",
              "    }\n",
              "</style>\n",
              "<table border=\"1\" class=\"dataframe\">\n",
              "  <thead>\n",
              "    <tr style=\"text-align: right;\">\n",
              "      <th></th>\n",
              "      <th>Name</th>\n",
              "      <th>Title</th>\n",
              "      <th>number of tracks</th>\n",
              "      <th>total time (ms)</th>\n",
              "    </tr>\n",
              "  </thead>\n",
              "  <tbody>\n",
              "    <tr>\n",
              "      <th>0</th>\n",
              "      <td>Metallica</td>\n",
              "      <td>...And Justice For All</td>\n",
              "      <td>9</td>\n",
              "      <td>3928993</td>\n",
              "    </tr>\n",
              "  </tbody>\n",
              "</table>\n",
              "</div>"
            ],
            "text/plain": [
              "        Name                   Title  number of tracks  total time (ms)\n",
              "0  Metallica  ...And Justice For All                 9          3928993"
            ]
          },
          "execution_count": 51,
          "metadata": {},
          "output_type": "execute_result"
        }
      ],
      "source": [
        "album_counts('Metallica', '...And Justice For All')"
      ]
    }
  ]
}